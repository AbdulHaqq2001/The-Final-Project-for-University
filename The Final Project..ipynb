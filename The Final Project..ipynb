{
 "cells": [
  {
   "cell_type": "markdown",
   "id": "9cc8cab9",
   "metadata": {},
   "source": [
    "# The Final Project"
   ]
  },
  {
   "cell_type": "markdown",
   "id": "39a8bff9",
   "metadata": {},
   "source": [
    "In this project, I will analyze and visualize banks stocks of 10 years"
   ]
  },
  {
   "cell_type": "markdown",
   "id": "8c61127e",
   "metadata": {},
   "source": [
    "# Getting the Data"
   ]
  },
  {
   "cell_type": "markdown",
   "id": "7857e665",
   "metadata": {},
   "source": [
    "We will import proper libraries for the project\n",
    "\n",
    "Pandas datareader allows us to read stock information directly from the internet."
   ]
  },
  {
   "cell_type": "code",
   "execution_count": 13,
   "id": "97421c85",
   "metadata": {},
   "outputs": [],
   "source": [
    "from pandas_datareader import data, wb\n",
    "import pandas as pd\n",
    "import numpy as np\n",
    "import datetime\n",
    "import seaborn as sns\n",
    "%matplotlib inline"
   ]
  },
  {
   "cell_type": "markdown",
   "id": "5d0a9e85",
   "metadata": {},
   "source": [
    "# Data\n",
    "\n",
    "We need to get data using pandas datareader. We will get stock infromation for the following banks:\n",
    "\n",
    "* Bank of America\n",
    "* CitiGroup\n",
    "* Goldman Sachs\n",
    "* JPMorgan Chase\n",
    "* Morgan Stanley\n",
    "* Wells Fargo"
   ]
  },
  {
   "cell_type": "code",
   "execution_count": 14,
   "id": "fcc3103a",
   "metadata": {},
   "outputs": [],
   "source": [
    "start = datetime.datetime(2012,1,1) #The start of the time for the data\n",
    "end = datetime.datetime(2022,1,1)   #The end of the time for the data"
   ]
  },
  {
   "cell_type": "markdown",
   "id": "31e57d14",
   "metadata": {},
   "source": [
    "Collecting the Data\n",
    "\n",
    "\"Yahoo\" will be used as search engine"
   ]
  },
  {
   "cell_type": "code",
   "execution_count": 15,
   "id": "af115375",
   "metadata": {},
   "outputs": [],
   "source": [
    "# Bank of America\n",
    "BAC = data.DataReader(\"BAC\", 'yahoo', start, end)\n",
    "\n",
    "# CitiGroup\n",
    "C = data.DataReader(\"C\", 'yahoo', start, end)\n",
    "\n",
    "# Goldman Sachs\n",
    "GS = data.DataReader(\"GS\", 'yahoo', start, end)\n",
    "\n",
    "# JPMorgan Chase\n",
    "JPM = data.DataReader(\"JPM\", 'yahoo', start, end)\n",
    "\n",
    "# Morgan Stanley\n",
    "MS = data.DataReader(\"MS\", 'yahoo', start, end)\n",
    "\n",
    "# Wells Fargo\n",
    "WFC = data.DataReader(\"WFC\", 'yahoo', start, end)"
   ]
  },
  {
   "cell_type": "markdown",
   "id": "f012f0a0",
   "metadata": {},
   "source": [
    "I will create a list of ticker symbols in alphabetical order "
   ]
  },
  {
   "cell_type": "code",
   "execution_count": 16,
   "id": "d7041f98",
   "metadata": {},
   "outputs": [],
   "source": [
    "tickers = ['BAC', 'C', 'GS', 'JPM', 'MS', 'WFC']"
   ]
  },
  {
   "cell_type": "markdown",
   "id": "0486fb7a",
   "metadata": {},
   "source": [
    "We will use pandas' concat to merge the bank dataframes"
   ]
  },
  {
   "cell_type": "code",
   "execution_count": 17,
   "id": "8cf640b0",
   "metadata": {},
   "outputs": [],
   "source": [
    "bank_stocks = pd.concat([BAC, C, GS, JPM, MS, WFC],axis=1,keys=tickers)"
   ]
  },
  {
   "cell_type": "markdown",
   "id": "a2089f1d",
   "metadata": {},
   "source": [
    "We will set the columns names levels"
   ]
  },
  {
   "cell_type": "code",
   "execution_count": 18,
   "id": "7d3ee6b0",
   "metadata": {},
   "outputs": [],
   "source": [
    "bank_stocks.columns.names = ['Bank Ticker','Stock Info']"
   ]
  },
  {
   "cell_type": "code",
   "execution_count": 19,
   "id": "d92e0366",
   "metadata": {},
   "outputs": [
    {
     "data": {
      "text/html": [
       "<div>\n",
       "<style scoped>\n",
       "    .dataframe tbody tr th:only-of-type {\n",
       "        vertical-align: middle;\n",
       "    }\n",
       "\n",
       "    .dataframe tbody tr th {\n",
       "        vertical-align: top;\n",
       "    }\n",
       "\n",
       "    .dataframe thead tr th {\n",
       "        text-align: left;\n",
       "    }\n",
       "\n",
       "    .dataframe thead tr:last-of-type th {\n",
       "        text-align: right;\n",
       "    }\n",
       "</style>\n",
       "<table border=\"1\" class=\"dataframe\">\n",
       "  <thead>\n",
       "    <tr>\n",
       "      <th>Bank Ticker</th>\n",
       "      <th colspan=\"6\" halign=\"left\">BAC</th>\n",
       "      <th colspan=\"4\" halign=\"left\">C</th>\n",
       "      <th>...</th>\n",
       "      <th colspan=\"4\" halign=\"left\">MS</th>\n",
       "      <th colspan=\"6\" halign=\"left\">WFC</th>\n",
       "    </tr>\n",
       "    <tr>\n",
       "      <th>Stock Info</th>\n",
       "      <th>High</th>\n",
       "      <th>Low</th>\n",
       "      <th>Open</th>\n",
       "      <th>Close</th>\n",
       "      <th>Volume</th>\n",
       "      <th>Adj Close</th>\n",
       "      <th>High</th>\n",
       "      <th>Low</th>\n",
       "      <th>Open</th>\n",
       "      <th>Close</th>\n",
       "      <th>...</th>\n",
       "      <th>Open</th>\n",
       "      <th>Close</th>\n",
       "      <th>Volume</th>\n",
       "      <th>Adj Close</th>\n",
       "      <th>High</th>\n",
       "      <th>Low</th>\n",
       "      <th>Open</th>\n",
       "      <th>Close</th>\n",
       "      <th>Volume</th>\n",
       "      <th>Adj Close</th>\n",
       "    </tr>\n",
       "    <tr>\n",
       "      <th>Date</th>\n",
       "      <th></th>\n",
       "      <th></th>\n",
       "      <th></th>\n",
       "      <th></th>\n",
       "      <th></th>\n",
       "      <th></th>\n",
       "      <th></th>\n",
       "      <th></th>\n",
       "      <th></th>\n",
       "      <th></th>\n",
       "      <th></th>\n",
       "      <th></th>\n",
       "      <th></th>\n",
       "      <th></th>\n",
       "      <th></th>\n",
       "      <th></th>\n",
       "      <th></th>\n",
       "      <th></th>\n",
       "      <th></th>\n",
       "      <th></th>\n",
       "      <th></th>\n",
       "    </tr>\n",
       "  </thead>\n",
       "  <tbody>\n",
       "    <tr>\n",
       "      <th>2012-01-03</th>\n",
       "      <td>5.89</td>\n",
       "      <td>5.74</td>\n",
       "      <td>5.75</td>\n",
       "      <td>5.80</td>\n",
       "      <td>246293200.0</td>\n",
       "      <td>4.904599</td>\n",
       "      <td>28.510000</td>\n",
       "      <td>27.129999</td>\n",
       "      <td>27.129999</td>\n",
       "      <td>28.330000</td>\n",
       "      <td>...</td>\n",
       "      <td>15.76</td>\n",
       "      <td>16.080000</td>\n",
       "      <td>25777400.0</td>\n",
       "      <td>12.793264</td>\n",
       "      <td>28.520000</td>\n",
       "      <td>27.940001</td>\n",
       "      <td>27.940001</td>\n",
       "      <td>28.430000</td>\n",
       "      <td>40071200.0</td>\n",
       "      <td>20.782007</td>\n",
       "    </tr>\n",
       "    <tr>\n",
       "      <th>2012-01-04</th>\n",
       "      <td>5.88</td>\n",
       "      <td>5.62</td>\n",
       "      <td>5.71</td>\n",
       "      <td>5.81</td>\n",
       "      <td>243711200.0</td>\n",
       "      <td>4.913054</td>\n",
       "      <td>28.379999</td>\n",
       "      <td>27.620001</td>\n",
       "      <td>28.040001</td>\n",
       "      <td>28.170000</td>\n",
       "      <td>...</td>\n",
       "      <td>15.75</td>\n",
       "      <td>15.940000</td>\n",
       "      <td>20699600.0</td>\n",
       "      <td>12.681882</td>\n",
       "      <td>28.690001</td>\n",
       "      <td>28.040001</td>\n",
       "      <td>28.340000</td>\n",
       "      <td>28.559999</td>\n",
       "      <td>27519200.0</td>\n",
       "      <td>20.877039</td>\n",
       "    </tr>\n",
       "    <tr>\n",
       "      <th>2012-01-05</th>\n",
       "      <td>6.35</td>\n",
       "      <td>5.71</td>\n",
       "      <td>5.75</td>\n",
       "      <td>6.31</td>\n",
       "      <td>547780000.0</td>\n",
       "      <td>5.335865</td>\n",
       "      <td>29.180000</td>\n",
       "      <td>27.469999</td>\n",
       "      <td>27.660000</td>\n",
       "      <td>28.510000</td>\n",
       "      <td>...</td>\n",
       "      <td>15.59</td>\n",
       "      <td>16.280001</td>\n",
       "      <td>30615100.0</td>\n",
       "      <td>12.952387</td>\n",
       "      <td>29.580000</td>\n",
       "      <td>28.250000</td>\n",
       "      <td>28.500000</td>\n",
       "      <td>29.020000</td>\n",
       "      <td>48435100.0</td>\n",
       "      <td>21.213297</td>\n",
       "    </tr>\n",
       "    <tr>\n",
       "      <th>2012-01-06</th>\n",
       "      <td>6.30</td>\n",
       "      <td>6.06</td>\n",
       "      <td>6.21</td>\n",
       "      <td>6.18</td>\n",
       "      <td>299630600.0</td>\n",
       "      <td>5.225934</td>\n",
       "      <td>29.059999</td>\n",
       "      <td>28.010000</td>\n",
       "      <td>28.660000</td>\n",
       "      <td>28.549999</td>\n",
       "      <td>...</td>\n",
       "      <td>16.08</td>\n",
       "      <td>15.900000</td>\n",
       "      <td>21677700.0</td>\n",
       "      <td>12.650056</td>\n",
       "      <td>29.080000</td>\n",
       "      <td>28.459999</td>\n",
       "      <td>28.840000</td>\n",
       "      <td>28.940001</td>\n",
       "      <td>32303500.0</td>\n",
       "      <td>21.154816</td>\n",
       "    </tr>\n",
       "    <tr>\n",
       "      <th>2012-01-09</th>\n",
       "      <td>6.37</td>\n",
       "      <td>6.19</td>\n",
       "      <td>6.26</td>\n",
       "      <td>6.27</td>\n",
       "      <td>240614400.0</td>\n",
       "      <td>5.302038</td>\n",
       "      <td>29.379999</td>\n",
       "      <td>28.650000</td>\n",
       "      <td>28.719999</td>\n",
       "      <td>29.080000</td>\n",
       "      <td>...</td>\n",
       "      <td>16.00</td>\n",
       "      <td>16.200001</td>\n",
       "      <td>19102900.0</td>\n",
       "      <td>12.888738</td>\n",
       "      <td>29.379999</td>\n",
       "      <td>29.000000</td>\n",
       "      <td>29.150000</td>\n",
       "      <td>29.299999</td>\n",
       "      <td>25720100.0</td>\n",
       "      <td>21.417971</td>\n",
       "    </tr>\n",
       "  </tbody>\n",
       "</table>\n",
       "<p>5 rows × 36 columns</p>\n",
       "</div>"
      ],
      "text/plain": [
       "Bank Ticker   BAC                                                   C  \\\n",
       "Stock Info   High   Low  Open Close       Volume Adj Close       High   \n",
       "Date                                                                    \n",
       "2012-01-03   5.89  5.74  5.75  5.80  246293200.0  4.904599  28.510000   \n",
       "2012-01-04   5.88  5.62  5.71  5.81  243711200.0  4.913054  28.379999   \n",
       "2012-01-05   6.35  5.71  5.75  6.31  547780000.0  5.335865  29.180000   \n",
       "2012-01-06   6.30  6.06  6.21  6.18  299630600.0  5.225934  29.059999   \n",
       "2012-01-09   6.37  6.19  6.26  6.27  240614400.0  5.302038  29.379999   \n",
       "\n",
       "Bank Ticker                                   ...     MS             \\\n",
       "Stock Info         Low       Open      Close  ...   Open      Close   \n",
       "Date                                          ...                     \n",
       "2012-01-03   27.129999  27.129999  28.330000  ...  15.76  16.080000   \n",
       "2012-01-04   27.620001  28.040001  28.170000  ...  15.75  15.940000   \n",
       "2012-01-05   27.469999  27.660000  28.510000  ...  15.59  16.280001   \n",
       "2012-01-06   28.010000  28.660000  28.549999  ...  16.08  15.900000   \n",
       "2012-01-09   28.650000  28.719999  29.080000  ...  16.00  16.200001   \n",
       "\n",
       "Bank Ticker                               WFC                        \\\n",
       "Stock Info       Volume  Adj Close       High        Low       Open   \n",
       "Date                                                                  \n",
       "2012-01-03   25777400.0  12.793264  28.520000  27.940001  27.940001   \n",
       "2012-01-04   20699600.0  12.681882  28.690001  28.040001  28.340000   \n",
       "2012-01-05   30615100.0  12.952387  29.580000  28.250000  28.500000   \n",
       "2012-01-06   21677700.0  12.650056  29.080000  28.459999  28.840000   \n",
       "2012-01-09   19102900.0  12.888738  29.379999  29.000000  29.150000   \n",
       "\n",
       "Bank Ticker                                    \n",
       "Stock Info       Close      Volume  Adj Close  \n",
       "Date                                           \n",
       "2012-01-03   28.430000  40071200.0  20.782007  \n",
       "2012-01-04   28.559999  27519200.0  20.877039  \n",
       "2012-01-05   29.020000  48435100.0  21.213297  \n",
       "2012-01-06   28.940001  32303500.0  21.154816  \n",
       "2012-01-09   29.299999  25720100.0  21.417971  \n",
       "\n",
       "[5 rows x 36 columns]"
      ]
     },
     "execution_count": 19,
     "metadata": {},
     "output_type": "execute_result"
    }
   ],
   "source": [
    "bank_stocks.head()"
   ]
  },
  {
   "cell_type": "markdown",
   "id": "2820df6f",
   "metadata": {},
   "source": [
    "What is the max Close price for each bank's stock throughout the time period?"
   ]
  },
  {
   "cell_type": "code",
   "execution_count": 20,
   "id": "0422d424",
   "metadata": {},
   "outputs": [
    {
     "data": {
      "text/plain": [
       "Bank Ticker\n",
       "BAC     48.369999\n",
       "C       81.910004\n",
       "GS     423.850006\n",
       "JPM    171.779999\n",
       "MS     105.449997\n",
       "WFC     65.930000\n",
       "dtype: float64"
      ]
     },
     "execution_count": 20,
     "metadata": {},
     "output_type": "execute_result"
    }
   ],
   "source": [
    "bank_stocks.xs(key='Close',axis=1,level='Stock Info').max()"
   ]
  },
  {
   "cell_type": "markdown",
   "id": "7a1f8df1",
   "metadata": {},
   "source": [
    "The returns DataFrame will contain the returns for each bank's stock"
   ]
  },
  {
   "cell_type": "code",
   "execution_count": 21,
   "id": "a31d75ef",
   "metadata": {},
   "outputs": [],
   "source": [
    "returns = pd.DataFrame()"
   ]
  },
  {
   "cell_type": "code",
   "execution_count": 22,
   "id": "07c4f101",
   "metadata": {},
   "outputs": [
    {
     "data": {
      "text/html": [
       "<div>\n",
       "<style scoped>\n",
       "    .dataframe tbody tr th:only-of-type {\n",
       "        vertical-align: middle;\n",
       "    }\n",
       "\n",
       "    .dataframe tbody tr th {\n",
       "        vertical-align: top;\n",
       "    }\n",
       "\n",
       "    .dataframe thead th {\n",
       "        text-align: right;\n",
       "    }\n",
       "</style>\n",
       "<table border=\"1\" class=\"dataframe\">\n",
       "  <thead>\n",
       "    <tr style=\"text-align: right;\">\n",
       "      <th></th>\n",
       "      <th>BAC Return</th>\n",
       "      <th>C Return</th>\n",
       "      <th>GS Return</th>\n",
       "      <th>JPM Return</th>\n",
       "      <th>MS Return</th>\n",
       "      <th>WFC Return</th>\n",
       "    </tr>\n",
       "    <tr>\n",
       "      <th>Date</th>\n",
       "      <th></th>\n",
       "      <th></th>\n",
       "      <th></th>\n",
       "      <th></th>\n",
       "      <th></th>\n",
       "      <th></th>\n",
       "    </tr>\n",
       "  </thead>\n",
       "  <tbody>\n",
       "    <tr>\n",
       "      <th>2012-01-03</th>\n",
       "      <td>NaN</td>\n",
       "      <td>NaN</td>\n",
       "      <td>NaN</td>\n",
       "      <td>NaN</td>\n",
       "      <td>NaN</td>\n",
       "      <td>NaN</td>\n",
       "    </tr>\n",
       "    <tr>\n",
       "      <th>2012-01-04</th>\n",
       "      <td>0.001724</td>\n",
       "      <td>-0.005648</td>\n",
       "      <td>-0.006502</td>\n",
       "      <td>-0.000858</td>\n",
       "      <td>-0.008706</td>\n",
       "      <td>0.004573</td>\n",
       "    </tr>\n",
       "    <tr>\n",
       "      <th>2012-01-05</th>\n",
       "      <td>0.086059</td>\n",
       "      <td>0.012070</td>\n",
       "      <td>-0.001689</td>\n",
       "      <td>0.020887</td>\n",
       "      <td>0.021330</td>\n",
       "      <td>0.016106</td>\n",
       "    </tr>\n",
       "    <tr>\n",
       "      <th>2012-01-06</th>\n",
       "      <td>-0.020602</td>\n",
       "      <td>0.001403</td>\n",
       "      <td>-0.012265</td>\n",
       "      <td>-0.008969</td>\n",
       "      <td>-0.023342</td>\n",
       "      <td>-0.002757</td>\n",
       "    </tr>\n",
       "    <tr>\n",
       "      <th>2012-01-09</th>\n",
       "      <td>0.014563</td>\n",
       "      <td>0.018564</td>\n",
       "      <td>0.013595</td>\n",
       "      <td>-0.001697</td>\n",
       "      <td>0.018868</td>\n",
       "      <td>0.012439</td>\n",
       "    </tr>\n",
       "  </tbody>\n",
       "</table>\n",
       "</div>"
      ],
      "text/plain": [
       "            BAC Return  C Return  GS Return  JPM Return  MS Return  WFC Return\n",
       "Date                                                                          \n",
       "2012-01-03         NaN       NaN        NaN         NaN        NaN         NaN\n",
       "2012-01-04    0.001724 -0.005648  -0.006502   -0.000858  -0.008706    0.004573\n",
       "2012-01-05    0.086059  0.012070  -0.001689    0.020887   0.021330    0.016106\n",
       "2012-01-06   -0.020602  0.001403  -0.012265   -0.008969  -0.023342   -0.002757\n",
       "2012-01-09    0.014563  0.018564   0.013595   -0.001697   0.018868    0.012439"
      ]
     },
     "execution_count": 22,
     "metadata": {},
     "output_type": "execute_result"
    }
   ],
   "source": [
    "for tick in tickers:\n",
    "    returns[tick+' Return'] = bank_stocks[tick]['Close'].pct_change()\n",
    "returns.head()"
   ]
  },
  {
   "cell_type": "markdown",
   "id": "d8c91150",
   "metadata": {},
   "source": [
    "What dates each bank stock had the best and the worst returns"
   ]
  },
  {
   "cell_type": "code",
   "execution_count": 24,
   "id": "9bc09ae7",
   "metadata": {},
   "outputs": [
    {
     "data": {
      "text/plain": [
       "BAC Return   2020-03-13\n",
       "C Return     2020-03-13\n",
       "GS Return    2020-03-13\n",
       "JPM Return   2020-03-13\n",
       "MS Return    2020-03-13\n",
       "WFC Return   2020-03-24\n",
       "dtype: datetime64[ns]"
      ]
     },
     "execution_count": 24,
     "metadata": {},
     "output_type": "execute_result"
    }
   ],
   "source": [
    "returns.idxmax()"
   ]
  },
  {
   "cell_type": "code",
   "execution_count": 25,
   "id": "f3c3b958",
   "metadata": {},
   "outputs": [
    {
     "data": {
      "text/plain": [
       "BAC Return   2020-03-16\n",
       "C Return     2020-03-16\n",
       "GS Return    2020-03-16\n",
       "JPM Return   2020-03-16\n",
       "MS Return    2020-03-16\n",
       "WFC Return   2020-03-12\n",
       "dtype: datetime64[ns]"
      ]
     },
     "execution_count": 25,
     "metadata": {},
     "output_type": "execute_result"
    }
   ],
   "source": [
    "returns.idxmin()"
   ]
  },
  {
   "cell_type": "code",
   "execution_count": 26,
   "id": "f1b1ff3c",
   "metadata": {},
   "outputs": [
    {
     "data": {
      "text/plain": [
       "BAC Return    0.019844\n",
       "C Return      0.020432\n",
       "GS Return     0.017531\n",
       "JPM Return    0.016794\n",
       "MS Return     0.020094\n",
       "WFC Return    0.017874\n",
       "dtype: float64"
      ]
     },
     "execution_count": 26,
     "metadata": {},
     "output_type": "execute_result"
    }
   ],
   "source": [
    "returns.std()"
   ]
  },
  {
   "cell_type": "markdown",
   "id": "da26f36e",
   "metadata": {},
   "source": [
    "# Visualization"
   ]
  },
  {
   "cell_type": "code",
   "execution_count": 27,
   "id": "a267b566",
   "metadata": {},
   "outputs": [
    {
     "data": {
      "text/html": [
       "        <script type=\"text/javascript\">\n",
       "        window.PlotlyConfig = {MathJaxConfig: 'local'};\n",
       "        if (window.MathJax && window.MathJax.Hub && window.MathJax.Hub.Config) {window.MathJax.Hub.Config({SVG: {font: \"STIX-Web\"}});}\n",
       "        if (typeof require !== 'undefined') {\n",
       "        require.undef(\"plotly\");\n",
       "        requirejs.config({\n",
       "            paths: {\n",
       "                'plotly': ['https://cdn.plot.ly/plotly-2.12.1.min']\n",
       "            }\n",
       "        });\n",
       "        require(['plotly'], function(Plotly) {\n",
       "            window._Plotly = Plotly;\n",
       "        });\n",
       "        }\n",
       "        </script>\n",
       "        "
      ]
     },
     "metadata": {},
     "output_type": "display_data"
    }
   ],
   "source": [
    "import matplotlib.pyplot as plt\n",
    "import seaborn as sns\n",
    "sns.set_style('whitegrid')\n",
    "%matplotlib inline\n",
    "\n",
    "# Optional Plotly Method Imports\n",
    "import plotly\n",
    "import cufflinks as cf\n",
    "cf.go_offline()"
   ]
  },
  {
   "cell_type": "markdown",
   "id": "33e93786",
   "metadata": {},
   "source": [
    "Close price of Each Bank for the entire time perios"
   ]
  },
  {
   "cell_type": "code",
   "execution_count": 28,
   "id": "2d7d5670",
   "metadata": {},
   "outputs": [
    {
     "data": {
      "text/plain": [
       "<matplotlib.legend.Legend at 0x7fe2f4cc2790>"
      ]
     },
     "execution_count": 28,
     "metadata": {},
     "output_type": "execute_result"
    },
    {
     "data": {
      "image/png": "[encoded data removed]",
      "text/plain": [
       "<Figure size 1200x400 with 1 Axes>"
      ]
     },
     "metadata": {},
     "output_type": "display_data"
    }
   ],
   "source": [
    "for tick in tickers:\n",
    "    bank_stocks[tick]['Close'].plot(figsize=(12,4),label=tick)\n",
    "plt.legend()"
   ]
  },
  {
   "cell_type": "markdown",
   "id": "0797e5b4",
   "metadata": {},
   "source": [
    "Creating a candle plot for each banks stock price from Jan 2021 to Jan 2022"
   ]
  },
  {
   "cell_type": "code",
   "execution_count": 29,
   "id": "8f451a86",
   "metadata": {},
   "outputs": [
    {
     "data": {
      "application/vnd.plotly.v1+json": {
       "config": {
        "linkText": "Export to plot.ly",
        "plotlyServerURL": "https://plot.ly",
        "showLink": true
       },
       "data": [
        {
         "close": [
          30.030000686645508,
          30.260000228881836,
          32.150001525878906,
          32.86000061035156,
          32.529998779296875,
          33.06999969482422,
          33.65999984741211,
          33.459999084472656,
          33.9900016784668,
          33.0099983215332,
          32.77000045776367,
          32.34000015258789,
          31.770000457763672,
          31.549999237060547,
          31.15999984741211,
          30.940000534057617,
          29.829999923706055,
          30.31999969482422,
          29.649999618530273,
          29.959999084472656,
          31.030000686645508,
          31.579999923706055,
          32.5,
          32.369998931884766,
          33.09000015258789,
          32.95000076293945,
          32.97999954223633,
          32.880001068115234,
          33.369998931884766,
          34.27000045776367,
          34.40999984741211,
          34.189998626708984,
          34.540000915527344,
          35.150001525878906,
          35.52000045776367,
          36.380001068115234,
          35.93000030517578,
          34.709999084472656,
          35.790000915527344,
          35.529998779296875,
          36.41999816894531,
          36.5,
          36.93000030517578,
          37.130001068115234,
          36.31999969482422,
          37.369998931884766,
          37.2400016784668,
          37.939998626708984,
          37.75,
          37.63999938964844,
          37.95000076293945,
          38.939998626708984,
          38.529998779296875,
          37.65999984741211,
          36.900001525878906,
          36.900001525878906,
          37.65999984741211,
          38.68000030517578,
          38.310001373291016,
          38.9900016784668,
          38.689998626708984,
          39.4900016784668,
          39.79999923706055,
          39.689998626708984,
          40.04999923706055,
          39.70000076293945,
          39.9900016784668,
          40.060001373291016,
          39.31999969482422,
          39.880001068115234,
          38.7400016784668,
          39.150001525878906,
          39.16999816894531,
          38.08000183105469,
          38.720001220703125,
          38.36000061035156,
          39.18000030517578,
          39.40999984741211,
          39.880001068115234,
          40.029998779296875,
          41.11000061035156,
          40.529998779296875,
          40.560001373291016,
          41,
          41.38999938964844,
          42.0099983215332,
          42.18000030517578,
          42.04999923706055,
          41.56999969482422,
          41.18000030517578,
          41.84000015258789,
          42.36000061035156,
          42.7400016784668,
          42.15999984741211,
          41.970001220703125,
          41.869998931884766,
          42.400001525878906,
          42.630001068115234,
          42.0099983215332,
          42.040000915527344,
          42.54999923706055,
          42.38999938964844,
          42.91999816894531,
          42.939998626708984,
          43.25,
          43.27000045776367,
          43.119998931884766,
          42.880001068115234,
          42.31999969482422,
          41.689998626708984,
          41.86000061035156,
          41.36000061035156,
          41.38999938964844,
          41.619998931884766,
          39.79999923706055,
          38.779998779296875,
          39.75,
          39.970001220703125,
          40.20000076293945,
          40.83000183105469,
          41.619998931884766,
          41.560001373291016,
          40.88999938964844,
          41.22999954223633,
          41.540000915527344,
          41.150001525878906,
          40.06999969482422,
          39.75,
          38.779998779296875,
          40.040000915527344,
          40.630001068115234,
          39.86000061035156,
          38.86000061035156,
          38.83000183105469,
          37.91999816894531,
          36.93000030517578,
          37.689998626708984,
          38.459999084472656,
          37.959999084472656,
          37.70000076293945,
          38.130001068115234,
          37.97999954223633,
          38.130001068115234,
          38.68000030517578,
          38.36000061035156,
          37.959999084472656,
          38.54999923706055,
          38.27000045776367,
          39.02000045776367,
          40.150001525878906,
          40.66999816894531,
          41.43000030517578,
          41.95000076293945,
          42.150001525878906,
          41.630001068115234,
          41.290000915527344,
          41.09000015258789,
          40.790000915527344,
          40.189998626708984,
          40.369998931884766,
          40.90999984741211,
          41.47999954223633,
          42.150001525878906,
          42.040000915527344,
          42.4900016784668,
          41.65999984741211,
          41.75,
          41.189998626708984,
          41.02000045776367,
          41.04999923706055,
          41.31999969482422,
          40.779998779296875,
          40.93000030517578,
          40.27000045776367,
          40.939998626708984,
          39.84000015258789,
          40.13999938964844,
          40.45000076293945,
          40.5,
          39.11000061035156,
          39.130001068115234,
          40.13999938964844,
          41.689998626708984,
          42.13999938964844,
          43.2599983215332,
          43.15999984741211,
          43.06999969482422,
          42.45000076293945,
          43.08000183105469,
          43.34000015258789,
          44.220001220703125,
          44.2400016784668,
          44.119998931884766,
          44.34000015258789,
          43.779998779296875,
          43.540000915527344,
          43.13999938964844,
          45.06999969482422,
          46.369998931884766,
          46.279998779296875,
          46.47999954223633,
          47.09000015258789,
          46.83000183105469,
          47.56999969482422,
          47.5099983215332,
          47.959999084472656,
          47.040000915527344,
          47.779998779296875,
          47.779998779296875,
          47.849998474121094,
          47.880001068115234,
          48.369998931884766,
          47.33000183105469,
          46.970001220703125,
          47.34000015258789,
          46.880001068115234,
          47.22999954223633,
          47.4900016784668,
          46.90999984741211,
          47.04999923706055,
          47.08000183105469,
          46.5099983215332,
          46.31999969482422,
          45.400001525878906,
          46.279998779296875,
          47.5,
          47.630001068115234,
          45.7599983215332,
          45.59000015258789,
          44.470001220703125,
          43.84000015258789,
          44.88999938964844,
          43.869998931884766,
          44.150001525878906,
          44.709999084472656,
          44.15999984741211,
          44.4900016784668,
          44.52000045776367,
          43.58000183105469,
          44.130001068115234,
          43.939998626708984,
          45,
          43.880001068115234,
          43.15999984741211,
          44.189998626708984,
          44.279998779296875,
          44.41999816894531,
          44.63999938964844,
          44.70000076293945,
          44.630001068115234,
          44.529998779296875,
          44.4900016784668
         ],
         "high": [
          30.56999969482422,
          30.540000915527344,
          32.619998931884766,
          33.619998931884766,
          33,
          33.130001068115234,
          33.970001220703125,
          33.68000030517578,
          34.369998931884766,
          33.630001068115234,
          33.599998474121094,
          32.790000915527344,
          32.47999954223633,
          31.75,
          31.299999237060547,
          31.43000030517578,
          30.43000030517578,
          30.75,
          30.5,
          30.040000915527344,
          31.200000762939453,
          31.729999542236328,
          32.529998779296875,
          32.90999984741211,
          33.279998779296875,
          33.02000045776367,
          33.41999816894531,
          33.310001373291016,
          33.45000076293945,
          34.560001373291016,
          34.560001373291016,
          34.650001525878906,
          34.72999954223633,
          35.25,
          35.88999938964844,
          36.52000045776367,
          37.029998779296875,
          36.029998779296875,
          36.04999923706055,
          35.939998626708984,
          36.970001220703125,
          36.869998931884766,
          37.599998474121094,
          37.72999954223633,
          37.15999984741211,
          37.529998779296875,
          37.790000915527344,
          38.18000030517578,
          38.06999969482422,
          37.720001220703125,
          38.36000061035156,
          39.970001220703125,
          38.91999816894531,
          38.380001068115234,
          37.81999969482422,
          37.790000915527344,
          37.75,
          38.7599983215332,
          38.630001068115234,
          39.459999084472656,
          38.9900016784668,
          39.52000045776367,
          40.279998779296875,
          40.150001525878906,
          40.150001525878906,
          39.849998474121094,
          40.18000030517578,
          40.380001068115234,
          39.81999969482422,
          40.33000183105469,
          39.84000015258789,
          39.41999816894531,
          39.43000030517578,
          39,
          38.779998779296875,
          38.77000045776367,
          39.34000015258789,
          39.849998474121094,
          39.91999816894531,
          40.220001220703125,
          41.130001068115234,
          40.900001525878906,
          41.04999923706055,
          41.08000183105469,
          41.560001373291016,
          42.060001373291016,
          42.25,
          42.939998626708984,
          42.34000015258789,
          42.560001373291016,
          42.09000015258789,
          42.47999954223633,
          42.849998474121094,
          42.95000076293945,
          42,
          42.130001068115234,
          42.599998474121094,
          42.779998779296875,
          43.2599983215332,
          42.25,
          42.849998474121094,
          42.709999084472656,
          43.279998779296875,
          43.16999816894531,
          43.4900016784668,
          43.38999938964844,
          43.38999938964844,
          43.2400016784668,
          42.72999954223633,
          42.959999084472656,
          41.88999938964844,
          41.90999984741211,
          41.560001373291016,
          41.9900016784668,
          42.099998474121094,
          39.29999923706055,
          39.779998779296875,
          40.2599983215332,
          40.41999816894531,
          41.0099983215332,
          41.83000183105469,
          41.58000183105469,
          41.95000076293945,
          41.36000061035156,
          41.70000076293945,
          41.470001220703125,
          40.880001068115234,
          40,
          39.2400016784668,
          40.2400016784668,
          40.810001373291016,
          40.47999954223633,
          39.54999923706055,
          39.33000183105469,
          39.290000915527344,
          37.25,
          38.119998931884766,
          38.77000045776367,
          38.400001525878906,
          38.27000045776367,
          38.2400016784668,
          38.2400016784668,
          38.5,
          38.97999954223633,
          38.83000183105469,
          38.95000076293945,
          38.630001068115234,
          38.77000045776367,
          39.060001373291016,
          40.40999984741211,
          40.959999084472656,
          41.619998931884766,
          42.189998626708984,
          42.290000915527344,
          42.22999954223633,
          41.29999923706055,
          41.56999969482422,
          41.529998779296875,
          40.66999816894531,
          40.470001220703125,
          41.099998474121094,
          41.68000030517578,
          42.45000076293945,
          42.84000015258789,
          42.650001525878906,
          42.630001068115234,
          42.06999969482422,
          41.779998779296875,
          41.4900016784668,
          41.189998626708984,
          41.849998474121094,
          41.4900016784668,
          41.349998474121094,
          41.349998474121094,
          40.959999084472656,
          41.310001373291016,
          40.34000015258789,
          40.810001373291016,
          40.66999816894531,
          39.459999084472656,
          39.599998474121094,
          40.52000045776367,
          41.880001068115234,
          42.34000015258789,
          43.43000030517578,
          44.040000915527344,
          43.31999969482422,
          43.349998474121094,
          43.43000030517578,
          44.06999969482422,
          44.75,
          44.290000915527344,
          44.869998931884766,
          44.810001373291016,
          44.810001373291016,
          44,
          43.63999938964844,
          45.099998474121094,
          46.66999816894531,
          46.88999938964844,
          46.630001068115234,
          47.2400016784668,
          47.47999954223633,
          47.619998931884766,
          47.97999954223633,
          48.43000030517578,
          48.16999816894531,
          48,
          48.130001068115234,
          48.16999816894531,
          48.41999816894531,
          48.689998626708984,
          48.150001525878906,
          47.81999969482422,
          47.79999923706055,
          47.36000061035156,
          47.52000045776367,
          47.88999938964844,
          47.529998779296875,
          47.38999938964844,
          47.279998779296875,
          47.20000076293945,
          46.810001373291016,
          45.77000045776367,
          46.869998931884766,
          47.650001525878906,
          47.97999954223633,
          46.040000915527344,
          46.70000076293945,
          45.220001220703125,
          45.70000076293945,
          45.5,
          45.06999969482422,
          44.880001068115234,
          44.90999984741211,
          44.79999923706055,
          44.72999954223633,
          44.83000183105469,
          44.400001525878906,
          44.81999969482422,
          44.45000076293945,
          45.36000061035156,
          44.70000076293945,
          43.36000061035156,
          44.47999954223633,
          44.58000183105469,
          45.06999969482422,
          44.81999969482422,
          45.08000183105469,
          45.119998931884766,
          45.099998474121094,
          44.720001220703125
         ],
         "low": [
          29.75,
          29.90999984741211,
          31.360000610351562,
          32.84000015258789,
          32.11000061035156,
          31.899999618530273,
          33.20000076293945,
          33.09000015258789,
          33.41999816894531,
          32.70000076293945,
          32.20000076293945,
          32.15999984741211,
          31.729999542236328,
          31.25,
          30.56999969482422,
          30.90999984741211,
          29.670000076293945,
          29.920000076293945,
          29.59000015258789,
          29.56999969482422,
          30.540000915527344,
          30.8799991607666,
          31.780000686645508,
          32.31999969482422,
          32.400001525878906,
          32.59000015258789,
          32.86000061035156,
          32.54999923706055,
          32.90999984741211,
          33.70000076293945,
          33.790000915527344,
          34.02000045776367,
          34.18000030517578,
          34.40999984741211,
          35.13999938964844,
          35.599998474121094,
          35.7599983215332,
          34.68000030517578,
          35.2400016784668,
          35.5,
          35.84000015258789,
          35.91999816894531,
          36.16999816894531,
          36.81999969482422,
          35.810001373291016,
          36.369998931884766,
          36.849998474121094,
          37.58000183105469,
          37.220001220703125,
          36.970001220703125,
          37.33000183105469,
          38.41999816894531,
          37.529998779296875,
          37.400001525878906,
          36.779998779296875,
          36.88999938964844,
          36.630001068115234,
          38.08000183105469,
          37.86000061035156,
          38.630001068115234,
          38.459999084472656,
          38.720001220703125,
          39.599998474121094,
          39.459999084472656,
          39.59000015258789,
          39.220001220703125,
          39.5099983215332,
          39.849998474121094,
          39.20000076293945,
          38.91999816894531,
          38.04999923706055,
          38.90999984741211,
          39.029998779296875,
          37.88999938964844,
          37.40999984741211,
          38.16999816894531,
          38.220001220703125,
          39.279998779296875,
          39.5099983215332,
          39.880001068115234,
          40.459999084472656,
          40.470001220703125,
          40.41999816894531,
          39.779998779296875,
          40.7599983215332,
          41.2400016784668,
          41.11000061035156,
          42.029998779296875,
          41.34000015258789,
          41.040000915527344,
          40.779998779296875,
          41.91999816894531,
          42.15999984741211,
          42.13999938964844,
          41.310001373291016,
          41.459999084472656,
          41.88999938964844,
          42.25,
          41.93000030517578,
          41.65999984741211,
          42.119998931884766,
          42.04999923706055,
          42.77000045776367,
          42.599998474121094,
          42.68000030517578,
          42.83000183105469,
          43.060001373291016,
          42.43000030517578,
          42.11000061035156,
          41.619998931884766,
          41.5099983215332,
          41.060001373291016,
          40.900001525878906,
          40.66999816894531,
          39.720001220703125,
          38.4900016784668,
          39.029998779296875,
          39.279998779296875,
          40.06999969482422,
          40.18000030517578,
          40.84000015258789,
          41.099998474121094,
          40.75,
          40.720001220703125,
          41.209999084472656,
          41.099998474121094,
          39.869998931884766,
          39.36000061035156,
          38.47999954223633,
          39.400001525878906,
          39.63999938964844,
          39.58000183105469,
          37.790000915527344,
          38.31999969482422,
          37.59000015258789,
          36.5099983215332,
          36.61000061035156,
          37.97999954223633,
          37.68000030517578,
          37.560001373291016,
          37.65999984741211,
          37.459999084472656,
          37.75,
          38.369998931884766,
          38.04999923706055,
          37.90999984741211,
          37.54999923706055,
          37.86000061035156,
          38.54999923706055,
          39.470001220703125,
          39.79999923706055,
          40.58000183105469,
          41.47999954223633,
          41.77000045776367,
          41.43000030517578,
          40.61000061035156,
          40.619998931884766,
          40.65999984741211,
          40.0099983215332,
          39.90999984741211,
          40.599998474121094,
          41.040000915527344,
          41.540000915527344,
          42.02000045776367,
          41.939998626708984,
          41.630001068115234,
          41.36000061035156,
          41.029998779296875,
          40.63999938964844,
          40.68000030517578,
          41.18000030517578,
          40.68000030517578,
          40.560001373291016,
          40.2400016784668,
          40.349998474121094,
          39.65999984741211,
          39.66999816894531,
          40.20000076293945,
          40.08000183105469,
          38.36000061035156,
          38.939998626708984,
          39.75,
          40.650001525878906,
          41.650001525878906,
          42.63999938964844,
          43.060001373291016,
          42.7400016784668,
          42.22999954223633,
          42.38999938964844,
          43.06999969482422,
          43.66999816894531,
          43.54999923706055,
          44.029998779296875,
          43.91999816894531,
          43.75,
          43.27000045776367,
          42.33000183105469,
          43.47999954223633,
          45.36000061035156,
          46.029998779296875,
          46.20000076293945,
          46.04999923706055,
          46.61000061035156,
          46.9900016784668,
          47.20000076293945,
          47.439998626708984,
          47.029998779296875,
          47.29999923706055,
          47.52000045776367,
          47.279998779296875,
          47.349998474121094,
          47.61000061035156,
          46.880001068115234,
          46.81999969482422,
          47.25,
          46.40999984741211,
          46.650001525878906,
          47.0099983215332,
          46.7599983215332,
          46.900001525878906,
          46.689998626708984,
          46.45000076293945,
          46.209999084472656,
          44.83000183105469,
          45.90999984741211,
          46.66999816894531,
          47.209999084472656,
          44.75,
          45.16999816894531,
          44.36000061035156,
          43.810001373291016,
          44,
          43.599998474121094,
          43.959999084472656,
          44.43000030517578,
          44.09000015258789,
          43.650001525878906,
          44.06999969482422,
          43.38999938964844,
          43.529998779296875,
          43.619998931884766,
          44.09000015258789,
          43.619998931884766,
          42.70000076293945,
          43.540000915527344,
          43.880001068115234,
          44.400001525878906,
          44.310001373291016,
          44.41999816894531,
          44.599998474121094,
          44.47999954223633,
          44.279998779296875
         ],
         "open": [
          30.459999084472656,
          30.170000076293945,
          31.899999618530273,
          33.310001373291016,
          32.91999816894531,
          32.09000015258789,
          33.41999816894531,
          33.43000030517578,
          33.47999954223633,
          33.290000915527344,
          32.5,
          32.7599983215332,
          32.34000015258789,
          31.360000610351562,
          31.270000457763672,
          31.399999618530273,
          30.309999465942383,
          30.420000076293945,
          30.399999618530273,
          29.8700008392334,
          30.579999923706055,
          30.90999984741211,
          31.799999237060547,
          32.88999938964844,
          32.43000030517578,
          32.970001220703125,
          33.119998931884766,
          32.970001220703125,
          33,
          33.97999954223633,
          34.040000915527344,
          34.060001373291016,
          34.20000076293945,
          34.45000076293945,
          35.41999816894531,
          35.7400016784668,
          36.959999084472656,
          35.72999954223633,
          35.52000045776367,
          35.650001525878906,
          35.970001220703125,
          36.13999938964844,
          37.029998779296875,
          37.380001068115234,
          36.54999923706055,
          36.540000915527344,
          37.27000045776367,
          37.91999816894531,
          38.029998779296875,
          37.41999816894531,
          38,
          38.5099983215332,
          38.290000915527344,
          38.08000183105469,
          37.36000061035156,
          37.209999084472656,
          36.869998931884766,
          38.349998474121094,
          38.04999923706055,
          38.630001068115234,
          38.619998931884766,
          38.83000183105469,
          40,
          39.529998779296875,
          39.77000045776367,
          39.79999923706055,
          39.90999984741211,
          39.9900016784668,
          39.810001373291016,
          38.97999954223633,
          39.72999954223633,
          39.310001373291016,
          39.38999938964844,
          39,
          37.75,
          38.75,
          38.31999969482422,
          39.349998474121094,
          39.66999816894531,
          39.93000030517578,
          40.54999923706055,
          40.84000015258789,
          40.869998931884766,
          40.2400016784668,
          41.20000076293945,
          41.47999954223633,
          41.130001068115234,
          42.5,
          41.54999923706055,
          42.380001068115234,
          40.86000061035156,
          42.060001373291016,
          42.2400016784668,
          42.70000076293945,
          41.650001525878906,
          41.900001525878906,
          42.02000045776367,
          42.58000183105469,
          42.689998626708984,
          42.02000045776367,
          42.47999954223633,
          42.65999984741211,
          42.95000076293945,
          43.099998474121094,
          42.77000045776367,
          43.2400016784668,
          43.27000045776367,
          42.86000061035156,
          42.470001220703125,
          42.7599983215332,
          41.810001373291016,
          41.849998474121094,
          41.279998779296875,
          41.279998779296875,
          42.02000045776367,
          39.0099983215332,
          39.119998931884766,
          39.880001068115234,
          40.15999984741211,
          40.439998626708984,
          41.27000045776367,
          41.459999084472656,
          41.630001068115234,
          40.7599983215332,
          41.560001373291016,
          41.369998931884766,
          40.810001373291016,
          39.56999969482422,
          38.619998931884766,
          39.650001525878906,
          39.790000915527344,
          40.47999954223633,
          39.11000061035156,
          38.38999938964844,
          39.220001220703125,
          36.75,
          36.86000061035156,
          38.04999923706055,
          38.36000061035156,
          38.20000076293945,
          37.65999984741211,
          37.720001220703125,
          38.189998626708984,
          38.54999923706055,
          38.5099983215332,
          38.400001525878906,
          38.060001373291016,
          38.029998779296875,
          38.56999969482422,
          39.470001220703125,
          40.04999923706055,
          40.709999084472656,
          41.599998474121094,
          42.22999954223633,
          42.09000015258789,
          41.15999984741211,
          41.04999923706055,
          40.77000045776367,
          40.119998931884766,
          40.09000015258789,
          40.630001068115234,
          41.099998474121094,
          41.65999984741211,
          42.5,
          42.119998931884766,
          42.630001068115234,
          41.66999816894531,
          41.75,
          41.11000061035156,
          41.02000045776367,
          41.25,
          41.08000183105469,
          40.65999984741211,
          41.220001220703125,
          40.599998474121094,
          41.130001068115234,
          39.72999954223633,
          40.47999954223633,
          40.34000015258789,
          39.380001068115234,
          39.27000045776367,
          39.75,
          40.7599983215332,
          41.720001220703125,
          42.68000030517578,
          43.43000030517578,
          43.18000030517578,
          43.349998474121094,
          42.47999954223633,
          43.11000061035156,
          43.77000045776367,
          43.849998474121094,
          44.790000915527344,
          44.06999969482422,
          44.599998474121094,
          43.66999816894531,
          43.54999923706055,
          44.369998931884766,
          45.77000045776367,
          46.290000915527344,
          46.5,
          46.4900016784668,
          47.099998474121094,
          46.9900016784668,
          47.79999923706055,
          47.65999984741211,
          47.47999954223633,
          47.59000015258789,
          47.75,
          48.099998474121094,
          47.56999969482422,
          47.79999923706055,
          48.150001525878906,
          47.599998474121094,
          47.349998474121094,
          46.650001525878906,
          46.75,
          47.310001373291016,
          47.5099983215332,
          47.2599983215332,
          47.18000030517578,
          47.08000183105469,
          46.709999084472656,
          45.70000076293945,
          46.720001220703125,
          46.869998931884766,
          47.41999816894531,
          45.52000045776367,
          46.41999816894531,
          44.7599983215332,
          45.220001220703125,
          44.33000183105469,
          45,
          44.560001373291016,
          44.560001373291016,
          44.68000030517578,
          43.90999984741211,
          44.709999084472656,
          44.27000045776367,
          43.59000015258789,
          44.369998931884766,
          44.70000076293945,
          44.5,
          43.27000045776367,
          43.540000915527344,
          44.08000183105469,
          44.68000030517578,
          44.54999923706055,
          44.470001220703125,
          44.849998474121094,
          44.75,
          44.52000045776367
         ],
         "showlegend": false,
         "type": "candlestick",
         "x": [
          "2021-01-04",
          "2021-01-05",
          "2021-01-06",
          "2021-01-07",
          "2021-01-08",
          "2021-01-11",
          "2021-01-12",
          "2021-01-13",
          "2021-01-14",
          "2021-01-15",
          "2021-01-19",
          "2021-01-20",
          "2021-01-21",
          "2021-01-22",
          "2021-01-25",
          "2021-01-26",
          "2021-01-27",
          "2021-01-28",
          "2021-01-29",
          "2021-02-01",
          "2021-02-02",
          "2021-02-03",
          "2021-02-04",
          "2021-02-05",
          "2021-02-08",
          "2021-02-09",
          "2021-02-10",
          "2021-02-11",
          "2021-02-12",
          "2021-02-16",
          "2021-02-17",
          "2021-02-18",
          "2021-02-19",
          "2021-02-22",
          "2021-02-23",
          "2021-02-24",
          "2021-02-25",
          "2021-02-26",
          "2021-03-01",
          "2021-03-02",
          "2021-03-03",
          "2021-03-04",
          "2021-03-05",
          "2021-03-08",
          "2021-03-09",
          "2021-03-10",
          "2021-03-11",
          "2021-03-12",
          "2021-03-15",
          "2021-03-16",
          "2021-03-17",
          "2021-03-18",
          "2021-03-19",
          "2021-03-22",
          "2021-03-23",
          "2021-03-24",
          "2021-03-25",
          "2021-03-26",
          "2021-03-29",
          "2021-03-30",
          "2021-03-31",
          "2021-04-01",
          "2021-04-05",
          "2021-04-06",
          "2021-04-07",
          "2021-04-08",
          "2021-04-09",
          "2021-04-12",
          "2021-04-13",
          "2021-04-14",
          "2021-04-15",
          "2021-04-16",
          "2021-04-19",
          "2021-04-20",
          "2021-04-21",
          "2021-04-22",
          "2021-04-23",
          "2021-04-26",
          "2021-04-27",
          "2021-04-28",
          "2021-04-29",
          "2021-04-30",
          "2021-05-03",
          "2021-05-04",
          "2021-05-05",
          "2021-05-06",
          "2021-05-07",
          "2021-05-10",
          "2021-05-11",
          "2021-05-12",
          "2021-05-13",
          "2021-05-14",
          "2021-05-17",
          "2021-05-18",
          "2021-05-19",
          "2021-05-20",
          "2021-05-21",
          "2021-05-24",
          "2021-05-25",
          "2021-05-26",
          "2021-05-27",
          "2021-05-28",
          "2021-06-01",
          "2021-06-02",
          "2021-06-03",
          "2021-06-04",
          "2021-06-07",
          "2021-06-08",
          "2021-06-09",
          "2021-06-10",
          "2021-06-11",
          "2021-06-14",
          "2021-06-15",
          "2021-06-16",
          "2021-06-17",
          "2021-06-18",
          "2021-06-21",
          "2021-06-22",
          "2021-06-23",
          "2021-06-24",
          "2021-06-25",
          "2021-06-28",
          "2021-06-29",
          "2021-06-30",
          "2021-07-01",
          "2021-07-02",
          "2021-07-06",
          "2021-07-07",
          "2021-07-08",
          "2021-07-09",
          "2021-07-12",
          "2021-07-13",
          "2021-07-14",
          "2021-07-15",
          "2021-07-16",
          "2021-07-19",
          "2021-07-20",
          "2021-07-21",
          "2021-07-22",
          "2021-07-23",
          "2021-07-26",
          "2021-07-27",
          "2021-07-28",
          "2021-07-29",
          "2021-07-30",
          "2021-08-02",
          "2021-08-03",
          "2021-08-04",
          "2021-08-05",
          "2021-08-06",
          "2021-08-09",
          "2021-08-10",
          "2021-08-11",
          "2021-08-12",
          "2021-08-13",
          "2021-08-16",
          "2021-08-17",
          "2021-08-18",
          "2021-08-19",
          "2021-08-20",
          "2021-08-23",
          "2021-08-24",
          "2021-08-25",
          "2021-08-26",
          "2021-08-27",
          "2021-08-30",
          "2021-08-31",
          "2021-09-01",
          "2021-09-02",
          "2021-09-03",
          "2021-09-07",
          "2021-09-08",
          "2021-09-09",
          "2021-09-10",
          "2021-09-13",
          "2021-09-14",
          "2021-09-15",
          "2021-09-16",
          "2021-09-17",
          "2021-09-20",
          "2021-09-21",
          "2021-09-22",
          "2021-09-23",
          "2021-09-24",
          "2021-09-27",
          "2021-09-28",
          "2021-09-29",
          "2021-09-30",
          "2021-10-01",
          "2021-10-04",
          "2021-10-05",
          "2021-10-06",
          "2021-10-07",
          "2021-10-08",
          "2021-10-11",
          "2021-10-12",
          "2021-10-13",
          "2021-10-14",
          "2021-10-15",
          "2021-10-18",
          "2021-10-19",
          "2021-10-20",
          "2021-10-21",
          "2021-10-22",
          "2021-10-25",
          "2021-10-26",
          "2021-10-27",
          "2021-10-28",
          "2021-10-29",
          "2021-11-01",
          "2021-11-02",
          "2021-11-03",
          "2021-11-04",
          "2021-11-05",
          "2021-11-08",
          "2021-11-09",
          "2021-11-10",
          "2021-11-11",
          "2021-11-12",
          "2021-11-15",
          "2021-11-16",
          "2021-11-17",
          "2021-11-18",
          "2021-11-19",
          "2021-11-22",
          "2021-11-23",
          "2021-11-24",
          "2021-11-26",
          "2021-11-29",
          "2021-11-30",
          "2021-12-01",
          "2021-12-02",
          "2021-12-03",
          "2021-12-06",
          "2021-12-07",
          "2021-12-08",
          "2021-12-09",
          "2021-12-10",
          "2021-12-13",
          "2021-12-14",
          "2021-12-15",
          "2021-12-16",
          "2021-12-17",
          "2021-12-20",
          "2021-12-21",
          "2021-12-22",
          "2021-12-23",
          "2021-12-27",
          "2021-12-28",
          "2021-12-29",
          "2021-12-30",
          "2021-12-31"
         ],
         "yaxis": "y2"
        }
       ],
       "layout": {
        "legend": {
         "bgcolor": "#F5F6F9",
         "font": {
          "color": "#4D5663"
         }
        },
        "paper_bgcolor": "#F5F6F9",
        "plot_bgcolor": "#F5F6F9",
        "template": {
         "data": {
          "bar": [
           {
            "error_x": {
             "color": "#2a3f5f"
            },
            "error_y": {
             "color": "#2a3f5f"
            },
            "marker": {
             "line": {
              "color": "#E5ECF6",
              "width": 0.5
             },
             "pattern": {
              "fillmode": "overlay",
              "size": 10,
              "solidity": 0.2
             }
            },
            "type": "bar"
           }
          ],
          "barpolar": [
           {
            "marker": {
             "line": {
              "color": "#E5ECF6",
              "width": 0.5
             },
             "pattern": {
              "fillmode": "overlay",
              "size": 10,
              "solidity": 0.2
             }
            },
            "type": "barpolar"
           }
          ],
          "carpet": [
           {
            "aaxis": {
             "endlinecolor": "#2a3f5f",
             "gridcolor": "white",
             "linecolor": "white",
             "minorgridcolor": "white",
             "startlinecolor": "#2a3f5f"
            },
            "baxis": {
             "endlinecolor": "#2a3f5f",
             "gridcolor": "white",
             "linecolor": "white",
             "minorgridcolor": "white",
             "startlinecolor": "#2a3f5f"
            },
            "type": "carpet"
           }
          ],
          "choropleth": [
           {
            "colorbar": {
             "outlinewidth": 0,
             "ticks": ""
            },
            "type": "choropleth"
           }
          ],
          "contour": [
           {
            "colorbar": {
             "outlinewidth": 0,
             "ticks": ""
            },
            "colorscale": [
             [
              0,
              "#0d0887"
             ],
             [
              0.1111111111111111,
              "#46039f"
             ],
             [
              0.2222222222222222,
              "#7201a8"
             ],
             [
              0.3333333333333333,
              "#9c179e"
             ],
             [
              0.4444444444444444,
              "#bd3786"
             ],
             [
              0.5555555555555556,
              "#d8576b"
             ],
             [
              0.6666666666666666,
              "#ed7953"
             ],
             [
              0.7777777777777778,
              "#fb9f3a"
             ],
             [
              0.8888888888888888,
              "#fdca26"
             ],
             [
              1,
              "#f0f921"
             ]
            ],
            "type": "contour"
           }
          ],
          "contourcarpet": [
           {
            "colorbar": {
             "outlinewidth": 0,
             "ticks": ""
            },
            "type": "contourcarpet"
           }
          ],
          "heatmap": [
           {
            "colorbar": {
             "outlinewidth": 0,
             "ticks": ""
            },
            "colorscale": [
             [
              0,
              "#0d0887"
             ],
             [
              0.1111111111111111,
              "#46039f"
             ],
             [
              0.2222222222222222,
              "#7201a8"
             ],
             [
              0.3333333333333333,
              "#9c179e"
             ],
             [
              0.4444444444444444,
              "#bd3786"
             ],
             [
              0.5555555555555556,
              "#d8576b"
             ],
             [
              0.6666666666666666,
              "#ed7953"
             ],
             [
              0.7777777777777778,
              "#fb9f3a"
             ],
             [
              0.8888888888888888,
              "#fdca26"
             ],
             [
              1,
              "#f0f921"
             ]
            ],
            "type": "heatmap"
           }
          ],
          "heatmapgl": [
           {
            "colorbar": {
             "outlinewidth": 0,
             "ticks": ""
            },
            "colorscale": [
             [
              0,
              "#0d0887"
             ],
             [
              0.1111111111111111,
              "#46039f"
             ],
             [
              0.2222222222222222,
              "#7201a8"
             ],
             [
              0.3333333333333333,
              "#9c179e"
             ],
             [
              0.4444444444444444,
              "#bd3786"
             ],
             [
              0.5555555555555556,
              "#d8576b"
             ],
             [
              0.6666666666666666,
              "#ed7953"
             ],
             [
              0.7777777777777778,
              "#fb9f3a"
             ],
             [
              0.8888888888888888,
              "#fdca26"
             ],
             [
              1,
              "#f0f921"
             ]
            ],
            "type": "heatmapgl"
           }
          ],
          "histogram": [
           {
            "marker": {
             "pattern": {
              "fillmode": "overlay",
              "size": 10,
              "solidity": 0.2
             }
            },
            "type": "histogram"
           }
          ],
          "histogram2d": [
           {
            "colorbar": {
             "outlinewidth": 0,
             "ticks": ""
            },
            "colorscale": [
             [
              0,
              "#0d0887"
             ],
             [
              0.1111111111111111,
              "#46039f"
             ],
             [
              0.2222222222222222,
              "#7201a8"
             ],
             [
              0.3333333333333333,
              "#9c179e"
             ],
             [
              0.4444444444444444,
              "#bd3786"
             ],
             [
              0.5555555555555556,
              "#d8576b"
             ],
             [
              0.6666666666666666,
              "#ed7953"
             ],
             [
              0.7777777777777778,
              "#fb9f3a"
             ],
             [
              0.8888888888888888,
              "#fdca26"
             ],
             [
              1,
              "#f0f921"
             ]
            ],
            "type": "histogram2d"
           }
          ],
          "histogram2dcontour": [
           {
            "colorbar": {
             "outlinewidth": 0,
             "ticks": ""
            },
            "colorscale": [
             [
              0,
              "#0d0887"
             ],
             [
              0.1111111111111111,
              "#46039f"
             ],
             [
              0.2222222222222222,
              "#7201a8"
             ],
             [
              0.3333333333333333,
              "#9c179e"
             ],
             [
              0.4444444444444444,
              "#bd3786"
             ],
             [
              0.5555555555555556,
              "#d8576b"
             ],
             [
              0.6666666666666666,
              "#ed7953"
             ],
             [
              0.7777777777777778,
              "#fb9f3a"
             ],
             [
              0.8888888888888888,
              "#fdca26"
             ],
             [
              1,
              "#f0f921"
             ]
            ],
            "type": "histogram2dcontour"
           }
          ],
          "mesh3d": [
           {
            "colorbar": {
             "outlinewidth": 0,
             "ticks": ""
            },
            "type": "mesh3d"
           }
          ],
          "parcoords": [
           {
            "line": {
             "colorbar": {
              "outlinewidth": 0,
              "ticks": ""
             }
            },
            "type": "parcoords"
           }
          ],
          "pie": [
           {
            "automargin": true,
            "type": "pie"
           }
          ],
          "scatter": [
           {
            "fillpattern": {
             "fillmode": "overlay",
             "size": 10,
             "solidity": 0.2
            },
            "type": "scatter"
           }
          ],
          "scatter3d": [
           {
            "line": {
             "colorbar": {
              "outlinewidth": 0,
              "ticks": ""
             }
            },
            "marker": {
             "colorbar": {
              "outlinewidth": 0,
              "ticks": ""
             }
            },
            "type": "scatter3d"
           }
          ],
          "scattercarpet": [
           {
            "marker": {
             "colorbar": {
              "outlinewidth": 0,
              "ticks": ""
             }
            },
            "type": "scattercarpet"
           }
          ],
          "scattergeo": [
           {
            "marker": {
             "colorbar": {
              "outlinewidth": 0,
              "ticks": ""
             }
            },
            "type": "scattergeo"
           }
          ],
          "scattergl": [
           {
            "marker": {
             "colorbar": {
              "outlinewidth": 0,
              "ticks": ""
             }
            },
            "type": "scattergl"
           }
          ],
          "scattermapbox": [
           {
            "marker": {
             "colorbar": {
              "outlinewidth": 0,
              "ticks": ""
             }
            },
            "type": "scattermapbox"
           }
          ],
          "scatterpolar": [
           {
            "marker": {
             "colorbar": {
              "outlinewidth": 0,
              "ticks": ""
             }
            },
            "type": "scatterpolar"
           }
          ],
          "scatterpolargl": [
           {
            "marker": {
             "colorbar": {
              "outlinewidth": 0,
              "ticks": ""
             }
            },
            "type": "scatterpolargl"
           }
          ],
          "scatterternary": [
           {
            "marker": {
             "colorbar": {
              "outlinewidth": 0,
              "ticks": ""
             }
            },
            "type": "scatterternary"
           }
          ],
          "surface": [
           {
            "colorbar": {
             "outlinewidth": 0,
             "ticks": ""
            },
            "colorscale": [
             [
              0,
              "#0d0887"
             ],
             [
              0.1111111111111111,
              "#46039f"
             ],
             [
              0.2222222222222222,
              "#7201a8"
             ],
             [
              0.3333333333333333,
              "#9c179e"
             ],
             [
              0.4444444444444444,
              "#bd3786"
             ],
             [
              0.5555555555555556,
              "#d8576b"
             ],
             [
              0.6666666666666666,
              "#ed7953"
             ],
             [
              0.7777777777777778,
              "#fb9f3a"
             ],
             [
              0.8888888888888888,
              "#fdca26"
             ],
             [
              1,
              "#f0f921"
             ]
            ],
            "type": "surface"
           }
          ],
          "table": [
           {
            "cells": {
             "fill": {
              "color": "#EBF0F8"
             },
             "line": {
              "color": "white"
             }
            },
            "header": {
             "fill": {
              "color": "#C8D4E3"
             },
             "line": {
              "color": "white"
             }
            },
            "type": "table"
           }
          ]
         },
         "layout": {
          "annotationdefaults": {
           "arrowcolor": "#2a3f5f",
           "arrowhead": 0,
           "arrowwidth": 1
          },
          "autotypenumbers": "strict",
          "coloraxis": {
           "colorbar": {
            "outlinewidth": 0,
            "ticks": ""
           }
          },
          "colorscale": {
           "diverging": [
            [
             0,
             "#8e0152"
            ],
            [
             0.1,
             "#c51b7d"
            ],
            [
             0.2,
             "#de77ae"
            ],
            [
             0.3,
             "#f1b6da"
            ],
            [
             0.4,
             "#fde0ef"
            ],
            [
             0.5,
             "#f7f7f7"
            ],
            [
             0.6,
             "#e6f5d0"
            ],
            [
             0.7,
             "#b8e186"
            ],
            [
             0.8,
             "#7fbc41"
            ],
            [
             0.9,
             "#4d9221"
            ],
            [
             1,
             "#276419"
            ]
           ],
           "sequential": [
            [
             0,
             "#0d0887"
            ],
            [
             0.1111111111111111,
             "#46039f"
            ],
            [
             0.2222222222222222,
             "#7201a8"
            ],
            [
             0.3333333333333333,
             "#9c179e"
            ],
            [
             0.4444444444444444,
             "#bd3786"
            ],
            [
             0.5555555555555556,
             "#d8576b"
            ],
            [
             0.6666666666666666,
             "#ed7953"
            ],
            [
             0.7777777777777778,
             "#fb9f3a"
            ],
            [
             0.8888888888888888,
             "#fdca26"
            ],
            [
             1,
             "#f0f921"
            ]
           ],
           "sequentialminus": [
            [
             0,
             "#0d0887"
            ],
            [
             0.1111111111111111,
             "#46039f"
            ],
            [
             0.2222222222222222,
             "#7201a8"
            ],
            [
             0.3333333333333333,
             "#9c179e"
            ],
            [
             0.4444444444444444,
             "#bd3786"
            ],
            [
             0.5555555555555556,
             "#d8576b"
            ],
            [
             0.6666666666666666,
             "#ed7953"
            ],
            [
             0.7777777777777778,
             "#fb9f3a"
            ],
            [
             0.8888888888888888,
             "#fdca26"
            ],
            [
             1,
             "#f0f921"
            ]
           ]
          },
          "colorway": [
           "#636efa",
           "#EF553B",
           "#00cc96",
           "#ab63fa",
           "#FFA15A",
           "#19d3f3",
           "#FF6692",
           "#B6E880",
           "#FF97FF",
           "#FECB52"
          ],
          "font": {
           "color": "#2a3f5f"
          },
          "geo": {
           "bgcolor": "white",
           "lakecolor": "white",
           "landcolor": "#E5ECF6",
           "showlakes": true,
           "showland": true,
           "subunitcolor": "white"
          },
          "hoverlabel": {
           "align": "left"
          },
          "hovermode": "closest",
          "mapbox": {
           "style": "light"
          },
          "paper_bgcolor": "white",
          "plot_bgcolor": "#E5ECF6",
          "polar": {
           "angularaxis": {
            "gridcolor": "white",
            "linecolor": "white",
            "ticks": ""
           },
           "bgcolor": "#E5ECF6",
           "radialaxis": {
            "gridcolor": "white",
            "linecolor": "white",
            "ticks": ""
           }
          },
          "scene": {
           "xaxis": {
            "backgroundcolor": "#E5ECF6",
            "gridcolor": "white",
            "gridwidth": 2,
            "linecolor": "white",
            "showbackground": true,
            "ticks": "",
            "zerolinecolor": "white"
           },
           "yaxis": {
            "backgroundcolor": "#E5ECF6",
            "gridcolor": "white",
            "gridwidth": 2,
            "linecolor": "white",
            "showbackground": true,
            "ticks": "",
            "zerolinecolor": "white"
           },
           "zaxis": {
            "backgroundcolor": "#E5ECF6",
            "gridcolor": "white",
            "gridwidth": 2,
            "linecolor": "white",
            "showbackground": true,
            "ticks": "",
            "zerolinecolor": "white"
           }
          },
          "shapedefaults": {
           "line": {
            "color": "#2a3f5f"
           }
          },
          "ternary": {
           "aaxis": {
            "gridcolor": "white",
            "linecolor": "white",
            "ticks": ""
           },
           "baxis": {
            "gridcolor": "white",
            "linecolor": "white",
            "ticks": ""
           },
           "bgcolor": "#E5ECF6",
           "caxis": {
            "gridcolor": "white",
            "linecolor": "white",
            "ticks": ""
           }
          },
          "title": {
           "x": 0.05
          },
          "xaxis": {
           "automargin": true,
           "gridcolor": "white",
           "linecolor": "white",
           "ticks": "",
           "title": {
            "standoff": 15
           },
           "zerolinecolor": "white",
           "zerolinewidth": 2
          },
          "yaxis": {
           "automargin": true,
           "gridcolor": "white",
           "linecolor": "white",
           "ticks": "",
           "title": {
            "standoff": 15
           },
           "zerolinecolor": "white",
           "zerolinewidth": 2
          }
         }
        },
        "title": {
         "font": {
          "color": "#4D5663"
         }
        },
        "xaxis": {
         "gridcolor": "#E1E5ED",
         "rangeslider": {
          "visible": false
         },
         "showgrid": true,
         "tickfont": {
          "color": "#4D5663"
         },
         "title": {
          "font": {
           "color": "#4D5663"
          },
          "text": ""
         },
         "zerolinecolor": "#E1E5ED"
        },
        "yaxis": {
         "gridcolor": "#E1E5ED",
         "showgrid": true,
         "showticklabels": false,
         "tickfont": {
          "color": "#4D5663"
         },
         "title": {
          "font": {
           "color": "#4D5663"
          },
          "text": ""
         },
         "zerolinecolor": "#E1E5ED"
        },
        "yaxis2": {
         "gridcolor": "#E1E5ED",
         "showgrid": true,
         "tickfont": {
          "color": "#4D5663"
         },
         "title": {
          "font": {
           "color": "#4D5663"
          },
          "text": ""
         },
         "zerolinecolor": "#E1E5ED"
        }
       }
      },
      "text/html": [
       "<div>                            <div id=\"3da4d53d-0a0c-48f1-b242-be9f0acb9347\" class=\"plotly-graph-div\" style=\"height:525px; width:100%;\"></div>            <script type=\"text/javascript\">                require([\"plotly\"], function(Plotly) {                    window.PLOTLYENV=window.PLOTLYENV || {};\n",
       "                    window.PLOTLYENV.BASE_URL='https://plot.ly';                                    if (document.getElementById(\"3da4d53d-0a0c-48f1-b242-be9f0acb9347\")) {                    Plotly.newPlot(                        \"3da4d53d-0a0c-48f1-b242-be9f0acb9347\",                        [{\"close\":[30.030000686645508,30.260000228881836,32.150001525878906,32.86000061035156,32.529998779296875,33.06999969482422,33.65999984741211,33.459999084472656,33.9900016784668,33.0099983215332,32.77000045776367,32.34000015258789,31.770000457763672,31.549999237060547,31.15999984741211,30.940000534057617,29.829999923706055,30.31999969482422,29.649999618530273,29.959999084472656,31.030000686645508,31.579999923706055,32.5,32.369998931884766,33.09000015258789,32.95000076293945,32.97999954223633,32.880001068115234,33.369998931884766,34.27000045776367,34.40999984741211,34.189998626708984,34.540000915527344,35.150001525878906,35.52000045776367,36.380001068115234,35.93000030517578,34.709999084472656,35.790000915527344,35.529998779296875,36.41999816894531,36.5,36.93000030517578,37.130001068115234,36.31999969482422,37.369998931884766,37.2400016784668,37.939998626708984,37.75,37.63999938964844,37.95000076293945,38.939998626708984,38.529998779296875,37.65999984741211,36.900001525878906,36.900001525878906,37.65999984741211,38.68000030517578,38.310001373291016,38.9900016784668,38.689998626708984,39.4900016784668,39.79999923706055,39.689998626708984,40.04999923706055,39.70000076293945,39.9900016784668,40.060001373291016,39.31999969482422,39.880001068115234,38.7400016784668,39.150001525878906,39.16999816894531,38.08000183105469,38.720001220703125,38.36000061035156,39.18000030517578,39.40999984741211,39.880001068115234,40.029998779296875,41.11000061035156,40.529998779296875,40.560001373291016,41.0,41.38999938964844,42.0099983215332,42.18000030517578,42.04999923706055,41.56999969482422,41.18000030517578,41.84000015258789,42.36000061035156,42.7400016784668,42.15999984741211,41.970001220703125,41.869998931884766,42.400001525878906,42.630001068115234,42.0099983215332,42.040000915527344,42.54999923706055,42.38999938964844,42.91999816894531,42.939998626708984,43.25,43.27000045776367,43.119998931884766,42.880001068115234,42.31999969482422,41.689998626708984,41.86000061035156,41.36000061035156,41.38999938964844,41.619998931884766,39.79999923706055,38.779998779296875,39.75,39.970001220703125,40.20000076293945,40.83000183105469,41.619998931884766,41.560001373291016,40.88999938964844,41.22999954223633,41.540000915527344,41.150001525878906,40.06999969482422,39.75,38.779998779296875,40.040000915527344,40.630001068115234,39.86000061035156,38.86000061035156,38.83000183105469,37.91999816894531,36.93000030517578,37.689998626708984,38.459999084472656,37.959999084472656,37.70000076293945,38.130001068115234,37.97999954223633,38.130001068115234,38.68000030517578,38.36000061035156,37.959999084472656,38.54999923706055,38.27000045776367,39.02000045776367,40.150001525878906,40.66999816894531,41.43000030517578,41.95000076293945,42.150001525878906,41.630001068115234,41.290000915527344,41.09000015258789,40.790000915527344,40.189998626708984,40.369998931884766,40.90999984741211,41.47999954223633,42.150001525878906,42.040000915527344,42.4900016784668,41.65999984741211,41.75,41.189998626708984,41.02000045776367,41.04999923706055,41.31999969482422,40.779998779296875,40.93000030517578,40.27000045776367,40.939998626708984,39.84000015258789,40.13999938964844,40.45000076293945,40.5,39.11000061035156,39.130001068115234,40.13999938964844,41.689998626708984,42.13999938964844,43.2599983215332,43.15999984741211,43.06999969482422,42.45000076293945,43.08000183105469,43.34000015258789,44.220001220703125,44.2400016784668,44.119998931884766,44.34000015258789,43.779998779296875,43.540000915527344,43.13999938964844,45.06999969482422,46.369998931884766,46.279998779296875,46.47999954223633,47.09000015258789,46.83000183105469,47.56999969482422,47.5099983215332,47.959999084472656,47.040000915527344,47.779998779296875,47.779998779296875,47.849998474121094,47.880001068115234,48.369998931884766,47.33000183105469,46.970001220703125,47.34000015258789,46.880001068115234,47.22999954223633,47.4900016784668,46.90999984741211,47.04999923706055,47.08000183105469,46.5099983215332,46.31999969482422,45.400001525878906,46.279998779296875,47.5,47.630001068115234,45.7599983215332,45.59000015258789,44.470001220703125,43.84000015258789,44.88999938964844,43.869998931884766,44.150001525878906,44.709999084472656,44.15999984741211,44.4900016784668,44.52000045776367,43.58000183105469,44.130001068115234,43.939998626708984,45.0,43.880001068115234,43.15999984741211,44.189998626708984,44.279998779296875,44.41999816894531,44.63999938964844,44.70000076293945,44.630001068115234,44.529998779296875,44.4900016784668],\"high\":[30.56999969482422,30.540000915527344,32.619998931884766,33.619998931884766,33.0,33.130001068115234,33.970001220703125,33.68000030517578,34.369998931884766,33.630001068115234,33.599998474121094,32.790000915527344,32.47999954223633,31.75,31.299999237060547,31.43000030517578,30.43000030517578,30.75,30.5,30.040000915527344,31.200000762939453,31.729999542236328,32.529998779296875,32.90999984741211,33.279998779296875,33.02000045776367,33.41999816894531,33.310001373291016,33.45000076293945,34.560001373291016,34.560001373291016,34.650001525878906,34.72999954223633,35.25,35.88999938964844,36.52000045776367,37.029998779296875,36.029998779296875,36.04999923706055,35.939998626708984,36.970001220703125,36.869998931884766,37.599998474121094,37.72999954223633,37.15999984741211,37.529998779296875,37.790000915527344,38.18000030517578,38.06999969482422,37.720001220703125,38.36000061035156,39.970001220703125,38.91999816894531,38.380001068115234,37.81999969482422,37.790000915527344,37.75,38.7599983215332,38.630001068115234,39.459999084472656,38.9900016784668,39.52000045776367,40.279998779296875,40.150001525878906,40.150001525878906,39.849998474121094,40.18000030517578,40.380001068115234,39.81999969482422,40.33000183105469,39.84000015258789,39.41999816894531,39.43000030517578,39.0,38.779998779296875,38.77000045776367,39.34000015258789,39.849998474121094,39.91999816894531,40.220001220703125,41.130001068115234,40.900001525878906,41.04999923706055,41.08000183105469,41.560001373291016,42.060001373291016,42.25,42.939998626708984,42.34000015258789,42.560001373291016,42.09000015258789,42.47999954223633,42.849998474121094,42.95000076293945,42.0,42.130001068115234,42.599998474121094,42.779998779296875,43.2599983215332,42.25,42.849998474121094,42.709999084472656,43.279998779296875,43.16999816894531,43.4900016784668,43.38999938964844,43.38999938964844,43.2400016784668,42.72999954223633,42.959999084472656,41.88999938964844,41.90999984741211,41.560001373291016,41.9900016784668,42.099998474121094,39.29999923706055,39.779998779296875,40.2599983215332,40.41999816894531,41.0099983215332,41.83000183105469,41.58000183105469,41.95000076293945,41.36000061035156,41.70000076293945,41.470001220703125,40.880001068115234,40.0,39.2400016784668,40.2400016784668,40.810001373291016,40.47999954223633,39.54999923706055,39.33000183105469,39.290000915527344,37.25,38.119998931884766,38.77000045776367,38.400001525878906,38.27000045776367,38.2400016784668,38.2400016784668,38.5,38.97999954223633,38.83000183105469,38.95000076293945,38.630001068115234,38.77000045776367,39.060001373291016,40.40999984741211,40.959999084472656,41.619998931884766,42.189998626708984,42.290000915527344,42.22999954223633,41.29999923706055,41.56999969482422,41.529998779296875,40.66999816894531,40.470001220703125,41.099998474121094,41.68000030517578,42.45000076293945,42.84000015258789,42.650001525878906,42.630001068115234,42.06999969482422,41.779998779296875,41.4900016784668,41.189998626708984,41.849998474121094,41.4900016784668,41.349998474121094,41.349998474121094,40.959999084472656,41.310001373291016,40.34000015258789,40.810001373291016,40.66999816894531,39.459999084472656,39.599998474121094,40.52000045776367,41.880001068115234,42.34000015258789,43.43000030517578,44.040000915527344,43.31999969482422,43.349998474121094,43.43000030517578,44.06999969482422,44.75,44.290000915527344,44.869998931884766,44.810001373291016,44.810001373291016,44.0,43.63999938964844,45.099998474121094,46.66999816894531,46.88999938964844,46.630001068115234,47.2400016784668,47.47999954223633,47.619998931884766,47.97999954223633,48.43000030517578,48.16999816894531,48.0,48.130001068115234,48.16999816894531,48.41999816894531,48.689998626708984,48.150001525878906,47.81999969482422,47.79999923706055,47.36000061035156,47.52000045776367,47.88999938964844,47.529998779296875,47.38999938964844,47.279998779296875,47.20000076293945,46.810001373291016,45.77000045776367,46.869998931884766,47.650001525878906,47.97999954223633,46.040000915527344,46.70000076293945,45.220001220703125,45.70000076293945,45.5,45.06999969482422,44.880001068115234,44.90999984741211,44.79999923706055,44.72999954223633,44.83000183105469,44.400001525878906,44.81999969482422,44.45000076293945,45.36000061035156,44.70000076293945,43.36000061035156,44.47999954223633,44.58000183105469,45.06999969482422,44.81999969482422,45.08000183105469,45.119998931884766,45.099998474121094,44.720001220703125],\"low\":[29.75,29.90999984741211,31.360000610351562,32.84000015258789,32.11000061035156,31.899999618530273,33.20000076293945,33.09000015258789,33.41999816894531,32.70000076293945,32.20000076293945,32.15999984741211,31.729999542236328,31.25,30.56999969482422,30.90999984741211,29.670000076293945,29.920000076293945,29.59000015258789,29.56999969482422,30.540000915527344,30.8799991607666,31.780000686645508,32.31999969482422,32.400001525878906,32.59000015258789,32.86000061035156,32.54999923706055,32.90999984741211,33.70000076293945,33.790000915527344,34.02000045776367,34.18000030517578,34.40999984741211,35.13999938964844,35.599998474121094,35.7599983215332,34.68000030517578,35.2400016784668,35.5,35.84000015258789,35.91999816894531,36.16999816894531,36.81999969482422,35.810001373291016,36.369998931884766,36.849998474121094,37.58000183105469,37.220001220703125,36.970001220703125,37.33000183105469,38.41999816894531,37.529998779296875,37.400001525878906,36.779998779296875,36.88999938964844,36.630001068115234,38.08000183105469,37.86000061035156,38.630001068115234,38.459999084472656,38.720001220703125,39.599998474121094,39.459999084472656,39.59000015258789,39.220001220703125,39.5099983215332,39.849998474121094,39.20000076293945,38.91999816894531,38.04999923706055,38.90999984741211,39.029998779296875,37.88999938964844,37.40999984741211,38.16999816894531,38.220001220703125,39.279998779296875,39.5099983215332,39.880001068115234,40.459999084472656,40.470001220703125,40.41999816894531,39.779998779296875,40.7599983215332,41.2400016784668,41.11000061035156,42.029998779296875,41.34000015258789,41.040000915527344,40.779998779296875,41.91999816894531,42.15999984741211,42.13999938964844,41.310001373291016,41.459999084472656,41.88999938964844,42.25,41.93000030517578,41.65999984741211,42.119998931884766,42.04999923706055,42.77000045776367,42.599998474121094,42.68000030517578,42.83000183105469,43.060001373291016,42.43000030517578,42.11000061035156,41.619998931884766,41.5099983215332,41.060001373291016,40.900001525878906,40.66999816894531,39.720001220703125,38.4900016784668,39.029998779296875,39.279998779296875,40.06999969482422,40.18000030517578,40.84000015258789,41.099998474121094,40.75,40.720001220703125,41.209999084472656,41.099998474121094,39.869998931884766,39.36000061035156,38.47999954223633,39.400001525878906,39.63999938964844,39.58000183105469,37.790000915527344,38.31999969482422,37.59000015258789,36.5099983215332,36.61000061035156,37.97999954223633,37.68000030517578,37.560001373291016,37.65999984741211,37.459999084472656,37.75,38.369998931884766,38.04999923706055,37.90999984741211,37.54999923706055,37.86000061035156,38.54999923706055,39.470001220703125,39.79999923706055,40.58000183105469,41.47999954223633,41.77000045776367,41.43000030517578,40.61000061035156,40.619998931884766,40.65999984741211,40.0099983215332,39.90999984741211,40.599998474121094,41.040000915527344,41.540000915527344,42.02000045776367,41.939998626708984,41.630001068115234,41.36000061035156,41.029998779296875,40.63999938964844,40.68000030517578,41.18000030517578,40.68000030517578,40.560001373291016,40.2400016784668,40.349998474121094,39.65999984741211,39.66999816894531,40.20000076293945,40.08000183105469,38.36000061035156,38.939998626708984,39.75,40.650001525878906,41.650001525878906,42.63999938964844,43.060001373291016,42.7400016784668,42.22999954223633,42.38999938964844,43.06999969482422,43.66999816894531,43.54999923706055,44.029998779296875,43.91999816894531,43.75,43.27000045776367,42.33000183105469,43.47999954223633,45.36000061035156,46.029998779296875,46.20000076293945,46.04999923706055,46.61000061035156,46.9900016784668,47.20000076293945,47.439998626708984,47.029998779296875,47.29999923706055,47.52000045776367,47.279998779296875,47.349998474121094,47.61000061035156,46.880001068115234,46.81999969482422,47.25,46.40999984741211,46.650001525878906,47.0099983215332,46.7599983215332,46.900001525878906,46.689998626708984,46.45000076293945,46.209999084472656,44.83000183105469,45.90999984741211,46.66999816894531,47.209999084472656,44.75,45.16999816894531,44.36000061035156,43.810001373291016,44.0,43.599998474121094,43.959999084472656,44.43000030517578,44.09000015258789,43.650001525878906,44.06999969482422,43.38999938964844,43.529998779296875,43.619998931884766,44.09000015258789,43.619998931884766,42.70000076293945,43.540000915527344,43.880001068115234,44.400001525878906,44.310001373291016,44.41999816894531,44.599998474121094,44.47999954223633,44.279998779296875],\"open\":[30.459999084472656,30.170000076293945,31.899999618530273,33.310001373291016,32.91999816894531,32.09000015258789,33.41999816894531,33.43000030517578,33.47999954223633,33.290000915527344,32.5,32.7599983215332,32.34000015258789,31.360000610351562,31.270000457763672,31.399999618530273,30.309999465942383,30.420000076293945,30.399999618530273,29.8700008392334,30.579999923706055,30.90999984741211,31.799999237060547,32.88999938964844,32.43000030517578,32.970001220703125,33.119998931884766,32.970001220703125,33.0,33.97999954223633,34.040000915527344,34.060001373291016,34.20000076293945,34.45000076293945,35.41999816894531,35.7400016784668,36.959999084472656,35.72999954223633,35.52000045776367,35.650001525878906,35.970001220703125,36.13999938964844,37.029998779296875,37.380001068115234,36.54999923706055,36.540000915527344,37.27000045776367,37.91999816894531,38.029998779296875,37.41999816894531,38.0,38.5099983215332,38.290000915527344,38.08000183105469,37.36000061035156,37.209999084472656,36.869998931884766,38.349998474121094,38.04999923706055,38.630001068115234,38.619998931884766,38.83000183105469,40.0,39.529998779296875,39.77000045776367,39.79999923706055,39.90999984741211,39.9900016784668,39.810001373291016,38.97999954223633,39.72999954223633,39.310001373291016,39.38999938964844,39.0,37.75,38.75,38.31999969482422,39.349998474121094,39.66999816894531,39.93000030517578,40.54999923706055,40.84000015258789,40.869998931884766,40.2400016784668,41.20000076293945,41.47999954223633,41.130001068115234,42.5,41.54999923706055,42.380001068115234,40.86000061035156,42.060001373291016,42.2400016784668,42.70000076293945,41.650001525878906,41.900001525878906,42.02000045776367,42.58000183105469,42.689998626708984,42.02000045776367,42.47999954223633,42.65999984741211,42.95000076293945,43.099998474121094,42.77000045776367,43.2400016784668,43.27000045776367,42.86000061035156,42.470001220703125,42.7599983215332,41.810001373291016,41.849998474121094,41.279998779296875,41.279998779296875,42.02000045776367,39.0099983215332,39.119998931884766,39.880001068115234,40.15999984741211,40.439998626708984,41.27000045776367,41.459999084472656,41.630001068115234,40.7599983215332,41.560001373291016,41.369998931884766,40.810001373291016,39.56999969482422,38.619998931884766,39.650001525878906,39.790000915527344,40.47999954223633,39.11000061035156,38.38999938964844,39.220001220703125,36.75,36.86000061035156,38.04999923706055,38.36000061035156,38.20000076293945,37.65999984741211,37.720001220703125,38.189998626708984,38.54999923706055,38.5099983215332,38.400001525878906,38.060001373291016,38.029998779296875,38.56999969482422,39.470001220703125,40.04999923706055,40.709999084472656,41.599998474121094,42.22999954223633,42.09000015258789,41.15999984741211,41.04999923706055,40.77000045776367,40.119998931884766,40.09000015258789,40.630001068115234,41.099998474121094,41.65999984741211,42.5,42.119998931884766,42.630001068115234,41.66999816894531,41.75,41.11000061035156,41.02000045776367,41.25,41.08000183105469,40.65999984741211,41.220001220703125,40.599998474121094,41.130001068115234,39.72999954223633,40.47999954223633,40.34000015258789,39.380001068115234,39.27000045776367,39.75,40.7599983215332,41.720001220703125,42.68000030517578,43.43000030517578,43.18000030517578,43.349998474121094,42.47999954223633,43.11000061035156,43.77000045776367,43.849998474121094,44.790000915527344,44.06999969482422,44.599998474121094,43.66999816894531,43.54999923706055,44.369998931884766,45.77000045776367,46.290000915527344,46.5,46.4900016784668,47.099998474121094,46.9900016784668,47.79999923706055,47.65999984741211,47.47999954223633,47.59000015258789,47.75,48.099998474121094,47.56999969482422,47.79999923706055,48.150001525878906,47.599998474121094,47.349998474121094,46.650001525878906,46.75,47.310001373291016,47.5099983215332,47.2599983215332,47.18000030517578,47.08000183105469,46.709999084472656,45.70000076293945,46.720001220703125,46.869998931884766,47.41999816894531,45.52000045776367,46.41999816894531,44.7599983215332,45.220001220703125,44.33000183105469,45.0,44.560001373291016,44.560001373291016,44.68000030517578,43.90999984741211,44.709999084472656,44.27000045776367,43.59000015258789,44.369998931884766,44.70000076293945,44.5,43.27000045776367,43.540000915527344,44.08000183105469,44.68000030517578,44.54999923706055,44.470001220703125,44.849998474121094,44.75,44.52000045776367],\"showlegend\":false,\"x\":[\"2021-01-04\",\"2021-01-05\",\"2021-01-06\",\"2021-01-07\",\"2021-01-08\",\"2021-01-11\",\"2021-01-12\",\"2021-01-13\",\"2021-01-14\",\"2021-01-15\",\"2021-01-19\",\"2021-01-20\",\"2021-01-21\",\"2021-01-22\",\"2021-01-25\",\"2021-01-26\",\"2021-01-27\",\"2021-01-28\",\"2021-01-29\",\"2021-02-01\",\"2021-02-02\",\"2021-02-03\",\"2021-02-04\",\"2021-02-05\",\"2021-02-08\",\"2021-02-09\",\"2021-02-10\",\"2021-02-11\",\"2021-02-12\",\"2021-02-16\",\"2021-02-17\",\"2021-02-18\",\"2021-02-19\",\"2021-02-22\",\"2021-02-23\",\"2021-02-24\",\"2021-02-25\",\"2021-02-26\",\"2021-03-01\",\"2021-03-02\",\"2021-03-03\",\"2021-03-04\",\"2021-03-05\",\"2021-03-08\",\"2021-03-09\",\"2021-03-10\",\"2021-03-11\",\"2021-03-12\",\"2021-03-15\",\"2021-03-16\",\"2021-03-17\",\"2021-03-18\",\"2021-03-19\",\"2021-03-22\",\"2021-03-23\",\"2021-03-24\",\"2021-03-25\",\"2021-03-26\",\"2021-03-29\",\"2021-03-30\",\"2021-03-31\",\"2021-04-01\",\"2021-04-05\",\"2021-04-06\",\"2021-04-07\",\"2021-04-08\",\"2021-04-09\",\"2021-04-12\",\"2021-04-13\",\"2021-04-14\",\"2021-04-15\",\"2021-04-16\",\"2021-04-19\",\"2021-04-20\",\"2021-04-21\",\"2021-04-22\",\"2021-04-23\",\"2021-04-26\",\"2021-04-27\",\"2021-04-28\",\"2021-04-29\",\"2021-04-30\",\"2021-05-03\",\"2021-05-04\",\"2021-05-05\",\"2021-05-06\",\"2021-05-07\",\"2021-05-10\",\"2021-05-11\",\"2021-05-12\",\"2021-05-13\",\"2021-05-14\",\"2021-05-17\",\"2021-05-18\",\"2021-05-19\",\"2021-05-20\",\"2021-05-21\",\"2021-05-24\",\"2021-05-25\",\"2021-05-26\",\"2021-05-27\",\"2021-05-28\",\"2021-06-01\",\"2021-06-02\",\"2021-06-03\",\"2021-06-04\",\"2021-06-07\",\"2021-06-08\",\"2021-06-09\",\"2021-06-10\",\"2021-06-11\",\"2021-06-14\",\"2021-06-15\",\"2021-06-16\",\"2021-06-17\",\"2021-06-18\",\"2021-06-21\",\"2021-06-22\",\"2021-06-23\",\"2021-06-24\",\"2021-06-25\",\"2021-06-28\",\"2021-06-29\",\"2021-06-30\",\"2021-07-01\",\"2021-07-02\",\"2021-07-06\",\"2021-07-07\",\"2021-07-08\",\"2021-07-09\",\"2021-07-12\",\"2021-07-13\",\"2021-07-14\",\"2021-07-15\",\"2021-07-16\",\"2021-07-19\",\"2021-07-20\",\"2021-07-21\",\"2021-07-22\",\"2021-07-23\",\"2021-07-26\",\"2021-07-27\",\"2021-07-28\",\"2021-07-29\",\"2021-07-30\",\"2021-08-02\",\"2021-08-03\",\"2021-08-04\",\"2021-08-05\",\"2021-08-06\",\"2021-08-09\",\"2021-08-10\",\"2021-08-11\",\"2021-08-12\",\"2021-08-13\",\"2021-08-16\",\"2021-08-17\",\"2021-08-18\",\"2021-08-19\",\"2021-08-20\",\"2021-08-23\",\"2021-08-24\",\"2021-08-25\",\"2021-08-26\",\"2021-08-27\",\"2021-08-30\",\"2021-08-31\",\"2021-09-01\",\"2021-09-02\",\"2021-09-03\",\"2021-09-07\",\"2021-09-08\",\"2021-09-09\",\"2021-09-10\",\"2021-09-13\",\"2021-09-14\",\"2021-09-15\",\"2021-09-16\",\"2021-09-17\",\"2021-09-20\",\"2021-09-21\",\"2021-09-22\",\"2021-09-23\",\"2021-09-24\",\"2021-09-27\",\"2021-09-28\",\"2021-09-29\",\"2021-09-30\",\"2021-10-01\",\"2021-10-04\",\"2021-10-05\",\"2021-10-06\",\"2021-10-07\",\"2021-10-08\",\"2021-10-11\",\"2021-10-12\",\"2021-10-13\",\"2021-10-14\",\"2021-10-15\",\"2021-10-18\",\"2021-10-19\",\"2021-10-20\",\"2021-10-21\",\"2021-10-22\",\"2021-10-25\",\"2021-10-26\",\"2021-10-27\",\"2021-10-28\",\"2021-10-29\",\"2021-11-01\",\"2021-11-02\",\"2021-11-03\",\"2021-11-04\",\"2021-11-05\",\"2021-11-08\",\"2021-11-09\",\"2021-11-10\",\"2021-11-11\",\"2021-11-12\",\"2021-11-15\",\"2021-11-16\",\"2021-11-17\",\"2021-11-18\",\"2021-11-19\",\"2021-11-22\",\"2021-11-23\",\"2021-11-24\",\"2021-11-26\",\"2021-11-29\",\"2021-11-30\",\"2021-12-01\",\"2021-12-02\",\"2021-12-03\",\"2021-12-06\",\"2021-12-07\",\"2021-12-08\",\"2021-12-09\",\"2021-12-10\",\"2021-12-13\",\"2021-12-14\",\"2021-12-15\",\"2021-12-16\",\"2021-12-17\",\"2021-12-20\",\"2021-12-21\",\"2021-12-22\",\"2021-12-23\",\"2021-12-27\",\"2021-12-28\",\"2021-12-29\",\"2021-12-30\",\"2021-12-31\"],\"yaxis\":\"y2\",\"type\":\"candlestick\"}],                        {\"legend\":{\"bgcolor\":\"#F5F6F9\",\"font\":{\"color\":\"#4D5663\"}},\"paper_bgcolor\":\"#F5F6F9\",\"plot_bgcolor\":\"#F5F6F9\",\"template\":{\"data\":{\"barpolar\":[{\"marker\":{\"line\":{\"color\":\"#E5ECF6\",\"width\":0.5},\"pattern\":{\"fillmode\":\"overlay\",\"size\":10,\"solidity\":0.2}},\"type\":\"barpolar\"}],\"bar\":[{\"error_x\":{\"color\":\"#2a3f5f\"},\"error_y\":{\"color\":\"#2a3f5f\"},\"marker\":{\"line\":{\"color\":\"#E5ECF6\",\"width\":0.5},\"pattern\":{\"fillmode\":\"overlay\",\"size\":10,\"solidity\":0.2}},\"type\":\"bar\"}],\"carpet\":[{\"aaxis\":{\"endlinecolor\":\"#2a3f5f\",\"gridcolor\":\"white\",\"linecolor\":\"white\",\"minorgridcolor\":\"white\",\"startlinecolor\":\"#2a3f5f\"},\"baxis\":{\"endlinecolor\":\"#2a3f5f\",\"gridcolor\":\"white\",\"linecolor\":\"white\",\"minorgridcolor\":\"white\",\"startlinecolor\":\"#2a3f5f\"},\"type\":\"carpet\"}],\"choropleth\":[{\"colorbar\":{\"outlinewidth\":0,\"ticks\":\"\"},\"type\":\"choropleth\"}],\"contourcarpet\":[{\"colorbar\":{\"outlinewidth\":0,\"ticks\":\"\"},\"type\":\"contourcarpet\"}],\"contour\":[{\"colorbar\":{\"outlinewidth\":0,\"ticks\":\"\"},\"colorscale\":[[0.0,\"#0d0887\"],[0.1111111111111111,\"#46039f\"],[0.2222222222222222,\"#7201a8\"],[0.3333333333333333,\"#9c179e\"],[0.4444444444444444,\"#bd3786\"],[0.5555555555555556,\"#d8576b\"],[0.6666666666666666,\"#ed7953\"],[0.7777777777777778,\"#fb9f3a\"],[0.8888888888888888,\"#fdca26\"],[1.0,\"#f0f921\"]],\"type\":\"contour\"}],\"heatmapgl\":[{\"colorbar\":{\"outlinewidth\":0,\"ticks\":\"\"},\"colorscale\":[[0.0,\"#0d0887\"],[0.1111111111111111,\"#46039f\"],[0.2222222222222222,\"#7201a8\"],[0.3333333333333333,\"#9c179e\"],[0.4444444444444444,\"#bd3786\"],[0.5555555555555556,\"#d8576b\"],[0.6666666666666666,\"#ed7953\"],[0.7777777777777778,\"#fb9f3a\"],[0.8888888888888888,\"#fdca26\"],[1.0,\"#f0f921\"]],\"type\":\"heatmapgl\"}],\"heatmap\":[{\"colorbar\":{\"outlinewidth\":0,\"ticks\":\"\"},\"colorscale\":[[0.0,\"#0d0887\"],[0.1111111111111111,\"#46039f\"],[0.2222222222222222,\"#7201a8\"],[0.3333333333333333,\"#9c179e\"],[0.4444444444444444,\"#bd3786\"],[0.5555555555555556,\"#d8576b\"],[0.6666666666666666,\"#ed7953\"],[0.7777777777777778,\"#fb9f3a\"],[0.8888888888888888,\"#fdca26\"],[1.0,\"#f0f921\"]],\"type\":\"heatmap\"}],\"histogram2dcontour\":[{\"colorbar\":{\"outlinewidth\":0,\"ticks\":\"\"},\"colorscale\":[[0.0,\"#0d0887\"],[0.1111111111111111,\"#46039f\"],[0.2222222222222222,\"#7201a8\"],[0.3333333333333333,\"#9c179e\"],[0.4444444444444444,\"#bd3786\"],[0.5555555555555556,\"#d8576b\"],[0.6666666666666666,\"#ed7953\"],[0.7777777777777778,\"#fb9f3a\"],[0.8888888888888888,\"#fdca26\"],[1.0,\"#f0f921\"]],\"type\":\"histogram2dcontour\"}],\"histogram2d\":[{\"colorbar\":{\"outlinewidth\":0,\"ticks\":\"\"},\"colorscale\":[[0.0,\"#0d0887\"],[0.1111111111111111,\"#46039f\"],[0.2222222222222222,\"#7201a8\"],[0.3333333333333333,\"#9c179e\"],[0.4444444444444444,\"#bd3786\"],[0.5555555555555556,\"#d8576b\"],[0.6666666666666666,\"#ed7953\"],[0.7777777777777778,\"#fb9f3a\"],[0.8888888888888888,\"#fdca26\"],[1.0,\"#f0f921\"]],\"type\":\"histogram2d\"}],\"histogram\":[{\"marker\":{\"pattern\":{\"fillmode\":\"overlay\",\"size\":10,\"solidity\":0.2}},\"type\":\"histogram\"}],\"mesh3d\":[{\"colorbar\":{\"outlinewidth\":0,\"ticks\":\"\"},\"type\":\"mesh3d\"}],\"parcoords\":[{\"line\":{\"colorbar\":{\"outlinewidth\":0,\"ticks\":\"\"}},\"type\":\"parcoords\"}],\"pie\":[{\"automargin\":true,\"type\":\"pie\"}],\"scatter3d\":[{\"line\":{\"colorbar\":{\"outlinewidth\":0,\"ticks\":\"\"}},\"marker\":{\"colorbar\":{\"outlinewidth\":0,\"ticks\":\"\"}},\"type\":\"scatter3d\"}],\"scattercarpet\":[{\"marker\":{\"colorbar\":{\"outlinewidth\":0,\"ticks\":\"\"}},\"type\":\"scattercarpet\"}],\"scattergeo\":[{\"marker\":{\"colorbar\":{\"outlinewidth\":0,\"ticks\":\"\"}},\"type\":\"scattergeo\"}],\"scattergl\":[{\"marker\":{\"colorbar\":{\"outlinewidth\":0,\"ticks\":\"\"}},\"type\":\"scattergl\"}],\"scattermapbox\":[{\"marker\":{\"colorbar\":{\"outlinewidth\":0,\"ticks\":\"\"}},\"type\":\"scattermapbox\"}],\"scatterpolargl\":[{\"marker\":{\"colorbar\":{\"outlinewidth\":0,\"ticks\":\"\"}},\"type\":\"scatterpolargl\"}],\"scatterpolar\":[{\"marker\":{\"colorbar\":{\"outlinewidth\":0,\"ticks\":\"\"}},\"type\":\"scatterpolar\"}],\"scatter\":[{\"fillpattern\":{\"fillmode\":\"overlay\",\"size\":10,\"solidity\":0.2},\"type\":\"scatter\"}],\"scatterternary\":[{\"marker\":{\"colorbar\":{\"outlinewidth\":0,\"ticks\":\"\"}},\"type\":\"scatterternary\"}],\"surface\":[{\"colorbar\":{\"outlinewidth\":0,\"ticks\":\"\"},\"colorscale\":[[0.0,\"#0d0887\"],[0.1111111111111111,\"#46039f\"],[0.2222222222222222,\"#7201a8\"],[0.3333333333333333,\"#9c179e\"],[0.4444444444444444,\"#bd3786\"],[0.5555555555555556,\"#d8576b\"],[0.6666666666666666,\"#ed7953\"],[0.7777777777777778,\"#fb9f3a\"],[0.8888888888888888,\"#fdca26\"],[1.0,\"#f0f921\"]],\"type\":\"surface\"}],\"table\":[{\"cells\":{\"fill\":{\"color\":\"#EBF0F8\"},\"line\":{\"color\":\"white\"}},\"header\":{\"fill\":{\"color\":\"#C8D4E3\"},\"line\":{\"color\":\"white\"}},\"type\":\"table\"}]},\"layout\":{\"annotationdefaults\":{\"arrowcolor\":\"#2a3f5f\",\"arrowhead\":0,\"arrowwidth\":1},\"autotypenumbers\":\"strict\",\"coloraxis\":{\"colorbar\":{\"outlinewidth\":0,\"ticks\":\"\"}},\"colorscale\":{\"diverging\":[[0,\"#8e0152\"],[0.1,\"#c51b7d\"],[0.2,\"#de77ae\"],[0.3,\"#f1b6da\"],[0.4,\"#fde0ef\"],[0.5,\"#f7f7f7\"],[0.6,\"#e6f5d0\"],[0.7,\"#b8e186\"],[0.8,\"#7fbc41\"],[0.9,\"#4d9221\"],[1,\"#276419\"]],\"sequential\":[[0.0,\"#0d0887\"],[0.1111111111111111,\"#46039f\"],[0.2222222222222222,\"#7201a8\"],[0.3333333333333333,\"#9c179e\"],[0.4444444444444444,\"#bd3786\"],[0.5555555555555556,\"#d8576b\"],[0.6666666666666666,\"#ed7953\"],[0.7777777777777778,\"#fb9f3a\"],[0.8888888888888888,\"#fdca26\"],[1.0,\"#f0f921\"]],\"sequentialminus\":[[0.0,\"#0d0887\"],[0.1111111111111111,\"#46039f\"],[0.2222222222222222,\"#7201a8\"],[0.3333333333333333,\"#9c179e\"],[0.4444444444444444,\"#bd3786\"],[0.5555555555555556,\"#d8576b\"],[0.6666666666666666,\"#ed7953\"],[0.7777777777777778,\"#fb9f3a\"],[0.8888888888888888,\"#fdca26\"],[1.0,\"#f0f921\"]]},\"colorway\":[\"#636efa\",\"#EF553B\",\"#00cc96\",\"#ab63fa\",\"#FFA15A\",\"#19d3f3\",\"#FF6692\",\"#B6E880\",\"#FF97FF\",\"#FECB52\"],\"font\":{\"color\":\"#2a3f5f\"},\"geo\":{\"bgcolor\":\"white\",\"lakecolor\":\"white\",\"landcolor\":\"#E5ECF6\",\"showlakes\":true,\"showland\":true,\"subunitcolor\":\"white\"},\"hoverlabel\":{\"align\":\"left\"},\"hovermode\":\"closest\",\"mapbox\":{\"style\":\"light\"},\"paper_bgcolor\":\"white\",\"plot_bgcolor\":\"#E5ECF6\",\"polar\":{\"angularaxis\":{\"gridcolor\":\"white\",\"linecolor\":\"white\",\"ticks\":\"\"},\"bgcolor\":\"#E5ECF6\",\"radialaxis\":{\"gridcolor\":\"white\",\"linecolor\":\"white\",\"ticks\":\"\"}},\"scene\":{\"xaxis\":{\"backgroundcolor\":\"#E5ECF6\",\"gridcolor\":\"white\",\"gridwidth\":2,\"linecolor\":\"white\",\"showbackground\":true,\"ticks\":\"\",\"zerolinecolor\":\"white\"},\"yaxis\":{\"backgroundcolor\":\"#E5ECF6\",\"gridcolor\":\"white\",\"gridwidth\":2,\"linecolor\":\"white\",\"showbackground\":true,\"ticks\":\"\",\"zerolinecolor\":\"white\"},\"zaxis\":{\"backgroundcolor\":\"#E5ECF6\",\"gridcolor\":\"white\",\"gridwidth\":2,\"linecolor\":\"white\",\"showbackground\":true,\"ticks\":\"\",\"zerolinecolor\":\"white\"}},\"shapedefaults\":{\"line\":{\"color\":\"#2a3f5f\"}},\"ternary\":{\"aaxis\":{\"gridcolor\":\"white\",\"linecolor\":\"white\",\"ticks\":\"\"},\"baxis\":{\"gridcolor\":\"white\",\"linecolor\":\"white\",\"ticks\":\"\"},\"bgcolor\":\"#E5ECF6\",\"caxis\":{\"gridcolor\":\"white\",\"linecolor\":\"white\",\"ticks\":\"\"}},\"title\":{\"x\":0.05},\"xaxis\":{\"automargin\":true,\"gridcolor\":\"white\",\"linecolor\":\"white\",\"ticks\":\"\",\"title\":{\"standoff\":15},\"zerolinecolor\":\"white\",\"zerolinewidth\":2},\"yaxis\":{\"automargin\":true,\"gridcolor\":\"white\",\"linecolor\":\"white\",\"ticks\":\"\",\"title\":{\"standoff\":15},\"zerolinecolor\":\"white\",\"zerolinewidth\":2}}},\"title\":{\"font\":{\"color\":\"#4D5663\"}},\"xaxis\":{\"gridcolor\":\"#E1E5ED\",\"rangeslider\":{\"visible\":false},\"showgrid\":true,\"tickfont\":{\"color\":\"#4D5663\"},\"title\":{\"font\":{\"color\":\"#4D5663\"},\"text\":\"\"},\"zerolinecolor\":\"#E1E5ED\"},\"yaxis\":{\"gridcolor\":\"#E1E5ED\",\"showgrid\":true,\"showticklabels\":false,\"tickfont\":{\"color\":\"#4D5663\"},\"title\":{\"font\":{\"color\":\"#4D5663\"},\"text\":\"\"},\"zerolinecolor\":\"#E1E5ED\"},\"yaxis2\":{\"gridcolor\":\"#E1E5ED\",\"showgrid\":true,\"tickfont\":{\"color\":\"#4D5663\"},\"title\":{\"font\":{\"color\":\"#4D5663\"},\"text\":\"\"},\"zerolinecolor\":\"#E1E5ED\"}},                        {\"showLink\": true, \"linkText\": \"Export to plot.ly\", \"plotlyServerURL\": \"https://plot.ly\", \"responsive\": true}                    ).then(function(){\n",
       "                            \n",
       "var gd = document.getElementById('3da4d53d-0a0c-48f1-b242-be9f0acb9347');\n",
       "var x = new MutationObserver(function (mutations, observer) {{\n",
       "        var display = window.getComputedStyle(gd).display;\n",
       "        if (!display || display === 'none') {{\n",
       "            console.log([gd, 'removed!']);\n",
       "            Plotly.purge(gd);\n",
       "            observer.disconnect();\n",
       "        }}\n",
       "}});\n",
       "\n",
       "// Listen for the removal of the full notebook cells\n",
       "var notebookContainer = gd.closest('#notebook-container');\n",
       "if (notebookContainer) {{\n",
       "    x.observe(notebookContainer, {childList: true});\n",
       "}}\n",
       "\n",
       "// Listen for the clearing of the current output cell\n",
       "var outputEl = gd.closest('.output');\n",
       "if (outputEl) {{\n",
       "    x.observe(outputEl, {childList: true});\n",
       "}}\n",
       "\n",
       "                        })                };                });            </script>        </div>"
      ]
     },
     "metadata": {},
     "output_type": "display_data"
    }
   ],
   "source": [
    "BAC[['Open', 'High', 'Low', 'Close']]['2021-01-01':'2022-01-01'].iplot(kind='candle')"
   ]
  },
  {
   "cell_type": "code",
   "execution_count": 31,
   "id": "d99369d2",
   "metadata": {},
   "outputs": [
    {
     "data": {
      "application/vnd.plotly.v1+json": {
       "config": {
        "linkText": "Export to plot.ly",
        "plotlyServerURL": "https://plot.ly",
        "showLink": true
       },
       "data": [
        {
         "close": [
          60.13999938964844,
          61.70000076293945,
          65.25,
          66.0199966430664,
          65.37000274658203,
          66.44000244140625,
          66.66999816894531,
          66.86000061035156,
          69.01000213623047,
          64.2300033569336,
          63.689998626708984,
          63.25,
          61.869998931884766,
          61.33000183105469,
          60.560001373291016,
          60.90999984741211,
          59.400001525878906,
          60.34000015258789,
          57.9900016784668,
          58.43000030517578,
          59.58000183105469,
          61.099998474121094,
          62.40999984741211,
          62.58000183105469,
          63.650001525878906,
          63.119998931884766,
          63.619998931884766,
          63.20000076293945,
          63.630001068115234,
          64.12000274658203,
          64.76000213623047,
          63.47999954223633,
          65.77999877929688,
          65.5199966430664,
          66.73999786376953,
          68.5999984741211,
          67.41000366210938,
          65.87999725341797,
          69.54000091552734,
          68.91000366210938,
          70.37999725341797,
          69.80999755859375,
          70.2300033569336,
          72.22000122070312,
          70.98999786376953,
          73.75,
          73.30999755859375,
          75.18000030517578,
          74.22000122070312,
          73.33000183105469,
          73.5999984741211,
          73.83999633789062,
          73.01000213623047,
          71.95999908447266,
          70.91000366210938,
          70.08000183105469,
          71.72000122070312,
          73.0199966430664,
          71.58000183105469,
          72.95999908447266,
          72.75,
          73.13999938964844,
          72.75,
          72.5999984741211,
          72.69000244140625,
          72.33000183105469,
          72.41999816894531,
          72.69000244140625,
          72.05999755859375,
          72.91000366210938,
          72.54000091552734,
          72.44999694824219,
          72.12999725341797,
          69.79000091552734,
          70.6500015258789,
          69.80999755859375,
          71.37999725341797,
          72.19999694824219,
          72.98999786376953,
          72.91000366210938,
          73.83999633789062,
          71.23999786376953,
          71.70999908447266,
          72.33000183105469,
          73.70999908447266,
          74.77999877929688,
          75.08000183105469,
          75.12999725341797,
          74.87000274658203,
          74.2300033569336,
          75.29000091552734,
          76.55999755859375,
          77.41999816894531,
          76.62000274658203,
          76.45999908447266,
          76.19999694824219,
          77.6500015258789,
          78.02999877929688,
          77.27999877929688,
          77.5199966430664,
          78.76000213623047,
          78.70999908447266,
          79.76000213623047,
          79.86000061035156,
          79.62999725341797,
          79.48999786376953,
          79.30999755859375,
          79.08000183105469,
          78.13999938964844,
          76.88999938964844,
          76.4800033569336,
          75.16000366210938,
          73.81999969482422,
          71.45999908447266,
          68.86000061035156,
          67.61000061035156,
          68.44999694824219,
          68.95999908447266,
          69.6500015258789,
          71.31999969482422,
          71.55000305175781,
          71.51000213623047,
          69.68000030517578,
          70.75,
          71.01000213623047,
          70.41000366210938,
          68.20999908447266,
          67.93000030517578,
          66.7300033569336,
          68.44999694824219,
          69.44000244140625,
          68.37000274658203,
          68.16999816894531,
          68.44999694824219,
          66.9000015258789,
          65.08000183105469,
          66.29000091552734,
          67.88999938964844,
          66.93000030517578,
          66.70999908447266,
          67.7699966430664,
          67.9800033569336,
          68.0999984741211,
          68.80999755859375,
          67.62000274658203,
          67.7300033569336,
          68.87999725341797,
          68.5199966430664,
          69.69000244140625,
          71.06999969482422,
          71.5199966430664,
          72.9800033569336,
          74.30000305175781,
          74.12999725341797,
          73.11000061035156,
          72.0999984741211,
          71.62000274658203,
          71.12000274658203,
          69.83999633789062,
          70.25,
          70.88999938964844,
          72.04000091552734,
          73.18000030517578,
          72.44000244140625,
          72.98999786376953,
          71.66999816894531,
          71.91000366210938,
          71.30999755859375,
          71.5,
          71.16999816894531,
          70.81999969482422,
          70.04000091552734,
          70.45999908447266,
          69.56999969482422,
          70.5199966430664,
          68.77999877929688,
          70.44999694824219,
          70,
          69.95999908447266,
          67.30000305175781,
          66.94000244140625,
          68.23999786376953,
          70.87999725341797,
          71.18000030517578,
          72.26000213623047,
          71.37000274658203,
          71.52999877929688,
          70.18000030517578,
          71.18000030517578,
          71.29000091552734,
          72.52999877929688,
          72.41999816894531,
          72.19000244140625,
          72.3499984741211,
          71.68000030517578,
          70.63999938964844,
          70.26000213623047,
          70.80000305175781,
          72.29000091552734,
          71.61000061035156,
          71.76000213623047,
          71.81999969482422,
          70.51000213623047,
          71.37000274658203,
          70.83000183105469,
          70.6500015258789,
          70.30999755859375,
          70.87999725341797,
          69.16000366210938,
          69.61000061035156,
          68.5999984741211,
          69,
          67,
          66.98999786376953,
          68.44999694824219,
          67.98999786376953,
          68.20999908447266,
          68.87000274658203,
          69.16000366210938,
          68.73999786376953,
          67.73999786376953,
          66.8499984741211,
          67.11000061035156,
          66.33999633789062,
          67.04000091552734,
          68.06999969482422,
          67.27999877929688,
          65.5,
          65.04000091552734,
          63.70000076293945,
          62.52000045776367,
          63.810001373291016,
          62.7599983215332,
          62.52000045776367,
          62.900001525878906,
          62.459999084472656,
          62.13999938964844,
          60.709999084472656,
          60.18000030517578,
          60.63999938964844,
          60.2400016784668,
          61.06999969482422,
          59.540000915527344,
          58.279998779296875,
          59.380001068115234,
          59.599998474121094,
          60.209999084472656,
          60.650001525878906,
          60.619998931884766,
          60.540000915527344,
          60.43000030517578,
          60.38999938964844
         ],
         "high": [
          61.709999084472656,
          62,
          66.5999984741211,
          68.0999984741211,
          66.20999908447266,
          66.62000274658203,
          67.73999786376953,
          67.22000122070312,
          69.43000030517578,
          67.6500015258789,
          65.25,
          63.81999969482422,
          63.34000015258789,
          61.83000183105469,
          60.77000045776367,
          61.2400016784668,
          60,
          61.060001373291016,
          60.20000076293945,
          58.66999816894531,
          60.25,
          61.150001525878906,
          62.630001068115234,
          63.08000183105469,
          63.709999084472656,
          63.869998931884766,
          63.9900016784668,
          63.869998931884766,
          64.0199966430664,
          65.06999969482422,
          64.91000366210938,
          64.55000305175781,
          65.98999786376953,
          66.9000015258789,
          66.91999816894531,
          68.68000030517578,
          69.37999725341797,
          67.5999984741211,
          69.98999786376953,
          69.98999786376953,
          71.48999786376953,
          71.77999877929688,
          71.2699966430664,
          72.83999633789062,
          72.48999786376953,
          73.87999725341797,
          74.27999877929688,
          75.25,
          75.58999633789062,
          73.62999725341797,
          74.33999633789062,
          76.12999725341797,
          73.58000183105469,
          72.5999984741211,
          72.63999938964844,
          72.4800033569336,
          71.91999816894531,
          73.23999786376953,
          72.1500015258789,
          73.22000122070312,
          73.83000183105469,
          73.29000091552734,
          74.33999633789062,
          73.06999969482422,
          73.12000274658203,
          72.52999877929688,
          73.01000213623047,
          72.80000305175781,
          72.41999816894531,
          73.29000091552734,
          74.7300033569336,
          73.56999969482422,
          72.83000183105469,
          71.55000305175781,
          70.70999908447266,
          70.75,
          71.54000091552734,
          72.80999755859375,
          73.0999984741211,
          73.63999938964844,
          74.0199966430664,
          72.73999786376953,
          72.44000244140625,
          72.4000015258789,
          73.80999755859375,
          74.94000244140625,
          75.11000061035156,
          76.83999633789062,
          75.56999969482422,
          76.4000015258789,
          75.87999725341797,
          76.7699966430664,
          77.47000122070312,
          77.69000244140625,
          76.6500015258789,
          76.63999938964844,
          77.80999755859375,
          78.36000061035156,
          79.27999877929688,
          77.9000015258789,
          79.11000061035156,
          78.97000122070312,
          80.08999633789062,
          80.29000091552734,
          80.29000091552734,
          79.87000274658203,
          79.6500015258789,
          79.41999816894531,
          78.77999877929688,
          79.29000091552734,
          77.19000244140625,
          76.7699966430664,
          75.33999633789062,
          73,
          72.61000061035156,
          68.75,
          69.08999633789062,
          69.41000366210938,
          70.05000305175781,
          71.66999816894531,
          71.8499984741211,
          71.66999816894531,
          71.5999984741211,
          70.80999755859375,
          71.20999908447266,
          71.12000274658203,
          70.19000244140625,
          68.37000274658203,
          67.13999938964844,
          68.5199966430664,
          69.58999633789062,
          69.4800033569336,
          70.77999877929688,
          69.04000091552734,
          68.76000213623047,
          66.06999969482422,
          66.77999877929688,
          68.25,
          67.79000091552734,
          67.76000213623047,
          67.83999633789062,
          68.4000015258789,
          68.61000061035156,
          69.58000183105469,
          68.5199966430664,
          69.12000274658203,
          69.08999633789062,
          69.25,
          69.7699966430664,
          71.5,
          72,
          73.33999633789062,
          74.33999633789062,
          74.63999938964844,
          74.62000274658203,
          72.48999786376953,
          72.36000061035156,
          72.26000213623047,
          70.73999786376953,
          70.30000305175781,
          71.26000213623047,
          72.19000244140625,
          73.9000015258789,
          73.9000015258789,
          73.37000274658203,
          73.01000213623047,
          72.5,
          72.36000061035156,
          71.97000122070312,
          71.7300033569336,
          72.27999877929688,
          71.22000122070312,
          71.0999984741211,
          70.98999786376953,
          70.66000366210938,
          71.37999725341797,
          70.87000274658203,
          71.18000030517578,
          70.58000183105469,
          68.16999816894531,
          67.73999786376953,
          69.16999816894531,
          71.38999938964844,
          71.58000183105469,
          72.61000061035156,
          73.27999877929688,
          71.81999969482422,
          71.69999694824219,
          71.68000030517578,
          72.9800033569336,
          72.93000030517578,
          72.61000061035156,
          73.3499984741211,
          72.80999755859375,
          73.72000122070312,
          71.94000244140625,
          70.58000183105469,
          71.2699966430664,
          73.22000122070312,
          72.55000305175781,
          72.5,
          72.27999877929688,
          71.83000183105469,
          71.88999938964844,
          71.8499984741211,
          71.61000061035156,
          70.70999908447266,
          71.31999969482422,
          70.61000061035156,
          69.93000030517578,
          69.62999725341797,
          69.58000183105469,
          68.7699966430664,
          67.98999786376953,
          69.0199966430664,
          68.25,
          68.44000244140625,
          69.18000030517578,
          69.16999816894531,
          69.66999816894531,
          68.77999877929688,
          67.69000244140625,
          67.1500015258789,
          66.41999816894531,
          68.11000061035156,
          68.37000274658203,
          68.05999755859375,
          65.73999786376953,
          66.29000091552734,
          64.80999755859375,
          65.08999633789062,
          64.2699966430664,
          64.12000274658203,
          63.56999969482422,
          63.349998474121094,
          63.15999984741211,
          62.5,
          62.2599983215332,
          60.869998931884766,
          61.31999969482422,
          61.0099983215332,
          61.90999984741211,
          60.5,
          58.72999954223633,
          59.86000061035156,
          59.939998626708984,
          60.779998779296875,
          60.939998626708984,
          61.33000183105469,
          60.97999954223633,
          61.06999969482422,
          60.7599983215332
         ],
         "low": [
          59.72999954223633,
          60.02000045776367,
          63.95000076293945,
          66.01000213623047,
          64.33999633789062,
          64.33000183105469,
          66.23999786376953,
          65.98999786376953,
          67.16999816894531,
          64.08999633789062,
          62.90999984741211,
          62.84000015258789,
          61.7400016784668,
          60.189998626708984,
          59.16999816894531,
          60.09000015258789,
          58.529998779296875,
          59.630001068115234,
          57.689998626708984,
          57.400001525878906,
          59.29999923706055,
          59.31999969482422,
          61.41999816894531,
          62.06999969482422,
          62.849998474121094,
          62.52000045776367,
          62.97999954223633,
          61.93000030517578,
          62.88999938964844,
          63.84000015258789,
          63.45000076293945,
          63.09000015258789,
          64.05000305175781,
          65.29000091552734,
          64.86000061035156,
          67,
          66.88999938964844,
          65.54000091552734,
          67.9800033569336,
          68.8499984741211,
          69.30000305175781,
          67.88999938964844,
          68.44000244140625,
          70.86000061035156,
          70.04000091552734,
          71.19999694824219,
          72.55000305175781,
          74.0999984741211,
          73.27999877929688,
          72.31999969482422,
          72.73999786376953,
          73.44999694824219,
          71.5199966430664,
          71.63999938964844,
          70.51000213623047,
          70.05999755859375,
          69.1500015258789,
          72,
          70.37000274658203,
          72,
          72.45999908447266,
          72.22000122070312,
          72.44000244140625,
          72.05000305175781,
          71.94999694824219,
          71.08000183105469,
          72.01000213623047,
          72.13999938964844,
          71.06999969482422,
          71.37999725341797,
          71.76000213623047,
          71.69000244140625,
          71.94999694824219,
          69.2699966430664,
          68.41000366210938,
          69.66999816894531,
          69.51000213623047,
          71.61000061035156,
          72.36000061035156,
          72.7300033569336,
          72.87999725341797,
          71.08999633789062,
          71.38999938964844,
          70.62999725341797,
          71.77999877929688,
          73.41999816894531,
          73.22000122070312,
          75.11000061035156,
          73.91000366210938,
          73.9000015258789,
          73.80000305175781,
          75.66000366210938,
          76.0999984741211,
          76.56999969482422,
          74.72000122070312,
          75.36000061035156,
          76.41000366210938,
          77.47000122070312,
          77.19000244140625,
          76.68000030517578,
          77.94999694824219,
          77.91000366210938,
          79.33999633789062,
          79.37999725341797,
          79.41999816894531,
          78.80999755859375,
          79.0199966430664,
          77.70999908447266,
          77.76000213623047,
          76.83000183105469,
          76.0999984741211,
          74.66999816894531,
          73.25,
          70.1500015258789,
          68.16000366210938,
          67.12999725341797,
          67.87999725341797,
          67.7699966430664,
          69.08000183105469,
          69.94999694824219,
          69.86000061035156,
          70.45999908447266,
          69.58000183105469,
          69.41999816894531,
          70.44999694824219,
          70.11000061035156,
          67.86000061035156,
          67.26000213623047,
          65.75,
          67.63999938964844,
          67.30000305175781,
          68.0199966430664,
          67.44999694824219,
          67.44000244140625,
          66.41999816894531,
          64.36000061035156,
          64.77999877929688,
          66.93000030517578,
          66.41000366210938,
          66.5199966430664,
          66.45999908447266,
          66.77999877929688,
          67.48999786376953,
          68.41000366210938,
          67.23999786376953,
          67.63999938964844,
          66.88999938964844,
          67.93000030517578,
          68.7699966430664,
          70.58000183105469,
          70.45999908447266,
          71.37999725341797,
          72.93000030517578,
          73.62999725341797,
          72.91999816894531,
          70.98999786376953,
          70.68000030517578,
          70.87999725341797,
          69.43000030517578,
          69.20999908447266,
          70.55999755859375,
          71.02999877929688,
          72.04000091552734,
          72.27999877929688,
          72.30000305175781,
          71.22000122070312,
          71.33000183105469,
          71.20999908447266,
          70.91999816894531,
          70.6500015258789,
          70.70999908447266,
          69.87999725341797,
          69.91000366210938,
          69.5199966430664,
          69.76000213623047,
          68.5199966430664,
          68.62000274658203,
          69.98999786376953,
          69.66000366210938,
          65.97000122070312,
          66.5199966430664,
          67.79000091552734,
          69,
          70.70999908447266,
          71.75,
          71.23999786376953,
          70.9800033569336,
          69.94999694824219,
          70.08999633789062,
          70.8499984741211,
          71.33000183105469,
          71.0199966430664,
          72.05000305175781,
          71.51000213623047,
          71.61000061035156,
          70.44000244140625,
          68.73999786376953,
          69.72000122070312,
          71.51000213623047,
          71.4000015258789,
          71.26000213623047,
          70.80999755859375,
          70.01000213623047,
          70.68000030517578,
          70.70999908447266,
          70.61000061035156,
          69.30999755859375,
          70.27999877929688,
          68.97000122070312,
          69.02999877929688,
          68.54000091552734,
          68.08999633789062,
          66.5199966430664,
          66.94999694824219,
          67.37000274658203,
          67.44000244140625,
          67.70999908447266,
          68.16999816894531,
          68.30000305175781,
          68.54000091552734,
          67.30000305175781,
          66.7699966430664,
          66.19999694824219,
          65.2300033569336,
          66.80000305175781,
          67.11000061035156,
          67.2300033569336,
          63.810001373291016,
          64.45999908447266,
          63.36000061035156,
          62.5,
          62.7599983215332,
          62.43000030517578,
          62.13999938964844,
          62.31999969482422,
          62.349998474121094,
          60.849998474121094,
          60.20000076293945,
          59.779998779296875,
          60.380001068115234,
          59.540000915527344,
          60.81999969482422,
          58.959999084472656,
          57.59000015258789,
          58.650001525878906,
          59.099998474121094,
          59.95000076293945,
          60,
          60.310001373291016,
          60.27000045776367,
          60.38999938964844,
          60.119998931884766
         ],
         "open": [
          61.59000015258789,
          60.349998474121094,
          64.48999786376953,
          67.06999969482422,
          66.20999908447266,
          64.58000183105469,
          67.48999786376953,
          67,
          67.5199966430664,
          67.37000274658203,
          65.19999694824219,
          63.75,
          63.209999084472656,
          60.939998626708984,
          60.66999816894531,
          61.20000076293945,
          59.900001525878906,
          60.150001525878906,
          59.959999084472656,
          58.65999984741211,
          59.599998474121094,
          59.40999984741211,
          61.56999969482422,
          62.9900016784668,
          63.09000015258789,
          63.70000076293945,
          63.47999954223633,
          63.599998474121094,
          62.91999816894531,
          64.91999816894531,
          63.79999923706055,
          64.30000305175781,
          64.16000366210938,
          65.4000015258789,
          65.58999633789062,
          67.16999816894531,
          69.04000091552734,
          66.77999877929688,
          68.48999786376953,
          69.19000244140625,
          69.48999786376953,
          70.18000030517578,
          70.83999633789062,
          71.06999969482422,
          70.91000366210938,
          71.29000091552734,
          73.4800033569336,
          74.41999816894531,
          75.51000213623047,
          73.5199966430664,
          73.93000030517578,
          74.43000030517578,
          73.19999694824219,
          72.29000091552734,
          71.30000305175781,
          71.69000244140625,
          69.83000183105469,
          72.56999969482422,
          71.55000305175781,
          72,
          72.70999908447266,
          72.22000122070312,
          74.06999969482422,
          72.36000061035156,
          72.91999816894531,
          72.1500015258789,
          72.80999755859375,
          72.62000274658203,
          72.30000305175781,
          71.73999786376953,
          74.44999694824219,
          73.31999969482422,
          72.70999908447266,
          71.55000305175781,
          69.12999725341797,
          70.43000030517578,
          69.83999633789062,
          71.7300033569336,
          72.5,
          73.37000274658203,
          73.76000213623047,
          72.69000244140625,
          72.0199966430664,
          71.23999786376953,
          72.61000061035156,
          73.63999938964844,
          73.43000030517578,
          75.36000061035156,
          74.5,
          75.94000244140625,
          73.87999725341797,
          75.68000030517578,
          76.33000183105469,
          77.37999725341797,
          75.62000274658203,
          76.16999816894531,
          76.5,
          77.83000183105469,
          78.19999694824219,
          77.20999908447266,
          78.5199966430664,
          78.66000366210938,
          79.48999786376953,
          80.0999984741211,
          79.70999908447266,
          79.69000244140625,
          79.62000274658203,
          78.30000305175781,
          78.66999816894531,
          79.04000091552734,
          77,
          76.61000061035156,
          75.05000305175781,
          72.75,
          72.58000183105469,
          68.4800033569336,
          68.44000244140625,
          68.9000015258789,
          69.36000061035156,
          70.33000183105469,
          71.44999694824219,
          71.31999969482422,
          70.13999938964844,
          69.68000030517578,
          71.08000183105469,
          71.01000213623047,
          70.11000061035156,
          67.70999908447266,
          66.4000015258789,
          68.11000061035156,
          67.66999816894531,
          69.08000183105469,
          69.98999786376953,
          67.54000091552734,
          68.70999908447266,
          65.45999908447266,
          65.18000030517578,
          67.01000213623047,
          67.75,
          67.5,
          66.45999908447266,
          67.08000183105469,
          68.31999969482422,
          68.70999908447266,
          67.91999816894531,
          67.94999694824219,
          68.25,
          68.12000274658203,
          68.83000183105469,
          70.77999877929688,
          70.94000244140625,
          71.62000274658203,
          73.30000305175781,
          74.33000183105469,
          74.19999694824219,
          72.41000366210938,
          71.33999633789062,
          71.19999694824219,
          70.54000091552734,
          69.70999908447266,
          70.76000213623047,
          71.13999938964844,
          72.80000305175781,
          73.47000122070312,
          72.58000183105469,
          73,
          71.75,
          72.36000061035156,
          71.36000061035156,
          71.62000274658203,
          71.36000061035156,
          70.87000274658203,
          69.97000122070312,
          70.93000030517578,
          70.12000274658203,
          70.83999633789062,
          68.81999969482422,
          71.02999877929688,
          69.7699966430664,
          68.05000305175781,
          67.6500015258789,
          67.88999938964844,
          69.20999908447266,
          70.70999908447266,
          71.8499984741211,
          72.47000122070312,
          71.69000244140625,
          71.62999725341797,
          70.44000244140625,
          71.08000183105469,
          71.76000213623047,
          71.91999816894531,
          73.01000213623047,
          71.8499984741211,
          72.69999694824219,
          71.54000091552734,
          70.55000305175781,
          71.06999969482422,
          71.81999969482422,
          72.06999969482422,
          72.25,
          71.55999755859375,
          71.26000213623047,
          70.7699966430664,
          71.58000183105469,
          71,
          70.51000213623047,
          70.77999877929688,
          70.4800033569336,
          69.93000030517578,
          69.52999877929688,
          68.30000305175781,
          68.75,
          67.81999969482422,
          67.88999938964844,
          67.77999877929688,
          68.12000274658203,
          68.26000213623047,
          69,
          69.43000030517578,
          68.77999877929688,
          67.66000366210938,
          66.70999908447266,
          66.12000274658203,
          67.95999908447266,
          67.56999969482422,
          68,
          65.01000213623047,
          65.98999786376953,
          64.31999969482422,
          64.66000366210938,
          63.34000015258789,
          63.7400016784668,
          62.939998626708984,
          62.95000076293945,
          63.02000045776367,
          61.869998931884766,
          61.68000030517578,
          60.4900016784668,
          60.45000076293945,
          60.939998626708984,
          61.099998474121094,
          60.27000045776367,
          58.599998474121094,
          58.7400016784668,
          59.310001373291016,
          59.9900016784668,
          60.400001525878906,
          60.439998626708984,
          60.810001373291016,
          60.619998931884766,
          60.43000030517578
         ],
         "showlegend": false,
         "type": "candlestick",
         "x": [
          "2021-01-04",
          "2021-01-05",
          "2021-01-06",
          "2021-01-07",
          "2021-01-08",
          "2021-01-11",
          "2021-01-12",
          "2021-01-13",
          "2021-01-14",
          "2021-01-15",
          "2021-01-19",
          "2021-01-20",
          "2021-01-21",
          "2021-01-22",
          "2021-01-25",
          "2021-01-26",
          "2021-01-27",
          "2021-01-28",
          "2021-01-29",
          "2021-02-01",
          "2021-02-02",
          "2021-02-03",
          "2021-02-04",
          "2021-02-05",
          "2021-02-08",
          "2021-02-09",
          "2021-02-10",
          "2021-02-11",
          "2021-02-12",
          "2021-02-16",
          "2021-02-17",
          "2021-02-18",
          "2021-02-19",
          "2021-02-22",
          "2021-02-23",
          "2021-02-24",
          "2021-02-25",
          "2021-02-26",
          "2021-03-01",
          "2021-03-02",
          "2021-03-03",
          "2021-03-04",
          "2021-03-05",
          "2021-03-08",
          "2021-03-09",
          "2021-03-10",
          "2021-03-11",
          "2021-03-12",
          "2021-03-15",
          "2021-03-16",
          "2021-03-17",
          "2021-03-18",
          "2021-03-19",
          "2021-03-22",
          "2021-03-23",
          "2021-03-24",
          "2021-03-25",
          "2021-03-26",
          "2021-03-29",
          "2021-03-30",
          "2021-03-31",
          "2021-04-01",
          "2021-04-05",
          "2021-04-06",
          "2021-04-07",
          "2021-04-08",
          "2021-04-09",
          "2021-04-12",
          "2021-04-13",
          "2021-04-14",
          "2021-04-15",
          "2021-04-16",
          "2021-04-19",
          "2021-04-20",
          "2021-04-21",
          "2021-04-22",
          "2021-04-23",
          "2021-04-26",
          "2021-04-27",
          "2021-04-28",
          "2021-04-29",
          "2021-04-30",
          "2021-05-03",
          "2021-05-04",
          "2021-05-05",
          "2021-05-06",
          "2021-05-07",
          "2021-05-10",
          "2021-05-11",
          "2021-05-12",
          "2021-05-13",
          "2021-05-14",
          "2021-05-17",
          "2021-05-18",
          "2021-05-19",
          "2021-05-20",
          "2021-05-21",
          "2021-05-24",
          "2021-05-25",
          "2021-05-26",
          "2021-05-27",
          "2021-05-28",
          "2021-06-01",
          "2021-06-02",
          "2021-06-03",
          "2021-06-04",
          "2021-06-07",
          "2021-06-08",
          "2021-06-09",
          "2021-06-10",
          "2021-06-11",
          "2021-06-14",
          "2021-06-15",
          "2021-06-16",
          "2021-06-17",
          "2021-06-18",
          "2021-06-21",
          "2021-06-22",
          "2021-06-23",
          "2021-06-24",
          "2021-06-25",
          "2021-06-28",
          "2021-06-29",
          "2021-06-30",
          "2021-07-01",
          "2021-07-02",
          "2021-07-06",
          "2021-07-07",
          "2021-07-08",
          "2021-07-09",
          "2021-07-12",
          "2021-07-13",
          "2021-07-14",
          "2021-07-15",
          "2021-07-16",
          "2021-07-19",
          "2021-07-20",
          "2021-07-21",
          "2021-07-22",
          "2021-07-23",
          "2021-07-26",
          "2021-07-27",
          "2021-07-28",
          "2021-07-29",
          "2021-07-30",
          "2021-08-02",
          "2021-08-03",
          "2021-08-04",
          "2021-08-05",
          "2021-08-06",
          "2021-08-09",
          "2021-08-10",
          "2021-08-11",
          "2021-08-12",
          "2021-08-13",
          "2021-08-16",
          "2021-08-17",
          "2021-08-18",
          "2021-08-19",
          "2021-08-20",
          "2021-08-23",
          "2021-08-24",
          "2021-08-25",
          "2021-08-26",
          "2021-08-27",
          "2021-08-30",
          "2021-08-31",
          "2021-09-01",
          "2021-09-02",
          "2021-09-03",
          "2021-09-07",
          "2021-09-08",
          "2021-09-09",
          "2021-09-10",
          "2021-09-13",
          "2021-09-14",
          "2021-09-15",
          "2021-09-16",
          "2021-09-17",
          "2021-09-20",
          "2021-09-21",
          "2021-09-22",
          "2021-09-23",
          "2021-09-24",
          "2021-09-27",
          "2021-09-28",
          "2021-09-29",
          "2021-09-30",
          "2021-10-01",
          "2021-10-04",
          "2021-10-05",
          "2021-10-06",
          "2021-10-07",
          "2021-10-08",
          "2021-10-11",
          "2021-10-12",
          "2021-10-13",
          "2021-10-14",
          "2021-10-15",
          "2021-10-18",
          "2021-10-19",
          "2021-10-20",
          "2021-10-21",
          "2021-10-22",
          "2021-10-25",
          "2021-10-26",
          "2021-10-27",
          "2021-10-28",
          "2021-10-29",
          "2021-11-01",
          "2021-11-02",
          "2021-11-03",
          "2021-11-04",
          "2021-11-05",
          "2021-11-08",
          "2021-11-09",
          "2021-11-10",
          "2021-11-11",
          "2021-11-12",
          "2021-11-15",
          "2021-11-16",
          "2021-11-17",
          "2021-11-18",
          "2021-11-19",
          "2021-11-22",
          "2021-11-23",
          "2021-11-24",
          "2021-11-26",
          "2021-11-29",
          "2021-11-30",
          "2021-12-01",
          "2021-12-02",
          "2021-12-03",
          "2021-12-06",
          "2021-12-07",
          "2021-12-08",
          "2021-12-09",
          "2021-12-10",
          "2021-12-13",
          "2021-12-14",
          "2021-12-15",
          "2021-12-16",
          "2021-12-17",
          "2021-12-20",
          "2021-12-21",
          "2021-12-22",
          "2021-12-23",
          "2021-12-27",
          "2021-12-28",
          "2021-12-29",
          "2021-12-30",
          "2021-12-31"
         ],
         "yaxis": "y2"
        }
       ],
       "layout": {
        "legend": {
         "bgcolor": "#F5F6F9",
         "font": {
          "color": "#4D5663"
         }
        },
        "paper_bgcolor": "#F5F6F9",
        "plot_bgcolor": "#F5F6F9",
        "template": {
         "data": {
          "bar": [
           {
            "error_x": {
             "color": "#2a3f5f"
            },
            "error_y": {
             "color": "#2a3f5f"
            },
            "marker": {
             "line": {
              "color": "#E5ECF6",
              "width": 0.5
             },
             "pattern": {
              "fillmode": "overlay",
              "size": 10,
              "solidity": 0.2
             }
            },
            "type": "bar"
           }
          ],
          "barpolar": [
           {
            "marker": {
             "line": {
              "color": "#E5ECF6",
              "width": 0.5
             },
             "pattern": {
              "fillmode": "overlay",
              "size": 10,
              "solidity": 0.2
             }
            },
            "type": "barpolar"
           }
          ],
          "carpet": [
           {
            "aaxis": {
             "endlinecolor": "#2a3f5f",
             "gridcolor": "white",
             "linecolor": "white",
             "minorgridcolor": "white",
             "startlinecolor": "#2a3f5f"
            },
            "baxis": {
             "endlinecolor": "#2a3f5f",
             "gridcolor": "white",
             "linecolor": "white",
             "minorgridcolor": "white",
             "startlinecolor": "#2a3f5f"
            },
            "type": "carpet"
           }
          ],
          "choropleth": [
           {
            "colorbar": {
             "outlinewidth": 0,
             "ticks": ""
            },
            "type": "choropleth"
           }
          ],
          "contour": [
           {
            "colorbar": {
             "outlinewidth": 0,
             "ticks": ""
            },
            "colorscale": [
             [
              0,
              "#0d0887"
             ],
             [
              0.1111111111111111,
              "#46039f"
             ],
             [
              0.2222222222222222,
              "#7201a8"
             ],
             [
              0.3333333333333333,
              "#9c179e"
             ],
             [
              0.4444444444444444,
              "#bd3786"
             ],
             [
              0.5555555555555556,
              "#d8576b"
             ],
             [
              0.6666666666666666,
              "#ed7953"
             ],
             [
              0.7777777777777778,
              "#fb9f3a"
             ],
             [
              0.8888888888888888,
              "#fdca26"
             ],
             [
              1,
              "#f0f921"
             ]
            ],
            "type": "contour"
           }
          ],
          "contourcarpet": [
           {
            "colorbar": {
             "outlinewidth": 0,
             "ticks": ""
            },
            "type": "contourcarpet"
           }
          ],
          "heatmap": [
           {
            "colorbar": {
             "outlinewidth": 0,
             "ticks": ""
            },
            "colorscale": [
             [
              0,
              "#0d0887"
             ],
             [
              0.1111111111111111,
              "#46039f"
             ],
             [
              0.2222222222222222,
              "#7201a8"
             ],
             [
              0.3333333333333333,
              "#9c179e"
             ],
             [
              0.4444444444444444,
              "#bd3786"
             ],
             [
              0.5555555555555556,
              "#d8576b"
             ],
             [
              0.6666666666666666,
              "#ed7953"
             ],
             [
              0.7777777777777778,
              "#fb9f3a"
             ],
             [
              0.8888888888888888,
              "#fdca26"
             ],
             [
              1,
              "#f0f921"
             ]
            ],
            "type": "heatmap"
           }
          ],
          "heatmapgl": [
           {
            "colorbar": {
             "outlinewidth": 0,
             "ticks": ""
            },
            "colorscale": [
             [
              0,
              "#0d0887"
             ],
             [
              0.1111111111111111,
              "#46039f"
             ],
             [
              0.2222222222222222,
              "#7201a8"
             ],
             [
              0.3333333333333333,
              "#9c179e"
             ],
             [
              0.4444444444444444,
              "#bd3786"
             ],
             [
              0.5555555555555556,
              "#d8576b"
             ],
             [
              0.6666666666666666,
              "#ed7953"
             ],
             [
              0.7777777777777778,
              "#fb9f3a"
             ],
             [
              0.8888888888888888,
              "#fdca26"
             ],
             [
              1,
              "#f0f921"
             ]
            ],
            "type": "heatmapgl"
           }
          ],
          "histogram": [
           {
            "marker": {
             "pattern": {
              "fillmode": "overlay",
              "size": 10,
              "solidity": 0.2
             }
            },
            "type": "histogram"
           }
          ],
          "histogram2d": [
           {
            "colorbar": {
             "outlinewidth": 0,
             "ticks": ""
            },
            "colorscale": [
             [
              0,
              "#0d0887"
             ],
             [
              0.1111111111111111,
              "#46039f"
             ],
             [
              0.2222222222222222,
              "#7201a8"
             ],
             [
              0.3333333333333333,
              "#9c179e"
             ],
             [
              0.4444444444444444,
              "#bd3786"
             ],
             [
              0.5555555555555556,
              "#d8576b"
             ],
             [
              0.6666666666666666,
              "#ed7953"
             ],
             [
              0.7777777777777778,
              "#fb9f3a"
             ],
             [
              0.8888888888888888,
              "#fdca26"
             ],
             [
              1,
              "#f0f921"
             ]
            ],
            "type": "histogram2d"
           }
          ],
          "histogram2dcontour": [
           {
            "colorbar": {
             "outlinewidth": 0,
             "ticks": ""
            },
            "colorscale": [
             [
              0,
              "#0d0887"
             ],
             [
              0.1111111111111111,
              "#46039f"
             ],
             [
              0.2222222222222222,
              "#7201a8"
             ],
             [
              0.3333333333333333,
              "#9c179e"
             ],
             [
              0.4444444444444444,
              "#bd3786"
             ],
             [
              0.5555555555555556,
              "#d8576b"
             ],
             [
              0.6666666666666666,
              "#ed7953"
             ],
             [
              0.7777777777777778,
              "#fb9f3a"
             ],
             [
              0.8888888888888888,
              "#fdca26"
             ],
             [
              1,
              "#f0f921"
             ]
            ],
            "type": "histogram2dcontour"
           }
          ],
          "mesh3d": [
           {
            "colorbar": {
             "outlinewidth": 0,
             "ticks": ""
            },
            "type": "mesh3d"
           }
          ],
          "parcoords": [
           {
            "line": {
             "colorbar": {
              "outlinewidth": 0,
              "ticks": ""
             }
            },
            "type": "parcoords"
           }
          ],
          "pie": [
           {
            "automargin": true,
            "type": "pie"
           }
          ],
          "scatter": [
           {
            "fillpattern": {
             "fillmode": "overlay",
             "size": 10,
             "solidity": 0.2
            },
            "type": "scatter"
           }
          ],
          "scatter3d": [
           {
            "line": {
             "colorbar": {
              "outlinewidth": 0,
              "ticks": ""
             }
            },
            "marker": {
             "colorbar": {
              "outlinewidth": 0,
              "ticks": ""
             }
            },
            "type": "scatter3d"
           }
          ],
          "scattercarpet": [
           {
            "marker": {
             "colorbar": {
              "outlinewidth": 0,
              "ticks": ""
             }
            },
            "type": "scattercarpet"
           }
          ],
          "scattergeo": [
           {
            "marker": {
             "colorbar": {
              "outlinewidth": 0,
              "ticks": ""
             }
            },
            "type": "scattergeo"
           }
          ],
          "scattergl": [
           {
            "marker": {
             "colorbar": {
              "outlinewidth": 0,
              "ticks": ""
             }
            },
            "type": "scattergl"
           }
          ],
          "scattermapbox": [
           {
            "marker": {
             "colorbar": {
              "outlinewidth": 0,
              "ticks": ""
             }
            },
            "type": "scattermapbox"
           }
          ],
          "scatterpolar": [
           {
            "marker": {
             "colorbar": {
              "outlinewidth": 0,
              "ticks": ""
             }
            },
            "type": "scatterpolar"
           }
          ],
          "scatterpolargl": [
           {
            "marker": {
             "colorbar": {
              "outlinewidth": 0,
              "ticks": ""
             }
            },
            "type": "scatterpolargl"
           }
          ],
          "scatterternary": [
           {
            "marker": {
             "colorbar": {
              "outlinewidth": 0,
              "ticks": ""
             }
            },
            "type": "scatterternary"
           }
          ],
          "surface": [
           {
            "colorbar": {
             "outlinewidth": 0,
             "ticks": ""
            },
            "colorscale": [
             [
              0,
              "#0d0887"
             ],
             [
              0.1111111111111111,
              "#46039f"
             ],
             [
              0.2222222222222222,
              "#7201a8"
             ],
             [
              0.3333333333333333,
              "#9c179e"
             ],
             [
              0.4444444444444444,
              "#bd3786"
             ],
             [
              0.5555555555555556,
              "#d8576b"
             ],
             [
              0.6666666666666666,
              "#ed7953"
             ],
             [
              0.7777777777777778,
              "#fb9f3a"
             ],
             [
              0.8888888888888888,
              "#fdca26"
             ],
             [
              1,
              "#f0f921"
             ]
            ],
            "type": "surface"
           }
          ],
          "table": [
           {
            "cells": {
             "fill": {
              "color": "#EBF0F8"
             },
             "line": {
              "color": "white"
             }
            },
            "header": {
             "fill": {
              "color": "#C8D4E3"
             },
             "line": {
              "color": "white"
             }
            },
            "type": "table"
           }
          ]
         },
         "layout": {
          "annotationdefaults": {
           "arrowcolor": "#2a3f5f",
           "arrowhead": 0,
           "arrowwidth": 1
          },
          "autotypenumbers": "strict",
          "coloraxis": {
           "colorbar": {
            "outlinewidth": 0,
            "ticks": ""
           }
          },
          "colorscale": {
           "diverging": [
            [
             0,
             "#8e0152"
            ],
            [
             0.1,
             "#c51b7d"
            ],
            [
             0.2,
             "#de77ae"
            ],
            [
             0.3,
             "#f1b6da"
            ],
            [
             0.4,
             "#fde0ef"
            ],
            [
             0.5,
             "#f7f7f7"
            ],
            [
             0.6,
             "#e6f5d0"
            ],
            [
             0.7,
             "#b8e186"
            ],
            [
             0.8,
             "#7fbc41"
            ],
            [
             0.9,
             "#4d9221"
            ],
            [
             1,
             "#276419"
            ]
           ],
           "sequential": [
            [
             0,
             "#0d0887"
            ],
            [
             0.1111111111111111,
             "#46039f"
            ],
            [
             0.2222222222222222,
             "#7201a8"
            ],
            [
             0.3333333333333333,
             "#9c179e"
            ],
            [
             0.4444444444444444,
             "#bd3786"
            ],
            [
             0.5555555555555556,
             "#d8576b"
            ],
            [
             0.6666666666666666,
             "#ed7953"
            ],
            [
             0.7777777777777778,
             "#fb9f3a"
            ],
            [
             0.8888888888888888,
             "#fdca26"
            ],
            [
             1,
             "#f0f921"
            ]
           ],
           "sequentialminus": [
            [
             0,
             "#0d0887"
            ],
            [
             0.1111111111111111,
             "#46039f"
            ],
            [
             0.2222222222222222,
             "#7201a8"
            ],
            [
             0.3333333333333333,
             "#9c179e"
            ],
            [
             0.4444444444444444,
             "#bd3786"
            ],
            [
             0.5555555555555556,
             "#d8576b"
            ],
            [
             0.6666666666666666,
             "#ed7953"
            ],
            [
             0.7777777777777778,
             "#fb9f3a"
            ],
            [
             0.8888888888888888,
             "#fdca26"
            ],
            [
             1,
             "#f0f921"
            ]
           ]
          },
          "colorway": [
           "#636efa",
           "#EF553B",
           "#00cc96",
           "#ab63fa",
           "#FFA15A",
           "#19d3f3",
           "#FF6692",
           "#B6E880",
           "#FF97FF",
           "#FECB52"
          ],
          "font": {
           "color": "#2a3f5f"
          },
          "geo": {
           "bgcolor": "white",
           "lakecolor": "white",
           "landcolor": "#E5ECF6",
           "showlakes": true,
           "showland": true,
           "subunitcolor": "white"
          },
          "hoverlabel": {
           "align": "left"
          },
          "hovermode": "closest",
          "mapbox": {
           "style": "light"
          },
          "paper_bgcolor": "white",
          "plot_bgcolor": "#E5ECF6",
          "polar": {
           "angularaxis": {
            "gridcolor": "white",
            "linecolor": "white",
            "ticks": ""
           },
           "bgcolor": "#E5ECF6",
           "radialaxis": {
            "gridcolor": "white",
            "linecolor": "white",
            "ticks": ""
           }
          },
          "scene": {
           "xaxis": {
            "backgroundcolor": "#E5ECF6",
            "gridcolor": "white",
            "gridwidth": 2,
            "linecolor": "white",
            "showbackground": true,
            "ticks": "",
            "zerolinecolor": "white"
           },
           "yaxis": {
            "backgroundcolor": "#E5ECF6",
            "gridcolor": "white",
            "gridwidth": 2,
            "linecolor": "white",
            "showbackground": true,
            "ticks": "",
            "zerolinecolor": "white"
           },
           "zaxis": {
            "backgroundcolor": "#E5ECF6",
            "gridcolor": "white",
            "gridwidth": 2,
            "linecolor": "white",
            "showbackground": true,
            "ticks": "",
            "zerolinecolor": "white"
           }
          },
          "shapedefaults": {
           "line": {
            "color": "#2a3f5f"
           }
          },
          "ternary": {
           "aaxis": {
            "gridcolor": "white",
            "linecolor": "white",
            "ticks": ""
           },
           "baxis": {
            "gridcolor": "white",
            "linecolor": "white",
            "ticks": ""
           },
           "bgcolor": "#E5ECF6",
           "caxis": {
            "gridcolor": "white",
            "linecolor": "white",
            "ticks": ""
           }
          },
          "title": {
           "x": 0.05
          },
          "xaxis": {
           "automargin": true,
           "gridcolor": "white",
           "linecolor": "white",
           "ticks": "",
           "title": {
            "standoff": 15
           },
           "zerolinecolor": "white",
           "zerolinewidth": 2
          },
          "yaxis": {
           "automargin": true,
           "gridcolor": "white",
           "linecolor": "white",
           "ticks": "",
           "title": {
            "standoff": 15
           },
           "zerolinecolor": "white",
           "zerolinewidth": 2
          }
         }
        },
        "title": {
         "font": {
          "color": "#4D5663"
         }
        },
        "xaxis": {
         "gridcolor": "#E1E5ED",
         "rangeslider": {
          "visible": false
         },
         "showgrid": true,
         "tickfont": {
          "color": "#4D5663"
         },
         "title": {
          "font": {
           "color": "#4D5663"
          },
          "text": ""
         },
         "zerolinecolor": "#E1E5ED"
        },
        "yaxis": {
         "gridcolor": "#E1E5ED",
         "showgrid": true,
         "showticklabels": false,
         "tickfont": {
          "color": "#4D5663"
         },
         "title": {
          "font": {
           "color": "#4D5663"
          },
          "text": ""
         },
         "zerolinecolor": "#E1E5ED"
        },
        "yaxis2": {
         "gridcolor": "#E1E5ED",
         "showgrid": true,
         "tickfont": {
          "color": "#4D5663"
         },
         "title": {
          "font": {
           "color": "#4D5663"
          },
          "text": ""
         },
         "zerolinecolor": "#E1E5ED"
        }
       }
      },
      "text/html": [
       "<div>                            <div id=\"ad0d2c73-557b-4f0c-9b59-0e1c0c5129da\" class=\"plotly-graph-div\" style=\"height:525px; width:100%;\"></div>            <script type=\"text/javascript\">                require([\"plotly\"], function(Plotly) {                    window.PLOTLYENV=window.PLOTLYENV || {};\n",
       "                    window.PLOTLYENV.BASE_URL='https://plot.ly';                                    if (document.getElementById(\"ad0d2c73-557b-4f0c-9b59-0e1c0c5129da\")) {                    Plotly.newPlot(                        \"ad0d2c73-557b-4f0c-9b59-0e1c0c5129da\",                        [{\"close\":[60.13999938964844,61.70000076293945,65.25,66.0199966430664,65.37000274658203,66.44000244140625,66.66999816894531,66.86000061035156,69.01000213623047,64.2300033569336,63.689998626708984,63.25,61.869998931884766,61.33000183105469,60.560001373291016,60.90999984741211,59.400001525878906,60.34000015258789,57.9900016784668,58.43000030517578,59.58000183105469,61.099998474121094,62.40999984741211,62.58000183105469,63.650001525878906,63.119998931884766,63.619998931884766,63.20000076293945,63.630001068115234,64.12000274658203,64.76000213623047,63.47999954223633,65.77999877929688,65.5199966430664,66.73999786376953,68.5999984741211,67.41000366210938,65.87999725341797,69.54000091552734,68.91000366210938,70.37999725341797,69.80999755859375,70.2300033569336,72.22000122070312,70.98999786376953,73.75,73.30999755859375,75.18000030517578,74.22000122070312,73.33000183105469,73.5999984741211,73.83999633789062,73.01000213623047,71.95999908447266,70.91000366210938,70.08000183105469,71.72000122070312,73.0199966430664,71.58000183105469,72.95999908447266,72.75,73.13999938964844,72.75,72.5999984741211,72.69000244140625,72.33000183105469,72.41999816894531,72.69000244140625,72.05999755859375,72.91000366210938,72.54000091552734,72.44999694824219,72.12999725341797,69.79000091552734,70.6500015258789,69.80999755859375,71.37999725341797,72.19999694824219,72.98999786376953,72.91000366210938,73.83999633789062,71.23999786376953,71.70999908447266,72.33000183105469,73.70999908447266,74.77999877929688,75.08000183105469,75.12999725341797,74.87000274658203,74.2300033569336,75.29000091552734,76.55999755859375,77.41999816894531,76.62000274658203,76.45999908447266,76.19999694824219,77.6500015258789,78.02999877929688,77.27999877929688,77.5199966430664,78.76000213623047,78.70999908447266,79.76000213623047,79.86000061035156,79.62999725341797,79.48999786376953,79.30999755859375,79.08000183105469,78.13999938964844,76.88999938964844,76.4800033569336,75.16000366210938,73.81999969482422,71.45999908447266,68.86000061035156,67.61000061035156,68.44999694824219,68.95999908447266,69.6500015258789,71.31999969482422,71.55000305175781,71.51000213623047,69.68000030517578,70.75,71.01000213623047,70.41000366210938,68.20999908447266,67.93000030517578,66.7300033569336,68.44999694824219,69.44000244140625,68.37000274658203,68.16999816894531,68.44999694824219,66.9000015258789,65.08000183105469,66.29000091552734,67.88999938964844,66.93000030517578,66.70999908447266,67.7699966430664,67.9800033569336,68.0999984741211,68.80999755859375,67.62000274658203,67.7300033569336,68.87999725341797,68.5199966430664,69.69000244140625,71.06999969482422,71.5199966430664,72.9800033569336,74.30000305175781,74.12999725341797,73.11000061035156,72.0999984741211,71.62000274658203,71.12000274658203,69.83999633789062,70.25,70.88999938964844,72.04000091552734,73.18000030517578,72.44000244140625,72.98999786376953,71.66999816894531,71.91000366210938,71.30999755859375,71.5,71.16999816894531,70.81999969482422,70.04000091552734,70.45999908447266,69.56999969482422,70.5199966430664,68.77999877929688,70.44999694824219,70.0,69.95999908447266,67.30000305175781,66.94000244140625,68.23999786376953,70.87999725341797,71.18000030517578,72.26000213623047,71.37000274658203,71.52999877929688,70.18000030517578,71.18000030517578,71.29000091552734,72.52999877929688,72.41999816894531,72.19000244140625,72.3499984741211,71.68000030517578,70.63999938964844,70.26000213623047,70.80000305175781,72.29000091552734,71.61000061035156,71.76000213623047,71.81999969482422,70.51000213623047,71.37000274658203,70.83000183105469,70.6500015258789,70.30999755859375,70.87999725341797,69.16000366210938,69.61000061035156,68.5999984741211,69.0,67.0,66.98999786376953,68.44999694824219,67.98999786376953,68.20999908447266,68.87000274658203,69.16000366210938,68.73999786376953,67.73999786376953,66.8499984741211,67.11000061035156,66.33999633789062,67.04000091552734,68.06999969482422,67.27999877929688,65.5,65.04000091552734,63.70000076293945,62.52000045776367,63.810001373291016,62.7599983215332,62.52000045776367,62.900001525878906,62.459999084472656,62.13999938964844,60.709999084472656,60.18000030517578,60.63999938964844,60.2400016784668,61.06999969482422,59.540000915527344,58.279998779296875,59.380001068115234,59.599998474121094,60.209999084472656,60.650001525878906,60.619998931884766,60.540000915527344,60.43000030517578,60.38999938964844],\"high\":[61.709999084472656,62.0,66.5999984741211,68.0999984741211,66.20999908447266,66.62000274658203,67.73999786376953,67.22000122070312,69.43000030517578,67.6500015258789,65.25,63.81999969482422,63.34000015258789,61.83000183105469,60.77000045776367,61.2400016784668,60.0,61.060001373291016,60.20000076293945,58.66999816894531,60.25,61.150001525878906,62.630001068115234,63.08000183105469,63.709999084472656,63.869998931884766,63.9900016784668,63.869998931884766,64.0199966430664,65.06999969482422,64.91000366210938,64.55000305175781,65.98999786376953,66.9000015258789,66.91999816894531,68.68000030517578,69.37999725341797,67.5999984741211,69.98999786376953,69.98999786376953,71.48999786376953,71.77999877929688,71.2699966430664,72.83999633789062,72.48999786376953,73.87999725341797,74.27999877929688,75.25,75.58999633789062,73.62999725341797,74.33999633789062,76.12999725341797,73.58000183105469,72.5999984741211,72.63999938964844,72.4800033569336,71.91999816894531,73.23999786376953,72.1500015258789,73.22000122070312,73.83000183105469,73.29000091552734,74.33999633789062,73.06999969482422,73.12000274658203,72.52999877929688,73.01000213623047,72.80000305175781,72.41999816894531,73.29000091552734,74.7300033569336,73.56999969482422,72.83000183105469,71.55000305175781,70.70999908447266,70.75,71.54000091552734,72.80999755859375,73.0999984741211,73.63999938964844,74.0199966430664,72.73999786376953,72.44000244140625,72.4000015258789,73.80999755859375,74.94000244140625,75.11000061035156,76.83999633789062,75.56999969482422,76.4000015258789,75.87999725341797,76.7699966430664,77.47000122070312,77.69000244140625,76.6500015258789,76.63999938964844,77.80999755859375,78.36000061035156,79.27999877929688,77.9000015258789,79.11000061035156,78.97000122070312,80.08999633789062,80.29000091552734,80.29000091552734,79.87000274658203,79.6500015258789,79.41999816894531,78.77999877929688,79.29000091552734,77.19000244140625,76.7699966430664,75.33999633789062,73.0,72.61000061035156,68.75,69.08999633789062,69.41000366210938,70.05000305175781,71.66999816894531,71.8499984741211,71.66999816894531,71.5999984741211,70.80999755859375,71.20999908447266,71.12000274658203,70.19000244140625,68.37000274658203,67.13999938964844,68.5199966430664,69.58999633789062,69.4800033569336,70.77999877929688,69.04000091552734,68.76000213623047,66.06999969482422,66.77999877929688,68.25,67.79000091552734,67.76000213623047,67.83999633789062,68.4000015258789,68.61000061035156,69.58000183105469,68.5199966430664,69.12000274658203,69.08999633789062,69.25,69.7699966430664,71.5,72.0,73.33999633789062,74.33999633789062,74.63999938964844,74.62000274658203,72.48999786376953,72.36000061035156,72.26000213623047,70.73999786376953,70.30000305175781,71.26000213623047,72.19000244140625,73.9000015258789,73.9000015258789,73.37000274658203,73.01000213623047,72.5,72.36000061035156,71.97000122070312,71.7300033569336,72.27999877929688,71.22000122070312,71.0999984741211,70.98999786376953,70.66000366210938,71.37999725341797,70.87000274658203,71.18000030517578,70.58000183105469,68.16999816894531,67.73999786376953,69.16999816894531,71.38999938964844,71.58000183105469,72.61000061035156,73.27999877929688,71.81999969482422,71.69999694824219,71.68000030517578,72.9800033569336,72.93000030517578,72.61000061035156,73.3499984741211,72.80999755859375,73.72000122070312,71.94000244140625,70.58000183105469,71.2699966430664,73.22000122070312,72.55000305175781,72.5,72.27999877929688,71.83000183105469,71.88999938964844,71.8499984741211,71.61000061035156,70.70999908447266,71.31999969482422,70.61000061035156,69.93000030517578,69.62999725341797,69.58000183105469,68.7699966430664,67.98999786376953,69.0199966430664,68.25,68.44000244140625,69.18000030517578,69.16999816894531,69.66999816894531,68.77999877929688,67.69000244140625,67.1500015258789,66.41999816894531,68.11000061035156,68.37000274658203,68.05999755859375,65.73999786376953,66.29000091552734,64.80999755859375,65.08999633789062,64.2699966430664,64.12000274658203,63.56999969482422,63.349998474121094,63.15999984741211,62.5,62.2599983215332,60.869998931884766,61.31999969482422,61.0099983215332,61.90999984741211,60.5,58.72999954223633,59.86000061035156,59.939998626708984,60.779998779296875,60.939998626708984,61.33000183105469,60.97999954223633,61.06999969482422,60.7599983215332],\"low\":[59.72999954223633,60.02000045776367,63.95000076293945,66.01000213623047,64.33999633789062,64.33000183105469,66.23999786376953,65.98999786376953,67.16999816894531,64.08999633789062,62.90999984741211,62.84000015258789,61.7400016784668,60.189998626708984,59.16999816894531,60.09000015258789,58.529998779296875,59.630001068115234,57.689998626708984,57.400001525878906,59.29999923706055,59.31999969482422,61.41999816894531,62.06999969482422,62.849998474121094,62.52000045776367,62.97999954223633,61.93000030517578,62.88999938964844,63.84000015258789,63.45000076293945,63.09000015258789,64.05000305175781,65.29000091552734,64.86000061035156,67.0,66.88999938964844,65.54000091552734,67.9800033569336,68.8499984741211,69.30000305175781,67.88999938964844,68.44000244140625,70.86000061035156,70.04000091552734,71.19999694824219,72.55000305175781,74.0999984741211,73.27999877929688,72.31999969482422,72.73999786376953,73.44999694824219,71.5199966430664,71.63999938964844,70.51000213623047,70.05999755859375,69.1500015258789,72.0,70.37000274658203,72.0,72.45999908447266,72.22000122070312,72.44000244140625,72.05000305175781,71.94999694824219,71.08000183105469,72.01000213623047,72.13999938964844,71.06999969482422,71.37999725341797,71.76000213623047,71.69000244140625,71.94999694824219,69.2699966430664,68.41000366210938,69.66999816894531,69.51000213623047,71.61000061035156,72.36000061035156,72.7300033569336,72.87999725341797,71.08999633789062,71.38999938964844,70.62999725341797,71.77999877929688,73.41999816894531,73.22000122070312,75.11000061035156,73.91000366210938,73.9000015258789,73.80000305175781,75.66000366210938,76.0999984741211,76.56999969482422,74.72000122070312,75.36000061035156,76.41000366210938,77.47000122070312,77.19000244140625,76.68000030517578,77.94999694824219,77.91000366210938,79.33999633789062,79.37999725341797,79.41999816894531,78.80999755859375,79.0199966430664,77.70999908447266,77.76000213623047,76.83000183105469,76.0999984741211,74.66999816894531,73.25,70.1500015258789,68.16000366210938,67.12999725341797,67.87999725341797,67.7699966430664,69.08000183105469,69.94999694824219,69.86000061035156,70.45999908447266,69.58000183105469,69.41999816894531,70.44999694824219,70.11000061035156,67.86000061035156,67.26000213623047,65.75,67.63999938964844,67.30000305175781,68.0199966430664,67.44999694824219,67.44000244140625,66.41999816894531,64.36000061035156,64.77999877929688,66.93000030517578,66.41000366210938,66.5199966430664,66.45999908447266,66.77999877929688,67.48999786376953,68.41000366210938,67.23999786376953,67.63999938964844,66.88999938964844,67.93000030517578,68.7699966430664,70.58000183105469,70.45999908447266,71.37999725341797,72.93000030517578,73.62999725341797,72.91999816894531,70.98999786376953,70.68000030517578,70.87999725341797,69.43000030517578,69.20999908447266,70.55999755859375,71.02999877929688,72.04000091552734,72.27999877929688,72.30000305175781,71.22000122070312,71.33000183105469,71.20999908447266,70.91999816894531,70.6500015258789,70.70999908447266,69.87999725341797,69.91000366210938,69.5199966430664,69.76000213623047,68.5199966430664,68.62000274658203,69.98999786376953,69.66000366210938,65.97000122070312,66.5199966430664,67.79000091552734,69.0,70.70999908447266,71.75,71.23999786376953,70.9800033569336,69.94999694824219,70.08999633789062,70.8499984741211,71.33000183105469,71.0199966430664,72.05000305175781,71.51000213623047,71.61000061035156,70.44000244140625,68.73999786376953,69.72000122070312,71.51000213623047,71.4000015258789,71.26000213623047,70.80999755859375,70.01000213623047,70.68000030517578,70.70999908447266,70.61000061035156,69.30999755859375,70.27999877929688,68.97000122070312,69.02999877929688,68.54000091552734,68.08999633789062,66.5199966430664,66.94999694824219,67.37000274658203,67.44000244140625,67.70999908447266,68.16999816894531,68.30000305175781,68.54000091552734,67.30000305175781,66.7699966430664,66.19999694824219,65.2300033569336,66.80000305175781,67.11000061035156,67.2300033569336,63.810001373291016,64.45999908447266,63.36000061035156,62.5,62.7599983215332,62.43000030517578,62.13999938964844,62.31999969482422,62.349998474121094,60.849998474121094,60.20000076293945,59.779998779296875,60.380001068115234,59.540000915527344,60.81999969482422,58.959999084472656,57.59000015258789,58.650001525878906,59.099998474121094,59.95000076293945,60.0,60.310001373291016,60.27000045776367,60.38999938964844,60.119998931884766],\"open\":[61.59000015258789,60.349998474121094,64.48999786376953,67.06999969482422,66.20999908447266,64.58000183105469,67.48999786376953,67.0,67.5199966430664,67.37000274658203,65.19999694824219,63.75,63.209999084472656,60.939998626708984,60.66999816894531,61.20000076293945,59.900001525878906,60.150001525878906,59.959999084472656,58.65999984741211,59.599998474121094,59.40999984741211,61.56999969482422,62.9900016784668,63.09000015258789,63.70000076293945,63.47999954223633,63.599998474121094,62.91999816894531,64.91999816894531,63.79999923706055,64.30000305175781,64.16000366210938,65.4000015258789,65.58999633789062,67.16999816894531,69.04000091552734,66.77999877929688,68.48999786376953,69.19000244140625,69.48999786376953,70.18000030517578,70.83999633789062,71.06999969482422,70.91000366210938,71.29000091552734,73.4800033569336,74.41999816894531,75.51000213623047,73.5199966430664,73.93000030517578,74.43000030517578,73.19999694824219,72.29000091552734,71.30000305175781,71.69000244140625,69.83000183105469,72.56999969482422,71.55000305175781,72.0,72.70999908447266,72.22000122070312,74.06999969482422,72.36000061035156,72.91999816894531,72.1500015258789,72.80999755859375,72.62000274658203,72.30000305175781,71.73999786376953,74.44999694824219,73.31999969482422,72.70999908447266,71.55000305175781,69.12999725341797,70.43000030517578,69.83999633789062,71.7300033569336,72.5,73.37000274658203,73.76000213623047,72.69000244140625,72.0199966430664,71.23999786376953,72.61000061035156,73.63999938964844,73.43000030517578,75.36000061035156,74.5,75.94000244140625,73.87999725341797,75.68000030517578,76.33000183105469,77.37999725341797,75.62000274658203,76.16999816894531,76.5,77.83000183105469,78.19999694824219,77.20999908447266,78.5199966430664,78.66000366210938,79.48999786376953,80.0999984741211,79.70999908447266,79.69000244140625,79.62000274658203,78.30000305175781,78.66999816894531,79.04000091552734,77.0,76.61000061035156,75.05000305175781,72.75,72.58000183105469,68.4800033569336,68.44000244140625,68.9000015258789,69.36000061035156,70.33000183105469,71.44999694824219,71.31999969482422,70.13999938964844,69.68000030517578,71.08000183105469,71.01000213623047,70.11000061035156,67.70999908447266,66.4000015258789,68.11000061035156,67.66999816894531,69.08000183105469,69.98999786376953,67.54000091552734,68.70999908447266,65.45999908447266,65.18000030517578,67.01000213623047,67.75,67.5,66.45999908447266,67.08000183105469,68.31999969482422,68.70999908447266,67.91999816894531,67.94999694824219,68.25,68.12000274658203,68.83000183105469,70.77999877929688,70.94000244140625,71.62000274658203,73.30000305175781,74.33000183105469,74.19999694824219,72.41000366210938,71.33999633789062,71.19999694824219,70.54000091552734,69.70999908447266,70.76000213623047,71.13999938964844,72.80000305175781,73.47000122070312,72.58000183105469,73.0,71.75,72.36000061035156,71.36000061035156,71.62000274658203,71.36000061035156,70.87000274658203,69.97000122070312,70.93000030517578,70.12000274658203,70.83999633789062,68.81999969482422,71.02999877929688,69.7699966430664,68.05000305175781,67.6500015258789,67.88999938964844,69.20999908447266,70.70999908447266,71.8499984741211,72.47000122070312,71.69000244140625,71.62999725341797,70.44000244140625,71.08000183105469,71.76000213623047,71.91999816894531,73.01000213623047,71.8499984741211,72.69999694824219,71.54000091552734,70.55000305175781,71.06999969482422,71.81999969482422,72.06999969482422,72.25,71.55999755859375,71.26000213623047,70.7699966430664,71.58000183105469,71.0,70.51000213623047,70.77999877929688,70.4800033569336,69.93000030517578,69.52999877929688,68.30000305175781,68.75,67.81999969482422,67.88999938964844,67.77999877929688,68.12000274658203,68.26000213623047,69.0,69.43000030517578,68.77999877929688,67.66000366210938,66.70999908447266,66.12000274658203,67.95999908447266,67.56999969482422,68.0,65.01000213623047,65.98999786376953,64.31999969482422,64.66000366210938,63.34000015258789,63.7400016784668,62.939998626708984,62.95000076293945,63.02000045776367,61.869998931884766,61.68000030517578,60.4900016784668,60.45000076293945,60.939998626708984,61.099998474121094,60.27000045776367,58.599998474121094,58.7400016784668,59.310001373291016,59.9900016784668,60.400001525878906,60.439998626708984,60.810001373291016,60.619998931884766,60.43000030517578],\"showlegend\":false,\"x\":[\"2021-01-04\",\"2021-01-05\",\"2021-01-06\",\"2021-01-07\",\"2021-01-08\",\"2021-01-11\",\"2021-01-12\",\"2021-01-13\",\"2021-01-14\",\"2021-01-15\",\"2021-01-19\",\"2021-01-20\",\"2021-01-21\",\"2021-01-22\",\"2021-01-25\",\"2021-01-26\",\"2021-01-27\",\"2021-01-28\",\"2021-01-29\",\"2021-02-01\",\"2021-02-02\",\"2021-02-03\",\"2021-02-04\",\"2021-02-05\",\"2021-02-08\",\"2021-02-09\",\"2021-02-10\",\"2021-02-11\",\"2021-02-12\",\"2021-02-16\",\"2021-02-17\",\"2021-02-18\",\"2021-02-19\",\"2021-02-22\",\"2021-02-23\",\"2021-02-24\",\"2021-02-25\",\"2021-02-26\",\"2021-03-01\",\"2021-03-02\",\"2021-03-03\",\"2021-03-04\",\"2021-03-05\",\"2021-03-08\",\"2021-03-09\",\"2021-03-10\",\"2021-03-11\",\"2021-03-12\",\"2021-03-15\",\"2021-03-16\",\"2021-03-17\",\"2021-03-18\",\"2021-03-19\",\"2021-03-22\",\"2021-03-23\",\"2021-03-24\",\"2021-03-25\",\"2021-03-26\",\"2021-03-29\",\"2021-03-30\",\"2021-03-31\",\"2021-04-01\",\"2021-04-05\",\"2021-04-06\",\"2021-04-07\",\"2021-04-08\",\"2021-04-09\",\"2021-04-12\",\"2021-04-13\",\"2021-04-14\",\"2021-04-15\",\"2021-04-16\",\"2021-04-19\",\"2021-04-20\",\"2021-04-21\",\"2021-04-22\",\"2021-04-23\",\"2021-04-26\",\"2021-04-27\",\"2021-04-28\",\"2021-04-29\",\"2021-04-30\",\"2021-05-03\",\"2021-05-04\",\"2021-05-05\",\"2021-05-06\",\"2021-05-07\",\"2021-05-10\",\"2021-05-11\",\"2021-05-12\",\"2021-05-13\",\"2021-05-14\",\"2021-05-17\",\"2021-05-18\",\"2021-05-19\",\"2021-05-20\",\"2021-05-21\",\"2021-05-24\",\"2021-05-25\",\"2021-05-26\",\"2021-05-27\",\"2021-05-28\",\"2021-06-01\",\"2021-06-02\",\"2021-06-03\",\"2021-06-04\",\"2021-06-07\",\"2021-06-08\",\"2021-06-09\",\"2021-06-10\",\"2021-06-11\",\"2021-06-14\",\"2021-06-15\",\"2021-06-16\",\"2021-06-17\",\"2021-06-18\",\"2021-06-21\",\"2021-06-22\",\"2021-06-23\",\"2021-06-24\",\"2021-06-25\",\"2021-06-28\",\"2021-06-29\",\"2021-06-30\",\"2021-07-01\",\"2021-07-02\",\"2021-07-06\",\"2021-07-07\",\"2021-07-08\",\"2021-07-09\",\"2021-07-12\",\"2021-07-13\",\"2021-07-14\",\"2021-07-15\",\"2021-07-16\",\"2021-07-19\",\"2021-07-20\",\"2021-07-21\",\"2021-07-22\",\"2021-07-23\",\"2021-07-26\",\"2021-07-27\",\"2021-07-28\",\"2021-07-29\",\"2021-07-30\",\"2021-08-02\",\"2021-08-03\",\"2021-08-04\",\"2021-08-05\",\"2021-08-06\",\"2021-08-09\",\"2021-08-10\",\"2021-08-11\",\"2021-08-12\",\"2021-08-13\",\"2021-08-16\",\"2021-08-17\",\"2021-08-18\",\"2021-08-19\",\"2021-08-20\",\"2021-08-23\",\"2021-08-24\",\"2021-08-25\",\"2021-08-26\",\"2021-08-27\",\"2021-08-30\",\"2021-08-31\",\"2021-09-01\",\"2021-09-02\",\"2021-09-03\",\"2021-09-07\",\"2021-09-08\",\"2021-09-09\",\"2021-09-10\",\"2021-09-13\",\"2021-09-14\",\"2021-09-15\",\"2021-09-16\",\"2021-09-17\",\"2021-09-20\",\"2021-09-21\",\"2021-09-22\",\"2021-09-23\",\"2021-09-24\",\"2021-09-27\",\"2021-09-28\",\"2021-09-29\",\"2021-09-30\",\"2021-10-01\",\"2021-10-04\",\"2021-10-05\",\"2021-10-06\",\"2021-10-07\",\"2021-10-08\",\"2021-10-11\",\"2021-10-12\",\"2021-10-13\",\"2021-10-14\",\"2021-10-15\",\"2021-10-18\",\"2021-10-19\",\"2021-10-20\",\"2021-10-21\",\"2021-10-22\",\"2021-10-25\",\"2021-10-26\",\"2021-10-27\",\"2021-10-28\",\"2021-10-29\",\"2021-11-01\",\"2021-11-02\",\"2021-11-03\",\"2021-11-04\",\"2021-11-05\",\"2021-11-08\",\"2021-11-09\",\"2021-11-10\",\"2021-11-11\",\"2021-11-12\",\"2021-11-15\",\"2021-11-16\",\"2021-11-17\",\"2021-11-18\",\"2021-11-19\",\"2021-11-22\",\"2021-11-23\",\"2021-11-24\",\"2021-11-26\",\"2021-11-29\",\"2021-11-30\",\"2021-12-01\",\"2021-12-02\",\"2021-12-03\",\"2021-12-06\",\"2021-12-07\",\"2021-12-08\",\"2021-12-09\",\"2021-12-10\",\"2021-12-13\",\"2021-12-14\",\"2021-12-15\",\"2021-12-16\",\"2021-12-17\",\"2021-12-20\",\"2021-12-21\",\"2021-12-22\",\"2021-12-23\",\"2021-12-27\",\"2021-12-28\",\"2021-12-29\",\"2021-12-30\",\"2021-12-31\"],\"yaxis\":\"y2\",\"type\":\"candlestick\"}],                        {\"legend\":{\"bgcolor\":\"#F5F6F9\",\"font\":{\"color\":\"#4D5663\"}},\"paper_bgcolor\":\"#F5F6F9\",\"plot_bgcolor\":\"#F5F6F9\",\"template\":{\"data\":{\"barpolar\":[{\"marker\":{\"line\":{\"color\":\"#E5ECF6\",\"width\":0.5},\"pattern\":{\"fillmode\":\"overlay\",\"size\":10,\"solidity\":0.2}},\"type\":\"barpolar\"}],\"bar\":[{\"error_x\":{\"color\":\"#2a3f5f\"},\"error_y\":{\"color\":\"#2a3f5f\"},\"marker\":{\"line\":{\"color\":\"#E5ECF6\",\"width\":0.5},\"pattern\":{\"fillmode\":\"overlay\",\"size\":10,\"solidity\":0.2}},\"type\":\"bar\"}],\"carpet\":[{\"aaxis\":{\"endlinecolor\":\"#2a3f5f\",\"gridcolor\":\"white\",\"linecolor\":\"white\",\"minorgridcolor\":\"white\",\"startlinecolor\":\"#2a3f5f\"},\"baxis\":{\"endlinecolor\":\"#2a3f5f\",\"gridcolor\":\"white\",\"linecolor\":\"white\",\"minorgridcolor\":\"white\",\"startlinecolor\":\"#2a3f5f\"},\"type\":\"carpet\"}],\"choropleth\":[{\"colorbar\":{\"outlinewidth\":0,\"ticks\":\"\"},\"type\":\"choropleth\"}],\"contourcarpet\":[{\"colorbar\":{\"outlinewidth\":0,\"ticks\":\"\"},\"type\":\"contourcarpet\"}],\"contour\":[{\"colorbar\":{\"outlinewidth\":0,\"ticks\":\"\"},\"colorscale\":[[0.0,\"#0d0887\"],[0.1111111111111111,\"#46039f\"],[0.2222222222222222,\"#7201a8\"],[0.3333333333333333,\"#9c179e\"],[0.4444444444444444,\"#bd3786\"],[0.5555555555555556,\"#d8576b\"],[0.6666666666666666,\"#ed7953\"],[0.7777777777777778,\"#fb9f3a\"],[0.8888888888888888,\"#fdca26\"],[1.0,\"#f0f921\"]],\"type\":\"contour\"}],\"heatmapgl\":[{\"colorbar\":{\"outlinewidth\":0,\"ticks\":\"\"},\"colorscale\":[[0.0,\"#0d0887\"],[0.1111111111111111,\"#46039f\"],[0.2222222222222222,\"#7201a8\"],[0.3333333333333333,\"#9c179e\"],[0.4444444444444444,\"#bd3786\"],[0.5555555555555556,\"#d8576b\"],[0.6666666666666666,\"#ed7953\"],[0.7777777777777778,\"#fb9f3a\"],[0.8888888888888888,\"#fdca26\"],[1.0,\"#f0f921\"]],\"type\":\"heatmapgl\"}],\"heatmap\":[{\"colorbar\":{\"outlinewidth\":0,\"ticks\":\"\"},\"colorscale\":[[0.0,\"#0d0887\"],[0.1111111111111111,\"#46039f\"],[0.2222222222222222,\"#7201a8\"],[0.3333333333333333,\"#9c179e\"],[0.4444444444444444,\"#bd3786\"],[0.5555555555555556,\"#d8576b\"],[0.6666666666666666,\"#ed7953\"],[0.7777777777777778,\"#fb9f3a\"],[0.8888888888888888,\"#fdca26\"],[1.0,\"#f0f921\"]],\"type\":\"heatmap\"}],\"histogram2dcontour\":[{\"colorbar\":{\"outlinewidth\":0,\"ticks\":\"\"},\"colorscale\":[[0.0,\"#0d0887\"],[0.1111111111111111,\"#46039f\"],[0.2222222222222222,\"#7201a8\"],[0.3333333333333333,\"#9c179e\"],[0.4444444444444444,\"#bd3786\"],[0.5555555555555556,\"#d8576b\"],[0.6666666666666666,\"#ed7953\"],[0.7777777777777778,\"#fb9f3a\"],[0.8888888888888888,\"#fdca26\"],[1.0,\"#f0f921\"]],\"type\":\"histogram2dcontour\"}],\"histogram2d\":[{\"colorbar\":{\"outlinewidth\":0,\"ticks\":\"\"},\"colorscale\":[[0.0,\"#0d0887\"],[0.1111111111111111,\"#46039f\"],[0.2222222222222222,\"#7201a8\"],[0.3333333333333333,\"#9c179e\"],[0.4444444444444444,\"#bd3786\"],[0.5555555555555556,\"#d8576b\"],[0.6666666666666666,\"#ed7953\"],[0.7777777777777778,\"#fb9f3a\"],[0.8888888888888888,\"#fdca26\"],[1.0,\"#f0f921\"]],\"type\":\"histogram2d\"}],\"histogram\":[{\"marker\":{\"pattern\":{\"fillmode\":\"overlay\",\"size\":10,\"solidity\":0.2}},\"type\":\"histogram\"}],\"mesh3d\":[{\"colorbar\":{\"outlinewidth\":0,\"ticks\":\"\"},\"type\":\"mesh3d\"}],\"parcoords\":[{\"line\":{\"colorbar\":{\"outlinewidth\":0,\"ticks\":\"\"}},\"type\":\"parcoords\"}],\"pie\":[{\"automargin\":true,\"type\":\"pie\"}],\"scatter3d\":[{\"line\":{\"colorbar\":{\"outlinewidth\":0,\"ticks\":\"\"}},\"marker\":{\"colorbar\":{\"outlinewidth\":0,\"ticks\":\"\"}},\"type\":\"scatter3d\"}],\"scattercarpet\":[{\"marker\":{\"colorbar\":{\"outlinewidth\":0,\"ticks\":\"\"}},\"type\":\"scattercarpet\"}],\"scattergeo\":[{\"marker\":{\"colorbar\":{\"outlinewidth\":0,\"ticks\":\"\"}},\"type\":\"scattergeo\"}],\"scattergl\":[{\"marker\":{\"colorbar\":{\"outlinewidth\":0,\"ticks\":\"\"}},\"type\":\"scattergl\"}],\"scattermapbox\":[{\"marker\":{\"colorbar\":{\"outlinewidth\":0,\"ticks\":\"\"}},\"type\":\"scattermapbox\"}],\"scatterpolargl\":[{\"marker\":{\"colorbar\":{\"outlinewidth\":0,\"ticks\":\"\"}},\"type\":\"scatterpolargl\"}],\"scatterpolar\":[{\"marker\":{\"colorbar\":{\"outlinewidth\":0,\"ticks\":\"\"}},\"type\":\"scatterpolar\"}],\"scatter\":[{\"fillpattern\":{\"fillmode\":\"overlay\",\"size\":10,\"solidity\":0.2},\"type\":\"scatter\"}],\"scatterternary\":[{\"marker\":{\"colorbar\":{\"outlinewidth\":0,\"ticks\":\"\"}},\"type\":\"scatterternary\"}],\"surface\":[{\"colorbar\":{\"outlinewidth\":0,\"ticks\":\"\"},\"colorscale\":[[0.0,\"#0d0887\"],[0.1111111111111111,\"#46039f\"],[0.2222222222222222,\"#7201a8\"],[0.3333333333333333,\"#9c179e\"],[0.4444444444444444,\"#bd3786\"],[0.5555555555555556,\"#d8576b\"],[0.6666666666666666,\"#ed7953\"],[0.7777777777777778,\"#fb9f3a\"],[0.8888888888888888,\"#fdca26\"],[1.0,\"#f0f921\"]],\"type\":\"surface\"}],\"table\":[{\"cells\":{\"fill\":{\"color\":\"#EBF0F8\"},\"line\":{\"color\":\"white\"}},\"header\":{\"fill\":{\"color\":\"#C8D4E3\"},\"line\":{\"color\":\"white\"}},\"type\":\"table\"}]},\"layout\":{\"annotationdefaults\":{\"arrowcolor\":\"#2a3f5f\",\"arrowhead\":0,\"arrowwidth\":1},\"autotypenumbers\":\"strict\",\"coloraxis\":{\"colorbar\":{\"outlinewidth\":0,\"ticks\":\"\"}},\"colorscale\":{\"diverging\":[[0,\"#8e0152\"],[0.1,\"#c51b7d\"],[0.2,\"#de77ae\"],[0.3,\"#f1b6da\"],[0.4,\"#fde0ef\"],[0.5,\"#f7f7f7\"],[0.6,\"#e6f5d0\"],[0.7,\"#b8e186\"],[0.8,\"#7fbc41\"],[0.9,\"#4d9221\"],[1,\"#276419\"]],\"sequential\":[[0.0,\"#0d0887\"],[0.1111111111111111,\"#46039f\"],[0.2222222222222222,\"#7201a8\"],[0.3333333333333333,\"#9c179e\"],[0.4444444444444444,\"#bd3786\"],[0.5555555555555556,\"#d8576b\"],[0.6666666666666666,\"#ed7953\"],[0.7777777777777778,\"#fb9f3a\"],[0.8888888888888888,\"#fdca26\"],[1.0,\"#f0f921\"]],\"sequentialminus\":[[0.0,\"#0d0887\"],[0.1111111111111111,\"#46039f\"],[0.2222222222222222,\"#7201a8\"],[0.3333333333333333,\"#9c179e\"],[0.4444444444444444,\"#bd3786\"],[0.5555555555555556,\"#d8576b\"],[0.6666666666666666,\"#ed7953\"],[0.7777777777777778,\"#fb9f3a\"],[0.8888888888888888,\"#fdca26\"],[1.0,\"#f0f921\"]]},\"colorway\":[\"#636efa\",\"#EF553B\",\"#00cc96\",\"#ab63fa\",\"#FFA15A\",\"#19d3f3\",\"#FF6692\",\"#B6E880\",\"#FF97FF\",\"#FECB52\"],\"font\":{\"color\":\"#2a3f5f\"},\"geo\":{\"bgcolor\":\"white\",\"lakecolor\":\"white\",\"landcolor\":\"#E5ECF6\",\"showlakes\":true,\"showland\":true,\"subunitcolor\":\"white\"},\"hoverlabel\":{\"align\":\"left\"},\"hovermode\":\"closest\",\"mapbox\":{\"style\":\"light\"},\"paper_bgcolor\":\"white\",\"plot_bgcolor\":\"#E5ECF6\",\"polar\":{\"angularaxis\":{\"gridcolor\":\"white\",\"linecolor\":\"white\",\"ticks\":\"\"},\"bgcolor\":\"#E5ECF6\",\"radialaxis\":{\"gridcolor\":\"white\",\"linecolor\":\"white\",\"ticks\":\"\"}},\"scene\":{\"xaxis\":{\"backgroundcolor\":\"#E5ECF6\",\"gridcolor\":\"white\",\"gridwidth\":2,\"linecolor\":\"white\",\"showbackground\":true,\"ticks\":\"\",\"zerolinecolor\":\"white\"},\"yaxis\":{\"backgroundcolor\":\"#E5ECF6\",\"gridcolor\":\"white\",\"gridwidth\":2,\"linecolor\":\"white\",\"showbackground\":true,\"ticks\":\"\",\"zerolinecolor\":\"white\"},\"zaxis\":{\"backgroundcolor\":\"#E5ECF6\",\"gridcolor\":\"white\",\"gridwidth\":2,\"linecolor\":\"white\",\"showbackground\":true,\"ticks\":\"\",\"zerolinecolor\":\"white\"}},\"shapedefaults\":{\"line\":{\"color\":\"#2a3f5f\"}},\"ternary\":{\"aaxis\":{\"gridcolor\":\"white\",\"linecolor\":\"white\",\"ticks\":\"\"},\"baxis\":{\"gridcolor\":\"white\",\"linecolor\":\"white\",\"ticks\":\"\"},\"bgcolor\":\"#E5ECF6\",\"caxis\":{\"gridcolor\":\"white\",\"linecolor\":\"white\",\"ticks\":\"\"}},\"title\":{\"x\":0.05},\"xaxis\":{\"automargin\":true,\"gridcolor\":\"white\",\"linecolor\":\"white\",\"ticks\":\"\",\"title\":{\"standoff\":15},\"zerolinecolor\":\"white\",\"zerolinewidth\":2},\"yaxis\":{\"automargin\":true,\"gridcolor\":\"white\",\"linecolor\":\"white\",\"ticks\":\"\",\"title\":{\"standoff\":15},\"zerolinecolor\":\"white\",\"zerolinewidth\":2}}},\"title\":{\"font\":{\"color\":\"#4D5663\"}},\"xaxis\":{\"gridcolor\":\"#E1E5ED\",\"rangeslider\":{\"visible\":false},\"showgrid\":true,\"tickfont\":{\"color\":\"#4D5663\"},\"title\":{\"font\":{\"color\":\"#4D5663\"},\"text\":\"\"},\"zerolinecolor\":\"#E1E5ED\"},\"yaxis\":{\"gridcolor\":\"#E1E5ED\",\"showgrid\":true,\"showticklabels\":false,\"tickfont\":{\"color\":\"#4D5663\"},\"title\":{\"font\":{\"color\":\"#4D5663\"},\"text\":\"\"},\"zerolinecolor\":\"#E1E5ED\"},\"yaxis2\":{\"gridcolor\":\"#E1E5ED\",\"showgrid\":true,\"tickfont\":{\"color\":\"#4D5663\"},\"title\":{\"font\":{\"color\":\"#4D5663\"},\"text\":\"\"},\"zerolinecolor\":\"#E1E5ED\"}},                        {\"showLink\": true, \"linkText\": \"Export to plot.ly\", \"plotlyServerURL\": \"https://plot.ly\", \"responsive\": true}                    ).then(function(){\n",
       "                            \n",
       "var gd = document.getElementById('ad0d2c73-557b-4f0c-9b59-0e1c0c5129da');\n",
       "var x = new MutationObserver(function (mutations, observer) {{\n",
       "        var display = window.getComputedStyle(gd).display;\n",
       "        if (!display || display === 'none') {{\n",
       "            console.log([gd, 'removed!']);\n",
       "            Plotly.purge(gd);\n",
       "            observer.disconnect();\n",
       "        }}\n",
       "}});\n",
       "\n",
       "// Listen for the removal of the full notebook cells\n",
       "var notebookContainer = gd.closest('#notebook-container');\n",
       "if (notebookContainer) {{\n",
       "    x.observe(notebookContainer, {childList: true});\n",
       "}}\n",
       "\n",
       "// Listen for the clearing of the current output cell\n",
       "var outputEl = gd.closest('.output');\n",
       "if (outputEl) {{\n",
       "    x.observe(outputEl, {childList: true});\n",
       "}}\n",
       "\n",
       "                        })                };                });            </script>        </div>"
      ]
     },
     "metadata": {},
     "output_type": "display_data"
    }
   ],
   "source": [
    "C[['Open', 'High', 'Low', 'Close']]['2021-01-01':'2022-01-01'].iplot(kind='candle')"
   ]
  },
  {
   "cell_type": "code",
   "execution_count": 32,
   "id": "744fb8c8",
   "metadata": {},
   "outputs": [
    {
     "data": {
      "application/vnd.plotly.v1+json": {
       "config": {
        "linkText": "Export to plot.ly",
        "plotlyServerURL": "https://plot.ly",
        "showLink": true
       },
       "data": [
        {
         "close": [
          265,
          270.92999267578125,
          285.54998779296875,
          291.6499938964844,
          290.0799865722656,
          293.8299865722656,
          302.2099914550781,
          302.94000244140625,
          307.8699951171875,
          301.010009765625,
          294.20001220703125,
          290.4700012207031,
          289.3699951171875,
          289.3900146484375,
          283.0400085449219,
          281.760009765625,
          273.3299865722656,
          275.0199890136719,
          271.1700134277344,
          274.7300109863281,
          286.9700012207031,
          288.54998779296875,
          293.75,
          293.5,
          300.1499938964844,
          300.4599914550781,
          304.2799987792969,
          302.32000732421875,
          306.32000732421875,
          311.9599914550781,
          312.739990234375,
          309.8999938964844,
          315.6199951171875,
          316.8699951171875,
          319.2099914550781,
          330.6400146484375,
          327.760009765625,
          319.4800109863281,
          329.9200134277344,
          330.94000244140625,
          334.42999267578125,
          329.2900085449219,
          327.3699951171875,
          334.19000244140625,
          330.5899963378906,
          342.0199890136719,
          342.1000061035156,
          348.80999755859375,
          346.04998779296875,
          341.7099914550781,
          344.95001220703125,
          348,
          344.20001220703125,
          339.3299865722656,
          331.7699890136719,
          328.6499938964844,
          330.54998779296875,
          327.3900146484375,
          325.7300109863281,
          332.010009765625,
          327,
          327.6400146484375,
          323.5400085449219,
          327.05999755859375,
          326.54998779296875,
          331.1400146484375,
          330.80999755859375,
          331.8399963378906,
          327.67999267578125,
          335.3500061035156,
          338.54998779296875,
          342.30999755859375,
          343.0899963378906,
          331.8800048828125,
          335.2699890136719,
          330.8500061035156,
          339.3500061035156,
          343.5199890136719,
          346.6300048828125,
          348.1099853515625,
          352.9700012207031,
          348.45001220703125,
          350.1600036621094,
          349.8399963378906,
          357.6199951171875,
          365.9700012207031,
          370.8900146484375,
          368.67999267578125,
          359.9200134277344,
          354.3999938964844,
          358.80999755859375,
          368.7699890136719,
          369.25,
          364.55999755859375,
          358.3800048828125,
          359.7799987792969,
          366.260009765625,
          368.2900085449219,
          364.510009765625,
          367.3999938964844,
          371.3699951171875,
          372.0199890136719,
          382.44000244140625,
          383.44000244140625,
          388.7200012207031,
          391.45001220703125,
          388.1600036621094,
          384.70001220703125,
          382.7799987792969,
          373.94000244140625,
          378.04998779296875,
          372.9200134277344,
          371.29998779296875,
          371,
          361.5,
          348.8299865722656,
          357.5400085449219,
          357.5299987792969,
          361.04998779296875,
          368.75,
          368.7699890136719,
          368.7099914550781,
          372.6199951171875,
          379.5299987792969,
          374.989990234375,
          374.1600036621094,
          369.8599853515625,
          367.6700134277344,
          358.94000244140625,
          371.760009765625,
          380.5,
          375.9800109863281,
          374.3999938964844,
          373.3500061035156,
          364.79998779296875,
          354.7200012207031,
          364.760009765625,
          373.5,
          372.7099914550781,
          374.04998779296875,
          375.8999938964844,
          374.8399963378906,
          374.2300109863281,
          377.54998779296875,
          374.8800048828125,
          378.19000244140625,
          380.3599853515625,
          377.8599853515625,
          384.29998779296875,
          397.8900146484375,
          399.8800048828125,
          407.9700012207031,
          413.8900146484375,
          415,
          410.7799987792969,
          408.3500061035156,
          404.9700012207031,
          398.79998779296875,
          393.57000732421875,
          395.8699951171875,
          401.45001220703125,
          408.55999755859375,
          413.1199951171875,
          412.4100036621094,
          419.69000244140625,
          413.6000061035156,
          413.510009765625,
          413.6600036621094,
          414.5,
          411.30999755859375,
          410.32000732421875,
          405,
          404.5799865722656,
          403.4800109863281,
          409.260009765625,
          403.69000244140625,
          401.95001220703125,
          396.67999267578125,
          391.4599914550781,
          378.1300048828125,
          375.8399963378906,
          385.4700012207031,
          391.8599853515625,
          390.8500061035156,
          399.80999755859375,
          389.5,
          384.8900146484375,
          378.0299987792969,
          380,
          374.1499938964844,
          385.80999755859375,
          388.04998779296875,
          390.6199951171875,
          392.80999755859375,
          385.239990234375,
          386.5299987792969,
          386.30999755859375,
          391.20001220703125,
          406.07000732421875,
          413.69000244140625,
          412.1600036621094,
          407.8900146484375,
          407.5899963378906,
          414.32000732421875,
          414.75,
          417.6099853515625,
          410.989990234375,
          414.82000732421875,
          413.3500061035156,
          416.70001220703125,
          423.8500061035156,
          417.8999938964844,
          408.07000732421875,
          407.0799865722656,
          408.3399963378906,
          405.3500061035156,
          399.1199951171875,
          402.3399963378906,
          404.9100036621094,
          404.80999755859375,
          403.0899963378906,
          391.54998779296875,
          391.3699951171875,
          387.3900146484375,
          396.1600036621094,
          406.3399963378906,
          399.19000244140625,
          389.3900146484375,
          386.5400085449219,
          380.989990234375,
          376.4800109863281,
          387.5400085449219,
          382.7300109863281,
          389.29998779296875,
          400.1099853515625,
          397.32000732421875,
          396.489990234375,
          391.05999755859375,
          384.6400146484375,
          388.82000732421875,
          389.9100036621094,
          397.3699951171875,
          381.79998779296875,
          371.6099853515625,
          380.32000732421875,
          382.3299865722656,
          385.0400085449219,
          388.0400085449219,
          387.6099853515625,
          386.20001220703125,
          385.5199890136719,
          382.54998779296875
         ],
         "high": [
          267.5799865722656,
          273.5,
          288.3800048828125,
          295.8900146484375,
          292.2799987792969,
          295,
          303.9800109863281,
          303.7200012207031,
          309.4100036621094,
          304.8599853515625,
          306.6000061035156,
          297.45001220703125,
          292.739990234375,
          290.5899963378906,
          286.3500061035156,
          285.7699890136719,
          277.3699951171875,
          279.8299865722656,
          277.3999938964844,
          276.79998779296875,
          288.25,
          289.80999755859375,
          295.8299865722656,
          297.239990234375,
          300.8900146484375,
          302.45001220703125,
          305.17999267578125,
          305.010009765625,
          306.70001220703125,
          312.9200134277344,
          314.9800109863281,
          314.5,
          316.7799987792969,
          320.55999755859375,
          320,
          330.9700012207031,
          335.80999755859375,
          328.67999267578125,
          331.0400085449219,
          336.19000244140625,
          340.1000061035156,
          339.760009765625,
          335.5799865722656,
          337.5899963378906,
          336.3900146484375,
          342.3999938964844,
          345,
          350,
          352.4200134277344,
          346.8999938964844,
          347.0299987792969,
          356.8500061035156,
          347.239990234375,
          342.8800048828125,
          341.8900146484375,
          336.94000244140625,
          331.3900146484375,
          335.45001220703125,
          327.760009765625,
          335.75,
          332.6499938964844,
          329.6600036621094,
          332.8500061035156,
          328.5400085449219,
          329.20001220703125,
          331.489990234375,
          334.8999938964844,
          334.4800109863281,
          330.04998779296875,
          344.4700012207031,
          341.3500061035156,
          343.739990234375,
          344.42999267578125,
          340.4700012207031,
          335.4700012207031,
          336.9700012207031,
          340.6700134277344,
          345.8999938964844,
          347.54998779296875,
          350.1199951171875,
          353.8299865722656,
          352.82000732421875,
          354.05999755859375,
          351.7799987792969,
          359.1400146484375,
          366.29998779296875,
          371.6499938964844,
          376.9800109863281,
          368.6300048828125,
          368.1300048828125,
          360.8900146484375,
          369.510009765625,
          370.70001220703125,
          373.0799865722656,
          360,
          361.95001220703125,
          367.1400146484375,
          369.7200012207031,
          373.7699890136719,
          368.7900085449219,
          373.54998779296875,
          373.07000732421875,
          383.3599853515625,
          384.6700134277344,
          391.25,
          392.04998779296875,
          393.260009765625,
          386.4800109863281,
          384.2699890136719,
          389.6400146484375,
          378.75,
          378.75,
          374.8399963378906,
          374.0799865722656,
          373.5199890136719,
          358.3800048828125,
          357.9700012207031,
          359.8800048828125,
          362.4800109863281,
          370.8800048828125,
          371.1499938964844,
          368.8699951171875,
          378.0899963378906,
          380.1099853515625,
          381.6400146484375,
          376.6000061035156,
          373.6300048828125,
          370.0899963378906,
          362.8900146484375,
          372.1499938964844,
          384,
          385.3299865722656,
          381.7699890136719,
          378.75,
          374.92999267578125,
          355.19000244140625,
          367.30999755859375,
          374.8999938964844,
          373.69000244140625,
          378,
          376.67999267578125,
          375.1400146484375,
          377.44000244140625,
          379.510009765625,
          379.95001220703125,
          386.92999267578125,
          381.30999755859375,
          382.6499938964844,
          384.30999755859375,
          398.8599853515625,
          404.6000061035156,
          410.6300048828125,
          414.67999267578125,
          418.6199951171875,
          416.8900146484375,
          408.989990234375,
          408.3500061035156,
          406.1099853515625,
          397.7300109863281,
          396.45001220703125,
          404.1000061035156,
          409.6600036621094,
          416.67999267578125,
          420.7300109863281,
          419.8500061035156,
          420.760009765625,
          414.8599853515625,
          416.1099853515625,
          417.5799865722656,
          415.1199951171875,
          414.7300109863281,
          410.9800109863281,
          408.8800048828125,
          409.7900085449219,
          409.3699951171875,
          417.010009765625,
          403.6099853515625,
          405.9800109863281,
          399.1600036621094,
          380.8599853515625,
          381.5,
          389.2900085449219,
          393.739990234375,
          392.489990234375,
          401,
          404.2099914550781,
          392.3900146484375,
          388.0199890136719,
          382.7200012207031,
          386.8699951171875,
          388.2200012207031,
          389.54998779296875,
          397.8500061035156,
          394.30999755859375,
          396.95001220703125,
          388.5899963378906,
          388.3800048828125,
          393.6600036621094,
          407.2699890136719,
          415.94000244140625,
          415.8500061035156,
          414.3299865722656,
          412.6600036621094,
          415.3599853515625,
          419.489990234375,
          419.80999755859375,
          418.05999755859375,
          414.9200134277344,
          415.9599914550781,
          418.7300109863281,
          426.1600036621094,
          424,
          415.989990234375,
          414.45001220703125,
          413.6499938964844,
          407.5799865722656,
          405.54998779296875,
          403.760009765625,
          405.1000061035156,
          407.3399963378906,
          405.8399963378906,
          402.6499938964844,
          393.9200134277344,
          390.239990234375,
          402.489990234375,
          406.9599914550781,
          407.4800109863281,
          391.7099914550781,
          396.3699951171875,
          386.8299865722656,
          390.1600036621094,
          389.0899963378906,
          389.8800048828125,
          393.6000061035156,
          401.75,
          401.7099914550781,
          400.19000244140625,
          398.8599853515625,
          391.19000244140625,
          392.5,
          391.3999938964844,
          399.8399963378906,
          393.6700134277344,
          375.6300048828125,
          382.0899963378906,
          384.010009765625,
          387.6099853515625,
          389.1099853515625,
          391.3299865722656,
          389.4599914550781,
          389.7799987792969,
          387
         ],
         "low": [
          260.1600036621094,
          262.57000732421875,
          273.1000061035156,
          286.67999267578125,
          285.05999755859375,
          284.20001220703125,
          296.0199890136719,
          299.1000061035156,
          303.5400085449219,
          296.8800048828125,
          293.79998779296875,
          287.4800109863281,
          288.5299987792969,
          285.5,
          277.5,
          280.0799865722656,
          271.32000732421875,
          271.3299865722656,
          270.6199951171875,
          272,
          278,
          285.17999267578125,
          289.5199890136719,
          292.19000244140625,
          294.5,
          297.70001220703125,
          297.75,
          299.1700134277344,
          301.7699890136719,
          309.2200012207031,
          308.760009765625,
          307.5799865722656,
          310.2300109863281,
          312.2099914550781,
          310.5799865722656,
          320.1000061035156,
          326.2900085449219,
          319.0400085449219,
          323.30999755859375,
          329.510009765625,
          333.25,
          323.9200134277344,
          316.4599914550781,
          329.1000061035156,
          325.57000732421875,
          331.5299987792969,
          336.4599914550781,
          343.6400146484375,
          342,
          337.75,
          340.3999938964844,
          346.989990234375,
          340.6300048828125,
          336,
          331.3299865722656,
          328.44000244140625,
          321.9200134277344,
          322.69000244140625,
          317.7200012207031,
          328.8500061035156,
          325.44000244140625,
          324.1600036621094,
          323.04998779296875,
          324,
          323.3500061035156,
          322.9700012207031,
          328.7900085449219,
          329.94000244140625,
          324.17999267578125,
          326.1499938964844,
          334.5400085449219,
          338.6199951171875,
          336.6000061035156,
          329.3500061035156,
          327.55999755859375,
          330.2900085449219,
          330.7200012207031,
          340.8900146484375,
          343.6600036621094,
          346.0899963378906,
          347.4800109863281,
          347.20001220703125,
          349.260009765625,
          342.57000732421875,
          348.54998779296875,
          356.5,
          360.92999267578125,
          368.5,
          358.6199951171875,
          353.2699890136719,
          353.25,
          361.70001220703125,
          364.5,
          364,
          353.92999267578125,
          353.3500061035156,
          360.510009765625,
          365.510009765625,
          364.0899963378906,
          361.9100036621094,
          367.29998779296875,
          368.260009765625,
          376.30999755859375,
          379.3699951171875,
          380.1300048828125,
          386.32000732421875,
          387.54998779296875,
          382.2200012207031,
          378.8800048828125,
          372.3500061035156,
          375.1099853515625,
          370.70001220703125,
          367.1600036621094,
          365.25,
          356.54998779296875,
          348.1300048828125,
          351.0400085449219,
          352.6400146484375,
          357.6600036621094,
          362.7799987792969,
          364.5400085449219,
          363.8599853515625,
          370.75,
          370.8999938964844,
          374.1499938964844,
          372.4200134277344,
          365.4100036621094,
          362.17999267578125,
          355.5899963378906,
          364.95001220703125,
          367.3299865722656,
          372.010009765625,
          371.3900146484375,
          370.57000732421875,
          363.8299865722656,
          349,
          351.5400085449219,
          367.92999267578125,
          368.45001220703125,
          371.3800048828125,
          373.1099853515625,
          369.2200012207031,
          372.3399963378906,
          374.80999755859375,
          373.05999755859375,
          375.75,
          371.7699890136719,
          375.760009765625,
          379.95001220703125,
          388.6400146484375,
          393.5799865722656,
          399.5,
          407.05999755859375,
          410.55999755859375,
          408.17999267578125,
          402.1499938964844,
          400.20001220703125,
          398.5899963378906,
          390.9100036621094,
          391,
          399,
          402.70001220703125,
          408.94000244140625,
          411.1600036621094,
          412.5,
          412.7200012207031,
          408.760009765625,
          410.30999755859375,
          412.6400146484375,
          410.6000061035156,
          409.6400146484375,
          404.70001220703125,
          403.510009765625,
          403.1600036621094,
          403.79998779296875,
          402.7799987792969,
          396.2099914550781,
          394.8900146484375,
          388.8299865722656,
          372.5,
          374.0799865722656,
          379.7099914550781,
          388.17999267578125,
          388.6000061035156,
          395.17999267578125,
          388.3900146484375,
          384.29998779296875,
          376.6199951171875,
          375.8500061035156,
          372.82000732421875,
          375.5,
          378.6600036621094,
          389.760009765625,
          388.17999267578125,
          385.0199890136719,
          381.0199890136719,
          378.6300048828125,
          382.20001220703125,
          396.3399963378906,
          407.6000061035156,
          409.69000244140625,
          406.20001220703125,
          404.6199951171875,
          409.1000061035156,
          413.2699890136719,
          413.760009765625,
          410.54998779296875,
          409.05999755859375,
          411.17999267578125,
          413.25,
          412.7900085449219,
          412.55999755859375,
          403.0299987792969,
          406.1000061035156,
          407.9599914550781,
          400.05999755859375,
          397.25,
          398.510009765625,
          399.20001220703125,
          403.9100036621094,
          399,
          391.4700012207031,
          385.67999267578125,
          381.0400085449219,
          390.17999267578125,
          397.510009765625,
          398.29998779296875,
          382.7200012207031,
          382.45001220703125,
          377.260009765625,
          376.2099914550781,
          376.0299987792969,
          379.0299987792969,
          383.489990234375,
          393.05999755859375,
          395.1400146484375,
          393,
          388.6600036621094,
          382.6600036621094,
          383.260009765625,
          380.6000061035156,
          391.79998779296875,
          380.6300048828125,
          366.6499938964844,
          374.760009765625,
          379.2699890136719,
          383.57000732421875,
          385,
          386.239990234375,
          384.4200134277344,
          385.20001220703125,
          380.8399963378906
         ],
         "open": [
          267,
          263.8800048828125,
          276.2900085449219,
          287.7699890136719,
          292,
          286.79998779296875,
          297.1400146484375,
          300.0799865722656,
          304.04998779296875,
          301.19000244140625,
          305,
          295.82000732421875,
          290.45001220703125,
          286.69000244140625,
          285.5299987792969,
          283.92999267578125,
          276,
          274.6099853515625,
          274.2699890136719,
          272.6600036621094,
          278.32000732421875,
          286.6099853515625,
          290,
          295,
          295,
          299.6000061035156,
          300,
          303.9800109863281,
          301.989990234375,
          310,
          310.0299987792969,
          309.2200012207031,
          310.2300109863281,
          313,
          317.9800109863281,
          320.1700134277344,
          333.3299865722656,
          325.7699890136719,
          325,
          330,
          333.67999267578125,
          333.1300048828125,
          335.5799865722656,
          331.3599853515625,
          328.6199951171875,
          332.07000732421875,
          338.6600036621094,
          345.2200012207031,
          349.44000244140625,
          345.2799987792969,
          344.6199951171875,
          350.75,
          346.4200134277344,
          341.05999755859375,
          337.6199951171875,
          333.4200134277344,
          327.3500061035156,
          334.510009765625,
          320.3500061035156,
          329.4100036621094,
          330.2300109863281,
          324.29998779296875,
          332.8500061035156,
          324.489990234375,
          327.70001220703125,
          324.2900085449219,
          334,
          332.6700134277344,
          329.510009765625,
          328.54998779296875,
          338.8999938964844,
          340.2900085449219,
          340,
          339.9700012207031,
          330,
          334.6199951171875,
          331.25,
          341.94000244140625,
          344,
          348,
          350.54998779296875,
          351.1199951171875,
          350.3399963378906,
          348.8999938964844,
          352,
          359.7699890136719,
          362.29998779296875,
          373.5,
          363,
          363.07000732421875,
          353.25,
          362,
          367.7799987792969,
          371.3800048828125,
          360,
          358.9800109863281,
          361.489990234375,
          367.32000732421875,
          369.9100036621094,
          365,
          371.3299865722656,
          372,
          377.70001220703125,
          383.3299865722656,
          382.25,
          389.67999267578125,
          393,
          385.7900085449219,
          383.1600036621094,
          389.6400146484375,
          375.70001220703125,
          377.42999267578125,
          373.5,
          370.989990234375,
          373.5199890136719,
          356.5199890136719,
          352.8900146484375,
          357,
          358.7900085449219,
          363,
          368.82000732421875,
          367.79998779296875,
          374.8599853515625,
          370.8999938964844,
          380.70001220703125,
          376.30999755859375,
          373.2300109863281,
          367.5,
          359.69000244140625,
          366,
          370.30999755859375,
          381.05999755859375,
          378.75,
          371.239990234375,
          374.92999267578125,
          354,
          352.2699890136719,
          368.0400085449219,
          372.29998779296875,
          374.5899963378906,
          373.17999267578125,
          372.5,
          375.80999755859375,
          377.0299987792969,
          376.57000732421875,
          376.1700134277344,
          380.25,
          378.4800109863281,
          380.1499938964844,
          388.8800048828125,
          396.5899963378906,
          400.1199951171875,
          408.79998779296875,
          414.3800048828125,
          416,
          408.989990234375,
          403.8399963378906,
          402.6000061035156,
          394.6000061035156,
          391.489990234375,
          401.8900146484375,
          403.5899963378906,
          409.8999938964844,
          415.8800048828125,
          412.7799987792969,
          419.95001220703125,
          412.1099853515625,
          413.1600036621094,
          415.1099853515625,
          414,
          411,
          409.2200012207031,
          404.6700134277344,
          408,
          407.4100036621094,
          410.29998779296875,
          398,
          404.5199890136719,
          396.32000732421875,
          377.82000732421875,
          380.8500061035156,
          380.79998779296875,
          390.3900146484375,
          390.4700012207031,
          396.5799865722656,
          400.45001220703125,
          390.67999267578125,
          388,
          379.44000244140625,
          380.2099914550781,
          378.1000061035156,
          382.3800048828125,
          392.9100036621094,
          390.8299865722656,
          392.8999938964844,
          386.2200012207031,
          388,
          392,
          402.30999755859375,
          408.010009765625,
          415.17999267578125,
          411,
          406.79998779296875,
          409.989990234375,
          416.2099914550781,
          416.3699951171875,
          416.54998779296875,
          412,
          414.0199890136719,
          417.07000732421875,
          415.1000061035156,
          423.1199951171875,
          414.6499938964844,
          411.3999938964844,
          409.8900146484375,
          406.1099853515625,
          402.3299865722656,
          400.1400146484375,
          403,
          406,
          403.9100036621094,
          401.8500061035156,
          392.29998779296875,
          382.3800048828125,
          393.1600036621094,
          400.25,
          405,
          384.4800109863281,
          394,
          383.5299987792969,
          383.82000732421875,
          378,
          389.8800048828125,
          388.6700134277344,
          393.5799865722656,
          401.2300109863281,
          395.70001220703125,
          398,
          391.19000244140625,
          383.55999755859375,
          389.5,
          395.1300048828125,
          389.2099914550781,
          375.5199890136719,
          376.42999267578125,
          380.4200134277344,
          383.7900085449219,
          386.989990234375,
          388.92999267578125,
          387.9700012207031,
          387.75,
          385
         ],
         "showlegend": false,
         "type": "candlestick",
         "x": [
          "2021-01-04",
          "2021-01-05",
          "2021-01-06",
          "2021-01-07",
          "2021-01-08",
          "2021-01-11",
          "2021-01-12",
          "2021-01-13",
          "2021-01-14",
          "2021-01-15",
          "2021-01-19",
          "2021-01-20",
          "2021-01-21",
          "2021-01-22",
          "2021-01-25",
          "2021-01-26",
          "2021-01-27",
          "2021-01-28",
          "2021-01-29",
          "2021-02-01",
          "2021-02-02",
          "2021-02-03",
          "2021-02-04",
          "2021-02-05",
          "2021-02-08",
          "2021-02-09",
          "2021-02-10",
          "2021-02-11",
          "2021-02-12",
          "2021-02-16",
          "2021-02-17",
          "2021-02-18",
          "2021-02-19",
          "2021-02-22",
          "2021-02-23",
          "2021-02-24",
          "2021-02-25",
          "2021-02-26",
          "2021-03-01",
          "2021-03-02",
          "2021-03-03",
          "2021-03-04",
          "2021-03-05",
          "2021-03-08",
          "2021-03-09",
          "2021-03-10",
          "2021-03-11",
          "2021-03-12",
          "2021-03-15",
          "2021-03-16",
          "2021-03-17",
          "2021-03-18",
          "2021-03-19",
          "2021-03-22",
          "2021-03-23",
          "2021-03-24",
          "2021-03-25",
          "2021-03-26",
          "2021-03-29",
          "2021-03-30",
          "2021-03-31",
          "2021-04-01",
          "2021-04-05",
          "2021-04-06",
          "2021-04-07",
          "2021-04-08",
          "2021-04-09",
          "2021-04-12",
          "2021-04-13",
          "2021-04-14",
          "2021-04-15",
          "2021-04-16",
          "2021-04-19",
          "2021-04-20",
          "2021-04-21",
          "2021-04-22",
          "2021-04-23",
          "2021-04-26",
          "2021-04-27",
          "2021-04-28",
          "2021-04-29",
          "2021-04-30",
          "2021-05-03",
          "2021-05-04",
          "2021-05-05",
          "2021-05-06",
          "2021-05-07",
          "2021-05-10",
          "2021-05-11",
          "2021-05-12",
          "2021-05-13",
          "2021-05-14",
          "2021-05-17",
          "2021-05-18",
          "2021-05-19",
          "2021-05-20",
          "2021-05-21",
          "2021-05-24",
          "2021-05-25",
          "2021-05-26",
          "2021-05-27",
          "2021-05-28",
          "2021-06-01",
          "2021-06-02",
          "2021-06-03",
          "2021-06-04",
          "2021-06-07",
          "2021-06-08",
          "2021-06-09",
          "2021-06-10",
          "2021-06-11",
          "2021-06-14",
          "2021-06-15",
          "2021-06-16",
          "2021-06-17",
          "2021-06-18",
          "2021-06-21",
          "2021-06-22",
          "2021-06-23",
          "2021-06-24",
          "2021-06-25",
          "2021-06-28",
          "2021-06-29",
          "2021-06-30",
          "2021-07-01",
          "2021-07-02",
          "2021-07-06",
          "2021-07-07",
          "2021-07-08",
          "2021-07-09",
          "2021-07-12",
          "2021-07-13",
          "2021-07-14",
          "2021-07-15",
          "2021-07-16",
          "2021-07-19",
          "2021-07-20",
          "2021-07-21",
          "2021-07-22",
          "2021-07-23",
          "2021-07-26",
          "2021-07-27",
          "2021-07-28",
          "2021-07-29",
          "2021-07-30",
          "2021-08-02",
          "2021-08-03",
          "2021-08-04",
          "2021-08-05",
          "2021-08-06",
          "2021-08-09",
          "2021-08-10",
          "2021-08-11",
          "2021-08-12",
          "2021-08-13",
          "2021-08-16",
          "2021-08-17",
          "2021-08-18",
          "2021-08-19",
          "2021-08-20",
          "2021-08-23",
          "2021-08-24",
          "2021-08-25",
          "2021-08-26",
          "2021-08-27",
          "2021-08-30",
          "2021-08-31",
          "2021-09-01",
          "2021-09-02",
          "2021-09-03",
          "2021-09-07",
          "2021-09-08",
          "2021-09-09",
          "2021-09-10",
          "2021-09-13",
          "2021-09-14",
          "2021-09-15",
          "2021-09-16",
          "2021-09-17",
          "2021-09-20",
          "2021-09-21",
          "2021-09-22",
          "2021-09-23",
          "2021-09-24",
          "2021-09-27",
          "2021-09-28",
          "2021-09-29",
          "2021-09-30",
          "2021-10-01",
          "2021-10-04",
          "2021-10-05",
          "2021-10-06",
          "2021-10-07",
          "2021-10-08",
          "2021-10-11",
          "2021-10-12",
          "2021-10-13",
          "2021-10-14",
          "2021-10-15",
          "2021-10-18",
          "2021-10-19",
          "2021-10-20",
          "2021-10-21",
          "2021-10-22",
          "2021-10-25",
          "2021-10-26",
          "2021-10-27",
          "2021-10-28",
          "2021-10-29",
          "2021-11-01",
          "2021-11-02",
          "2021-11-03",
          "2021-11-04",
          "2021-11-05",
          "2021-11-08",
          "2021-11-09",
          "2021-11-10",
          "2021-11-11",
          "2021-11-12",
          "2021-11-15",
          "2021-11-16",
          "2021-11-17",
          "2021-11-18",
          "2021-11-19",
          "2021-11-22",
          "2021-11-23",
          "2021-11-24",
          "2021-11-26",
          "2021-11-29",
          "2021-11-30",
          "2021-12-01",
          "2021-12-02",
          "2021-12-03",
          "2021-12-06",
          "2021-12-07",
          "2021-12-08",
          "2021-12-09",
          "2021-12-10",
          "2021-12-13",
          "2021-12-14",
          "2021-12-15",
          "2021-12-16",
          "2021-12-17",
          "2021-12-20",
          "2021-12-21",
          "2021-12-22",
          "2021-12-23",
          "2021-12-27",
          "2021-12-28",
          "2021-12-29",
          "2021-12-30",
          "2021-12-31"
         ],
         "yaxis": "y2"
        }
       ],
       "layout": {
        "legend": {
         "bgcolor": "#F5F6F9",
         "font": {
          "color": "#4D5663"
         }
        },
        "paper_bgcolor": "#F5F6F9",
        "plot_bgcolor": "#F5F6F9",
        "template": {
         "data": {
          "bar": [
           {
            "error_x": {
             "color": "#2a3f5f"
            },
            "error_y": {
             "color": "#2a3f5f"
            },
            "marker": {
             "line": {
              "color": "#E5ECF6",
              "width": 0.5
             },
             "pattern": {
              "fillmode": "overlay",
              "size": 10,
              "solidity": 0.2
             }
            },
            "type": "bar"
           }
          ],
          "barpolar": [
           {
            "marker": {
             "line": {
              "color": "#E5ECF6",
              "width": 0.5
             },
             "pattern": {
              "fillmode": "overlay",
              "size": 10,
              "solidity": 0.2
             }
            },
            "type": "barpolar"
           }
          ],
          "carpet": [
           {
            "aaxis": {
             "endlinecolor": "#2a3f5f",
             "gridcolor": "white",
             "linecolor": "white",
             "minorgridcolor": "white",
             "startlinecolor": "#2a3f5f"
            },
            "baxis": {
             "endlinecolor": "#2a3f5f",
             "gridcolor": "white",
             "linecolor": "white",
             "minorgridcolor": "white",
             "startlinecolor": "#2a3f5f"
            },
            "type": "carpet"
           }
          ],
          "choropleth": [
           {
            "colorbar": {
             "outlinewidth": 0,
             "ticks": ""
            },
            "type": "choropleth"
           }
          ],
          "contour": [
           {
            "colorbar": {
             "outlinewidth": 0,
             "ticks": ""
            },
            "colorscale": [
             [
              0,
              "#0d0887"
             ],
             [
              0.1111111111111111,
              "#46039f"
             ],
             [
              0.2222222222222222,
              "#7201a8"
             ],
             [
              0.3333333333333333,
              "#9c179e"
             ],
             [
              0.4444444444444444,
              "#bd3786"
             ],
             [
              0.5555555555555556,
              "#d8576b"
             ],
             [
              0.6666666666666666,
              "#ed7953"
             ],
             [
              0.7777777777777778,
              "#fb9f3a"
             ],
             [
              0.8888888888888888,
              "#fdca26"
             ],
             [
              1,
              "#f0f921"
             ]
            ],
            "type": "contour"
           }
          ],
          "contourcarpet": [
           {
            "colorbar": {
             "outlinewidth": 0,
             "ticks": ""
            },
            "type": "contourcarpet"
           }
          ],
          "heatmap": [
           {
            "colorbar": {
             "outlinewidth": 0,
             "ticks": ""
            },
            "colorscale": [
             [
              0,
              "#0d0887"
             ],
             [
              0.1111111111111111,
              "#46039f"
             ],
             [
              0.2222222222222222,
              "#7201a8"
             ],
             [
              0.3333333333333333,
              "#9c179e"
             ],
             [
              0.4444444444444444,
              "#bd3786"
             ],
             [
              0.5555555555555556,
              "#d8576b"
             ],
             [
              0.6666666666666666,
              "#ed7953"
             ],
             [
              0.7777777777777778,
              "#fb9f3a"
             ],
             [
              0.8888888888888888,
              "#fdca26"
             ],
             [
              1,
              "#f0f921"
             ]
            ],
            "type": "heatmap"
           }
          ],
          "heatmapgl": [
           {
            "colorbar": {
             "outlinewidth": 0,
             "ticks": ""
            },
            "colorscale": [
             [
              0,
              "#0d0887"
             ],
             [
              0.1111111111111111,
              "#46039f"
             ],
             [
              0.2222222222222222,
              "#7201a8"
             ],
             [
              0.3333333333333333,
              "#9c179e"
             ],
             [
              0.4444444444444444,
              "#bd3786"
             ],
             [
              0.5555555555555556,
              "#d8576b"
             ],
             [
              0.6666666666666666,
              "#ed7953"
             ],
             [
              0.7777777777777778,
              "#fb9f3a"
             ],
             [
              0.8888888888888888,
              "#fdca26"
             ],
             [
              1,
              "#f0f921"
             ]
            ],
            "type": "heatmapgl"
           }
          ],
          "histogram": [
           {
            "marker": {
             "pattern": {
              "fillmode": "overlay",
              "size": 10,
              "solidity": 0.2
             }
            },
            "type": "histogram"
           }
          ],
          "histogram2d": [
           {
            "colorbar": {
             "outlinewidth": 0,
             "ticks": ""
            },
            "colorscale": [
             [
              0,
              "#0d0887"
             ],
             [
              0.1111111111111111,
              "#46039f"
             ],
             [
              0.2222222222222222,
              "#7201a8"
             ],
             [
              0.3333333333333333,
              "#9c179e"
             ],
             [
              0.4444444444444444,
              "#bd3786"
             ],
             [
              0.5555555555555556,
              "#d8576b"
             ],
             [
              0.6666666666666666,
              "#ed7953"
             ],
             [
              0.7777777777777778,
              "#fb9f3a"
             ],
             [
              0.8888888888888888,
              "#fdca26"
             ],
             [
              1,
              "#f0f921"
             ]
            ],
            "type": "histogram2d"
           }
          ],
          "histogram2dcontour": [
           {
            "colorbar": {
             "outlinewidth": 0,
             "ticks": ""
            },
            "colorscale": [
             [
              0,
              "#0d0887"
             ],
             [
              0.1111111111111111,
              "#46039f"
             ],
             [
              0.2222222222222222,
              "#7201a8"
             ],
             [
              0.3333333333333333,
              "#9c179e"
             ],
             [
              0.4444444444444444,
              "#bd3786"
             ],
             [
              0.5555555555555556,
              "#d8576b"
             ],
             [
              0.6666666666666666,
              "#ed7953"
             ],
             [
              0.7777777777777778,
              "#fb9f3a"
             ],
             [
              0.8888888888888888,
              "#fdca26"
             ],
             [
              1,
              "#f0f921"
             ]
            ],
            "type": "histogram2dcontour"
           }
          ],
          "mesh3d": [
           {
            "colorbar": {
             "outlinewidth": 0,
             "ticks": ""
            },
            "type": "mesh3d"
           }
          ],
          "parcoords": [
           {
            "line": {
             "colorbar": {
              "outlinewidth": 0,
              "ticks": ""
             }
            },
            "type": "parcoords"
           }
          ],
          "pie": [
           {
            "automargin": true,
            "type": "pie"
           }
          ],
          "scatter": [
           {
            "fillpattern": {
             "fillmode": "overlay",
             "size": 10,
             "solidity": 0.2
            },
            "type": "scatter"
           }
          ],
          "scatter3d": [
           {
            "line": {
             "colorbar": {
              "outlinewidth": 0,
              "ticks": ""
             }
            },
            "marker": {
             "colorbar": {
              "outlinewidth": 0,
              "ticks": ""
             }
            },
            "type": "scatter3d"
           }
          ],
          "scattercarpet": [
           {
            "marker": {
             "colorbar": {
              "outlinewidth": 0,
              "ticks": ""
             }
            },
            "type": "scattercarpet"
           }
          ],
          "scattergeo": [
           {
            "marker": {
             "colorbar": {
              "outlinewidth": 0,
              "ticks": ""
             }
            },
            "type": "scattergeo"
           }
          ],
          "scattergl": [
           {
            "marker": {
             "colorbar": {
              "outlinewidth": 0,
              "ticks": ""
             }
            },
            "type": "scattergl"
           }
          ],
          "scattermapbox": [
           {
            "marker": {
             "colorbar": {
              "outlinewidth": 0,
              "ticks": ""
             }
            },
            "type": "scattermapbox"
           }
          ],
          "scatterpolar": [
           {
            "marker": {
             "colorbar": {
              "outlinewidth": 0,
              "ticks": ""
             }
            },
            "type": "scatterpolar"
           }
          ],
          "scatterpolargl": [
           {
            "marker": {
             "colorbar": {
              "outlinewidth": 0,
              "ticks": ""
             }
            },
            "type": "scatterpolargl"
           }
          ],
          "scatterternary": [
           {
            "marker": {
             "colorbar": {
              "outlinewidth": 0,
              "ticks": ""
             }
            },
            "type": "scatterternary"
           }
          ],
          "surface": [
           {
            "colorbar": {
             "outlinewidth": 0,
             "ticks": ""
            },
            "colorscale": [
             [
              0,
              "#0d0887"
             ],
             [
              0.1111111111111111,
              "#46039f"
             ],
             [
              0.2222222222222222,
              "#7201a8"
             ],
             [
              0.3333333333333333,
              "#9c179e"
             ],
             [
              0.4444444444444444,
              "#bd3786"
             ],
             [
              0.5555555555555556,
              "#d8576b"
             ],
             [
              0.6666666666666666,
              "#ed7953"
             ],
             [
              0.7777777777777778,
              "#fb9f3a"
             ],
             [
              0.8888888888888888,
              "#fdca26"
             ],
             [
              1,
              "#f0f921"
             ]
            ],
            "type": "surface"
           }
          ],
          "table": [
           {
            "cells": {
             "fill": {
              "color": "#EBF0F8"
             },
             "line": {
              "color": "white"
             }
            },
            "header": {
             "fill": {
              "color": "#C8D4E3"
             },
             "line": {
              "color": "white"
             }
            },
            "type": "table"
           }
          ]
         },
         "layout": {
          "annotationdefaults": {
           "arrowcolor": "#2a3f5f",
           "arrowhead": 0,
           "arrowwidth": 1
          },
          "autotypenumbers": "strict",
          "coloraxis": {
           "colorbar": {
            "outlinewidth": 0,
            "ticks": ""
           }
          },
          "colorscale": {
           "diverging": [
            [
             0,
             "#8e0152"
            ],
            [
             0.1,
             "#c51b7d"
            ],
            [
             0.2,
             "#de77ae"
            ],
            [
             0.3,
             "#f1b6da"
            ],
            [
             0.4,
             "#fde0ef"
            ],
            [
             0.5,
             "#f7f7f7"
            ],
            [
             0.6,
             "#e6f5d0"
            ],
            [
             0.7,
             "#b8e186"
            ],
            [
             0.8,
             "#7fbc41"
            ],
            [
             0.9,
             "#4d9221"
            ],
            [
             1,
             "#276419"
            ]
           ],
           "sequential": [
            [
             0,
             "#0d0887"
            ],
            [
             0.1111111111111111,
             "#46039f"
            ],
            [
             0.2222222222222222,
             "#7201a8"
            ],
            [
             0.3333333333333333,
             "#9c179e"
            ],
            [
             0.4444444444444444,
             "#bd3786"
            ],
            [
             0.5555555555555556,
             "#d8576b"
            ],
            [
             0.6666666666666666,
             "#ed7953"
            ],
            [
             0.7777777777777778,
             "#fb9f3a"
            ],
            [
             0.8888888888888888,
             "#fdca26"
            ],
            [
             1,
             "#f0f921"
            ]
           ],
           "sequentialminus": [
            [
             0,
             "#0d0887"
            ],
            [
             0.1111111111111111,
             "#46039f"
            ],
            [
             0.2222222222222222,
             "#7201a8"
            ],
            [
             0.3333333333333333,
             "#9c179e"
            ],
            [
             0.4444444444444444,
             "#bd3786"
            ],
            [
             0.5555555555555556,
             "#d8576b"
            ],
            [
             0.6666666666666666,
             "#ed7953"
            ],
            [
             0.7777777777777778,
             "#fb9f3a"
            ],
            [
             0.8888888888888888,
             "#fdca26"
            ],
            [
             1,
             "#f0f921"
            ]
           ]
          },
          "colorway": [
           "#636efa",
           "#EF553B",
           "#00cc96",
           "#ab63fa",
           "#FFA15A",
           "#19d3f3",
           "#FF6692",
           "#B6E880",
           "#FF97FF",
           "#FECB52"
          ],
          "font": {
           "color": "#2a3f5f"
          },
          "geo": {
           "bgcolor": "white",
           "lakecolor": "white",
           "landcolor": "#E5ECF6",
           "showlakes": true,
           "showland": true,
           "subunitcolor": "white"
          },
          "hoverlabel": {
           "align": "left"
          },
          "hovermode": "closest",
          "mapbox": {
           "style": "light"
          },
          "paper_bgcolor": "white",
          "plot_bgcolor": "#E5ECF6",
          "polar": {
           "angularaxis": {
            "gridcolor": "white",
            "linecolor": "white",
            "ticks": ""
           },
           "bgcolor": "#E5ECF6",
           "radialaxis": {
            "gridcolor": "white",
            "linecolor": "white",
            "ticks": ""
           }
          },
          "scene": {
           "xaxis": {
            "backgroundcolor": "#E5ECF6",
            "gridcolor": "white",
            "gridwidth": 2,
            "linecolor": "white",
            "showbackground": true,
            "ticks": "",
            "zerolinecolor": "white"
           },
           "yaxis": {
            "backgroundcolor": "#E5ECF6",
            "gridcolor": "white",
            "gridwidth": 2,
            "linecolor": "white",
            "showbackground": true,
            "ticks": "",
            "zerolinecolor": "white"
           },
           "zaxis": {
            "backgroundcolor": "#E5ECF6",
            "gridcolor": "white",
            "gridwidth": 2,
            "linecolor": "white",
            "showbackground": true,
            "ticks": "",
            "zerolinecolor": "white"
           }
          },
          "shapedefaults": {
           "line": {
            "color": "#2a3f5f"
           }
          },
          "ternary": {
           "aaxis": {
            "gridcolor": "white",
            "linecolor": "white",
            "ticks": ""
           },
           "baxis": {
            "gridcolor": "white",
            "linecolor": "white",
            "ticks": ""
           },
           "bgcolor": "#E5ECF6",
           "caxis": {
            "gridcolor": "white",
            "linecolor": "white",
            "ticks": ""
           }
          },
          "title": {
           "x": 0.05
          },
          "xaxis": {
           "automargin": true,
           "gridcolor": "white",
           "linecolor": "white",
           "ticks": "",
           "title": {
            "standoff": 15
           },
           "zerolinecolor": "white",
           "zerolinewidth": 2
          },
          "yaxis": {
           "automargin": true,
           "gridcolor": "white",
           "linecolor": "white",
           "ticks": "",
           "title": {
            "standoff": 15
           },
           "zerolinecolor": "white",
           "zerolinewidth": 2
          }
         }
        },
        "title": {
         "font": {
          "color": "#4D5663"
         }
        },
        "xaxis": {
         "gridcolor": "#E1E5ED",
         "rangeslider": {
          "visible": false
         },
         "showgrid": true,
         "tickfont": {
          "color": "#4D5663"
         },
         "title": {
          "font": {
           "color": "#4D5663"
          },
          "text": ""
         },
         "zerolinecolor": "#E1E5ED"
        },
        "yaxis": {
         "gridcolor": "#E1E5ED",
         "showgrid": true,
         "showticklabels": false,
         "tickfont": {
          "color": "#4D5663"
         },
         "title": {
          "font": {
           "color": "#4D5663"
          },
          "text": ""
         },
         "zerolinecolor": "#E1E5ED"
        },
        "yaxis2": {
         "gridcolor": "#E1E5ED",
         "showgrid": true,
         "tickfont": {
          "color": "#4D5663"
         },
         "title": {
          "font": {
           "color": "#4D5663"
          },
          "text": ""
         },
         "zerolinecolor": "#E1E5ED"
        }
       }
      },
      "text/html": [
       "<div>                            <div id=\"90d96d07-76db-4688-9fde-03fe92f47c10\" class=\"plotly-graph-div\" style=\"height:525px; width:100%;\"></div>            <script type=\"text/javascript\">                require([\"plotly\"], function(Plotly) {                    window.PLOTLYENV=window.PLOTLYENV || {};\n",
       "                    window.PLOTLYENV.BASE_URL='https://plot.ly';                                    if (document.getElementById(\"90d96d07-76db-4688-9fde-03fe92f47c10\")) {                    Plotly.newPlot(                        \"90d96d07-76db-4688-9fde-03fe92f47c10\",                        [{\"close\":[265.0,270.92999267578125,285.54998779296875,291.6499938964844,290.0799865722656,293.8299865722656,302.2099914550781,302.94000244140625,307.8699951171875,301.010009765625,294.20001220703125,290.4700012207031,289.3699951171875,289.3900146484375,283.0400085449219,281.760009765625,273.3299865722656,275.0199890136719,271.1700134277344,274.7300109863281,286.9700012207031,288.54998779296875,293.75,293.5,300.1499938964844,300.4599914550781,304.2799987792969,302.32000732421875,306.32000732421875,311.9599914550781,312.739990234375,309.8999938964844,315.6199951171875,316.8699951171875,319.2099914550781,330.6400146484375,327.760009765625,319.4800109863281,329.9200134277344,330.94000244140625,334.42999267578125,329.2900085449219,327.3699951171875,334.19000244140625,330.5899963378906,342.0199890136719,342.1000061035156,348.80999755859375,346.04998779296875,341.7099914550781,344.95001220703125,348.0,344.20001220703125,339.3299865722656,331.7699890136719,328.6499938964844,330.54998779296875,327.3900146484375,325.7300109863281,332.010009765625,327.0,327.6400146484375,323.5400085449219,327.05999755859375,326.54998779296875,331.1400146484375,330.80999755859375,331.8399963378906,327.67999267578125,335.3500061035156,338.54998779296875,342.30999755859375,343.0899963378906,331.8800048828125,335.2699890136719,330.8500061035156,339.3500061035156,343.5199890136719,346.6300048828125,348.1099853515625,352.9700012207031,348.45001220703125,350.1600036621094,349.8399963378906,357.6199951171875,365.9700012207031,370.8900146484375,368.67999267578125,359.9200134277344,354.3999938964844,358.80999755859375,368.7699890136719,369.25,364.55999755859375,358.3800048828125,359.7799987792969,366.260009765625,368.2900085449219,364.510009765625,367.3999938964844,371.3699951171875,372.0199890136719,382.44000244140625,383.44000244140625,388.7200012207031,391.45001220703125,388.1600036621094,384.70001220703125,382.7799987792969,373.94000244140625,378.04998779296875,372.9200134277344,371.29998779296875,371.0,361.5,348.8299865722656,357.5400085449219,357.5299987792969,361.04998779296875,368.75,368.7699890136719,368.7099914550781,372.6199951171875,379.5299987792969,374.989990234375,374.1600036621094,369.8599853515625,367.6700134277344,358.94000244140625,371.760009765625,380.5,375.9800109863281,374.3999938964844,373.3500061035156,364.79998779296875,354.7200012207031,364.760009765625,373.5,372.7099914550781,374.04998779296875,375.8999938964844,374.8399963378906,374.2300109863281,377.54998779296875,374.8800048828125,378.19000244140625,380.3599853515625,377.8599853515625,384.29998779296875,397.8900146484375,399.8800048828125,407.9700012207031,413.8900146484375,415.0,410.7799987792969,408.3500061035156,404.9700012207031,398.79998779296875,393.57000732421875,395.8699951171875,401.45001220703125,408.55999755859375,413.1199951171875,412.4100036621094,419.69000244140625,413.6000061035156,413.510009765625,413.6600036621094,414.5,411.30999755859375,410.32000732421875,405.0,404.5799865722656,403.4800109863281,409.260009765625,403.69000244140625,401.95001220703125,396.67999267578125,391.4599914550781,378.1300048828125,375.8399963378906,385.4700012207031,391.8599853515625,390.8500061035156,399.80999755859375,389.5,384.8900146484375,378.0299987792969,380.0,374.1499938964844,385.80999755859375,388.04998779296875,390.6199951171875,392.80999755859375,385.239990234375,386.5299987792969,386.30999755859375,391.20001220703125,406.07000732421875,413.69000244140625,412.1600036621094,407.8900146484375,407.5899963378906,414.32000732421875,414.75,417.6099853515625,410.989990234375,414.82000732421875,413.3500061035156,416.70001220703125,423.8500061035156,417.8999938964844,408.07000732421875,407.0799865722656,408.3399963378906,405.3500061035156,399.1199951171875,402.3399963378906,404.9100036621094,404.80999755859375,403.0899963378906,391.54998779296875,391.3699951171875,387.3900146484375,396.1600036621094,406.3399963378906,399.19000244140625,389.3900146484375,386.5400085449219,380.989990234375,376.4800109863281,387.5400085449219,382.7300109863281,389.29998779296875,400.1099853515625,397.32000732421875,396.489990234375,391.05999755859375,384.6400146484375,388.82000732421875,389.9100036621094,397.3699951171875,381.79998779296875,371.6099853515625,380.32000732421875,382.3299865722656,385.0400085449219,388.0400085449219,387.6099853515625,386.20001220703125,385.5199890136719,382.54998779296875],\"high\":[267.5799865722656,273.5,288.3800048828125,295.8900146484375,292.2799987792969,295.0,303.9800109863281,303.7200012207031,309.4100036621094,304.8599853515625,306.6000061035156,297.45001220703125,292.739990234375,290.5899963378906,286.3500061035156,285.7699890136719,277.3699951171875,279.8299865722656,277.3999938964844,276.79998779296875,288.25,289.80999755859375,295.8299865722656,297.239990234375,300.8900146484375,302.45001220703125,305.17999267578125,305.010009765625,306.70001220703125,312.9200134277344,314.9800109863281,314.5,316.7799987792969,320.55999755859375,320.0,330.9700012207031,335.80999755859375,328.67999267578125,331.0400085449219,336.19000244140625,340.1000061035156,339.760009765625,335.5799865722656,337.5899963378906,336.3900146484375,342.3999938964844,345.0,350.0,352.4200134277344,346.8999938964844,347.0299987792969,356.8500061035156,347.239990234375,342.8800048828125,341.8900146484375,336.94000244140625,331.3900146484375,335.45001220703125,327.760009765625,335.75,332.6499938964844,329.6600036621094,332.8500061035156,328.5400085449219,329.20001220703125,331.489990234375,334.8999938964844,334.4800109863281,330.04998779296875,344.4700012207031,341.3500061035156,343.739990234375,344.42999267578125,340.4700012207031,335.4700012207031,336.9700012207031,340.6700134277344,345.8999938964844,347.54998779296875,350.1199951171875,353.8299865722656,352.82000732421875,354.05999755859375,351.7799987792969,359.1400146484375,366.29998779296875,371.6499938964844,376.9800109863281,368.6300048828125,368.1300048828125,360.8900146484375,369.510009765625,370.70001220703125,373.0799865722656,360.0,361.95001220703125,367.1400146484375,369.7200012207031,373.7699890136719,368.7900085449219,373.54998779296875,373.07000732421875,383.3599853515625,384.6700134277344,391.25,392.04998779296875,393.260009765625,386.4800109863281,384.2699890136719,389.6400146484375,378.75,378.75,374.8399963378906,374.0799865722656,373.5199890136719,358.3800048828125,357.9700012207031,359.8800048828125,362.4800109863281,370.8800048828125,371.1499938964844,368.8699951171875,378.0899963378906,380.1099853515625,381.6400146484375,376.6000061035156,373.6300048828125,370.0899963378906,362.8900146484375,372.1499938964844,384.0,385.3299865722656,381.7699890136719,378.75,374.92999267578125,355.19000244140625,367.30999755859375,374.8999938964844,373.69000244140625,378.0,376.67999267578125,375.1400146484375,377.44000244140625,379.510009765625,379.95001220703125,386.92999267578125,381.30999755859375,382.6499938964844,384.30999755859375,398.8599853515625,404.6000061035156,410.6300048828125,414.67999267578125,418.6199951171875,416.8900146484375,408.989990234375,408.3500061035156,406.1099853515625,397.7300109863281,396.45001220703125,404.1000061035156,409.6600036621094,416.67999267578125,420.7300109863281,419.8500061035156,420.760009765625,414.8599853515625,416.1099853515625,417.5799865722656,415.1199951171875,414.7300109863281,410.9800109863281,408.8800048828125,409.7900085449219,409.3699951171875,417.010009765625,403.6099853515625,405.9800109863281,399.1600036621094,380.8599853515625,381.5,389.2900085449219,393.739990234375,392.489990234375,401.0,404.2099914550781,392.3900146484375,388.0199890136719,382.7200012207031,386.8699951171875,388.2200012207031,389.54998779296875,397.8500061035156,394.30999755859375,396.95001220703125,388.5899963378906,388.3800048828125,393.6600036621094,407.2699890136719,415.94000244140625,415.8500061035156,414.3299865722656,412.6600036621094,415.3599853515625,419.489990234375,419.80999755859375,418.05999755859375,414.9200134277344,415.9599914550781,418.7300109863281,426.1600036621094,424.0,415.989990234375,414.45001220703125,413.6499938964844,407.5799865722656,405.54998779296875,403.760009765625,405.1000061035156,407.3399963378906,405.8399963378906,402.6499938964844,393.9200134277344,390.239990234375,402.489990234375,406.9599914550781,407.4800109863281,391.7099914550781,396.3699951171875,386.8299865722656,390.1600036621094,389.0899963378906,389.8800048828125,393.6000061035156,401.75,401.7099914550781,400.19000244140625,398.8599853515625,391.19000244140625,392.5,391.3999938964844,399.8399963378906,393.6700134277344,375.6300048828125,382.0899963378906,384.010009765625,387.6099853515625,389.1099853515625,391.3299865722656,389.4599914550781,389.7799987792969,387.0],\"low\":[260.1600036621094,262.57000732421875,273.1000061035156,286.67999267578125,285.05999755859375,284.20001220703125,296.0199890136719,299.1000061035156,303.5400085449219,296.8800048828125,293.79998779296875,287.4800109863281,288.5299987792969,285.5,277.5,280.0799865722656,271.32000732421875,271.3299865722656,270.6199951171875,272.0,278.0,285.17999267578125,289.5199890136719,292.19000244140625,294.5,297.70001220703125,297.75,299.1700134277344,301.7699890136719,309.2200012207031,308.760009765625,307.5799865722656,310.2300109863281,312.2099914550781,310.5799865722656,320.1000061035156,326.2900085449219,319.0400085449219,323.30999755859375,329.510009765625,333.25,323.9200134277344,316.4599914550781,329.1000061035156,325.57000732421875,331.5299987792969,336.4599914550781,343.6400146484375,342.0,337.75,340.3999938964844,346.989990234375,340.6300048828125,336.0,331.3299865722656,328.44000244140625,321.9200134277344,322.69000244140625,317.7200012207031,328.8500061035156,325.44000244140625,324.1600036621094,323.04998779296875,324.0,323.3500061035156,322.9700012207031,328.7900085449219,329.94000244140625,324.17999267578125,326.1499938964844,334.5400085449219,338.6199951171875,336.6000061035156,329.3500061035156,327.55999755859375,330.2900085449219,330.7200012207031,340.8900146484375,343.6600036621094,346.0899963378906,347.4800109863281,347.20001220703125,349.260009765625,342.57000732421875,348.54998779296875,356.5,360.92999267578125,368.5,358.6199951171875,353.2699890136719,353.25,361.70001220703125,364.5,364.0,353.92999267578125,353.3500061035156,360.510009765625,365.510009765625,364.0899963378906,361.9100036621094,367.29998779296875,368.260009765625,376.30999755859375,379.3699951171875,380.1300048828125,386.32000732421875,387.54998779296875,382.2200012207031,378.8800048828125,372.3500061035156,375.1099853515625,370.70001220703125,367.1600036621094,365.25,356.54998779296875,348.1300048828125,351.0400085449219,352.6400146484375,357.6600036621094,362.7799987792969,364.5400085449219,363.8599853515625,370.75,370.8999938964844,374.1499938964844,372.4200134277344,365.4100036621094,362.17999267578125,355.5899963378906,364.95001220703125,367.3299865722656,372.010009765625,371.3900146484375,370.57000732421875,363.8299865722656,349.0,351.5400085449219,367.92999267578125,368.45001220703125,371.3800048828125,373.1099853515625,369.2200012207031,372.3399963378906,374.80999755859375,373.05999755859375,375.75,371.7699890136719,375.760009765625,379.95001220703125,388.6400146484375,393.5799865722656,399.5,407.05999755859375,410.55999755859375,408.17999267578125,402.1499938964844,400.20001220703125,398.5899963378906,390.9100036621094,391.0,399.0,402.70001220703125,408.94000244140625,411.1600036621094,412.5,412.7200012207031,408.760009765625,410.30999755859375,412.6400146484375,410.6000061035156,409.6400146484375,404.70001220703125,403.510009765625,403.1600036621094,403.79998779296875,402.7799987792969,396.2099914550781,394.8900146484375,388.8299865722656,372.5,374.0799865722656,379.7099914550781,388.17999267578125,388.6000061035156,395.17999267578125,388.3900146484375,384.29998779296875,376.6199951171875,375.8500061035156,372.82000732421875,375.5,378.6600036621094,389.760009765625,388.17999267578125,385.0199890136719,381.0199890136719,378.6300048828125,382.20001220703125,396.3399963378906,407.6000061035156,409.69000244140625,406.20001220703125,404.6199951171875,409.1000061035156,413.2699890136719,413.760009765625,410.54998779296875,409.05999755859375,411.17999267578125,413.25,412.7900085449219,412.55999755859375,403.0299987792969,406.1000061035156,407.9599914550781,400.05999755859375,397.25,398.510009765625,399.20001220703125,403.9100036621094,399.0,391.4700012207031,385.67999267578125,381.0400085449219,390.17999267578125,397.510009765625,398.29998779296875,382.7200012207031,382.45001220703125,377.260009765625,376.2099914550781,376.0299987792969,379.0299987792969,383.489990234375,393.05999755859375,395.1400146484375,393.0,388.6600036621094,382.6600036621094,383.260009765625,380.6000061035156,391.79998779296875,380.6300048828125,366.6499938964844,374.760009765625,379.2699890136719,383.57000732421875,385.0,386.239990234375,384.4200134277344,385.20001220703125,380.8399963378906],\"open\":[267.0,263.8800048828125,276.2900085449219,287.7699890136719,292.0,286.79998779296875,297.1400146484375,300.0799865722656,304.04998779296875,301.19000244140625,305.0,295.82000732421875,290.45001220703125,286.69000244140625,285.5299987792969,283.92999267578125,276.0,274.6099853515625,274.2699890136719,272.6600036621094,278.32000732421875,286.6099853515625,290.0,295.0,295.0,299.6000061035156,300.0,303.9800109863281,301.989990234375,310.0,310.0299987792969,309.2200012207031,310.2300109863281,313.0,317.9800109863281,320.1700134277344,333.3299865722656,325.7699890136719,325.0,330.0,333.67999267578125,333.1300048828125,335.5799865722656,331.3599853515625,328.6199951171875,332.07000732421875,338.6600036621094,345.2200012207031,349.44000244140625,345.2799987792969,344.6199951171875,350.75,346.4200134277344,341.05999755859375,337.6199951171875,333.4200134277344,327.3500061035156,334.510009765625,320.3500061035156,329.4100036621094,330.2300109863281,324.29998779296875,332.8500061035156,324.489990234375,327.70001220703125,324.2900085449219,334.0,332.6700134277344,329.510009765625,328.54998779296875,338.8999938964844,340.2900085449219,340.0,339.9700012207031,330.0,334.6199951171875,331.25,341.94000244140625,344.0,348.0,350.54998779296875,351.1199951171875,350.3399963378906,348.8999938964844,352.0,359.7699890136719,362.29998779296875,373.5,363.0,363.07000732421875,353.25,362.0,367.7799987792969,371.3800048828125,360.0,358.9800109863281,361.489990234375,367.32000732421875,369.9100036621094,365.0,371.3299865722656,372.0,377.70001220703125,383.3299865722656,382.25,389.67999267578125,393.0,385.7900085449219,383.1600036621094,389.6400146484375,375.70001220703125,377.42999267578125,373.5,370.989990234375,373.5199890136719,356.5199890136719,352.8900146484375,357.0,358.7900085449219,363.0,368.82000732421875,367.79998779296875,374.8599853515625,370.8999938964844,380.70001220703125,376.30999755859375,373.2300109863281,367.5,359.69000244140625,366.0,370.30999755859375,381.05999755859375,378.75,371.239990234375,374.92999267578125,354.0,352.2699890136719,368.0400085449219,372.29998779296875,374.5899963378906,373.17999267578125,372.5,375.80999755859375,377.0299987792969,376.57000732421875,376.1700134277344,380.25,378.4800109863281,380.1499938964844,388.8800048828125,396.5899963378906,400.1199951171875,408.79998779296875,414.3800048828125,416.0,408.989990234375,403.8399963378906,402.6000061035156,394.6000061035156,391.489990234375,401.8900146484375,403.5899963378906,409.8999938964844,415.8800048828125,412.7799987792969,419.95001220703125,412.1099853515625,413.1600036621094,415.1099853515625,414.0,411.0,409.2200012207031,404.6700134277344,408.0,407.4100036621094,410.29998779296875,398.0,404.5199890136719,396.32000732421875,377.82000732421875,380.8500061035156,380.79998779296875,390.3900146484375,390.4700012207031,396.5799865722656,400.45001220703125,390.67999267578125,388.0,379.44000244140625,380.2099914550781,378.1000061035156,382.3800048828125,392.9100036621094,390.8299865722656,392.8999938964844,386.2200012207031,388.0,392.0,402.30999755859375,408.010009765625,415.17999267578125,411.0,406.79998779296875,409.989990234375,416.2099914550781,416.3699951171875,416.54998779296875,412.0,414.0199890136719,417.07000732421875,415.1000061035156,423.1199951171875,414.6499938964844,411.3999938964844,409.8900146484375,406.1099853515625,402.3299865722656,400.1400146484375,403.0,406.0,403.9100036621094,401.8500061035156,392.29998779296875,382.3800048828125,393.1600036621094,400.25,405.0,384.4800109863281,394.0,383.5299987792969,383.82000732421875,378.0,389.8800048828125,388.6700134277344,393.5799865722656,401.2300109863281,395.70001220703125,398.0,391.19000244140625,383.55999755859375,389.5,395.1300048828125,389.2099914550781,375.5199890136719,376.42999267578125,380.4200134277344,383.7900085449219,386.989990234375,388.92999267578125,387.9700012207031,387.75,385.0],\"showlegend\":false,\"x\":[\"2021-01-04\",\"2021-01-05\",\"2021-01-06\",\"2021-01-07\",\"2021-01-08\",\"2021-01-11\",\"2021-01-12\",\"2021-01-13\",\"2021-01-14\",\"2021-01-15\",\"2021-01-19\",\"2021-01-20\",\"2021-01-21\",\"2021-01-22\",\"2021-01-25\",\"2021-01-26\",\"2021-01-27\",\"2021-01-28\",\"2021-01-29\",\"2021-02-01\",\"2021-02-02\",\"2021-02-03\",\"2021-02-04\",\"2021-02-05\",\"2021-02-08\",\"2021-02-09\",\"2021-02-10\",\"2021-02-11\",\"2021-02-12\",\"2021-02-16\",\"2021-02-17\",\"2021-02-18\",\"2021-02-19\",\"2021-02-22\",\"2021-02-23\",\"2021-02-24\",\"2021-02-25\",\"2021-02-26\",\"2021-03-01\",\"2021-03-02\",\"2021-03-03\",\"2021-03-04\",\"2021-03-05\",\"2021-03-08\",\"2021-03-09\",\"2021-03-10\",\"2021-03-11\",\"2021-03-12\",\"2021-03-15\",\"2021-03-16\",\"2021-03-17\",\"2021-03-18\",\"2021-03-19\",\"2021-03-22\",\"2021-03-23\",\"2021-03-24\",\"2021-03-25\",\"2021-03-26\",\"2021-03-29\",\"2021-03-30\",\"2021-03-31\",\"2021-04-01\",\"2021-04-05\",\"2021-04-06\",\"2021-04-07\",\"2021-04-08\",\"2021-04-09\",\"2021-04-12\",\"2021-04-13\",\"2021-04-14\",\"2021-04-15\",\"2021-04-16\",\"2021-04-19\",\"2021-04-20\",\"2021-04-21\",\"2021-04-22\",\"2021-04-23\",\"2021-04-26\",\"2021-04-27\",\"2021-04-28\",\"2021-04-29\",\"2021-04-30\",\"2021-05-03\",\"2021-05-04\",\"2021-05-05\",\"2021-05-06\",\"2021-05-07\",\"2021-05-10\",\"2021-05-11\",\"2021-05-12\",\"2021-05-13\",\"2021-05-14\",\"2021-05-17\",\"2021-05-18\",\"2021-05-19\",\"2021-05-20\",\"2021-05-21\",\"2021-05-24\",\"2021-05-25\",\"2021-05-26\",\"2021-05-27\",\"2021-05-28\",\"2021-06-01\",\"2021-06-02\",\"2021-06-03\",\"2021-06-04\",\"2021-06-07\",\"2021-06-08\",\"2021-06-09\",\"2021-06-10\",\"2021-06-11\",\"2021-06-14\",\"2021-06-15\",\"2021-06-16\",\"2021-06-17\",\"2021-06-18\",\"2021-06-21\",\"2021-06-22\",\"2021-06-23\",\"2021-06-24\",\"2021-06-25\",\"2021-06-28\",\"2021-06-29\",\"2021-06-30\",\"2021-07-01\",\"2021-07-02\",\"2021-07-06\",\"2021-07-07\",\"2021-07-08\",\"2021-07-09\",\"2021-07-12\",\"2021-07-13\",\"2021-07-14\",\"2021-07-15\",\"2021-07-16\",\"2021-07-19\",\"2021-07-20\",\"2021-07-21\",\"2021-07-22\",\"2021-07-23\",\"2021-07-26\",\"2021-07-27\",\"2021-07-28\",\"2021-07-29\",\"2021-07-30\",\"2021-08-02\",\"2021-08-03\",\"2021-08-04\",\"2021-08-05\",\"2021-08-06\",\"2021-08-09\",\"2021-08-10\",\"2021-08-11\",\"2021-08-12\",\"2021-08-13\",\"2021-08-16\",\"2021-08-17\",\"2021-08-18\",\"2021-08-19\",\"2021-08-20\",\"2021-08-23\",\"2021-08-24\",\"2021-08-25\",\"2021-08-26\",\"2021-08-27\",\"2021-08-30\",\"2021-08-31\",\"2021-09-01\",\"2021-09-02\",\"2021-09-03\",\"2021-09-07\",\"2021-09-08\",\"2021-09-09\",\"2021-09-10\",\"2021-09-13\",\"2021-09-14\",\"2021-09-15\",\"2021-09-16\",\"2021-09-17\",\"2021-09-20\",\"2021-09-21\",\"2021-09-22\",\"2021-09-23\",\"2021-09-24\",\"2021-09-27\",\"2021-09-28\",\"2021-09-29\",\"2021-09-30\",\"2021-10-01\",\"2021-10-04\",\"2021-10-05\",\"2021-10-06\",\"2021-10-07\",\"2021-10-08\",\"2021-10-11\",\"2021-10-12\",\"2021-10-13\",\"2021-10-14\",\"2021-10-15\",\"2021-10-18\",\"2021-10-19\",\"2021-10-20\",\"2021-10-21\",\"2021-10-22\",\"2021-10-25\",\"2021-10-26\",\"2021-10-27\",\"2021-10-28\",\"2021-10-29\",\"2021-11-01\",\"2021-11-02\",\"2021-11-03\",\"2021-11-04\",\"2021-11-05\",\"2021-11-08\",\"2021-11-09\",\"2021-11-10\",\"2021-11-11\",\"2021-11-12\",\"2021-11-15\",\"2021-11-16\",\"2021-11-17\",\"2021-11-18\",\"2021-11-19\",\"2021-11-22\",\"2021-11-23\",\"2021-11-24\",\"2021-11-26\",\"2021-11-29\",\"2021-11-30\",\"2021-12-01\",\"2021-12-02\",\"2021-12-03\",\"2021-12-06\",\"2021-12-07\",\"2021-12-08\",\"2021-12-09\",\"2021-12-10\",\"2021-12-13\",\"2021-12-14\",\"2021-12-15\",\"2021-12-16\",\"2021-12-17\",\"2021-12-20\",\"2021-12-21\",\"2021-12-22\",\"2021-12-23\",\"2021-12-27\",\"2021-12-28\",\"2021-12-29\",\"2021-12-30\",\"2021-12-31\"],\"yaxis\":\"y2\",\"type\":\"candlestick\"}],                        {\"legend\":{\"bgcolor\":\"#F5F6F9\",\"font\":{\"color\":\"#4D5663\"}},\"paper_bgcolor\":\"#F5F6F9\",\"plot_bgcolor\":\"#F5F6F9\",\"template\":{\"data\":{\"barpolar\":[{\"marker\":{\"line\":{\"color\":\"#E5ECF6\",\"width\":0.5},\"pattern\":{\"fillmode\":\"overlay\",\"size\":10,\"solidity\":0.2}},\"type\":\"barpolar\"}],\"bar\":[{\"error_x\":{\"color\":\"#2a3f5f\"},\"error_y\":{\"color\":\"#2a3f5f\"},\"marker\":{\"line\":{\"color\":\"#E5ECF6\",\"width\":0.5},\"pattern\":{\"fillmode\":\"overlay\",\"size\":10,\"solidity\":0.2}},\"type\":\"bar\"}],\"carpet\":[{\"aaxis\":{\"endlinecolor\":\"#2a3f5f\",\"gridcolor\":\"white\",\"linecolor\":\"white\",\"minorgridcolor\":\"white\",\"startlinecolor\":\"#2a3f5f\"},\"baxis\":{\"endlinecolor\":\"#2a3f5f\",\"gridcolor\":\"white\",\"linecolor\":\"white\",\"minorgridcolor\":\"white\",\"startlinecolor\":\"#2a3f5f\"},\"type\":\"carpet\"}],\"choropleth\":[{\"colorbar\":{\"outlinewidth\":0,\"ticks\":\"\"},\"type\":\"choropleth\"}],\"contourcarpet\":[{\"colorbar\":{\"outlinewidth\":0,\"ticks\":\"\"},\"type\":\"contourcarpet\"}],\"contour\":[{\"colorbar\":{\"outlinewidth\":0,\"ticks\":\"\"},\"colorscale\":[[0.0,\"#0d0887\"],[0.1111111111111111,\"#46039f\"],[0.2222222222222222,\"#7201a8\"],[0.3333333333333333,\"#9c179e\"],[0.4444444444444444,\"#bd3786\"],[0.5555555555555556,\"#d8576b\"],[0.6666666666666666,\"#ed7953\"],[0.7777777777777778,\"#fb9f3a\"],[0.8888888888888888,\"#fdca26\"],[1.0,\"#f0f921\"]],\"type\":\"contour\"}],\"heatmapgl\":[{\"colorbar\":{\"outlinewidth\":0,\"ticks\":\"\"},\"colorscale\":[[0.0,\"#0d0887\"],[0.1111111111111111,\"#46039f\"],[0.2222222222222222,\"#7201a8\"],[0.3333333333333333,\"#9c179e\"],[0.4444444444444444,\"#bd3786\"],[0.5555555555555556,\"#d8576b\"],[0.6666666666666666,\"#ed7953\"],[0.7777777777777778,\"#fb9f3a\"],[0.8888888888888888,\"#fdca26\"],[1.0,\"#f0f921\"]],\"type\":\"heatmapgl\"}],\"heatmap\":[{\"colorbar\":{\"outlinewidth\":0,\"ticks\":\"\"},\"colorscale\":[[0.0,\"#0d0887\"],[0.1111111111111111,\"#46039f\"],[0.2222222222222222,\"#7201a8\"],[0.3333333333333333,\"#9c179e\"],[0.4444444444444444,\"#bd3786\"],[0.5555555555555556,\"#d8576b\"],[0.6666666666666666,\"#ed7953\"],[0.7777777777777778,\"#fb9f3a\"],[0.8888888888888888,\"#fdca26\"],[1.0,\"#f0f921\"]],\"type\":\"heatmap\"}],\"histogram2dcontour\":[{\"colorbar\":{\"outlinewidth\":0,\"ticks\":\"\"},\"colorscale\":[[0.0,\"#0d0887\"],[0.1111111111111111,\"#46039f\"],[0.2222222222222222,\"#7201a8\"],[0.3333333333333333,\"#9c179e\"],[0.4444444444444444,\"#bd3786\"],[0.5555555555555556,\"#d8576b\"],[0.6666666666666666,\"#ed7953\"],[0.7777777777777778,\"#fb9f3a\"],[0.8888888888888888,\"#fdca26\"],[1.0,\"#f0f921\"]],\"type\":\"histogram2dcontour\"}],\"histogram2d\":[{\"colorbar\":{\"outlinewidth\":0,\"ticks\":\"\"},\"colorscale\":[[0.0,\"#0d0887\"],[0.1111111111111111,\"#46039f\"],[0.2222222222222222,\"#7201a8\"],[0.3333333333333333,\"#9c179e\"],[0.4444444444444444,\"#bd3786\"],[0.5555555555555556,\"#d8576b\"],[0.6666666666666666,\"#ed7953\"],[0.7777777777777778,\"#fb9f3a\"],[0.8888888888888888,\"#fdca26\"],[1.0,\"#f0f921\"]],\"type\":\"histogram2d\"}],\"histogram\":[{\"marker\":{\"pattern\":{\"fillmode\":\"overlay\",\"size\":10,\"solidity\":0.2}},\"type\":\"histogram\"}],\"mesh3d\":[{\"colorbar\":{\"outlinewidth\":0,\"ticks\":\"\"},\"type\":\"mesh3d\"}],\"parcoords\":[{\"line\":{\"colorbar\":{\"outlinewidth\":0,\"ticks\":\"\"}},\"type\":\"parcoords\"}],\"pie\":[{\"automargin\":true,\"type\":\"pie\"}],\"scatter3d\":[{\"line\":{\"colorbar\":{\"outlinewidth\":0,\"ticks\":\"\"}},\"marker\":{\"colorbar\":{\"outlinewidth\":0,\"ticks\":\"\"}},\"type\":\"scatter3d\"}],\"scattercarpet\":[{\"marker\":{\"colorbar\":{\"outlinewidth\":0,\"ticks\":\"\"}},\"type\":\"scattercarpet\"}],\"scattergeo\":[{\"marker\":{\"colorbar\":{\"outlinewidth\":0,\"ticks\":\"\"}},\"type\":\"scattergeo\"}],\"scattergl\":[{\"marker\":{\"colorbar\":{\"outlinewidth\":0,\"ticks\":\"\"}},\"type\":\"scattergl\"}],\"scattermapbox\":[{\"marker\":{\"colorbar\":{\"outlinewidth\":0,\"ticks\":\"\"}},\"type\":\"scattermapbox\"}],\"scatterpolargl\":[{\"marker\":{\"colorbar\":{\"outlinewidth\":0,\"ticks\":\"\"}},\"type\":\"scatterpolargl\"}],\"scatterpolar\":[{\"marker\":{\"colorbar\":{\"outlinewidth\":0,\"ticks\":\"\"}},\"type\":\"scatterpolar\"}],\"scatter\":[{\"fillpattern\":{\"fillmode\":\"overlay\",\"size\":10,\"solidity\":0.2},\"type\":\"scatter\"}],\"scatterternary\":[{\"marker\":{\"colorbar\":{\"outlinewidth\":0,\"ticks\":\"\"}},\"type\":\"scatterternary\"}],\"surface\":[{\"colorbar\":{\"outlinewidth\":0,\"ticks\":\"\"},\"colorscale\":[[0.0,\"#0d0887\"],[0.1111111111111111,\"#46039f\"],[0.2222222222222222,\"#7201a8\"],[0.3333333333333333,\"#9c179e\"],[0.4444444444444444,\"#bd3786\"],[0.5555555555555556,\"#d8576b\"],[0.6666666666666666,\"#ed7953\"],[0.7777777777777778,\"#fb9f3a\"],[0.8888888888888888,\"#fdca26\"],[1.0,\"#f0f921\"]],\"type\":\"surface\"}],\"table\":[{\"cells\":{\"fill\":{\"color\":\"#EBF0F8\"},\"line\":{\"color\":\"white\"}},\"header\":{\"fill\":{\"color\":\"#C8D4E3\"},\"line\":{\"color\":\"white\"}},\"type\":\"table\"}]},\"layout\":{\"annotationdefaults\":{\"arrowcolor\":\"#2a3f5f\",\"arrowhead\":0,\"arrowwidth\":1},\"autotypenumbers\":\"strict\",\"coloraxis\":{\"colorbar\":{\"outlinewidth\":0,\"ticks\":\"\"}},\"colorscale\":{\"diverging\":[[0,\"#8e0152\"],[0.1,\"#c51b7d\"],[0.2,\"#de77ae\"],[0.3,\"#f1b6da\"],[0.4,\"#fde0ef\"],[0.5,\"#f7f7f7\"],[0.6,\"#e6f5d0\"],[0.7,\"#b8e186\"],[0.8,\"#7fbc41\"],[0.9,\"#4d9221\"],[1,\"#276419\"]],\"sequential\":[[0.0,\"#0d0887\"],[0.1111111111111111,\"#46039f\"],[0.2222222222222222,\"#7201a8\"],[0.3333333333333333,\"#9c179e\"],[0.4444444444444444,\"#bd3786\"],[0.5555555555555556,\"#d8576b\"],[0.6666666666666666,\"#ed7953\"],[0.7777777777777778,\"#fb9f3a\"],[0.8888888888888888,\"#fdca26\"],[1.0,\"#f0f921\"]],\"sequentialminus\":[[0.0,\"#0d0887\"],[0.1111111111111111,\"#46039f\"],[0.2222222222222222,\"#7201a8\"],[0.3333333333333333,\"#9c179e\"],[0.4444444444444444,\"#bd3786\"],[0.5555555555555556,\"#d8576b\"],[0.6666666666666666,\"#ed7953\"],[0.7777777777777778,\"#fb9f3a\"],[0.8888888888888888,\"#fdca26\"],[1.0,\"#f0f921\"]]},\"colorway\":[\"#636efa\",\"#EF553B\",\"#00cc96\",\"#ab63fa\",\"#FFA15A\",\"#19d3f3\",\"#FF6692\",\"#B6E880\",\"#FF97FF\",\"#FECB52\"],\"font\":{\"color\":\"#2a3f5f\"},\"geo\":{\"bgcolor\":\"white\",\"lakecolor\":\"white\",\"landcolor\":\"#E5ECF6\",\"showlakes\":true,\"showland\":true,\"subunitcolor\":\"white\"},\"hoverlabel\":{\"align\":\"left\"},\"hovermode\":\"closest\",\"mapbox\":{\"style\":\"light\"},\"paper_bgcolor\":\"white\",\"plot_bgcolor\":\"#E5ECF6\",\"polar\":{\"angularaxis\":{\"gridcolor\":\"white\",\"linecolor\":\"white\",\"ticks\":\"\"},\"bgcolor\":\"#E5ECF6\",\"radialaxis\":{\"gridcolor\":\"white\",\"linecolor\":\"white\",\"ticks\":\"\"}},\"scene\":{\"xaxis\":{\"backgroundcolor\":\"#E5ECF6\",\"gridcolor\":\"white\",\"gridwidth\":2,\"linecolor\":\"white\",\"showbackground\":true,\"ticks\":\"\",\"zerolinecolor\":\"white\"},\"yaxis\":{\"backgroundcolor\":\"#E5ECF6\",\"gridcolor\":\"white\",\"gridwidth\":2,\"linecolor\":\"white\",\"showbackground\":true,\"ticks\":\"\",\"zerolinecolor\":\"white\"},\"zaxis\":{\"backgroundcolor\":\"#E5ECF6\",\"gridcolor\":\"white\",\"gridwidth\":2,\"linecolor\":\"white\",\"showbackground\":true,\"ticks\":\"\",\"zerolinecolor\":\"white\"}},\"shapedefaults\":{\"line\":{\"color\":\"#2a3f5f\"}},\"ternary\":{\"aaxis\":{\"gridcolor\":\"white\",\"linecolor\":\"white\",\"ticks\":\"\"},\"baxis\":{\"gridcolor\":\"white\",\"linecolor\":\"white\",\"ticks\":\"\"},\"bgcolor\":\"#E5ECF6\",\"caxis\":{\"gridcolor\":\"white\",\"linecolor\":\"white\",\"ticks\":\"\"}},\"title\":{\"x\":0.05},\"xaxis\":{\"automargin\":true,\"gridcolor\":\"white\",\"linecolor\":\"white\",\"ticks\":\"\",\"title\":{\"standoff\":15},\"zerolinecolor\":\"white\",\"zerolinewidth\":2},\"yaxis\":{\"automargin\":true,\"gridcolor\":\"white\",\"linecolor\":\"white\",\"ticks\":\"\",\"title\":{\"standoff\":15},\"zerolinecolor\":\"white\",\"zerolinewidth\":2}}},\"title\":{\"font\":{\"color\":\"#4D5663\"}},\"xaxis\":{\"gridcolor\":\"#E1E5ED\",\"rangeslider\":{\"visible\":false},\"showgrid\":true,\"tickfont\":{\"color\":\"#4D5663\"},\"title\":{\"font\":{\"color\":\"#4D5663\"},\"text\":\"\"},\"zerolinecolor\":\"#E1E5ED\"},\"yaxis\":{\"gridcolor\":\"#E1E5ED\",\"showgrid\":true,\"showticklabels\":false,\"tickfont\":{\"color\":\"#4D5663\"},\"title\":{\"font\":{\"color\":\"#4D5663\"},\"text\":\"\"},\"zerolinecolor\":\"#E1E5ED\"},\"yaxis2\":{\"gridcolor\":\"#E1E5ED\",\"showgrid\":true,\"tickfont\":{\"color\":\"#4D5663\"},\"title\":{\"font\":{\"color\":\"#4D5663\"},\"text\":\"\"},\"zerolinecolor\":\"#E1E5ED\"}},                        {\"showLink\": true, \"linkText\": \"Export to plot.ly\", \"plotlyServerURL\": \"https://plot.ly\", \"responsive\": true}                    ).then(function(){\n",
       "                            \n",
       "var gd = document.getElementById('90d96d07-76db-4688-9fde-03fe92f47c10');\n",
       "var x = new MutationObserver(function (mutations, observer) {{\n",
       "        var display = window.getComputedStyle(gd).display;\n",
       "        if (!display || display === 'none') {{\n",
       "            console.log([gd, 'removed!']);\n",
       "            Plotly.purge(gd);\n",
       "            observer.disconnect();\n",
       "        }}\n",
       "}});\n",
       "\n",
       "// Listen for the removal of the full notebook cells\n",
       "var notebookContainer = gd.closest('#notebook-container');\n",
       "if (notebookContainer) {{\n",
       "    x.observe(notebookContainer, {childList: true});\n",
       "}}\n",
       "\n",
       "// Listen for the clearing of the current output cell\n",
       "var outputEl = gd.closest('.output');\n",
       "if (outputEl) {{\n",
       "    x.observe(outputEl, {childList: true});\n",
       "}}\n",
       "\n",
       "                        })                };                });            </script>        </div>"
      ]
     },
     "metadata": {},
     "output_type": "display_data"
    }
   ],
   "source": [
    "GS[['Open', 'High', 'Low', 'Close']]['2021-01-01':'2022-01-01'].iplot(kind='candle')"
   ]
  },
  {
   "cell_type": "code",
   "execution_count": 33,
   "id": "6282aa37",
   "metadata": {},
   "outputs": [
    {
     "data": {
      "application/vnd.plotly.v1+json": {
       "config": {
        "linkText": "Export to plot.ly",
        "plotlyServerURL": "https://plot.ly",
        "showLink": true
       },
       "data": [
        {
         "close": [
          125.87000274658203,
          125.6500015258789,
          131.5500030517578,
          135.8699951171875,
          136.02000427246094,
          138.0500030517578,
          140.22000122070312,
          140.35000610351562,
          141.1699981689453,
          138.63999938964844,
          138.0399932861328,
          135.97000122070312,
          134.8300018310547,
          133.7899932861328,
          132.1199951171875,
          131.5800018310547,
          127.86000061035156,
          130.11000061035156,
          128.6699981689453,
          129.6199951171875,
          133.61000061035156,
          135.13999938964844,
          138.25,
          137.97999572753906,
          140.13999938964844,
          139.5800018310547,
          139.66000366210938,
          139.27000427246094,
          141.25,
          144.64999389648438,
          145.10000610351562,
          145.58999633789062,
          148.02000427246094,
          149.41000366210938,
          150.61000061035156,
          153.25999450683594,
          151.17999267578125,
          147.1699981689453,
          150.5,
          150.00999450683594,
          152.91000366210938,
          150.55999755859375,
          150.91000366210938,
          152.91000366210938,
          151.8300018310547,
          155.1300048828125,
          154.32000732421875,
          156.14999389648438,
          155.3699951171875,
          153.50999450683594,
          155.08999633789062,
          157.64999389648438,
          155.13999938964844,
          150.97000122070312,
          149.4600067138672,
          150.6199951171875,
          152.5500030517578,
          155.08999633789062,
          152.67999267578125,
          154.47999572753906,
          152.22999572753906,
          153.7100067138672,
          153.6199951171875,
          152.5399932861328,
          154.92999267578125,
          155.1199951171875,
          156.27999877929688,
          155.9499969482422,
          154.08999633789062,
          151.2100067138672,
          152.1699981689453,
          153.3000030517578,
          152.64999389648438,
          149.27000427246094,
          150.5399932861328,
          147.3699951171875,
          150.19000244140625,
          150.55999755859375,
          151.25,
          152.22999572753906,
          155.19000244140625,
          153.80999755859375,
          153.36000061035156,
          155.47999572753906,
          157.52000427246094,
          160.69000244140625,
          161.24000549316406,
          161.22000122070312,
          158.5399932861328,
          157.4499969482422,
          161.5,
          164.00999450683594,
          164.6699981689453,
          162.35000610351562,
          161.11000061035156,
          160.8300018310547,
          162.66000366210938,
          163.5399932861328,
          161.85000610351562,
          161.8300018310547,
          164.35000610351562,
          164.24000549316406,
          166.0500030517578,
          166.05999755859375,
          166.1699981689453,
          166.44000244140625,
          165.66000366210938,
          165,
          162.94000244140625,
          160.39999389648438,
          160.2899932861328,
          157.57000732421875,
          155.17999267578125,
          156.27000427246094,
          151.75999450683594,
          147.9199981689453,
          150.42999267578125,
          150.2100067138672,
          151.1199951171875,
          152.50999450683594,
          154.0500030517578,
          154.3300018310547,
          154.13999938964844,
          155.5399932861328,
          157.0800018310547,
          156.02999877929688,
          153.41000366210938,
          153.58999633789062,
          150.94000244140625,
          155.77000427246094,
          158,
          155.64999389648438,
          155.1199951171875,
          155.4600067138672,
          151.91000366210938,
          146.97000122070312,
          149.7100067138672,
          152.86000061035156,
          150.92999267578125,
          150.63999938964844,
          151.64999389648438,
          151.4499969482422,
          151.6999969482422,
          153,
          151.77999877929688,
          151.1699981689453,
          152.88999938964844,
          151.24000549316406,
          153.14999389648438,
          157.5,
          157.3300018310547,
          159.25999450683594,
          161.16000366210938,
          161.7899932861328,
          159.97999572753906,
          158.92999267578125,
          157.00999450683594,
          155.5800018310547,
          154.27999877929688,
          154.72000122070312,
          156.6999969482422,
          157.6699981689453,
          160.9199981689453,
          161.75,
          163.0500030517578,
          160.44000244140625,
          159.9499969482422,
          159.72000122070312,
          160.4600067138672,
          159.49000549316406,
          159.2100067138672,
          158.5,
          159.19000244140625,
          157.36000061035156,
          159.86000061035156,
          157.07000732421875,
          158.16000366210938,
          158.08999633789062,
          157.67999267578125,
          152.9600067138672,
          152.97999572753906,
          155.91000366210938,
          161.17999267578125,
          163.0399932861328,
          166.97999572753906,
          166.0800018310547,
          165.9499969482422,
          163.69000244140625,
          167.1300048828125,
          166.9499969482422,
          168.66000366210938,
          169.02000427246094,
          170.08999633789062,
          170.22000122070312,
          166.63999938964844,
          165.36000061035156,
          161,
          163.47000122070312,
          166.61000061035156,
          166.5500030517578,
          168.57000732421875,
          170.83999633789062,
          169.5,
          171.77999877929688,
          170.94000244140625,
          171.39999389648438,
          167.8300018310547,
          170.36000061035156,
          169.88999938964844,
          169.8000030517578,
          170.47000122070312,
          170.52999877929688,
          168.2899932861328,
          168.0500030517578,
          169.05999755859375,
          167.77999877929688,
          167.6199951171875,
          167.61000061035156,
          166.86000061035156,
          166.55999755859375,
          165.36000061035156,
          164.47000122070312,
          163.0500030517578,
          160.9199981689453,
          164.35000610351562,
          168.27999877929688,
          166.9600067138672,
          161.92999267578125,
          161.22999572753906,
          158.8300018310547,
          157.88999938964844,
          161.2100067138672,
          158.2899932861328,
          160.16000366210938,
          162.57000732421875,
          160.7100067138672,
          160.4600067138672,
          159.82000732421875,
          157.9199981689453,
          159.1300048828125,
          157.94000244140625,
          160.41000366210938,
          156.75999450683594,
          153.94000244140625,
          156.08999633789062,
          156.6999969482422,
          157.25999450683594,
          158.16000366210938,
          158.63999938964844,
          158.55999755859375,
          158.47999572753906,
          158.35000610351562
         ],
         "high": [
          127.86000061035156,
          126.30000305175781,
          132.77000427246094,
          138.19000244140625,
          136.35000610351562,
          138.1999969482422,
          141.66000366210938,
          140.7899932861328,
          142.75,
          141.64999389648438,
          140.6999969482422,
          138.1699981689453,
          136.16000366210938,
          134.39999389648438,
          133.1699981689453,
          133.1699981689453,
          129.85000610351562,
          132.1699981689453,
          131.72000122070312,
          130.07000732421875,
          134.38999938964844,
          135.75999450683594,
          138.66000366210938,
          139.49000549316406,
          140.3000030517578,
          139.97999572753906,
          140.8699951171875,
          140.5500030517578,
          141.61000061035156,
          145.32000732421875,
          145.3800048828125,
          145.7899932861328,
          148.83999633789062,
          150.19000244140625,
          152.30999755859375,
          153.75999450683594,
          154.89999389648438,
          150.8699951171875,
          151.3800048828125,
          151.77999877929688,
          154.97999572753906,
          154.3800048828125,
          153.49000549316406,
          155.4600067138672,
          154.25,
          156.16000366210938,
          156.14999389648438,
          157.6300048828125,
          156.9199981689453,
          154.60000610351562,
          156.8800048828125,
          161.69000244140625,
          155.94000244140625,
          153.97000122070312,
          152.1199951171875,
          153.17999267578125,
          152.97000122070312,
          155.4499969482422,
          153.72999572753906,
          155.8699951171875,
          154.49000549316406,
          153.7899932861328,
          154.94000244140625,
          154.27999877929688,
          155.22999572753906,
          155.50999450683594,
          157.0399932861328,
          157.25,
          155.1999969482422,
          153.8300018310547,
          152.1999969482422,
          154.50999450683594,
          153.8800048828125,
          151.75,
          150.61000061035156,
          150.3000030517578,
          151.1300048828125,
          152.4600067138672,
          151.57000732421875,
          152.88999938964844,
          155.27999877929688,
          154.49000549316406,
          155.47999572753906,
          155.63999938964844,
          158.27999877929688,
          160.82000732421875,
          161.5,
          163.72999572753906,
          162.38999938964844,
          160.77999877929688,
          162.4499969482422,
          164.4499969482422,
          164.85000610351562,
          165.5,
          161.17999267578125,
          161.86000061035156,
          163.22000122070312,
          164.22999572753906,
          165.6999969482422,
          163.74000549316406,
          164.75,
          164.94000244140625,
          166.91000366210938,
          167.44000244140625,
          167.25,
          166.6699981689453,
          167.10000610351562,
          165.75999450683594,
          164.22000122070312,
          165.24000549316406,
          161.1999969482422,
          160.3300018310547,
          156.9199981689453,
          157.6199951171875,
          157.4600067138672,
          149.6999969482422,
          151.1999969482422,
          150.97000122070312,
          152.0399932861328,
          153.1199951171875,
          154.5,
          154.47999572753906,
          156.30999755859375,
          156.0800018310547,
          157.13999938964844,
          156.32000732421875,
          155.77999877929688,
          154.27999877929688,
          152.52999877929688,
          156.14999389648438,
          159.16000366210938,
          157.38999938964844,
          157.27999877929688,
          156.52999877929688,
          156.27999877929688,
          149.82000732421875,
          151.1199951171875,
          153.64999389648438,
          153.44000244140625,
          152.83999633789062,
          151.9600067138672,
          152.49000549316406,
          152.77000427246094,
          153.8699951171875,
          153.6699981689453,
          154.4499969482422,
          153.32000732421875,
          153.3699951171875,
          153.69000244140625,
          157.82000732421875,
          158.5500030517578,
          159.97999572753906,
          161.5,
          162.3699951171875,
          162.16000366210938,
          159.02999877929688,
          158.86000061035156,
          158.00999450683594,
          155.55999755859375,
          154.89999389648438,
          157.08999633789062,
          158.5500030517578,
          161.77999877929688,
          163.8300018310547,
          163.16000366210938,
          163.49000549316406,
          161.3699951171875,
          160.75999450683594,
          161.61000061035156,
          160.88999938964844,
          161.3800048828125,
          159.5800018310547,
          160.8300018310547,
          160.72000122070312,
          160.0500030517578,
          161.33999633789062,
          158.69000244140625,
          160.85000610351562,
          159.00999450683594,
          154.55999755859375,
          154.5500030517578,
          157.25,
          161.7100067138672,
          163.58999633789062,
          167.39999389648438,
          169.3000030517578,
          166.89999389648438,
          166.99000549316406,
          168.3000030517578,
          170.44000244140625,
          170.13999938964844,
          169.10000610351562,
          171.50999450683594,
          171.33999633789062,
          171.2899932861328,
          166.69000244140625,
          165.41000366210938,
          164.00999450683594,
          167.1699981689453,
          168.61000061035156,
          168.64999389648438,
          170.8699951171875,
          171.3300018310547,
          172.08999633789062,
          172.9600067138672,
          172.49000549316406,
          170.6999969482422,
          170.50999450683594,
          172.24000549316406,
          172.3300018310547,
          171.69000244140625,
          171.1300048828125,
          170.1999969482422,
          170.08999633789062,
          170.9199981689453,
          168.47000122070312,
          168.9499969482422,
          168.67999267578125,
          167.74000549316406,
          167.7899932861328,
          167.07000732421875,
          165.55999755859375,
          164.85000610351562,
          162.11000061035156,
          165.97999572753906,
          168.55999755859375,
          169.44000244140625,
          162.64999389648438,
          164.77999877929688,
          160.6300048828125,
          163.27000427246094,
          163.25,
          161.8300018310547,
          162.61000061035156,
          163.38999938964844,
          163.27000427246094,
          160.92999267578125,
          161.6999969482422,
          159.7899932861328,
          160.88999938964844,
          159.85000610351562,
          161.82000732421875,
          159.3800048828125,
          154.6999969482422,
          157.17999267578125,
          157.05999755859375,
          159.1199951171875,
          158.1999969482422,
          160.14999389648438,
          159.6300048828125,
          160.24000549316406,
          159.2899932861328
         ],
         "low": [
          124.77999877929688,
          123.7699966430664,
          127.87999725341797,
          134.9199981689453,
          134.1199951171875,
          134.11000061035156,
          138.8300018310547,
          138.10000610351562,
          140,
          137.00999450683594,
          137.82000732421875,
          135.44000244140625,
          134.32000732421875,
          132.1999969482422,
          130.05999755859375,
          131.33999633789062,
          127.3499984741211,
          128.99000549316406,
          128.19000244140625,
          128.47999572753906,
          131.22000122070312,
          133.50999450683594,
          135.47000122070312,
          137.3800048828125,
          138.17999267578125,
          138.5399932861328,
          139.0399932861328,
          138.22000122070312,
          139,
          142.39999389648438,
          143.1199951171875,
          143.39999389648438,
          145.86000061035156,
          146.7899932861328,
          149.58999633789062,
          150.11000061035156,
          150.58999633789062,
          146.50999450683594,
          148.47999572753906,
          149.83999633789062,
          150.82000732421875,
          148.6199951171875,
          147.97000122070312,
          150.75,
          149.82000732421875,
          151.50999450683594,
          153.36000061035156,
          155.07000732421875,
          153.9600067138672,
          152.19000244140625,
          153.0500030517578,
          157.11000061035156,
          151.19000244140625,
          150.61000061035156,
          148.9600067138672,
          149.86000061035156,
          149.3300018310547,
          152.5500030517578,
          151.0399932861328,
          153.8800048828125,
          152.1199951171875,
          151.5500030517578,
          152.60000610351562,
          151.86000061035156,
          152.64999389648438,
          152.30999755859375,
          154.97000122070312,
          155.57000732421875,
          152.42999267578125,
          150.92999267578125,
          149.32000732421875,
          152.69000244140625,
          152.22000122070312,
          148.64999389648438,
          146.7899932861328,
          147.25999450683594,
          146.69000244140625,
          150.3800048828125,
          150.11000061035156,
          151.39999389648438,
          153.1999969482422,
          153.00999450683594,
          153.1300048828125,
          152.13999938964844,
          154.6300048828125,
          157.16000366210938,
          157.02000427246094,
          161.1199951171875,
          158.0399932861328,
          157.02999877929688,
          157.67999267578125,
          161.99000549316406,
          163.02999877929688,
          162.24000549316406,
          158.63999938964844,
          159.52000427246094,
          160.94000244140625,
          162.1199951171875,
          161.55999755859375,
          161.30999755859375,
          162.57000732421875,
          163.25999450683594,
          165.47999572753906,
          165.52999877929688,
          164.66000366210938,
          165.02999877929688,
          165.13999938964844,
          163.16000366210938,
          162.27999877929688,
          160.30999755859375,
          159.05999755859375,
          156.66000366210938,
          154.1300048828125,
          153.11000061035156,
          151.25,
          147.55999755859375,
          149.02000427246094,
          148.66000366210938,
          150.08999633789062,
          151.22000122070312,
          151.6699981689453,
          152.1199951171875,
          153.61000061035156,
          153.7100067138672,
          155.4199981689453,
          155.1199951171875,
          152.35000610351562,
          151.5500030517578,
          150.0399932861328,
          152.5800018310547,
          153.94000244140625,
          153.5,
          152.9499969482422,
          153.6999969482422,
          151.02000427246094,
          145.7100067138672,
          146.3300018310547,
          151.36000061035156,
          149.97000122070312,
          150.25,
          150.1699981689453,
          149.8000030517578,
          150.8800048828125,
          151.91000366210938,
          151.1999969482422,
          151.07000732421875,
          149.52000427246094,
          150.91000366210938,
          152.00999450683594,
          155.11000061035156,
          155.89999389648438,
          156.30999755859375,
          159.0800018310547,
          160.5500030517578,
          159.57000732421875,
          156.77999877929688,
          155.27000427246094,
          155.33999633789062,
          153.00999450683594,
          153.16000366210938,
          155.24000549316406,
          156.8699951171875,
          157.8000030517578,
          161.14999389648438,
          161.25999450683594,
          159.8800048828125,
          159.35000610351562,
          158.97000122070312,
          159.42999267578125,
          159.14999389648438,
          158.9600067138672,
          158.0399932861328,
          158.0800018310547,
          157.22000122070312,
          158.07000732421875,
          156.25999450683594,
          156.47000122070312,
          157.22000122070312,
          157,
          150.49000549316406,
          152.5800018310547,
          155.10000610351562,
          157.6699981689453,
          160.82000732421875,
          164.61000061035156,
          165.66000366210938,
          165.0399932861328,
          162.7899932861328,
          163.60000610351562,
          165.72999572753906,
          166.6699981689453,
          166,
          169.5399932861328,
          169.3000030517578,
          166.4600067138672,
          164.77000427246094,
          160.60000610351562,
          160.05999755859375,
          164.13999938964844,
          165.91000366210938,
          166.5800018310547,
          167.4600067138672,
          168.67999267578125,
          169.6999969482422,
          170.47999572753906,
          170.5399932861328,
          167.33999633789062,
          167.9600067138672,
          169.38999938964844,
          169.00999450683594,
          168.9199981689453,
          169.14999389648438,
          166.49000549316406,
          167.41000366210938,
          168.74000549316406,
          166.60000610351562,
          167.08999633789062,
          166.89999389648438,
          165.72000122070312,
          166,
          165.1199951171875,
          163.38999938964844,
          162.55999755859375,
          159.4499969482422,
          162.99000549316406,
          165.3699951171875,
          166.44000244140625,
          158.82000732421875,
          159.82000732421875,
          158.2899932861328,
          157.8000030517578,
          158.8000030517578,
          157.19000244140625,
          159.4600067138672,
          161.16000366210938,
          160.1699981689453,
          158.64999389648438,
          159.1300048828125,
          157.27999877929688,
          157.3000030517578,
          157.35000610351562,
          158.6999969482422,
          155.17999267578125,
          151.83999633789062,
          155.08999633789062,
          155.24000549316406,
          157.2100067138672,
          156.33999633789062,
          158.0800018310547,
          158.14999389648438,
          158.3699951171875,
          157.9600067138672
         ],
         "open": [
          127.5,
          124.98999786376953,
          129.8800048828125,
          135.69000244140625,
          135.97000122070312,
          134.5800018310547,
          139.44000244140625,
          138.58999633789062,
          140.49000549316406,
          137.42999267578125,
          139.86000061035156,
          137.82000732421875,
          135.69000244140625,
          132.69000244140625,
          132.13999938964844,
          132.75,
          129.58999633789062,
          129.89999389648438,
          131.19000244140625,
          129.39999389648438,
          131.94000244140625,
          133.64999389648438,
          135.47000122070312,
          139.38999938964844,
          138.1999969482422,
          139.42999267578125,
          140,
          139.66000366210938,
          139.0500030517578,
          143.5500030517578,
          143.9499969482422,
          144,
          145.86000061035156,
          146.8699951171875,
          151.50999450683594,
          150.11000061035156,
          154.27000427246094,
          150.3000030517578,
          149.52000427246094,
          150.0800018310547,
          151.22999572753906,
          152.61000061035156,
          153.22000122070312,
          152.47000122070312,
          151.5,
          151.91000366210938,
          154.11000061035156,
          156.86000061035156,
          156.35000610351562,
          154.08999633789062,
          155.33999633789062,
          157.60000610351562,
          155.50999450683594,
          152.8000030517578,
          150.3300018310547,
          150,
          150,
          154.3000030517578,
          152.1199951171875,
          154.4600067138672,
          153.27999877929688,
          151.89999389648438,
          154.39999389648438,
          152.7899932861328,
          153.10000610351562,
          154,
          155.80999755859375,
          155.5800018310547,
          154.75,
          151.47000122070312,
          151.25,
          153.8699951171875,
          153.4199981689453,
          151.74000549316406,
          147.7899932861328,
          150.22999572753906,
          147.17999267578125,
          150.77999877929688,
          150.5,
          152.42999267578125,
          153.5399932861328,
          154.10000610351562,
          154.85000610351562,
          152.8699951171875,
          156,
          158.07000732421875,
          157.22000122070312,
          161.5,
          161.0800018310547,
          159.61000061035156,
          158.17999267578125,
          162.38999938964844,
          163.3699951171875,
          164.67999267578125,
          161,
          160.8300018310547,
          161.33999633789062,
          163.36000061035156,
          163.85000610351562,
          163.57000732421875,
          163.9499969482422,
          164.67999267578125,
          165.8699951171875,
          167.25999450683594,
          165.41000366210938,
          166.2100067138672,
          167,
          164.49000549316406,
          164.13999938964844,
          164.36000061035156,
          160.42999267578125,
          160.14999389648438,
          156.6999969482422,
          154.72999572753906,
          157.10000610351562,
          149.3000030517578,
          149.0800018310547,
          150.60000610351562,
          150.1999969482422,
          151.9199981689453,
          152.58999633789062,
          153.6999969482422,
          155,
          153.75,
          156.25999450683594,
          155.9499969482422,
          155.77999877929688,
          152.00999450683594,
          151.61000061035156,
          153.0500030517578,
          154.35000610351562,
          156.0500030517578,
          155.9499969482422,
          153.89999389648438,
          155.9600067138672,
          148.5500030517578,
          146.52000427246094,
          152.0500030517578,
          152.8800048828125,
          151.47999572753906,
          150.19000244140625,
          150.39999389648438,
          152.2899932861328,
          153.13999938964844,
          152.5800018310547,
          152.02999877929688,
          151.9499969482422,
          151.25,
          152.27999877929688,
          155.19000244140625,
          157.52000427246094,
          156.74000549316406,
          160,
          161.8800048828125,
          161.7899932861328,
          158.94000244140625,
          157.57000732421875,
          156.30999755859375,
          153.16000366210938,
          154.35000610351562,
          155.3300018310547,
          157,
          158.50999450683594,
          162.25999450683594,
          161.75,
          163.2100067138672,
          160.44000244140625,
          160.22000122070312,
          160.02000427246094,
          160.38999938964844,
          159.99000549316406,
          158.88999938964844,
          158.27000427246094,
          160.55999755859375,
          158.52999877929688,
          160.4499969482422,
          156.72000122070312,
          159.41000366210938,
          157.3800048828125,
          153.88999938964844,
          153.52999877929688,
          155.1999969482422,
          158,
          161.44000244140625,
          165,
          167.6999969482422,
          166.2100067138672,
          166.9199981689453,
          164,
          166.97000122070312,
          167.2100067138672,
          167.99000549316406,
          171.1999969482422,
          170.02000427246094,
          170.8000030517578,
          165.75,
          164.07000732421875,
          161.75,
          165.35000610351562,
          166.47999572753906,
          167.39999389648438,
          168.3000030517578,
          170.75999450683594,
          170.02999877929688,
          172.7100067138672,
          171,
          170.32000732421875,
          168.3000030517578,
          171.17999267578125,
          172.0399932861328,
          169.8000030517578,
          170.1300048828125,
          170,
          168.89999389648438,
          169.0500030517578,
          167.35000610351562,
          167.4499969482422,
          167.52000427246094,
          167.64999389648438,
          167.2100067138672,
          167.05999755859375,
          165.2100067138672,
          164.38999938964844,
          161.3000030517578,
          164.16000366210938,
          165.5,
          168.4600067138672,
          162.13999938964844,
          163.30999755859375,
          159.16000366210938,
          161,
          159.8300018310547,
          161.5,
          161.00999450683594,
          161.8800048828125,
          162.66000366210938,
          159.64999389648438,
          161.32000732421875,
          159.5,
          157.4499969482422,
          159.85000610351562,
          160.38999938964844,
          159.32000732421875,
          154.50999450683594,
          155.41000366210938,
          155.75,
          157.61000061035156,
          157.60000610351562,
          158.1999969482422,
          158.85000610351562,
          159.11000061035156,
          158.4499969482422
         ],
         "showlegend": false,
         "type": "candlestick",
         "x": [
          "2021-01-04",
          "2021-01-05",
          "2021-01-06",
          "2021-01-07",
          "2021-01-08",
          "2021-01-11",
          "2021-01-12",
          "2021-01-13",
          "2021-01-14",
          "2021-01-15",
          "2021-01-19",
          "2021-01-20",
          "2021-01-21",
          "2021-01-22",
          "2021-01-25",
          "2021-01-26",
          "2021-01-27",
          "2021-01-28",
          "2021-01-29",
          "2021-02-01",
          "2021-02-02",
          "2021-02-03",
          "2021-02-04",
          "2021-02-05",
          "2021-02-08",
          "2021-02-09",
          "2021-02-10",
          "2021-02-11",
          "2021-02-12",
          "2021-02-16",
          "2021-02-17",
          "2021-02-18",
          "2021-02-19",
          "2021-02-22",
          "2021-02-23",
          "2021-02-24",
          "2021-02-25",
          "2021-02-26",
          "2021-03-01",
          "2021-03-02",
          "2021-03-03",
          "2021-03-04",
          "2021-03-05",
          "2021-03-08",
          "2021-03-09",
          "2021-03-10",
          "2021-03-11",
          "2021-03-12",
          "2021-03-15",
          "2021-03-16",
          "2021-03-17",
          "2021-03-18",
          "2021-03-19",
          "2021-03-22",
          "2021-03-23",
          "2021-03-24",
          "2021-03-25",
          "2021-03-26",
          "2021-03-29",
          "2021-03-30",
          "2021-03-31",
          "2021-04-01",
          "2021-04-05",
          "2021-04-06",
          "2021-04-07",
          "2021-04-08",
          "2021-04-09",
          "2021-04-12",
          "2021-04-13",
          "2021-04-14",
          "2021-04-15",
          "2021-04-16",
          "2021-04-19",
          "2021-04-20",
          "2021-04-21",
          "2021-04-22",
          "2021-04-23",
          "2021-04-26",
          "2021-04-27",
          "2021-04-28",
          "2021-04-29",
          "2021-04-30",
          "2021-05-03",
          "2021-05-04",
          "2021-05-05",
          "2021-05-06",
          "2021-05-07",
          "2021-05-10",
          "2021-05-11",
          "2021-05-12",
          "2021-05-13",
          "2021-05-14",
          "2021-05-17",
          "2021-05-18",
          "2021-05-19",
          "2021-05-20",
          "2021-05-21",
          "2021-05-24",
          "2021-05-25",
          "2021-05-26",
          "2021-05-27",
          "2021-05-28",
          "2021-06-01",
          "2021-06-02",
          "2021-06-03",
          "2021-06-04",
          "2021-06-07",
          "2021-06-08",
          "2021-06-09",
          "2021-06-10",
          "2021-06-11",
          "2021-06-14",
          "2021-06-15",
          "2021-06-16",
          "2021-06-17",
          "2021-06-18",
          "2021-06-21",
          "2021-06-22",
          "2021-06-23",
          "2021-06-24",
          "2021-06-25",
          "2021-06-28",
          "2021-06-29",
          "2021-06-30",
          "2021-07-01",
          "2021-07-02",
          "2021-07-06",
          "2021-07-07",
          "2021-07-08",
          "2021-07-09",
          "2021-07-12",
          "2021-07-13",
          "2021-07-14",
          "2021-07-15",
          "2021-07-16",
          "2021-07-19",
          "2021-07-20",
          "2021-07-21",
          "2021-07-22",
          "2021-07-23",
          "2021-07-26",
          "2021-07-27",
          "2021-07-28",
          "2021-07-29",
          "2021-07-30",
          "2021-08-02",
          "2021-08-03",
          "2021-08-04",
          "2021-08-05",
          "2021-08-06",
          "2021-08-09",
          "2021-08-10",
          "2021-08-11",
          "2021-08-12",
          "2021-08-13",
          "2021-08-16",
          "2021-08-17",
          "2021-08-18",
          "2021-08-19",
          "2021-08-20",
          "2021-08-23",
          "2021-08-24",
          "2021-08-25",
          "2021-08-26",
          "2021-08-27",
          "2021-08-30",
          "2021-08-31",
          "2021-09-01",
          "2021-09-02",
          "2021-09-03",
          "2021-09-07",
          "2021-09-08",
          "2021-09-09",
          "2021-09-10",
          "2021-09-13",
          "2021-09-14",
          "2021-09-15",
          "2021-09-16",
          "2021-09-17",
          "2021-09-20",
          "2021-09-21",
          "2021-09-22",
          "2021-09-23",
          "2021-09-24",
          "2021-09-27",
          "2021-09-28",
          "2021-09-29",
          "2021-09-30",
          "2021-10-01",
          "2021-10-04",
          "2021-10-05",
          "2021-10-06",
          "2021-10-07",
          "2021-10-08",
          "2021-10-11",
          "2021-10-12",
          "2021-10-13",
          "2021-10-14",
          "2021-10-15",
          "2021-10-18",
          "2021-10-19",
          "2021-10-20",
          "2021-10-21",
          "2021-10-22",
          "2021-10-25",
          "2021-10-26",
          "2021-10-27",
          "2021-10-28",
          "2021-10-29",
          "2021-11-01",
          "2021-11-02",
          "2021-11-03",
          "2021-11-04",
          "2021-11-05",
          "2021-11-08",
          "2021-11-09",
          "2021-11-10",
          "2021-11-11",
          "2021-11-12",
          "2021-11-15",
          "2021-11-16",
          "2021-11-17",
          "2021-11-18",
          "2021-11-19",
          "2021-11-22",
          "2021-11-23",
          "2021-11-24",
          "2021-11-26",
          "2021-11-29",
          "2021-11-30",
          "2021-12-01",
          "2021-12-02",
          "2021-12-03",
          "2021-12-06",
          "2021-12-07",
          "2021-12-08",
          "2021-12-09",
          "2021-12-10",
          "2021-12-13",
          "2021-12-14",
          "2021-12-15",
          "2021-12-16",
          "2021-12-17",
          "2021-12-20",
          "2021-12-21",
          "2021-12-22",
          "2021-12-23",
          "2021-12-27",
          "2021-12-28",
          "2021-12-29",
          "2021-12-30",
          "2021-12-31"
         ],
         "yaxis": "y2"
        }
       ],
       "layout": {
        "legend": {
         "bgcolor": "#F5F6F9",
         "font": {
          "color": "#4D5663"
         }
        },
        "paper_bgcolor": "#F5F6F9",
        "plot_bgcolor": "#F5F6F9",
        "template": {
         "data": {
          "bar": [
           {
            "error_x": {
             "color": "#2a3f5f"
            },
            "error_y": {
             "color": "#2a3f5f"
            },
            "marker": {
             "line": {
              "color": "#E5ECF6",
              "width": 0.5
             },
             "pattern": {
              "fillmode": "overlay",
              "size": 10,
              "solidity": 0.2
             }
            },
            "type": "bar"
           }
          ],
          "barpolar": [
           {
            "marker": {
             "line": {
              "color": "#E5ECF6",
              "width": 0.5
             },
             "pattern": {
              "fillmode": "overlay",
              "size": 10,
              "solidity": 0.2
             }
            },
            "type": "barpolar"
           }
          ],
          "carpet": [
           {
            "aaxis": {
             "endlinecolor": "#2a3f5f",
             "gridcolor": "white",
             "linecolor": "white",
             "minorgridcolor": "white",
             "startlinecolor": "#2a3f5f"
            },
            "baxis": {
             "endlinecolor": "#2a3f5f",
             "gridcolor": "white",
             "linecolor": "white",
             "minorgridcolor": "white",
             "startlinecolor": "#2a3f5f"
            },
            "type": "carpet"
           }
          ],
          "choropleth": [
           {
            "colorbar": {
             "outlinewidth": 0,
             "ticks": ""
            },
            "type": "choropleth"
           }
          ],
          "contour": [
           {
            "colorbar": {
             "outlinewidth": 0,
             "ticks": ""
            },
            "colorscale": [
             [
              0,
              "#0d0887"
             ],
             [
              0.1111111111111111,
              "#46039f"
             ],
             [
              0.2222222222222222,
              "#7201a8"
             ],
             [
              0.3333333333333333,
              "#9c179e"
             ],
             [
              0.4444444444444444,
              "#bd3786"
             ],
             [
              0.5555555555555556,
              "#d8576b"
             ],
             [
              0.6666666666666666,
              "#ed7953"
             ],
             [
              0.7777777777777778,
              "#fb9f3a"
             ],
             [
              0.8888888888888888,
              "#fdca26"
             ],
             [
              1,
              "#f0f921"
             ]
            ],
            "type": "contour"
           }
          ],
          "contourcarpet": [
           {
            "colorbar": {
             "outlinewidth": 0,
             "ticks": ""
            },
            "type": "contourcarpet"
           }
          ],
          "heatmap": [
           {
            "colorbar": {
             "outlinewidth": 0,
             "ticks": ""
            },
            "colorscale": [
             [
              0,
              "#0d0887"
             ],
             [
              0.1111111111111111,
              "#46039f"
             ],
             [
              0.2222222222222222,
              "#7201a8"
             ],
             [
              0.3333333333333333,
              "#9c179e"
             ],
             [
              0.4444444444444444,
              "#bd3786"
             ],
             [
              0.5555555555555556,
              "#d8576b"
             ],
             [
              0.6666666666666666,
              "#ed7953"
             ],
             [
              0.7777777777777778,
              "#fb9f3a"
             ],
             [
              0.8888888888888888,
              "#fdca26"
             ],
             [
              1,
              "#f0f921"
             ]
            ],
            "type": "heatmap"
           }
          ],
          "heatmapgl": [
           {
            "colorbar": {
             "outlinewidth": 0,
             "ticks": ""
            },
            "colorscale": [
             [
              0,
              "#0d0887"
             ],
             [
              0.1111111111111111,
              "#46039f"
             ],
             [
              0.2222222222222222,
              "#7201a8"
             ],
             [
              0.3333333333333333,
              "#9c179e"
             ],
             [
              0.4444444444444444,
              "#bd3786"
             ],
             [
              0.5555555555555556,
              "#d8576b"
             ],
             [
              0.6666666666666666,
              "#ed7953"
             ],
             [
              0.7777777777777778,
              "#fb9f3a"
             ],
             [
              0.8888888888888888,
              "#fdca26"
             ],
             [
              1,
              "#f0f921"
             ]
            ],
            "type": "heatmapgl"
           }
          ],
          "histogram": [
           {
            "marker": {
             "pattern": {
              "fillmode": "overlay",
              "size": 10,
              "solidity": 0.2
             }
            },
            "type": "histogram"
           }
          ],
          "histogram2d": [
           {
            "colorbar": {
             "outlinewidth": 0,
             "ticks": ""
            },
            "colorscale": [
             [
              0,
              "#0d0887"
             ],
             [
              0.1111111111111111,
              "#46039f"
             ],
             [
              0.2222222222222222,
              "#7201a8"
             ],
             [
              0.3333333333333333,
              "#9c179e"
             ],
             [
              0.4444444444444444,
              "#bd3786"
             ],
             [
              0.5555555555555556,
              "#d8576b"
             ],
             [
              0.6666666666666666,
              "#ed7953"
             ],
             [
              0.7777777777777778,
              "#fb9f3a"
             ],
             [
              0.8888888888888888,
              "#fdca26"
             ],
             [
              1,
              "#f0f921"
             ]
            ],
            "type": "histogram2d"
           }
          ],
          "histogram2dcontour": [
           {
            "colorbar": {
             "outlinewidth": 0,
             "ticks": ""
            },
            "colorscale": [
             [
              0,
              "#0d0887"
             ],
             [
              0.1111111111111111,
              "#46039f"
             ],
             [
              0.2222222222222222,
              "#7201a8"
             ],
             [
              0.3333333333333333,
              "#9c179e"
             ],
             [
              0.4444444444444444,
              "#bd3786"
             ],
             [
              0.5555555555555556,
              "#d8576b"
             ],
             [
              0.6666666666666666,
              "#ed7953"
             ],
             [
              0.7777777777777778,
              "#fb9f3a"
             ],
             [
              0.8888888888888888,
              "#fdca26"
             ],
             [
              1,
              "#f0f921"
             ]
            ],
            "type": "histogram2dcontour"
           }
          ],
          "mesh3d": [
           {
            "colorbar": {
             "outlinewidth": 0,
             "ticks": ""
            },
            "type": "mesh3d"
           }
          ],
          "parcoords": [
           {
            "line": {
             "colorbar": {
              "outlinewidth": 0,
              "ticks": ""
             }
            },
            "type": "parcoords"
           }
          ],
          "pie": [
           {
            "automargin": true,
            "type": "pie"
           }
          ],
          "scatter": [
           {
            "fillpattern": {
             "fillmode": "overlay",
             "size": 10,
             "solidity": 0.2
            },
            "type": "scatter"
           }
          ],
          "scatter3d": [
           {
            "line": {
             "colorbar": {
              "outlinewidth": 0,
              "ticks": ""
             }
            },
            "marker": {
             "colorbar": {
              "outlinewidth": 0,
              "ticks": ""
             }
            },
            "type": "scatter3d"
           }
          ],
          "scattercarpet": [
           {
            "marker": {
             "colorbar": {
              "outlinewidth": 0,
              "ticks": ""
             }
            },
            "type": "scattercarpet"
           }
          ],
          "scattergeo": [
           {
            "marker": {
             "colorbar": {
              "outlinewidth": 0,
              "ticks": ""
             }
            },
            "type": "scattergeo"
           }
          ],
          "scattergl": [
           {
            "marker": {
             "colorbar": {
              "outlinewidth": 0,
              "ticks": ""
             }
            },
            "type": "scattergl"
           }
          ],
          "scattermapbox": [
           {
            "marker": {
             "colorbar": {
              "outlinewidth": 0,
              "ticks": ""
             }
            },
            "type": "scattermapbox"
           }
          ],
          "scatterpolar": [
           {
            "marker": {
             "colorbar": {
              "outlinewidth": 0,
              "ticks": ""
             }
            },
            "type": "scatterpolar"
           }
          ],
          "scatterpolargl": [
           {
            "marker": {
             "colorbar": {
              "outlinewidth": 0,
              "ticks": ""
             }
            },
            "type": "scatterpolargl"
           }
          ],
          "scatterternary": [
           {
            "marker": {
             "colorbar": {
              "outlinewidth": 0,
              "ticks": ""
             }
            },
            "type": "scatterternary"
           }
          ],
          "surface": [
           {
            "colorbar": {
             "outlinewidth": 0,
             "ticks": ""
            },
            "colorscale": [
             [
              0,
              "#0d0887"
             ],
             [
              0.1111111111111111,
              "#46039f"
             ],
             [
              0.2222222222222222,
              "#7201a8"
             ],
             [
              0.3333333333333333,
              "#9c179e"
             ],
             [
              0.4444444444444444,
              "#bd3786"
             ],
             [
              0.5555555555555556,
              "#d8576b"
             ],
             [
              0.6666666666666666,
              "#ed7953"
             ],
             [
              0.7777777777777778,
              "#fb9f3a"
             ],
             [
              0.8888888888888888,
              "#fdca26"
             ],
             [
              1,
              "#f0f921"
             ]
            ],
            "type": "surface"
           }
          ],
          "table": [
           {
            "cells": {
             "fill": {
              "color": "#EBF0F8"
             },
             "line": {
              "color": "white"
             }
            },
            "header": {
             "fill": {
              "color": "#C8D4E3"
             },
             "line": {
              "color": "white"
             }
            },
            "type": "table"
           }
          ]
         },
         "layout": {
          "annotationdefaults": {
           "arrowcolor": "#2a3f5f",
           "arrowhead": 0,
           "arrowwidth": 1
          },
          "autotypenumbers": "strict",
          "coloraxis": {
           "colorbar": {
            "outlinewidth": 0,
            "ticks": ""
           }
          },
          "colorscale": {
           "diverging": [
            [
             0,
             "#8e0152"
            ],
            [
             0.1,
             "#c51b7d"
            ],
            [
             0.2,
             "#de77ae"
            ],
            [
             0.3,
             "#f1b6da"
            ],
            [
             0.4,
             "#fde0ef"
            ],
            [
             0.5,
             "#f7f7f7"
            ],
            [
             0.6,
             "#e6f5d0"
            ],
            [
             0.7,
             "#b8e186"
            ],
            [
             0.8,
             "#7fbc41"
            ],
            [
             0.9,
             "#4d9221"
            ],
            [
             1,
             "#276419"
            ]
           ],
           "sequential": [
            [
             0,
             "#0d0887"
            ],
            [
             0.1111111111111111,
             "#46039f"
            ],
            [
             0.2222222222222222,
             "#7201a8"
            ],
            [
             0.3333333333333333,
             "#9c179e"
            ],
            [
             0.4444444444444444,
             "#bd3786"
            ],
            [
             0.5555555555555556,
             "#d8576b"
            ],
            [
             0.6666666666666666,
             "#ed7953"
            ],
            [
             0.7777777777777778,
             "#fb9f3a"
            ],
            [
             0.8888888888888888,
             "#fdca26"
            ],
            [
             1,
             "#f0f921"
            ]
           ],
           "sequentialminus": [
            [
             0,
             "#0d0887"
            ],
            [
             0.1111111111111111,
             "#46039f"
            ],
            [
             0.2222222222222222,
             "#7201a8"
            ],
            [
             0.3333333333333333,
             "#9c179e"
            ],
            [
             0.4444444444444444,
             "#bd3786"
            ],
            [
             0.5555555555555556,
             "#d8576b"
            ],
            [
             0.6666666666666666,
             "#ed7953"
            ],
            [
             0.7777777777777778,
             "#fb9f3a"
            ],
            [
             0.8888888888888888,
             "#fdca26"
            ],
            [
             1,
             "#f0f921"
            ]
           ]
          },
          "colorway": [
           "#636efa",
           "#EF553B",
           "#00cc96",
           "#ab63fa",
           "#FFA15A",
           "#19d3f3",
           "#FF6692",
           "#B6E880",
           "#FF97FF",
           "#FECB52"
          ],
          "font": {
           "color": "#2a3f5f"
          },
          "geo": {
           "bgcolor": "white",
           "lakecolor": "white",
           "landcolor": "#E5ECF6",
           "showlakes": true,
           "showland": true,
           "subunitcolor": "white"
          },
          "hoverlabel": {
           "align": "left"
          },
          "hovermode": "closest",
          "mapbox": {
           "style": "light"
          },
          "paper_bgcolor": "white",
          "plot_bgcolor": "#E5ECF6",
          "polar": {
           "angularaxis": {
            "gridcolor": "white",
            "linecolor": "white",
            "ticks": ""
           },
           "bgcolor": "#E5ECF6",
           "radialaxis": {
            "gridcolor": "white",
            "linecolor": "white",
            "ticks": ""
           }
          },
          "scene": {
           "xaxis": {
            "backgroundcolor": "#E5ECF6",
            "gridcolor": "white",
            "gridwidth": 2,
            "linecolor": "white",
            "showbackground": true,
            "ticks": "",
            "zerolinecolor": "white"
           },
           "yaxis": {
            "backgroundcolor": "#E5ECF6",
            "gridcolor": "white",
            "gridwidth": 2,
            "linecolor": "white",
            "showbackground": true,
            "ticks": "",
            "zerolinecolor": "white"
           },
           "zaxis": {
            "backgroundcolor": "#E5ECF6",
            "gridcolor": "white",
            "gridwidth": 2,
            "linecolor": "white",
            "showbackground": true,
            "ticks": "",
            "zerolinecolor": "white"
           }
          },
          "shapedefaults": {
           "line": {
            "color": "#2a3f5f"
           }
          },
          "ternary": {
           "aaxis": {
            "gridcolor": "white",
            "linecolor": "white",
            "ticks": ""
           },
           "baxis": {
            "gridcolor": "white",
            "linecolor": "white",
            "ticks": ""
           },
           "bgcolor": "#E5ECF6",
           "caxis": {
            "gridcolor": "white",
            "linecolor": "white",
            "ticks": ""
           }
          },
          "title": {
           "x": 0.05
          },
          "xaxis": {
           "automargin": true,
           "gridcolor": "white",
           "linecolor": "white",
           "ticks": "",
           "title": {
            "standoff": 15
           },
           "zerolinecolor": "white",
           "zerolinewidth": 2
          },
          "yaxis": {
           "automargin": true,
           "gridcolor": "white",
           "linecolor": "white",
           "ticks": "",
           "title": {
            "standoff": 15
           },
           "zerolinecolor": "white",
           "zerolinewidth": 2
          }
         }
        },
        "title": {
         "font": {
          "color": "#4D5663"
         }
        },
        "xaxis": {
         "gridcolor": "#E1E5ED",
         "rangeslider": {
          "visible": false
         },
         "showgrid": true,
         "tickfont": {
          "color": "#4D5663"
         },
         "title": {
          "font": {
           "color": "#4D5663"
          },
          "text": ""
         },
         "zerolinecolor": "#E1E5ED"
        },
        "yaxis": {
         "gridcolor": "#E1E5ED",
         "showgrid": true,
         "showticklabels": false,
         "tickfont": {
          "color": "#4D5663"
         },
         "title": {
          "font": {
           "color": "#4D5663"
          },
          "text": ""
         },
         "zerolinecolor": "#E1E5ED"
        },
        "yaxis2": {
         "gridcolor": "#E1E5ED",
         "showgrid": true,
         "tickfont": {
          "color": "#4D5663"
         },
         "title": {
          "font": {
           "color": "#4D5663"
          },
          "text": ""
         },
         "zerolinecolor": "#E1E5ED"
        }
       }
      },
      "text/html": [
       "<div>                            <div id=\"9eb3bbfe-ff5d-432d-a926-8a3ee74b1c75\" class=\"plotly-graph-div\" style=\"height:525px; width:100%;\"></div>            <script type=\"text/javascript\">                require([\"plotly\"], function(Plotly) {                    window.PLOTLYENV=window.PLOTLYENV || {};\n",
       "                    window.PLOTLYENV.BASE_URL='https://plot.ly';                                    if (document.getElementById(\"9eb3bbfe-ff5d-432d-a926-8a3ee74b1c75\")) {                    Plotly.newPlot(                        \"9eb3bbfe-ff5d-432d-a926-8a3ee74b1c75\",                        [{\"close\":[125.87000274658203,125.6500015258789,131.5500030517578,135.8699951171875,136.02000427246094,138.0500030517578,140.22000122070312,140.35000610351562,141.1699981689453,138.63999938964844,138.0399932861328,135.97000122070312,134.8300018310547,133.7899932861328,132.1199951171875,131.5800018310547,127.86000061035156,130.11000061035156,128.6699981689453,129.6199951171875,133.61000061035156,135.13999938964844,138.25,137.97999572753906,140.13999938964844,139.5800018310547,139.66000366210938,139.27000427246094,141.25,144.64999389648438,145.10000610351562,145.58999633789062,148.02000427246094,149.41000366210938,150.61000061035156,153.25999450683594,151.17999267578125,147.1699981689453,150.5,150.00999450683594,152.91000366210938,150.55999755859375,150.91000366210938,152.91000366210938,151.8300018310547,155.1300048828125,154.32000732421875,156.14999389648438,155.3699951171875,153.50999450683594,155.08999633789062,157.64999389648438,155.13999938964844,150.97000122070312,149.4600067138672,150.6199951171875,152.5500030517578,155.08999633789062,152.67999267578125,154.47999572753906,152.22999572753906,153.7100067138672,153.6199951171875,152.5399932861328,154.92999267578125,155.1199951171875,156.27999877929688,155.9499969482422,154.08999633789062,151.2100067138672,152.1699981689453,153.3000030517578,152.64999389648438,149.27000427246094,150.5399932861328,147.3699951171875,150.19000244140625,150.55999755859375,151.25,152.22999572753906,155.19000244140625,153.80999755859375,153.36000061035156,155.47999572753906,157.52000427246094,160.69000244140625,161.24000549316406,161.22000122070312,158.5399932861328,157.4499969482422,161.5,164.00999450683594,164.6699981689453,162.35000610351562,161.11000061035156,160.8300018310547,162.66000366210938,163.5399932861328,161.85000610351562,161.8300018310547,164.35000610351562,164.24000549316406,166.0500030517578,166.05999755859375,166.1699981689453,166.44000244140625,165.66000366210938,165.0,162.94000244140625,160.39999389648438,160.2899932861328,157.57000732421875,155.17999267578125,156.27000427246094,151.75999450683594,147.9199981689453,150.42999267578125,150.2100067138672,151.1199951171875,152.50999450683594,154.0500030517578,154.3300018310547,154.13999938964844,155.5399932861328,157.0800018310547,156.02999877929688,153.41000366210938,153.58999633789062,150.94000244140625,155.77000427246094,158.0,155.64999389648438,155.1199951171875,155.4600067138672,151.91000366210938,146.97000122070312,149.7100067138672,152.86000061035156,150.92999267578125,150.63999938964844,151.64999389648438,151.4499969482422,151.6999969482422,153.0,151.77999877929688,151.1699981689453,152.88999938964844,151.24000549316406,153.14999389648438,157.5,157.3300018310547,159.25999450683594,161.16000366210938,161.7899932861328,159.97999572753906,158.92999267578125,157.00999450683594,155.5800018310547,154.27999877929688,154.72000122070312,156.6999969482422,157.6699981689453,160.9199981689453,161.75,163.0500030517578,160.44000244140625,159.9499969482422,159.72000122070312,160.4600067138672,159.49000549316406,159.2100067138672,158.5,159.19000244140625,157.36000061035156,159.86000061035156,157.07000732421875,158.16000366210938,158.08999633789062,157.67999267578125,152.9600067138672,152.97999572753906,155.91000366210938,161.17999267578125,163.0399932861328,166.97999572753906,166.0800018310547,165.9499969482422,163.69000244140625,167.1300048828125,166.9499969482422,168.66000366210938,169.02000427246094,170.08999633789062,170.22000122070312,166.63999938964844,165.36000061035156,161.0,163.47000122070312,166.61000061035156,166.5500030517578,168.57000732421875,170.83999633789062,169.5,171.77999877929688,170.94000244140625,171.39999389648438,167.8300018310547,170.36000061035156,169.88999938964844,169.8000030517578,170.47000122070312,170.52999877929688,168.2899932861328,168.0500030517578,169.05999755859375,167.77999877929688,167.6199951171875,167.61000061035156,166.86000061035156,166.55999755859375,165.36000061035156,164.47000122070312,163.0500030517578,160.9199981689453,164.35000610351562,168.27999877929688,166.9600067138672,161.92999267578125,161.22999572753906,158.8300018310547,157.88999938964844,161.2100067138672,158.2899932861328,160.16000366210938,162.57000732421875,160.7100067138672,160.4600067138672,159.82000732421875,157.9199981689453,159.1300048828125,157.94000244140625,160.41000366210938,156.75999450683594,153.94000244140625,156.08999633789062,156.6999969482422,157.25999450683594,158.16000366210938,158.63999938964844,158.55999755859375,158.47999572753906,158.35000610351562],\"high\":[127.86000061035156,126.30000305175781,132.77000427246094,138.19000244140625,136.35000610351562,138.1999969482422,141.66000366210938,140.7899932861328,142.75,141.64999389648438,140.6999969482422,138.1699981689453,136.16000366210938,134.39999389648438,133.1699981689453,133.1699981689453,129.85000610351562,132.1699981689453,131.72000122070312,130.07000732421875,134.38999938964844,135.75999450683594,138.66000366210938,139.49000549316406,140.3000030517578,139.97999572753906,140.8699951171875,140.5500030517578,141.61000061035156,145.32000732421875,145.3800048828125,145.7899932861328,148.83999633789062,150.19000244140625,152.30999755859375,153.75999450683594,154.89999389648438,150.8699951171875,151.3800048828125,151.77999877929688,154.97999572753906,154.3800048828125,153.49000549316406,155.4600067138672,154.25,156.16000366210938,156.14999389648438,157.6300048828125,156.9199981689453,154.60000610351562,156.8800048828125,161.69000244140625,155.94000244140625,153.97000122070312,152.1199951171875,153.17999267578125,152.97000122070312,155.4499969482422,153.72999572753906,155.8699951171875,154.49000549316406,153.7899932861328,154.94000244140625,154.27999877929688,155.22999572753906,155.50999450683594,157.0399932861328,157.25,155.1999969482422,153.8300018310547,152.1999969482422,154.50999450683594,153.8800048828125,151.75,150.61000061035156,150.3000030517578,151.1300048828125,152.4600067138672,151.57000732421875,152.88999938964844,155.27999877929688,154.49000549316406,155.47999572753906,155.63999938964844,158.27999877929688,160.82000732421875,161.5,163.72999572753906,162.38999938964844,160.77999877929688,162.4499969482422,164.4499969482422,164.85000610351562,165.5,161.17999267578125,161.86000061035156,163.22000122070312,164.22999572753906,165.6999969482422,163.74000549316406,164.75,164.94000244140625,166.91000366210938,167.44000244140625,167.25,166.6699981689453,167.10000610351562,165.75999450683594,164.22000122070312,165.24000549316406,161.1999969482422,160.3300018310547,156.9199981689453,157.6199951171875,157.4600067138672,149.6999969482422,151.1999969482422,150.97000122070312,152.0399932861328,153.1199951171875,154.5,154.47999572753906,156.30999755859375,156.0800018310547,157.13999938964844,156.32000732421875,155.77999877929688,154.27999877929688,152.52999877929688,156.14999389648438,159.16000366210938,157.38999938964844,157.27999877929688,156.52999877929688,156.27999877929688,149.82000732421875,151.1199951171875,153.64999389648438,153.44000244140625,152.83999633789062,151.9600067138672,152.49000549316406,152.77000427246094,153.8699951171875,153.6699981689453,154.4499969482422,153.32000732421875,153.3699951171875,153.69000244140625,157.82000732421875,158.5500030517578,159.97999572753906,161.5,162.3699951171875,162.16000366210938,159.02999877929688,158.86000061035156,158.00999450683594,155.55999755859375,154.89999389648438,157.08999633789062,158.5500030517578,161.77999877929688,163.8300018310547,163.16000366210938,163.49000549316406,161.3699951171875,160.75999450683594,161.61000061035156,160.88999938964844,161.3800048828125,159.5800018310547,160.8300018310547,160.72000122070312,160.0500030517578,161.33999633789062,158.69000244140625,160.85000610351562,159.00999450683594,154.55999755859375,154.5500030517578,157.25,161.7100067138672,163.58999633789062,167.39999389648438,169.3000030517578,166.89999389648438,166.99000549316406,168.3000030517578,170.44000244140625,170.13999938964844,169.10000610351562,171.50999450683594,171.33999633789062,171.2899932861328,166.69000244140625,165.41000366210938,164.00999450683594,167.1699981689453,168.61000061035156,168.64999389648438,170.8699951171875,171.3300018310547,172.08999633789062,172.9600067138672,172.49000549316406,170.6999969482422,170.50999450683594,172.24000549316406,172.3300018310547,171.69000244140625,171.1300048828125,170.1999969482422,170.08999633789062,170.9199981689453,168.47000122070312,168.9499969482422,168.67999267578125,167.74000549316406,167.7899932861328,167.07000732421875,165.55999755859375,164.85000610351562,162.11000061035156,165.97999572753906,168.55999755859375,169.44000244140625,162.64999389648438,164.77999877929688,160.6300048828125,163.27000427246094,163.25,161.8300018310547,162.61000061035156,163.38999938964844,163.27000427246094,160.92999267578125,161.6999969482422,159.7899932861328,160.88999938964844,159.85000610351562,161.82000732421875,159.3800048828125,154.6999969482422,157.17999267578125,157.05999755859375,159.1199951171875,158.1999969482422,160.14999389648438,159.6300048828125,160.24000549316406,159.2899932861328],\"low\":[124.77999877929688,123.7699966430664,127.87999725341797,134.9199981689453,134.1199951171875,134.11000061035156,138.8300018310547,138.10000610351562,140.0,137.00999450683594,137.82000732421875,135.44000244140625,134.32000732421875,132.1999969482422,130.05999755859375,131.33999633789062,127.3499984741211,128.99000549316406,128.19000244140625,128.47999572753906,131.22000122070312,133.50999450683594,135.47000122070312,137.3800048828125,138.17999267578125,138.5399932861328,139.0399932861328,138.22000122070312,139.0,142.39999389648438,143.1199951171875,143.39999389648438,145.86000061035156,146.7899932861328,149.58999633789062,150.11000061035156,150.58999633789062,146.50999450683594,148.47999572753906,149.83999633789062,150.82000732421875,148.6199951171875,147.97000122070312,150.75,149.82000732421875,151.50999450683594,153.36000061035156,155.07000732421875,153.9600067138672,152.19000244140625,153.0500030517578,157.11000061035156,151.19000244140625,150.61000061035156,148.9600067138672,149.86000061035156,149.3300018310547,152.5500030517578,151.0399932861328,153.8800048828125,152.1199951171875,151.5500030517578,152.60000610351562,151.86000061035156,152.64999389648438,152.30999755859375,154.97000122070312,155.57000732421875,152.42999267578125,150.92999267578125,149.32000732421875,152.69000244140625,152.22000122070312,148.64999389648438,146.7899932861328,147.25999450683594,146.69000244140625,150.3800048828125,150.11000061035156,151.39999389648438,153.1999969482422,153.00999450683594,153.1300048828125,152.13999938964844,154.6300048828125,157.16000366210938,157.02000427246094,161.1199951171875,158.0399932861328,157.02999877929688,157.67999267578125,161.99000549316406,163.02999877929688,162.24000549316406,158.63999938964844,159.52000427246094,160.94000244140625,162.1199951171875,161.55999755859375,161.30999755859375,162.57000732421875,163.25999450683594,165.47999572753906,165.52999877929688,164.66000366210938,165.02999877929688,165.13999938964844,163.16000366210938,162.27999877929688,160.30999755859375,159.05999755859375,156.66000366210938,154.1300048828125,153.11000061035156,151.25,147.55999755859375,149.02000427246094,148.66000366210938,150.08999633789062,151.22000122070312,151.6699981689453,152.1199951171875,153.61000061035156,153.7100067138672,155.4199981689453,155.1199951171875,152.35000610351562,151.5500030517578,150.0399932861328,152.5800018310547,153.94000244140625,153.5,152.9499969482422,153.6999969482422,151.02000427246094,145.7100067138672,146.3300018310547,151.36000061035156,149.97000122070312,150.25,150.1699981689453,149.8000030517578,150.8800048828125,151.91000366210938,151.1999969482422,151.07000732421875,149.52000427246094,150.91000366210938,152.00999450683594,155.11000061035156,155.89999389648438,156.30999755859375,159.0800018310547,160.5500030517578,159.57000732421875,156.77999877929688,155.27000427246094,155.33999633789062,153.00999450683594,153.16000366210938,155.24000549316406,156.8699951171875,157.8000030517578,161.14999389648438,161.25999450683594,159.8800048828125,159.35000610351562,158.97000122070312,159.42999267578125,159.14999389648438,158.9600067138672,158.0399932861328,158.0800018310547,157.22000122070312,158.07000732421875,156.25999450683594,156.47000122070312,157.22000122070312,157.0,150.49000549316406,152.5800018310547,155.10000610351562,157.6699981689453,160.82000732421875,164.61000061035156,165.66000366210938,165.0399932861328,162.7899932861328,163.60000610351562,165.72999572753906,166.6699981689453,166.0,169.5399932861328,169.3000030517578,166.4600067138672,164.77000427246094,160.60000610351562,160.05999755859375,164.13999938964844,165.91000366210938,166.5800018310547,167.4600067138672,168.67999267578125,169.6999969482422,170.47999572753906,170.5399932861328,167.33999633789062,167.9600067138672,169.38999938964844,169.00999450683594,168.9199981689453,169.14999389648438,166.49000549316406,167.41000366210938,168.74000549316406,166.60000610351562,167.08999633789062,166.89999389648438,165.72000122070312,166.0,165.1199951171875,163.38999938964844,162.55999755859375,159.4499969482422,162.99000549316406,165.3699951171875,166.44000244140625,158.82000732421875,159.82000732421875,158.2899932861328,157.8000030517578,158.8000030517578,157.19000244140625,159.4600067138672,161.16000366210938,160.1699981689453,158.64999389648438,159.1300048828125,157.27999877929688,157.3000030517578,157.35000610351562,158.6999969482422,155.17999267578125,151.83999633789062,155.08999633789062,155.24000549316406,157.2100067138672,156.33999633789062,158.0800018310547,158.14999389648438,158.3699951171875,157.9600067138672],\"open\":[127.5,124.98999786376953,129.8800048828125,135.69000244140625,135.97000122070312,134.5800018310547,139.44000244140625,138.58999633789062,140.49000549316406,137.42999267578125,139.86000061035156,137.82000732421875,135.69000244140625,132.69000244140625,132.13999938964844,132.75,129.58999633789062,129.89999389648438,131.19000244140625,129.39999389648438,131.94000244140625,133.64999389648438,135.47000122070312,139.38999938964844,138.1999969482422,139.42999267578125,140.0,139.66000366210938,139.0500030517578,143.5500030517578,143.9499969482422,144.0,145.86000061035156,146.8699951171875,151.50999450683594,150.11000061035156,154.27000427246094,150.3000030517578,149.52000427246094,150.0800018310547,151.22999572753906,152.61000061035156,153.22000122070312,152.47000122070312,151.5,151.91000366210938,154.11000061035156,156.86000061035156,156.35000610351562,154.08999633789062,155.33999633789062,157.60000610351562,155.50999450683594,152.8000030517578,150.3300018310547,150.0,150.0,154.3000030517578,152.1199951171875,154.4600067138672,153.27999877929688,151.89999389648438,154.39999389648438,152.7899932861328,153.10000610351562,154.0,155.80999755859375,155.5800018310547,154.75,151.47000122070312,151.25,153.8699951171875,153.4199981689453,151.74000549316406,147.7899932861328,150.22999572753906,147.17999267578125,150.77999877929688,150.5,152.42999267578125,153.5399932861328,154.10000610351562,154.85000610351562,152.8699951171875,156.0,158.07000732421875,157.22000122070312,161.5,161.0800018310547,159.61000061035156,158.17999267578125,162.38999938964844,163.3699951171875,164.67999267578125,161.0,160.8300018310547,161.33999633789062,163.36000061035156,163.85000610351562,163.57000732421875,163.9499969482422,164.67999267578125,165.8699951171875,167.25999450683594,165.41000366210938,166.2100067138672,167.0,164.49000549316406,164.13999938964844,164.36000061035156,160.42999267578125,160.14999389648438,156.6999969482422,154.72999572753906,157.10000610351562,149.3000030517578,149.0800018310547,150.60000610351562,150.1999969482422,151.9199981689453,152.58999633789062,153.6999969482422,155.0,153.75,156.25999450683594,155.9499969482422,155.77999877929688,152.00999450683594,151.61000061035156,153.0500030517578,154.35000610351562,156.0500030517578,155.9499969482422,153.89999389648438,155.9600067138672,148.5500030517578,146.52000427246094,152.0500030517578,152.8800048828125,151.47999572753906,150.19000244140625,150.39999389648438,152.2899932861328,153.13999938964844,152.5800018310547,152.02999877929688,151.9499969482422,151.25,152.27999877929688,155.19000244140625,157.52000427246094,156.74000549316406,160.0,161.8800048828125,161.7899932861328,158.94000244140625,157.57000732421875,156.30999755859375,153.16000366210938,154.35000610351562,155.3300018310547,157.0,158.50999450683594,162.25999450683594,161.75,163.2100067138672,160.44000244140625,160.22000122070312,160.02000427246094,160.38999938964844,159.99000549316406,158.88999938964844,158.27000427246094,160.55999755859375,158.52999877929688,160.4499969482422,156.72000122070312,159.41000366210938,157.3800048828125,153.88999938964844,153.52999877929688,155.1999969482422,158.0,161.44000244140625,165.0,167.6999969482422,166.2100067138672,166.9199981689453,164.0,166.97000122070312,167.2100067138672,167.99000549316406,171.1999969482422,170.02000427246094,170.8000030517578,165.75,164.07000732421875,161.75,165.35000610351562,166.47999572753906,167.39999389648438,168.3000030517578,170.75999450683594,170.02999877929688,172.7100067138672,171.0,170.32000732421875,168.3000030517578,171.17999267578125,172.0399932861328,169.8000030517578,170.1300048828125,170.0,168.89999389648438,169.0500030517578,167.35000610351562,167.4499969482422,167.52000427246094,167.64999389648438,167.2100067138672,167.05999755859375,165.2100067138672,164.38999938964844,161.3000030517578,164.16000366210938,165.5,168.4600067138672,162.13999938964844,163.30999755859375,159.16000366210938,161.0,159.8300018310547,161.5,161.00999450683594,161.8800048828125,162.66000366210938,159.64999389648438,161.32000732421875,159.5,157.4499969482422,159.85000610351562,160.38999938964844,159.32000732421875,154.50999450683594,155.41000366210938,155.75,157.61000061035156,157.60000610351562,158.1999969482422,158.85000610351562,159.11000061035156,158.4499969482422],\"showlegend\":false,\"x\":[\"2021-01-04\",\"2021-01-05\",\"2021-01-06\",\"2021-01-07\",\"2021-01-08\",\"2021-01-11\",\"2021-01-12\",\"2021-01-13\",\"2021-01-14\",\"2021-01-15\",\"2021-01-19\",\"2021-01-20\",\"2021-01-21\",\"2021-01-22\",\"2021-01-25\",\"2021-01-26\",\"2021-01-27\",\"2021-01-28\",\"2021-01-29\",\"2021-02-01\",\"2021-02-02\",\"2021-02-03\",\"2021-02-04\",\"2021-02-05\",\"2021-02-08\",\"2021-02-09\",\"2021-02-10\",\"2021-02-11\",\"2021-02-12\",\"2021-02-16\",\"2021-02-17\",\"2021-02-18\",\"2021-02-19\",\"2021-02-22\",\"2021-02-23\",\"2021-02-24\",\"2021-02-25\",\"2021-02-26\",\"2021-03-01\",\"2021-03-02\",\"2021-03-03\",\"2021-03-04\",\"2021-03-05\",\"2021-03-08\",\"2021-03-09\",\"2021-03-10\",\"2021-03-11\",\"2021-03-12\",\"2021-03-15\",\"2021-03-16\",\"2021-03-17\",\"2021-03-18\",\"2021-03-19\",\"2021-03-22\",\"2021-03-23\",\"2021-03-24\",\"2021-03-25\",\"2021-03-26\",\"2021-03-29\",\"2021-03-30\",\"2021-03-31\",\"2021-04-01\",\"2021-04-05\",\"2021-04-06\",\"2021-04-07\",\"2021-04-08\",\"2021-04-09\",\"2021-04-12\",\"2021-04-13\",\"2021-04-14\",\"2021-04-15\",\"2021-04-16\",\"2021-04-19\",\"2021-04-20\",\"2021-04-21\",\"2021-04-22\",\"2021-04-23\",\"2021-04-26\",\"2021-04-27\",\"2021-04-28\",\"2021-04-29\",\"2021-04-30\",\"2021-05-03\",\"2021-05-04\",\"2021-05-05\",\"2021-05-06\",\"2021-05-07\",\"2021-05-10\",\"2021-05-11\",\"2021-05-12\",\"2021-05-13\",\"2021-05-14\",\"2021-05-17\",\"2021-05-18\",\"2021-05-19\",\"2021-05-20\",\"2021-05-21\",\"2021-05-24\",\"2021-05-25\",\"2021-05-26\",\"2021-05-27\",\"2021-05-28\",\"2021-06-01\",\"2021-06-02\",\"2021-06-03\",\"2021-06-04\",\"2021-06-07\",\"2021-06-08\",\"2021-06-09\",\"2021-06-10\",\"2021-06-11\",\"2021-06-14\",\"2021-06-15\",\"2021-06-16\",\"2021-06-17\",\"2021-06-18\",\"2021-06-21\",\"2021-06-22\",\"2021-06-23\",\"2021-06-24\",\"2021-06-25\",\"2021-06-28\",\"2021-06-29\",\"2021-06-30\",\"2021-07-01\",\"2021-07-02\",\"2021-07-06\",\"2021-07-07\",\"2021-07-08\",\"2021-07-09\",\"2021-07-12\",\"2021-07-13\",\"2021-07-14\",\"2021-07-15\",\"2021-07-16\",\"2021-07-19\",\"2021-07-20\",\"2021-07-21\",\"2021-07-22\",\"2021-07-23\",\"2021-07-26\",\"2021-07-27\",\"2021-07-28\",\"2021-07-29\",\"2021-07-30\",\"2021-08-02\",\"2021-08-03\",\"2021-08-04\",\"2021-08-05\",\"2021-08-06\",\"2021-08-09\",\"2021-08-10\",\"2021-08-11\",\"2021-08-12\",\"2021-08-13\",\"2021-08-16\",\"2021-08-17\",\"2021-08-18\",\"2021-08-19\",\"2021-08-20\",\"2021-08-23\",\"2021-08-24\",\"2021-08-25\",\"2021-08-26\",\"2021-08-27\",\"2021-08-30\",\"2021-08-31\",\"2021-09-01\",\"2021-09-02\",\"2021-09-03\",\"2021-09-07\",\"2021-09-08\",\"2021-09-09\",\"2021-09-10\",\"2021-09-13\",\"2021-09-14\",\"2021-09-15\",\"2021-09-16\",\"2021-09-17\",\"2021-09-20\",\"2021-09-21\",\"2021-09-22\",\"2021-09-23\",\"2021-09-24\",\"2021-09-27\",\"2021-09-28\",\"2021-09-29\",\"2021-09-30\",\"2021-10-01\",\"2021-10-04\",\"2021-10-05\",\"2021-10-06\",\"2021-10-07\",\"2021-10-08\",\"2021-10-11\",\"2021-10-12\",\"2021-10-13\",\"2021-10-14\",\"2021-10-15\",\"2021-10-18\",\"2021-10-19\",\"2021-10-20\",\"2021-10-21\",\"2021-10-22\",\"2021-10-25\",\"2021-10-26\",\"2021-10-27\",\"2021-10-28\",\"2021-10-29\",\"2021-11-01\",\"2021-11-02\",\"2021-11-03\",\"2021-11-04\",\"2021-11-05\",\"2021-11-08\",\"2021-11-09\",\"2021-11-10\",\"2021-11-11\",\"2021-11-12\",\"2021-11-15\",\"2021-11-16\",\"2021-11-17\",\"2021-11-18\",\"2021-11-19\",\"2021-11-22\",\"2021-11-23\",\"2021-11-24\",\"2021-11-26\",\"2021-11-29\",\"2021-11-30\",\"2021-12-01\",\"2021-12-02\",\"2021-12-03\",\"2021-12-06\",\"2021-12-07\",\"2021-12-08\",\"2021-12-09\",\"2021-12-10\",\"2021-12-13\",\"2021-12-14\",\"2021-12-15\",\"2021-12-16\",\"2021-12-17\",\"2021-12-20\",\"2021-12-21\",\"2021-12-22\",\"2021-12-23\",\"2021-12-27\",\"2021-12-28\",\"2021-12-29\",\"2021-12-30\",\"2021-12-31\"],\"yaxis\":\"y2\",\"type\":\"candlestick\"}],                        {\"legend\":{\"bgcolor\":\"#F5F6F9\",\"font\":{\"color\":\"#4D5663\"}},\"paper_bgcolor\":\"#F5F6F9\",\"plot_bgcolor\":\"#F5F6F9\",\"template\":{\"data\":{\"barpolar\":[{\"marker\":{\"line\":{\"color\":\"#E5ECF6\",\"width\":0.5},\"pattern\":{\"fillmode\":\"overlay\",\"size\":10,\"solidity\":0.2}},\"type\":\"barpolar\"}],\"bar\":[{\"error_x\":{\"color\":\"#2a3f5f\"},\"error_y\":{\"color\":\"#2a3f5f\"},\"marker\":{\"line\":{\"color\":\"#E5ECF6\",\"width\":0.5},\"pattern\":{\"fillmode\":\"overlay\",\"size\":10,\"solidity\":0.2}},\"type\":\"bar\"}],\"carpet\":[{\"aaxis\":{\"endlinecolor\":\"#2a3f5f\",\"gridcolor\":\"white\",\"linecolor\":\"white\",\"minorgridcolor\":\"white\",\"startlinecolor\":\"#2a3f5f\"},\"baxis\":{\"endlinecolor\":\"#2a3f5f\",\"gridcolor\":\"white\",\"linecolor\":\"white\",\"minorgridcolor\":\"white\",\"startlinecolor\":\"#2a3f5f\"},\"type\":\"carpet\"}],\"choropleth\":[{\"colorbar\":{\"outlinewidth\":0,\"ticks\":\"\"},\"type\":\"choropleth\"}],\"contourcarpet\":[{\"colorbar\":{\"outlinewidth\":0,\"ticks\":\"\"},\"type\":\"contourcarpet\"}],\"contour\":[{\"colorbar\":{\"outlinewidth\":0,\"ticks\":\"\"},\"colorscale\":[[0.0,\"#0d0887\"],[0.1111111111111111,\"#46039f\"],[0.2222222222222222,\"#7201a8\"],[0.3333333333333333,\"#9c179e\"],[0.4444444444444444,\"#bd3786\"],[0.5555555555555556,\"#d8576b\"],[0.6666666666666666,\"#ed7953\"],[0.7777777777777778,\"#fb9f3a\"],[0.8888888888888888,\"#fdca26\"],[1.0,\"#f0f921\"]],\"type\":\"contour\"}],\"heatmapgl\":[{\"colorbar\":{\"outlinewidth\":0,\"ticks\":\"\"},\"colorscale\":[[0.0,\"#0d0887\"],[0.1111111111111111,\"#46039f\"],[0.2222222222222222,\"#7201a8\"],[0.3333333333333333,\"#9c179e\"],[0.4444444444444444,\"#bd3786\"],[0.5555555555555556,\"#d8576b\"],[0.6666666666666666,\"#ed7953\"],[0.7777777777777778,\"#fb9f3a\"],[0.8888888888888888,\"#fdca26\"],[1.0,\"#f0f921\"]],\"type\":\"heatmapgl\"}],\"heatmap\":[{\"colorbar\":{\"outlinewidth\":0,\"ticks\":\"\"},\"colorscale\":[[0.0,\"#0d0887\"],[0.1111111111111111,\"#46039f\"],[0.2222222222222222,\"#7201a8\"],[0.3333333333333333,\"#9c179e\"],[0.4444444444444444,\"#bd3786\"],[0.5555555555555556,\"#d8576b\"],[0.6666666666666666,\"#ed7953\"],[0.7777777777777778,\"#fb9f3a\"],[0.8888888888888888,\"#fdca26\"],[1.0,\"#f0f921\"]],\"type\":\"heatmap\"}],\"histogram2dcontour\":[{\"colorbar\":{\"outlinewidth\":0,\"ticks\":\"\"},\"colorscale\":[[0.0,\"#0d0887\"],[0.1111111111111111,\"#46039f\"],[0.2222222222222222,\"#7201a8\"],[0.3333333333333333,\"#9c179e\"],[0.4444444444444444,\"#bd3786\"],[0.5555555555555556,\"#d8576b\"],[0.6666666666666666,\"#ed7953\"],[0.7777777777777778,\"#fb9f3a\"],[0.8888888888888888,\"#fdca26\"],[1.0,\"#f0f921\"]],\"type\":\"histogram2dcontour\"}],\"histogram2d\":[{\"colorbar\":{\"outlinewidth\":0,\"ticks\":\"\"},\"colorscale\":[[0.0,\"#0d0887\"],[0.1111111111111111,\"#46039f\"],[0.2222222222222222,\"#7201a8\"],[0.3333333333333333,\"#9c179e\"],[0.4444444444444444,\"#bd3786\"],[0.5555555555555556,\"#d8576b\"],[0.6666666666666666,\"#ed7953\"],[0.7777777777777778,\"#fb9f3a\"],[0.8888888888888888,\"#fdca26\"],[1.0,\"#f0f921\"]],\"type\":\"histogram2d\"}],\"histogram\":[{\"marker\":{\"pattern\":{\"fillmode\":\"overlay\",\"size\":10,\"solidity\":0.2}},\"type\":\"histogram\"}],\"mesh3d\":[{\"colorbar\":{\"outlinewidth\":0,\"ticks\":\"\"},\"type\":\"mesh3d\"}],\"parcoords\":[{\"line\":{\"colorbar\":{\"outlinewidth\":0,\"ticks\":\"\"}},\"type\":\"parcoords\"}],\"pie\":[{\"automargin\":true,\"type\":\"pie\"}],\"scatter3d\":[{\"line\":{\"colorbar\":{\"outlinewidth\":0,\"ticks\":\"\"}},\"marker\":{\"colorbar\":{\"outlinewidth\":0,\"ticks\":\"\"}},\"type\":\"scatter3d\"}],\"scattercarpet\":[{\"marker\":{\"colorbar\":{\"outlinewidth\":0,\"ticks\":\"\"}},\"type\":\"scattercarpet\"}],\"scattergeo\":[{\"marker\":{\"colorbar\":{\"outlinewidth\":0,\"ticks\":\"\"}},\"type\":\"scattergeo\"}],\"scattergl\":[{\"marker\":{\"colorbar\":{\"outlinewidth\":0,\"ticks\":\"\"}},\"type\":\"scattergl\"}],\"scattermapbox\":[{\"marker\":{\"colorbar\":{\"outlinewidth\":0,\"ticks\":\"\"}},\"type\":\"scattermapbox\"}],\"scatterpolargl\":[{\"marker\":{\"colorbar\":{\"outlinewidth\":0,\"ticks\":\"\"}},\"type\":\"scatterpolargl\"}],\"scatterpolar\":[{\"marker\":{\"colorbar\":{\"outlinewidth\":0,\"ticks\":\"\"}},\"type\":\"scatterpolar\"}],\"scatter\":[{\"fillpattern\":{\"fillmode\":\"overlay\",\"size\":10,\"solidity\":0.2},\"type\":\"scatter\"}],\"scatterternary\":[{\"marker\":{\"colorbar\":{\"outlinewidth\":0,\"ticks\":\"\"}},\"type\":\"scatterternary\"}],\"surface\":[{\"colorbar\":{\"outlinewidth\":0,\"ticks\":\"\"},\"colorscale\":[[0.0,\"#0d0887\"],[0.1111111111111111,\"#46039f\"],[0.2222222222222222,\"#7201a8\"],[0.3333333333333333,\"#9c179e\"],[0.4444444444444444,\"#bd3786\"],[0.5555555555555556,\"#d8576b\"],[0.6666666666666666,\"#ed7953\"],[0.7777777777777778,\"#fb9f3a\"],[0.8888888888888888,\"#fdca26\"],[1.0,\"#f0f921\"]],\"type\":\"surface\"}],\"table\":[{\"cells\":{\"fill\":{\"color\":\"#EBF0F8\"},\"line\":{\"color\":\"white\"}},\"header\":{\"fill\":{\"color\":\"#C8D4E3\"},\"line\":{\"color\":\"white\"}},\"type\":\"table\"}]},\"layout\":{\"annotationdefaults\":{\"arrowcolor\":\"#2a3f5f\",\"arrowhead\":0,\"arrowwidth\":1},\"autotypenumbers\":\"strict\",\"coloraxis\":{\"colorbar\":{\"outlinewidth\":0,\"ticks\":\"\"}},\"colorscale\":{\"diverging\":[[0,\"#8e0152\"],[0.1,\"#c51b7d\"],[0.2,\"#de77ae\"],[0.3,\"#f1b6da\"],[0.4,\"#fde0ef\"],[0.5,\"#f7f7f7\"],[0.6,\"#e6f5d0\"],[0.7,\"#b8e186\"],[0.8,\"#7fbc41\"],[0.9,\"#4d9221\"],[1,\"#276419\"]],\"sequential\":[[0.0,\"#0d0887\"],[0.1111111111111111,\"#46039f\"],[0.2222222222222222,\"#7201a8\"],[0.3333333333333333,\"#9c179e\"],[0.4444444444444444,\"#bd3786\"],[0.5555555555555556,\"#d8576b\"],[0.6666666666666666,\"#ed7953\"],[0.7777777777777778,\"#fb9f3a\"],[0.8888888888888888,\"#fdca26\"],[1.0,\"#f0f921\"]],\"sequentialminus\":[[0.0,\"#0d0887\"],[0.1111111111111111,\"#46039f\"],[0.2222222222222222,\"#7201a8\"],[0.3333333333333333,\"#9c179e\"],[0.4444444444444444,\"#bd3786\"],[0.5555555555555556,\"#d8576b\"],[0.6666666666666666,\"#ed7953\"],[0.7777777777777778,\"#fb9f3a\"],[0.8888888888888888,\"#fdca26\"],[1.0,\"#f0f921\"]]},\"colorway\":[\"#636efa\",\"#EF553B\",\"#00cc96\",\"#ab63fa\",\"#FFA15A\",\"#19d3f3\",\"#FF6692\",\"#B6E880\",\"#FF97FF\",\"#FECB52\"],\"font\":{\"color\":\"#2a3f5f\"},\"geo\":{\"bgcolor\":\"white\",\"lakecolor\":\"white\",\"landcolor\":\"#E5ECF6\",\"showlakes\":true,\"showland\":true,\"subunitcolor\":\"white\"},\"hoverlabel\":{\"align\":\"left\"},\"hovermode\":\"closest\",\"mapbox\":{\"style\":\"light\"},\"paper_bgcolor\":\"white\",\"plot_bgcolor\":\"#E5ECF6\",\"polar\":{\"angularaxis\":{\"gridcolor\":\"white\",\"linecolor\":\"white\",\"ticks\":\"\"},\"bgcolor\":\"#E5ECF6\",\"radialaxis\":{\"gridcolor\":\"white\",\"linecolor\":\"white\",\"ticks\":\"\"}},\"scene\":{\"xaxis\":{\"backgroundcolor\":\"#E5ECF6\",\"gridcolor\":\"white\",\"gridwidth\":2,\"linecolor\":\"white\",\"showbackground\":true,\"ticks\":\"\",\"zerolinecolor\":\"white\"},\"yaxis\":{\"backgroundcolor\":\"#E5ECF6\",\"gridcolor\":\"white\",\"gridwidth\":2,\"linecolor\":\"white\",\"showbackground\":true,\"ticks\":\"\",\"zerolinecolor\":\"white\"},\"zaxis\":{\"backgroundcolor\":\"#E5ECF6\",\"gridcolor\":\"white\",\"gridwidth\":2,\"linecolor\":\"white\",\"showbackground\":true,\"ticks\":\"\",\"zerolinecolor\":\"white\"}},\"shapedefaults\":{\"line\":{\"color\":\"#2a3f5f\"}},\"ternary\":{\"aaxis\":{\"gridcolor\":\"white\",\"linecolor\":\"white\",\"ticks\":\"\"},\"baxis\":{\"gridcolor\":\"white\",\"linecolor\":\"white\",\"ticks\":\"\"},\"bgcolor\":\"#E5ECF6\",\"caxis\":{\"gridcolor\":\"white\",\"linecolor\":\"white\",\"ticks\":\"\"}},\"title\":{\"x\":0.05},\"xaxis\":{\"automargin\":true,\"gridcolor\":\"white\",\"linecolor\":\"white\",\"ticks\":\"\",\"title\":{\"standoff\":15},\"zerolinecolor\":\"white\",\"zerolinewidth\":2},\"yaxis\":{\"automargin\":true,\"gridcolor\":\"white\",\"linecolor\":\"white\",\"ticks\":\"\",\"title\":{\"standoff\":15},\"zerolinecolor\":\"white\",\"zerolinewidth\":2}}},\"title\":{\"font\":{\"color\":\"#4D5663\"}},\"xaxis\":{\"gridcolor\":\"#E1E5ED\",\"rangeslider\":{\"visible\":false},\"showgrid\":true,\"tickfont\":{\"color\":\"#4D5663\"},\"title\":{\"font\":{\"color\":\"#4D5663\"},\"text\":\"\"},\"zerolinecolor\":\"#E1E5ED\"},\"yaxis\":{\"gridcolor\":\"#E1E5ED\",\"showgrid\":true,\"showticklabels\":false,\"tickfont\":{\"color\":\"#4D5663\"},\"title\":{\"font\":{\"color\":\"#4D5663\"},\"text\":\"\"},\"zerolinecolor\":\"#E1E5ED\"},\"yaxis2\":{\"gridcolor\":\"#E1E5ED\",\"showgrid\":true,\"tickfont\":{\"color\":\"#4D5663\"},\"title\":{\"font\":{\"color\":\"#4D5663\"},\"text\":\"\"},\"zerolinecolor\":\"#E1E5ED\"}},                        {\"showLink\": true, \"linkText\": \"Export to plot.ly\", \"plotlyServerURL\": \"https://plot.ly\", \"responsive\": true}                    ).then(function(){\n",
       "                            \n",
       "var gd = document.getElementById('9eb3bbfe-ff5d-432d-a926-8a3ee74b1c75');\n",
       "var x = new MutationObserver(function (mutations, observer) {{\n",
       "        var display = window.getComputedStyle(gd).display;\n",
       "        if (!display || display === 'none') {{\n",
       "            console.log([gd, 'removed!']);\n",
       "            Plotly.purge(gd);\n",
       "            observer.disconnect();\n",
       "        }}\n",
       "}});\n",
       "\n",
       "// Listen for the removal of the full notebook cells\n",
       "var notebookContainer = gd.closest('#notebook-container');\n",
       "if (notebookContainer) {{\n",
       "    x.observe(notebookContainer, {childList: true});\n",
       "}}\n",
       "\n",
       "// Listen for the clearing of the current output cell\n",
       "var outputEl = gd.closest('.output');\n",
       "if (outputEl) {{\n",
       "    x.observe(outputEl, {childList: true});\n",
       "}}\n",
       "\n",
       "                        })                };                });            </script>        </div>"
      ]
     },
     "metadata": {},
     "output_type": "display_data"
    }
   ],
   "source": [
    "JPM[['Open', 'High', 'Low', 'Close']]['2021-01-01':'2022-01-01'].iplot(kind='candle')"
   ]
  },
  {
   "cell_type": "code",
   "execution_count": 34,
   "id": "fd730463",
   "metadata": {},
   "outputs": [
    {
     "data": {
      "application/vnd.plotly.v1+json": {
       "config": {
        "linkText": "Export to plot.ly",
        "plotlyServerURL": "https://plot.ly",
        "showLink": true
       },
       "data": [
        {
         "close": [
          68.33000183105469,
          69.48999786376953,
          73.68000030517578,
          74.94000244140625,
          75.25,
          76.05999755859375,
          75.80000305175781,
          75.55999755859375,
          76.47000122070312,
          75.23999786376953,
          74.98999786376953,
          74.83999633789062,
          74.69999694824219,
          74.12999725341797,
          72.37999725341797,
          71.20999908447266,
          68.41999816894531,
          69.31999969482422,
          67.05000305175781,
          67.66999816894531,
          70.94999694824219,
          70.5999984741211,
          72.29000091552734,
          73.22000122070312,
          74.2300033569336,
          74.23999786376953,
          74.33000183105469,
          73.72000122070312,
          74.61000061035156,
          76.05000305175781,
          75.44999694824219,
          74.83000183105469,
          76,
          77.4000015258789,
          77.5,
          79.87999725341797,
          78.43000030517578,
          76.87000274658203,
          79.16000366210938,
          80.79000091552734,
          82.05999755859375,
          81.11000061035156,
          80.87000274658203,
          81.0999984741211,
          80.8499984741211,
          83.08999633789062,
          83.25,
          84.33999633789062,
          83.86000061035156,
          82.54000091552734,
          83.86000061035156,
          83.94000244140625,
          82.94000244140625,
          81.91999816894531,
          79.12000274658203,
          79.33000183105469,
          80.12999725341797,
          79.9800033569336,
          77.87999725341797,
          79.08999633789062,
          77.66000366210938,
          78.22000122070312,
          78,
          79.08999633789062,
          79.04000091552734,
          80.19999694824219,
          80.72000122070312,
          80.18000030517578,
          79.52999877929688,
          80.79000091552734,
          80.81999969482422,
          78.58999633789062,
          80.02999877929688,
          77.29000091552734,
          79.25,
          78.29000091552734,
          80.94999694824219,
          81.5199966430664,
          81.95999908447266,
          82.7300033569336,
          83.63999938964844,
          82.55000305175781,
          82.45999908447266,
          82.63999938964844,
          84.51000213623047,
          86.83000183105469,
          87.69999694824219,
          86.47000122070312,
          84.91999816894531,
          83.68000030517578,
          84.86000061035156,
          87.3499984741211,
          88.08999633789062,
          86.97000122070312,
          86.05000305175781,
          86.47000122070312,
          88.33999633789062,
          89.69000244140625,
          88.86000061035156,
          89.3499984741211,
          90.30000305175781,
          90.94999694824219,
          92.11000061035156,
          92.76000213623047,
          93.3499984741211,
          93.95999908447266,
          93.20999908447266,
          92.79000091552734,
          92.66999816894531,
          91.68000030517578,
          92.05000305175781,
          90.72000122070312,
          90.69999694824219,
          91.0999984741211,
          87.91000366210938,
          84.08999633789062,
          85.94000244140625,
          85.69999694824219,
          85.87000274658203,
          87.08000183105469,
          88.4000015258789,
          87.69999694824219,
          90.63999938964844,
          91.69000244140625,
          92.0199966430664,
          92.02999877929688,
          90.20999908447266,
          90.02999877929688,
          87.63999938964844,
          90.33000183105469,
          92.75,
          93.20999908447266,
          92.45999908447266,
          92.62999725341797,
          91.25,
          89.3499984741211,
          92.31999969482422,
          95.68000030517578,
          95.56999969482422,
          94.55000305175781,
          96.54000091552734,
          96.4800033569336,
          96.06999969482422,
          96.27999877929688,
          95.9800033569336,
          96.2300033569336,
          96.5999984741211,
          96.29000091552734,
          97.83000183105469,
          99.7300033569336,
          100.73999786376953,
          102.04000091552734,
          103.87999725341797,
          104.66999816894531,
          103.94000244140625,
          103.72000122070312,
          102.87000274658203,
          101.26000213623047,
          99.7300033569336,
          100.66000366210938,
          102.16000366210938,
          103.08999633789062,
          104.08999633789062,
          103.83999633789062,
          105.44999694824219,
          104.08999633789062,
          104.43000030517578,
          104.30999755859375,
          104.83000183105469,
          104.25,
          104.18000030517578,
          103.56999969482422,
          103.83999633789062,
          103.62000274658203,
          104.4000015258789,
          101.91000366210938,
          103.04000091552734,
          102.47000122070312,
          101.75,
          98.62999725341797,
          98.30000305175781,
          100.80000305175781,
          103.55000305175781,
          102.91000366210938,
          105.0999984741211,
          102.04000091552734,
          99.55000305175781,
          97.30999755859375,
          99.05000305175781,
          97.1500015258789,
          99.19999694824219,
          99.0999984741211,
          98.80000305175781,
          100.04000091552734,
          97.29000091552734,
          97.77999877929688,
          98.56999969482422,
          101.01000213623047,
          102.13999938964844,
          101.41000366210938,
          101.75,
          100.66000366210938,
          100.27999877929688,
          101.80000305175781,
          101.91000366210938,
          103.47000122070312,
          101.87000274658203,
          102.5,
          102.77999877929688,
          104,
          104.66000366210938,
          102.61000061035156,
          99.79000091552734,
          99.87000274658203,
          100.06999969482422,
          99.70999908447266,
          97.7699966430664,
          98.87999725341797,
          99.8499984741211,
          100.20999908447266,
          100.69000244140625,
          97.68000030517578,
          97.68000030517578,
          96.91000366210938,
          99.31999969482422,
          101.86000061035156,
          101.12000274658203,
          97.93000030517578,
          97.2300033569336,
          94.81999969482422,
          95.26000213623047,
          98.86000061035156,
          98.20999908447266,
          99.2699966430664,
          102.5,
          101.25,
          100.58000183105469,
          98.43000030517578,
          97.16999816894531,
          98.81999969482422,
          99.43000030517578,
          100.30000305175781,
          97.12999725341797,
          95.37000274658203,
          97.7699966430664,
          98.30000305175781,
          99.33999633789062,
          100.4000015258789,
          99.97000122070312,
          98.7300033569336,
          98.80000305175781,
          98.16000366210938
         ],
         "high": [
          69.93000030517578,
          70.08000183105469,
          74.87999725341797,
          76.51000213623047,
          75.33999633789062,
          76.5,
          77.16999816894531,
          76.43000030517578,
          76.83999633789062,
          75.56999969482422,
          76.5999984741211,
          77.76000213623047,
          75.88999938964844,
          74.69999694824219,
          74.0199966430664,
          73.31999969482422,
          70.26000213623047,
          70.7699966430664,
          70.05999755859375,
          68.12000274658203,
          71.37000274658203,
          71.33000183105469,
          72.31999969482422,
          73.72000122070312,
          74.29000091552734,
          74.68000030517578,
          74.86000061035156,
          74.7699966430664,
          75.0199966430664,
          76.41999816894531,
          75.9000015258789,
          75.55000305175781,
          76.36000061035156,
          77.98999786376953,
          77.86000061035156,
          80.0999984741211,
          81.4000015258789,
          78.8499984741211,
          79.54000091552734,
          81.55000305175781,
          82.94000244140625,
          83.4800033569336,
          82.55999755859375,
          82.95999908447266,
          82.33000183105469,
          83.41999816894531,
          83.80999755859375,
          85.08000183105469,
          85.08000183105469,
          83.69999694824219,
          84.13999938964844,
          86.63999938964844,
          83.61000061035156,
          82.56999969482422,
          81.91999816894531,
          81.44000244140625,
          80.37999725341797,
          81.73999786376953,
          78.8499984741211,
          80.04000091552734,
          79,
          78.27999877929688,
          79.30999755859375,
          79.11000061035156,
          79.72000122070312,
          80.48999786376953,
          80.7300033569336,
          81.06999969482422,
          80.02999877929688,
          82.05000305175781,
          81.41000366210938,
          81.68000030517578,
          80.37000274658203,
          79.62999725341797,
          79.33999633789062,
          79.5,
          81.30000305175781,
          82.41999816894531,
          82.05000305175781,
          82.94999694824219,
          83.79000091552734,
          83.27999877929688,
          83.48999786376953,
          82.83000183105469,
          84.83999633789062,
          86.91000366210938,
          88.04000091552734,
          88.87999725341797,
          85.94000244140625,
          86.19000244140625,
          85.6500015258789,
          87.58000183105469,
          88.12000274658203,
          88.56999969482422,
          86.0999984741211,
          87.02999877929688,
          88.77999877929688,
          90.19999694824219,
          91.3499984741211,
          89.8499984741211,
          90.91999816894531,
          91.27999877929688,
          93.30999755859375,
          93.1500015258789,
          93.91999816894531,
          94.16999816894531,
          94.2699966430664,
          93.19000244140625,
          93.22000122070312,
          93.9800033569336,
          92.55999755859375,
          91.88999938964844,
          91.19999694824219,
          91.63999938964844,
          91.75,
          86.9000015258789,
          86.44999694824219,
          86.22000122070312,
          86.31999969482422,
          87.38999938964844,
          88.62000274658203,
          88.19999694824219,
          91.62999725341797,
          91.91000366210938,
          92.2300033569336,
          92.08000183105469,
          91.88999938964844,
          90.45999908447266,
          88.63999938964844,
          90.62000274658203,
          93.5199966430664,
          93.52999877929688,
          93.83000183105469,
          94.05999755859375,
          93.41999816894531,
          89.69000244140625,
          93.5999984741211,
          96.05000305175781,
          96.2300033569336,
          97.16999816894531,
          96.66000366210938,
          97.05000305175781,
          96.88999938964844,
          96.8499984741211,
          97.20999908447266,
          98.4000015258789,
          97.02999877929688,
          97.54000091552734,
          97.93000030517578,
          99.9800033569336,
          100.98999786376953,
          102.93000030517578,
          103.93000030517578,
          104.72000122070312,
          104.7699966430664,
          103.81999969482422,
          103.8499984741211,
          103.05999755859375,
          100.75,
          101.0199966430664,
          102.87999725341797,
          103.44000244140625,
          104.97000122070312,
          105.6500015258789,
          105.47000122070312,
          105.80999755859375,
          104.70999908447266,
          105.08000183105469,
          105.51000213623047,
          105.33000183105469,
          105.37000274658203,
          104.56999969482422,
          105.2300033569336,
          104.79000091552734,
          104.5199966430664,
          105.4000015258789,
          103.33999633789062,
          104.16999816894531,
          103.88999938964844,
          99.25,
          99.7300033569336,
          101.81999969482422,
          103.98999786376953,
          104.12999725341797,
          105.76000213623047,
          105.94999694824219,
          101.61000061035156,
          100.37999725341797,
          99.91000366210938,
          100.51000213623047,
          99.7300033569336,
          99.45999908447266,
          100.91999816894531,
          100.69000244140625,
          100.68000030517578,
          98.72000122070312,
          99.18000030517578,
          101.58000183105469,
          103.22000122070312,
          103.94000244140625,
          102.44999694824219,
          101.91999816894531,
          101.75,
          102.23999786376953,
          102.73999786376953,
          103.9800033569336,
          103.83999633789062,
          102.62999725341797,
          103.30999755859375,
          104.33000183105469,
          105.33999633789062,
          104.7300033569336,
          102.30999755859375,
          101.9800033569336,
          101.80000305175781,
          100.30999755859375,
          99.62000274658203,
          99.30999755859375,
          99.88999938964844,
          100.80000305175781,
          101.55999755859375,
          100.62999725341797,
          98.26000213623047,
          97.87999725341797,
          100.52999877929688,
          102.12999725341797,
          102.2300033569336,
          98.16000366210938,
          99.5999984741211,
          96.5,
          98.61000061035156,
          99.75,
          100.87000274658203,
          100.70999908447266,
          103.11000061035156,
          103.16000366210938,
          101.81999969482422,
          101.26000213623047,
          98.19999694824219,
          99.44000244140625,
          99.83000183105469,
          101.41999816894531,
          99.5199966430664,
          95.88999938964844,
          98.51000213623047,
          98.68000030517578,
          99.97000122070312,
          100.52999877929688,
          101,
          100.51000213623047,
          99.97000122070312,
          99.20999908447266
         ],
         "low": [
          67.72000122070312,
          68.08000183105469,
          70.55999755859375,
          74.80000305175781,
          73.8499984741211,
          73.66999816894531,
          75.5199966430664,
          75.01000213623047,
          75.72000122070312,
          74.1500015258789,
          74.69000244140625,
          74.30000305175781,
          73.73999786376953,
          72.41000366210938,
          71.91999816894531,
          71.13999938964844,
          67.8499984741211,
          68.6500015258789,
          66.8499984741211,
          67.2699966430664,
          69.0199966430664,
          70.30999755859375,
          70.7699966430664,
          72.55000305175781,
          73.4000015258789,
          73.37000274658203,
          73.55000305175781,
          72.77999877929688,
          73.87999725341797,
          75.27999877929688,
          74.70999908447266,
          74.16999816894531,
          75.43000030517578,
          75.58000183105469,
          76.26000213623047,
          77.6500015258789,
          78.11000061035156,
          76.33000183105469,
          78.04000091552734,
          79.5999984741211,
          81.16000366210938,
          79.80999755859375,
          78.37999725341797,
          80.79000091552734,
          79.43000030517578,
          81.41999816894531,
          82.48999786376953,
          83.79000091552734,
          82.97000122070312,
          81.83999633789062,
          82.44999694824219,
          83.7300033569336,
          81.4000015258789,
          81.48999786376953,
          78.8499984741211,
          79.29000091552734,
          78.30999755859375,
          79.05000305175781,
          76,
          78.5,
          77.6500015258789,
          77.5,
          77.83000183105469,
          77.51000213623047,
          78.44999694824219,
          78.16000366210938,
          79.37000274658203,
          79.5199966430664,
          78.95999908447266,
          79.30000305175781,
          79.8499984741211,
          77.76000213623047,
          78.11000061035156,
          76.5999984741211,
          76.25,
          78.1500015258789,
          78.29000091552734,
          81.37999725341797,
          81.19999694824219,
          82.06999969482422,
          82.12999725341797,
          82.2300033569336,
          82.30000305175781,
          80.75,
          82.23999786376953,
          84.4000015258789,
          85.33999633789062,
          86.43000030517578,
          83.83999633789062,
          83.36000061035156,
          83.41000366210938,
          85.61000061035156,
          86.30000305175781,
          86.87000274658203,
          84.31999969482422,
          85.31999969482422,
          86.7300033569336,
          88.31999969482422,
          88.73999786376953,
          87.94999694824219,
          88.58999633789062,
          89.9000015258789,
          91.87000274658203,
          91.55999755859375,
          92.16000366210938,
          92.63999938964844,
          92.73999786376953,
          91.69000244140625,
          91.79000091552734,
          91.52999877929688,
          91.69000244140625,
          89.88999938964844,
          89.9000015258789,
          89.44999694824219,
          87.05999755859375,
          83.91000366210938,
          84.22000122070312,
          84.9800033569336,
          85.56999969482422,
          85.83999633789062,
          86.72000122070312,
          86.43000030517578,
          89.77999877929688,
          90.12999725341797,
          91.05000305175781,
          91.33000183105469,
          89.66000366210938,
          88.56999969482422,
          86.94999694824219,
          88.61000061035156,
          89.76000213623047,
          91.73999786376953,
          91.44000244140625,
          91.30000305175781,
          91.0999984741211,
          87.58000183105469,
          89,
          93.18000030517578,
          94.83999633789062,
          94.19000244140625,
          94.3499984741211,
          95.5199966430664,
          95.55000305175781,
          95.52999877929688,
          95.52999877929688,
          95.9800033569336,
          94.83000183105469,
          95.55999755859375,
          96.83999633789062,
          98.29000091552734,
          98.97000122070312,
          100.58999633789062,
          101.8499984741211,
          103.51000213623047,
          102.69000244140625,
          102.19000244140625,
          101.5999984741211,
          101.12000274658203,
          98.70999908447266,
          99.51000213623047,
          101.72000122070312,
          102.52999877929688,
          103.04000091552734,
          103.66999816894531,
          103.68000030517578,
          103.87999725341797,
          103.37000274658203,
          103.56999969482422,
          104.36000061035156,
          103.7699966430664,
          104.06999969482422,
          103.06999969482422,
          103.30000305175781,
          103.20999908447266,
          103.22000122070312,
          101.66000366210938,
          101.80999755859375,
          101.75,
          101.41000366210938,
          96.87000274658203,
          97.94999694824219,
          99.43000030517578,
          101.5999984741211,
          102.80999755859375,
          103.83000183105469,
          101.72000122070312,
          99.11000061035156,
          96.25,
          97.05999755859375,
          96.97000122070312,
          97.47000122070312,
          97.22000122070312,
          98.69000244140625,
          98.38999938964844,
          97.20999908447266,
          96.69000244140625,
          96.68000030517578,
          97.80999755859375,
          101.8499984741211,
          100.55000305175781,
          101.30000305175781,
          99.93000030517578,
          99.56999969482422,
          100.56999969482422,
          101.66000366210938,
          101.69000244140625,
          101.83000183105469,
          100.80000305175781,
          101.93000030517578,
          102.69000244140625,
          103.37000274658203,
          101.87999725341797,
          98.16999816894531,
          99.7300033569336,
          99.97000122070312,
          98.27999877929688,
          97.72000122070312,
          97.47000122070312,
          98.05000305175781,
          99.95999908447266,
          99.51000213623047,
          97.3499984741211,
          96.48999786376953,
          94.94999694824219,
          97.81999969482422,
          100.18000030517578,
          100.11000061035156,
          95.87000274658203,
          95.95999908447266,
          93.87999725341797,
          95.26000213623047,
          95.30000305175781,
          96.8499984741211,
          98.80000305175781,
          100.33999633789062,
          101.2300033569336,
          100.25,
          98.37999725341797,
          96.80000305175781,
          96.56999969482422,
          97.12999725341797,
          99.66000366210938,
          96.80999755859375,
          94.20999908447266,
          96.06999969482422,
          97.45999908447266,
          98.7699966430664,
          99.11000061035156,
          99.58000183105469,
          98.69000244140625,
          98.72000122070312,
          97.4800033569336
         ],
         "open": [
          69.27999877929688,
          68.16000366210938,
          71.41000366210938,
          74.80000305175781,
          74.47000122070312,
          74.23999786376953,
          76.55999755859375,
          75.80999755859375,
          75.8499984741211,
          75.06999969482422,
          76.5199966430664,
          76.51000213623047,
          75,
          72.55000305175781,
          73.5199966430664,
          72.73999786376953,
          69.7300033569336,
          69.44000244140625,
          69.01000213623047,
          67.87999725341797,
          69.12000274658203,
          70.87000274658203,
          70.93000030517578,
          73.0999984741211,
          73.63999938964844,
          73.9000015258789,
          74.5999984741211,
          74.33000183105469,
          73.87999725341797,
          76.25,
          75,
          75.1500015258789,
          75.44999694824219,
          75.69999694824219,
          77.26000213623047,
          77.68000030517578,
          80.5,
          78.04000091552734,
          78.05000305175781,
          79.80999755859375,
          81.16000366210938,
          82.13999938964844,
          82.41000366210938,
          81.93000030517578,
          80.19999694824219,
          81.73999786376953,
          82.55000305175781,
          84.55000305175781,
          84.9000015258789,
          83.51000213623047,
          83.5999984741211,
          84.7300033569336,
          82.61000061035156,
          82.47000122070312,
          81.13999938964844,
          80.0999984741211,
          79.29000091552734,
          81.62999725341797,
          77,
          78.66999816894531,
          78.66999816894531,
          77.87999725341797,
          79.19999694824219,
          77.80000305175781,
          79.04000091552734,
          78.5,
          80.4800033569336,
          80.94999694824219,
          79.9000015258789,
          79.61000061035156,
          81.3499984741211,
          81,
          78.30000305175781,
          79.30999755859375,
          76.7300033569336,
          78.91999816894531,
          78.29000091552734,
          81.80999755859375,
          81.41000366210938,
          82.4000015258789,
          83.19999694824219,
          82.88999938964844,
          83.11000061035156,
          82.08999633789062,
          82.91000366210938,
          84.93000030517578,
          85.4800033569336,
          88.06999969482422,
          85.05999755859375,
          85.4000015258789,
          83.69000244140625,
          85.61000061035156,
          86.79000091552734,
          88.2300033569336,
          85.30999755859375,
          86.18000030517578,
          86.94000244140625,
          88.70999908447266,
          90.27999877929688,
          88.66000366210938,
          90.0999984741211,
          90.55000305175781,
          92.38999938964844,
          92.51000213623047,
          92.33000183105469,
          93.86000061035156,
          94.2300033569336,
          92.3499984741211,
          92.37999725341797,
          93.5,
          91.72000122070312,
          91.79000091552734,
          91.08999633789062,
          90.5,
          91.73999786376953,
          86.38999938964844,
          84.56999969482422,
          85.86000061035156,
          86.04000091552734,
          86.45999908447266,
          87.52999877929688,
          88.05999755859375,
          91.08999633789062,
          90.16999816894531,
          91.91999816894531,
          91.9000015258789,
          91.75,
          89.63999938964844,
          88.0999984741211,
          89.36000061035156,
          90.23999786376953,
          92.47000122070312,
          93.12000274658203,
          91.36000061035156,
          93.1500015258789,
          89.51000213623047,
          89.13999938964844,
          93.23999786376953,
          95.41999816894531,
          96.27999877929688,
          94.37000274658203,
          95.87999725341797,
          96.51000213623047,
          96.16000366210938,
          95.94000244140625,
          96.72000122070312,
          96.75,
          95.7699966430664,
          96.83999633789062,
          98.62999725341797,
          99.56999969482422,
          100.73999786376953,
          102.27999877929688,
          103.52999877929688,
          104.5,
          103.20999908447266,
          102.80999755859375,
          102.37999725341797,
          99.55000305175781,
          99.79000091552734,
          101.98999786376953,
          102.69000244140625,
          103.2699966430664,
          104.63999938964844,
          103.88999938964844,
          105.62999725341797,
          104.2699966430664,
          104.54000091552734,
          105.01000213623047,
          104.73999786376953,
          104.08000183105469,
          103.8499984741211,
          103.3499984741211,
          104.43000030517578,
          103.83999633789062,
          104.3499984741211,
          102.16000366210938,
          103.51000213623047,
          102.12999725341797,
          98.75,
          99.43000030517578,
          99.43000030517578,
          101.76000213623047,
          103.38999938964844,
          103.8499984741211,
          104.2699966430664,
          101.08000183105469,
          100.2300033569336,
          97.93000030517578,
          99.05000305175781,
          98.22000122070312,
          98.22000122070312,
          100.55999755859375,
          99.0199966430664,
          100.08000183105469,
          97.29000091552734,
          98.12000274658203,
          101.22000122070312,
          102.45999908447266,
          101.76000213623047,
          101.55000305175781,
          101.08000183105469,
          100.36000061035156,
          100.73999786376953,
          102.30000305175781,
          102.12000274658203,
          102.97000122070312,
          101.88999938964844,
          102.11000061035156,
          103.88999938964844,
          103.93000030517578,
          104.38999938964844,
          102.2300033569336,
          101.33000183105469,
          100.45999908447266,
          99.45999908447266,
          98.73999786376953,
          98.04000091552734,
          99.20999908447266,
          100.02999877929688,
          100,
          100.51000213623047,
          97.93000030517578,
          96.22000122070312,
          98.29000091552734,
          100.30999755859375,
          101.83999633789062,
          98.05000305175781,
          99.04000091552734,
          96.43000030517578,
          96.9800033569336,
          96,
          100.04000091552734,
          100,
          100.37000274658203,
          102.66000366210938,
          100.7699966430664,
          100.94000244140625,
          98.1500015258789,
          96.75,
          99.12000274658203,
          101.29000091552734,
          99.47000122070312,
          95.61000061035156,
          96.18000030517578,
          97.69000244140625,
          99.01000213623047,
          99.72000122070312,
          100.5999984741211,
          100.05000305175781,
          98.86000061035156,
          98.7300033569336
         ],
         "showlegend": false,
         "type": "candlestick",
         "x": [
          "2021-01-04",
          "2021-01-05",
          "2021-01-06",
          "2021-01-07",
          "2021-01-08",
          "2021-01-11",
          "2021-01-12",
          "2021-01-13",
          "2021-01-14",
          "2021-01-15",
          "2021-01-19",
          "2021-01-20",
          "2021-01-21",
          "2021-01-22",
          "2021-01-25",
          "2021-01-26",
          "2021-01-27",
          "2021-01-28",
          "2021-01-29",
          "2021-02-01",
          "2021-02-02",
          "2021-02-03",
          "2021-02-04",
          "2021-02-05",
          "2021-02-08",
          "2021-02-09",
          "2021-02-10",
          "2021-02-11",
          "2021-02-12",
          "2021-02-16",
          "2021-02-17",
          "2021-02-18",
          "2021-02-19",
          "2021-02-22",
          "2021-02-23",
          "2021-02-24",
          "2021-02-25",
          "2021-02-26",
          "2021-03-01",
          "2021-03-02",
          "2021-03-03",
          "2021-03-04",
          "2021-03-05",
          "2021-03-08",
          "2021-03-09",
          "2021-03-10",
          "2021-03-11",
          "2021-03-12",
          "2021-03-15",
          "2021-03-16",
          "2021-03-17",
          "2021-03-18",
          "2021-03-19",
          "2021-03-22",
          "2021-03-23",
          "2021-03-24",
          "2021-03-25",
          "2021-03-26",
          "2021-03-29",
          "2021-03-30",
          "2021-03-31",
          "2021-04-01",
          "2021-04-05",
          "2021-04-06",
          "2021-04-07",
          "2021-04-08",
          "2021-04-09",
          "2021-04-12",
          "2021-04-13",
          "2021-04-14",
          "2021-04-15",
          "2021-04-16",
          "2021-04-19",
          "2021-04-20",
          "2021-04-21",
          "2021-04-22",
          "2021-04-23",
          "2021-04-26",
          "2021-04-27",
          "2021-04-28",
          "2021-04-29",
          "2021-04-30",
          "2021-05-03",
          "2021-05-04",
          "2021-05-05",
          "2021-05-06",
          "2021-05-07",
          "2021-05-10",
          "2021-05-11",
          "2021-05-12",
          "2021-05-13",
          "2021-05-14",
          "2021-05-17",
          "2021-05-18",
          "2021-05-19",
          "2021-05-20",
          "2021-05-21",
          "2021-05-24",
          "2021-05-25",
          "2021-05-26",
          "2021-05-27",
          "2021-05-28",
          "2021-06-01",
          "2021-06-02",
          "2021-06-03",
          "2021-06-04",
          "2021-06-07",
          "2021-06-08",
          "2021-06-09",
          "2021-06-10",
          "2021-06-11",
          "2021-06-14",
          "2021-06-15",
          "2021-06-16",
          "2021-06-17",
          "2021-06-18",
          "2021-06-21",
          "2021-06-22",
          "2021-06-23",
          "2021-06-24",
          "2021-06-25",
          "2021-06-28",
          "2021-06-29",
          "2021-06-30",
          "2021-07-01",
          "2021-07-02",
          "2021-07-06",
          "2021-07-07",
          "2021-07-08",
          "2021-07-09",
          "2021-07-12",
          "2021-07-13",
          "2021-07-14",
          "2021-07-15",
          "2021-07-16",
          "2021-07-19",
          "2021-07-20",
          "2021-07-21",
          "2021-07-22",
          "2021-07-23",
          "2021-07-26",
          "2021-07-27",
          "2021-07-28",
          "2021-07-29",
          "2021-07-30",
          "2021-08-02",
          "2021-08-03",
          "2021-08-04",
          "2021-08-05",
          "2021-08-06",
          "2021-08-09",
          "2021-08-10",
          "2021-08-11",
          "2021-08-12",
          "2021-08-13",
          "2021-08-16",
          "2021-08-17",
          "2021-08-18",
          "2021-08-19",
          "2021-08-20",
          "2021-08-23",
          "2021-08-24",
          "2021-08-25",
          "2021-08-26",
          "2021-08-27",
          "2021-08-30",
          "2021-08-31",
          "2021-09-01",
          "2021-09-02",
          "2021-09-03",
          "2021-09-07",
          "2021-09-08",
          "2021-09-09",
          "2021-09-10",
          "2021-09-13",
          "2021-09-14",
          "2021-09-15",
          "2021-09-16",
          "2021-09-17",
          "2021-09-20",
          "2021-09-21",
          "2021-09-22",
          "2021-09-23",
          "2021-09-24",
          "2021-09-27",
          "2021-09-28",
          "2021-09-29",
          "2021-09-30",
          "2021-10-01",
          "2021-10-04",
          "2021-10-05",
          "2021-10-06",
          "2021-10-07",
          "2021-10-08",
          "2021-10-11",
          "2021-10-12",
          "2021-10-13",
          "2021-10-14",
          "2021-10-15",
          "2021-10-18",
          "2021-10-19",
          "2021-10-20",
          "2021-10-21",
          "2021-10-22",
          "2021-10-25",
          "2021-10-26",
          "2021-10-27",
          "2021-10-28",
          "2021-10-29",
          "2021-11-01",
          "2021-11-02",
          "2021-11-03",
          "2021-11-04",
          "2021-11-05",
          "2021-11-08",
          "2021-11-09",
          "2021-11-10",
          "2021-11-11",
          "2021-11-12",
          "2021-11-15",
          "2021-11-16",
          "2021-11-17",
          "2021-11-18",
          "2021-11-19",
          "2021-11-22",
          "2021-11-23",
          "2021-11-24",
          "2021-11-26",
          "2021-11-29",
          "2021-11-30",
          "2021-12-01",
          "2021-12-02",
          "2021-12-03",
          "2021-12-06",
          "2021-12-07",
          "2021-12-08",
          "2021-12-09",
          "2021-12-10",
          "2021-12-13",
          "2021-12-14",
          "2021-12-15",
          "2021-12-16",
          "2021-12-17",
          "2021-12-20",
          "2021-12-21",
          "2021-12-22",
          "2021-12-23",
          "2021-12-27",
          "2021-12-28",
          "2021-12-29",
          "2021-12-30",
          "2021-12-31"
         ],
         "yaxis": "y2"
        }
       ],
       "layout": {
        "legend": {
         "bgcolor": "#F5F6F9",
         "font": {
          "color": "#4D5663"
         }
        },
        "paper_bgcolor": "#F5F6F9",
        "plot_bgcolor": "#F5F6F9",
        "template": {
         "data": {
          "bar": [
           {
            "error_x": {
             "color": "#2a3f5f"
            },
            "error_y": {
             "color": "#2a3f5f"
            },
            "marker": {
             "line": {
              "color": "#E5ECF6",
              "width": 0.5
             },
             "pattern": {
              "fillmode": "overlay",
              "size": 10,
              "solidity": 0.2
             }
            },
            "type": "bar"
           }
          ],
          "barpolar": [
           {
            "marker": {
             "line": {
              "color": "#E5ECF6",
              "width": 0.5
             },
             "pattern": {
              "fillmode": "overlay",
              "size": 10,
              "solidity": 0.2
             }
            },
            "type": "barpolar"
           }
          ],
          "carpet": [
           {
            "aaxis": {
             "endlinecolor": "#2a3f5f",
             "gridcolor": "white",
             "linecolor": "white",
             "minorgridcolor": "white",
             "startlinecolor": "#2a3f5f"
            },
            "baxis": {
             "endlinecolor": "#2a3f5f",
             "gridcolor": "white",
             "linecolor": "white",
             "minorgridcolor": "white",
             "startlinecolor": "#2a3f5f"
            },
            "type": "carpet"
           }
          ],
          "choropleth": [
           {
            "colorbar": {
             "outlinewidth": 0,
             "ticks": ""
            },
            "type": "choropleth"
           }
          ],
          "contour": [
           {
            "colorbar": {
             "outlinewidth": 0,
             "ticks": ""
            },
            "colorscale": [
             [
              0,
              "#0d0887"
             ],
             [
              0.1111111111111111,
              "#46039f"
             ],
             [
              0.2222222222222222,
              "#7201a8"
             ],
             [
              0.3333333333333333,
              "#9c179e"
             ],
             [
              0.4444444444444444,
              "#bd3786"
             ],
             [
              0.5555555555555556,
              "#d8576b"
             ],
             [
              0.6666666666666666,
              "#ed7953"
             ],
             [
              0.7777777777777778,
              "#fb9f3a"
             ],
             [
              0.8888888888888888,
              "#fdca26"
             ],
             [
              1,
              "#f0f921"
             ]
            ],
            "type": "contour"
           }
          ],
          "contourcarpet": [
           {
            "colorbar": {
             "outlinewidth": 0,
             "ticks": ""
            },
            "type": "contourcarpet"
           }
          ],
          "heatmap": [
           {
            "colorbar": {
             "outlinewidth": 0,
             "ticks": ""
            },
            "colorscale": [
             [
              0,
              "#0d0887"
             ],
             [
              0.1111111111111111,
              "#46039f"
             ],
             [
              0.2222222222222222,
              "#7201a8"
             ],
             [
              0.3333333333333333,
              "#9c179e"
             ],
             [
              0.4444444444444444,
              "#bd3786"
             ],
             [
              0.5555555555555556,
              "#d8576b"
             ],
             [
              0.6666666666666666,
              "#ed7953"
             ],
             [
              0.7777777777777778,
              "#fb9f3a"
             ],
             [
              0.8888888888888888,
              "#fdca26"
             ],
             [
              1,
              "#f0f921"
             ]
            ],
            "type": "heatmap"
           }
          ],
          "heatmapgl": [
           {
            "colorbar": {
             "outlinewidth": 0,
             "ticks": ""
            },
            "colorscale": [
             [
              0,
              "#0d0887"
             ],
             [
              0.1111111111111111,
              "#46039f"
             ],
             [
              0.2222222222222222,
              "#7201a8"
             ],
             [
              0.3333333333333333,
              "#9c179e"
             ],
             [
              0.4444444444444444,
              "#bd3786"
             ],
             [
              0.5555555555555556,
              "#d8576b"
             ],
             [
              0.6666666666666666,
              "#ed7953"
             ],
             [
              0.7777777777777778,
              "#fb9f3a"
             ],
             [
              0.8888888888888888,
              "#fdca26"
             ],
             [
              1,
              "#f0f921"
             ]
            ],
            "type": "heatmapgl"
           }
          ],
          "histogram": [
           {
            "marker": {
             "pattern": {
              "fillmode": "overlay",
              "size": 10,
              "solidity": 0.2
             }
            },
            "type": "histogram"
           }
          ],
          "histogram2d": [
           {
            "colorbar": {
             "outlinewidth": 0,
             "ticks": ""
            },
            "colorscale": [
             [
              0,
              "#0d0887"
             ],
             [
              0.1111111111111111,
              "#46039f"
             ],
             [
              0.2222222222222222,
              "#7201a8"
             ],
             [
              0.3333333333333333,
              "#9c179e"
             ],
             [
              0.4444444444444444,
              "#bd3786"
             ],
             [
              0.5555555555555556,
              "#d8576b"
             ],
             [
              0.6666666666666666,
              "#ed7953"
             ],
             [
              0.7777777777777778,
              "#fb9f3a"
             ],
             [
              0.8888888888888888,
              "#fdca26"
             ],
             [
              1,
              "#f0f921"
             ]
            ],
            "type": "histogram2d"
           }
          ],
          "histogram2dcontour": [
           {
            "colorbar": {
             "outlinewidth": 0,
             "ticks": ""
            },
            "colorscale": [
             [
              0,
              "#0d0887"
             ],
             [
              0.1111111111111111,
              "#46039f"
             ],
             [
              0.2222222222222222,
              "#7201a8"
             ],
             [
              0.3333333333333333,
              "#9c179e"
             ],
             [
              0.4444444444444444,
              "#bd3786"
             ],
             [
              0.5555555555555556,
              "#d8576b"
             ],
             [
              0.6666666666666666,
              "#ed7953"
             ],
             [
              0.7777777777777778,
              "#fb9f3a"
             ],
             [
              0.8888888888888888,
              "#fdca26"
             ],
             [
              1,
              "#f0f921"
             ]
            ],
            "type": "histogram2dcontour"
           }
          ],
          "mesh3d": [
           {
            "colorbar": {
             "outlinewidth": 0,
             "ticks": ""
            },
            "type": "mesh3d"
           }
          ],
          "parcoords": [
           {
            "line": {
             "colorbar": {
              "outlinewidth": 0,
              "ticks": ""
             }
            },
            "type": "parcoords"
           }
          ],
          "pie": [
           {
            "automargin": true,
            "type": "pie"
           }
          ],
          "scatter": [
           {
            "fillpattern": {
             "fillmode": "overlay",
             "size": 10,
             "solidity": 0.2
            },
            "type": "scatter"
           }
          ],
          "scatter3d": [
           {
            "line": {
             "colorbar": {
              "outlinewidth": 0,
              "ticks": ""
             }
            },
            "marker": {
             "colorbar": {
              "outlinewidth": 0,
              "ticks": ""
             }
            },
            "type": "scatter3d"
           }
          ],
          "scattercarpet": [
           {
            "marker": {
             "colorbar": {
              "outlinewidth": 0,
              "ticks": ""
             }
            },
            "type": "scattercarpet"
           }
          ],
          "scattergeo": [
           {
            "marker": {
             "colorbar": {
              "outlinewidth": 0,
              "ticks": ""
             }
            },
            "type": "scattergeo"
           }
          ],
          "scattergl": [
           {
            "marker": {
             "colorbar": {
              "outlinewidth": 0,
              "ticks": ""
             }
            },
            "type": "scattergl"
           }
          ],
          "scattermapbox": [
           {
            "marker": {
             "colorbar": {
              "outlinewidth": 0,
              "ticks": ""
             }
            },
            "type": "scattermapbox"
           }
          ],
          "scatterpolar": [
           {
            "marker": {
             "colorbar": {
              "outlinewidth": 0,
              "ticks": ""
             }
            },
            "type": "scatterpolar"
           }
          ],
          "scatterpolargl": [
           {
            "marker": {
             "colorbar": {
              "outlinewidth": 0,
              "ticks": ""
             }
            },
            "type": "scatterpolargl"
           }
          ],
          "scatterternary": [
           {
            "marker": {
             "colorbar": {
              "outlinewidth": 0,
              "ticks": ""
             }
            },
            "type": "scatterternary"
           }
          ],
          "surface": [
           {
            "colorbar": {
             "outlinewidth": 0,
             "ticks": ""
            },
            "colorscale": [
             [
              0,
              "#0d0887"
             ],
             [
              0.1111111111111111,
              "#46039f"
             ],
             [
              0.2222222222222222,
              "#7201a8"
             ],
             [
              0.3333333333333333,
              "#9c179e"
             ],
             [
              0.4444444444444444,
              "#bd3786"
             ],
             [
              0.5555555555555556,
              "#d8576b"
             ],
             [
              0.6666666666666666,
              "#ed7953"
             ],
             [
              0.7777777777777778,
              "#fb9f3a"
             ],
             [
              0.8888888888888888,
              "#fdca26"
             ],
             [
              1,
              "#f0f921"
             ]
            ],
            "type": "surface"
           }
          ],
          "table": [
           {
            "cells": {
             "fill": {
              "color": "#EBF0F8"
             },
             "line": {
              "color": "white"
             }
            },
            "header": {
             "fill": {
              "color": "#C8D4E3"
             },
             "line": {
              "color": "white"
             }
            },
            "type": "table"
           }
          ]
         },
         "layout": {
          "annotationdefaults": {
           "arrowcolor": "#2a3f5f",
           "arrowhead": 0,
           "arrowwidth": 1
          },
          "autotypenumbers": "strict",
          "coloraxis": {
           "colorbar": {
            "outlinewidth": 0,
            "ticks": ""
           }
          },
          "colorscale": {
           "diverging": [
            [
             0,
             "#8e0152"
            ],
            [
             0.1,
             "#c51b7d"
            ],
            [
             0.2,
             "#de77ae"
            ],
            [
             0.3,
             "#f1b6da"
            ],
            [
             0.4,
             "#fde0ef"
            ],
            [
             0.5,
             "#f7f7f7"
            ],
            [
             0.6,
             "#e6f5d0"
            ],
            [
             0.7,
             "#b8e186"
            ],
            [
             0.8,
             "#7fbc41"
            ],
            [
             0.9,
             "#4d9221"
            ],
            [
             1,
             "#276419"
            ]
           ],
           "sequential": [
            [
             0,
             "#0d0887"
            ],
            [
             0.1111111111111111,
             "#46039f"
            ],
            [
             0.2222222222222222,
             "#7201a8"
            ],
            [
             0.3333333333333333,
             "#9c179e"
            ],
            [
             0.4444444444444444,
             "#bd3786"
            ],
            [
             0.5555555555555556,
             "#d8576b"
            ],
            [
             0.6666666666666666,
             "#ed7953"
            ],
            [
             0.7777777777777778,
             "#fb9f3a"
            ],
            [
             0.8888888888888888,
             "#fdca26"
            ],
            [
             1,
             "#f0f921"
            ]
           ],
           "sequentialminus": [
            [
             0,
             "#0d0887"
            ],
            [
             0.1111111111111111,
             "#46039f"
            ],
            [
             0.2222222222222222,
             "#7201a8"
            ],
            [
             0.3333333333333333,
             "#9c179e"
            ],
            [
             0.4444444444444444,
             "#bd3786"
            ],
            [
             0.5555555555555556,
             "#d8576b"
            ],
            [
             0.6666666666666666,
             "#ed7953"
            ],
            [
             0.7777777777777778,
             "#fb9f3a"
            ],
            [
             0.8888888888888888,
             "#fdca26"
            ],
            [
             1,
             "#f0f921"
            ]
           ]
          },
          "colorway": [
           "#636efa",
           "#EF553B",
           "#00cc96",
           "#ab63fa",
           "#FFA15A",
           "#19d3f3",
           "#FF6692",
           "#B6E880",
           "#FF97FF",
           "#FECB52"
          ],
          "font": {
           "color": "#2a3f5f"
          },
          "geo": {
           "bgcolor": "white",
           "lakecolor": "white",
           "landcolor": "#E5ECF6",
           "showlakes": true,
           "showland": true,
           "subunitcolor": "white"
          },
          "hoverlabel": {
           "align": "left"
          },
          "hovermode": "closest",
          "mapbox": {
           "style": "light"
          },
          "paper_bgcolor": "white",
          "plot_bgcolor": "#E5ECF6",
          "polar": {
           "angularaxis": {
            "gridcolor": "white",
            "linecolor": "white",
            "ticks": ""
           },
           "bgcolor": "#E5ECF6",
           "radialaxis": {
            "gridcolor": "white",
            "linecolor": "white",
            "ticks": ""
           }
          },
          "scene": {
           "xaxis": {
            "backgroundcolor": "#E5ECF6",
            "gridcolor": "white",
            "gridwidth": 2,
            "linecolor": "white",
            "showbackground": true,
            "ticks": "",
            "zerolinecolor": "white"
           },
           "yaxis": {
            "backgroundcolor": "#E5ECF6",
            "gridcolor": "white",
            "gridwidth": 2,
            "linecolor": "white",
            "showbackground": true,
            "ticks": "",
            "zerolinecolor": "white"
           },
           "zaxis": {
            "backgroundcolor": "#E5ECF6",
            "gridcolor": "white",
            "gridwidth": 2,
            "linecolor": "white",
            "showbackground": true,
            "ticks": "",
            "zerolinecolor": "white"
           }
          },
          "shapedefaults": {
           "line": {
            "color": "#2a3f5f"
           }
          },
          "ternary": {
           "aaxis": {
            "gridcolor": "white",
            "linecolor": "white",
            "ticks": ""
           },
           "baxis": {
            "gridcolor": "white",
            "linecolor": "white",
            "ticks": ""
           },
           "bgcolor": "#E5ECF6",
           "caxis": {
            "gridcolor": "white",
            "linecolor": "white",
            "ticks": ""
           }
          },
          "title": {
           "x": 0.05
          },
          "xaxis": {
           "automargin": true,
           "gridcolor": "white",
           "linecolor": "white",
           "ticks": "",
           "title": {
            "standoff": 15
           },
           "zerolinecolor": "white",
           "zerolinewidth": 2
          },
          "yaxis": {
           "automargin": true,
           "gridcolor": "white",
           "linecolor": "white",
           "ticks": "",
           "title": {
            "standoff": 15
           },
           "zerolinecolor": "white",
           "zerolinewidth": 2
          }
         }
        },
        "title": {
         "font": {
          "color": "#4D5663"
         }
        },
        "xaxis": {
         "gridcolor": "#E1E5ED",
         "rangeslider": {
          "visible": false
         },
         "showgrid": true,
         "tickfont": {
          "color": "#4D5663"
         },
         "title": {
          "font": {
           "color": "#4D5663"
          },
          "text": ""
         },
         "zerolinecolor": "#E1E5ED"
        },
        "yaxis": {
         "gridcolor": "#E1E5ED",
         "showgrid": true,
         "showticklabels": false,
         "tickfont": {
          "color": "#4D5663"
         },
         "title": {
          "font": {
           "color": "#4D5663"
          },
          "text": ""
         },
         "zerolinecolor": "#E1E5ED"
        },
        "yaxis2": {
         "gridcolor": "#E1E5ED",
         "showgrid": true,
         "tickfont": {
          "color": "#4D5663"
         },
         "title": {
          "font": {
           "color": "#4D5663"
          },
          "text": ""
         },
         "zerolinecolor": "#E1E5ED"
        }
       }
      },
      "text/html": [
       "<div>                            <div id=\"cf3e5e9a-80d3-4a3b-b1c2-0b540425e018\" class=\"plotly-graph-div\" style=\"height:525px; width:100%;\"></div>            <script type=\"text/javascript\">                require([\"plotly\"], function(Plotly) {                    window.PLOTLYENV=window.PLOTLYENV || {};\n",
       "                    window.PLOTLYENV.BASE_URL='https://plot.ly';                                    if (document.getElementById(\"cf3e5e9a-80d3-4a3b-b1c2-0b540425e018\")) {                    Plotly.newPlot(                        \"cf3e5e9a-80d3-4a3b-b1c2-0b540425e018\",                        [{\"close\":[68.33000183105469,69.48999786376953,73.68000030517578,74.94000244140625,75.25,76.05999755859375,75.80000305175781,75.55999755859375,76.47000122070312,75.23999786376953,74.98999786376953,74.83999633789062,74.69999694824219,74.12999725341797,72.37999725341797,71.20999908447266,68.41999816894531,69.31999969482422,67.05000305175781,67.66999816894531,70.94999694824219,70.5999984741211,72.29000091552734,73.22000122070312,74.2300033569336,74.23999786376953,74.33000183105469,73.72000122070312,74.61000061035156,76.05000305175781,75.44999694824219,74.83000183105469,76.0,77.4000015258789,77.5,79.87999725341797,78.43000030517578,76.87000274658203,79.16000366210938,80.79000091552734,82.05999755859375,81.11000061035156,80.87000274658203,81.0999984741211,80.8499984741211,83.08999633789062,83.25,84.33999633789062,83.86000061035156,82.54000091552734,83.86000061035156,83.94000244140625,82.94000244140625,81.91999816894531,79.12000274658203,79.33000183105469,80.12999725341797,79.9800033569336,77.87999725341797,79.08999633789062,77.66000366210938,78.22000122070312,78.0,79.08999633789062,79.04000091552734,80.19999694824219,80.72000122070312,80.18000030517578,79.52999877929688,80.79000091552734,80.81999969482422,78.58999633789062,80.02999877929688,77.29000091552734,79.25,78.29000091552734,80.94999694824219,81.5199966430664,81.95999908447266,82.7300033569336,83.63999938964844,82.55000305175781,82.45999908447266,82.63999938964844,84.51000213623047,86.83000183105469,87.69999694824219,86.47000122070312,84.91999816894531,83.68000030517578,84.86000061035156,87.3499984741211,88.08999633789062,86.97000122070312,86.05000305175781,86.47000122070312,88.33999633789062,89.69000244140625,88.86000061035156,89.3499984741211,90.30000305175781,90.94999694824219,92.11000061035156,92.76000213623047,93.3499984741211,93.95999908447266,93.20999908447266,92.79000091552734,92.66999816894531,91.68000030517578,92.05000305175781,90.72000122070312,90.69999694824219,91.0999984741211,87.91000366210938,84.08999633789062,85.94000244140625,85.69999694824219,85.87000274658203,87.08000183105469,88.4000015258789,87.69999694824219,90.63999938964844,91.69000244140625,92.0199966430664,92.02999877929688,90.20999908447266,90.02999877929688,87.63999938964844,90.33000183105469,92.75,93.20999908447266,92.45999908447266,92.62999725341797,91.25,89.3499984741211,92.31999969482422,95.68000030517578,95.56999969482422,94.55000305175781,96.54000091552734,96.4800033569336,96.06999969482422,96.27999877929688,95.9800033569336,96.2300033569336,96.5999984741211,96.29000091552734,97.83000183105469,99.7300033569336,100.73999786376953,102.04000091552734,103.87999725341797,104.66999816894531,103.94000244140625,103.72000122070312,102.87000274658203,101.26000213623047,99.7300033569336,100.66000366210938,102.16000366210938,103.08999633789062,104.08999633789062,103.83999633789062,105.44999694824219,104.08999633789062,104.43000030517578,104.30999755859375,104.83000183105469,104.25,104.18000030517578,103.56999969482422,103.83999633789062,103.62000274658203,104.4000015258789,101.91000366210938,103.04000091552734,102.47000122070312,101.75,98.62999725341797,98.30000305175781,100.80000305175781,103.55000305175781,102.91000366210938,105.0999984741211,102.04000091552734,99.55000305175781,97.30999755859375,99.05000305175781,97.1500015258789,99.19999694824219,99.0999984741211,98.80000305175781,100.04000091552734,97.29000091552734,97.77999877929688,98.56999969482422,101.01000213623047,102.13999938964844,101.41000366210938,101.75,100.66000366210938,100.27999877929688,101.80000305175781,101.91000366210938,103.47000122070312,101.87000274658203,102.5,102.77999877929688,104.0,104.66000366210938,102.61000061035156,99.79000091552734,99.87000274658203,100.06999969482422,99.70999908447266,97.7699966430664,98.87999725341797,99.8499984741211,100.20999908447266,100.69000244140625,97.68000030517578,97.68000030517578,96.91000366210938,99.31999969482422,101.86000061035156,101.12000274658203,97.93000030517578,97.2300033569336,94.81999969482422,95.26000213623047,98.86000061035156,98.20999908447266,99.2699966430664,102.5,101.25,100.58000183105469,98.43000030517578,97.16999816894531,98.81999969482422,99.43000030517578,100.30000305175781,97.12999725341797,95.37000274658203,97.7699966430664,98.30000305175781,99.33999633789062,100.4000015258789,99.97000122070312,98.7300033569336,98.80000305175781,98.16000366210938],\"high\":[69.93000030517578,70.08000183105469,74.87999725341797,76.51000213623047,75.33999633789062,76.5,77.16999816894531,76.43000030517578,76.83999633789062,75.56999969482422,76.5999984741211,77.76000213623047,75.88999938964844,74.69999694824219,74.0199966430664,73.31999969482422,70.26000213623047,70.7699966430664,70.05999755859375,68.12000274658203,71.37000274658203,71.33000183105469,72.31999969482422,73.72000122070312,74.29000091552734,74.68000030517578,74.86000061035156,74.7699966430664,75.0199966430664,76.41999816894531,75.9000015258789,75.55000305175781,76.36000061035156,77.98999786376953,77.86000061035156,80.0999984741211,81.4000015258789,78.8499984741211,79.54000091552734,81.55000305175781,82.94000244140625,83.4800033569336,82.55999755859375,82.95999908447266,82.33000183105469,83.41999816894531,83.80999755859375,85.08000183105469,85.08000183105469,83.69999694824219,84.13999938964844,86.63999938964844,83.61000061035156,82.56999969482422,81.91999816894531,81.44000244140625,80.37999725341797,81.73999786376953,78.8499984741211,80.04000091552734,79.0,78.27999877929688,79.30999755859375,79.11000061035156,79.72000122070312,80.48999786376953,80.7300033569336,81.06999969482422,80.02999877929688,82.05000305175781,81.41000366210938,81.68000030517578,80.37000274658203,79.62999725341797,79.33999633789062,79.5,81.30000305175781,82.41999816894531,82.05000305175781,82.94999694824219,83.79000091552734,83.27999877929688,83.48999786376953,82.83000183105469,84.83999633789062,86.91000366210938,88.04000091552734,88.87999725341797,85.94000244140625,86.19000244140625,85.6500015258789,87.58000183105469,88.12000274658203,88.56999969482422,86.0999984741211,87.02999877929688,88.77999877929688,90.19999694824219,91.3499984741211,89.8499984741211,90.91999816894531,91.27999877929688,93.30999755859375,93.1500015258789,93.91999816894531,94.16999816894531,94.2699966430664,93.19000244140625,93.22000122070312,93.9800033569336,92.55999755859375,91.88999938964844,91.19999694824219,91.63999938964844,91.75,86.9000015258789,86.44999694824219,86.22000122070312,86.31999969482422,87.38999938964844,88.62000274658203,88.19999694824219,91.62999725341797,91.91000366210938,92.2300033569336,92.08000183105469,91.88999938964844,90.45999908447266,88.63999938964844,90.62000274658203,93.5199966430664,93.52999877929688,93.83000183105469,94.05999755859375,93.41999816894531,89.69000244140625,93.5999984741211,96.05000305175781,96.2300033569336,97.16999816894531,96.66000366210938,97.05000305175781,96.88999938964844,96.8499984741211,97.20999908447266,98.4000015258789,97.02999877929688,97.54000091552734,97.93000030517578,99.9800033569336,100.98999786376953,102.93000030517578,103.93000030517578,104.72000122070312,104.7699966430664,103.81999969482422,103.8499984741211,103.05999755859375,100.75,101.0199966430664,102.87999725341797,103.44000244140625,104.97000122070312,105.6500015258789,105.47000122070312,105.80999755859375,104.70999908447266,105.08000183105469,105.51000213623047,105.33000183105469,105.37000274658203,104.56999969482422,105.2300033569336,104.79000091552734,104.5199966430664,105.4000015258789,103.33999633789062,104.16999816894531,103.88999938964844,99.25,99.7300033569336,101.81999969482422,103.98999786376953,104.12999725341797,105.76000213623047,105.94999694824219,101.61000061035156,100.37999725341797,99.91000366210938,100.51000213623047,99.7300033569336,99.45999908447266,100.91999816894531,100.69000244140625,100.68000030517578,98.72000122070312,99.18000030517578,101.58000183105469,103.22000122070312,103.94000244140625,102.44999694824219,101.91999816894531,101.75,102.23999786376953,102.73999786376953,103.9800033569336,103.83999633789062,102.62999725341797,103.30999755859375,104.33000183105469,105.33999633789062,104.7300033569336,102.30999755859375,101.9800033569336,101.80000305175781,100.30999755859375,99.62000274658203,99.30999755859375,99.88999938964844,100.80000305175781,101.55999755859375,100.62999725341797,98.26000213623047,97.87999725341797,100.52999877929688,102.12999725341797,102.2300033569336,98.16000366210938,99.5999984741211,96.5,98.61000061035156,99.75,100.87000274658203,100.70999908447266,103.11000061035156,103.16000366210938,101.81999969482422,101.26000213623047,98.19999694824219,99.44000244140625,99.83000183105469,101.41999816894531,99.5199966430664,95.88999938964844,98.51000213623047,98.68000030517578,99.97000122070312,100.52999877929688,101.0,100.51000213623047,99.97000122070312,99.20999908447266],\"low\":[67.72000122070312,68.08000183105469,70.55999755859375,74.80000305175781,73.8499984741211,73.66999816894531,75.5199966430664,75.01000213623047,75.72000122070312,74.1500015258789,74.69000244140625,74.30000305175781,73.73999786376953,72.41000366210938,71.91999816894531,71.13999938964844,67.8499984741211,68.6500015258789,66.8499984741211,67.2699966430664,69.0199966430664,70.30999755859375,70.7699966430664,72.55000305175781,73.4000015258789,73.37000274658203,73.55000305175781,72.77999877929688,73.87999725341797,75.27999877929688,74.70999908447266,74.16999816894531,75.43000030517578,75.58000183105469,76.26000213623047,77.6500015258789,78.11000061035156,76.33000183105469,78.04000091552734,79.5999984741211,81.16000366210938,79.80999755859375,78.37999725341797,80.79000091552734,79.43000030517578,81.41999816894531,82.48999786376953,83.79000091552734,82.97000122070312,81.83999633789062,82.44999694824219,83.7300033569336,81.4000015258789,81.48999786376953,78.8499984741211,79.29000091552734,78.30999755859375,79.05000305175781,76.0,78.5,77.6500015258789,77.5,77.83000183105469,77.51000213623047,78.44999694824219,78.16000366210938,79.37000274658203,79.5199966430664,78.95999908447266,79.30000305175781,79.8499984741211,77.76000213623047,78.11000061035156,76.5999984741211,76.25,78.1500015258789,78.29000091552734,81.37999725341797,81.19999694824219,82.06999969482422,82.12999725341797,82.2300033569336,82.30000305175781,80.75,82.23999786376953,84.4000015258789,85.33999633789062,86.43000030517578,83.83999633789062,83.36000061035156,83.41000366210938,85.61000061035156,86.30000305175781,86.87000274658203,84.31999969482422,85.31999969482422,86.7300033569336,88.31999969482422,88.73999786376953,87.94999694824219,88.58999633789062,89.9000015258789,91.87000274658203,91.55999755859375,92.16000366210938,92.63999938964844,92.73999786376953,91.69000244140625,91.79000091552734,91.52999877929688,91.69000244140625,89.88999938964844,89.9000015258789,89.44999694824219,87.05999755859375,83.91000366210938,84.22000122070312,84.9800033569336,85.56999969482422,85.83999633789062,86.72000122070312,86.43000030517578,89.77999877929688,90.12999725341797,91.05000305175781,91.33000183105469,89.66000366210938,88.56999969482422,86.94999694824219,88.61000061035156,89.76000213623047,91.73999786376953,91.44000244140625,91.30000305175781,91.0999984741211,87.58000183105469,89.0,93.18000030517578,94.83999633789062,94.19000244140625,94.3499984741211,95.5199966430664,95.55000305175781,95.52999877929688,95.52999877929688,95.9800033569336,94.83000183105469,95.55999755859375,96.83999633789062,98.29000091552734,98.97000122070312,100.58999633789062,101.8499984741211,103.51000213623047,102.69000244140625,102.19000244140625,101.5999984741211,101.12000274658203,98.70999908447266,99.51000213623047,101.72000122070312,102.52999877929688,103.04000091552734,103.66999816894531,103.68000030517578,103.87999725341797,103.37000274658203,103.56999969482422,104.36000061035156,103.7699966430664,104.06999969482422,103.06999969482422,103.30000305175781,103.20999908447266,103.22000122070312,101.66000366210938,101.80999755859375,101.75,101.41000366210938,96.87000274658203,97.94999694824219,99.43000030517578,101.5999984741211,102.80999755859375,103.83000183105469,101.72000122070312,99.11000061035156,96.25,97.05999755859375,96.97000122070312,97.47000122070312,97.22000122070312,98.69000244140625,98.38999938964844,97.20999908447266,96.69000244140625,96.68000030517578,97.80999755859375,101.8499984741211,100.55000305175781,101.30000305175781,99.93000030517578,99.56999969482422,100.56999969482422,101.66000366210938,101.69000244140625,101.83000183105469,100.80000305175781,101.93000030517578,102.69000244140625,103.37000274658203,101.87999725341797,98.16999816894531,99.7300033569336,99.97000122070312,98.27999877929688,97.72000122070312,97.47000122070312,98.05000305175781,99.95999908447266,99.51000213623047,97.3499984741211,96.48999786376953,94.94999694824219,97.81999969482422,100.18000030517578,100.11000061035156,95.87000274658203,95.95999908447266,93.87999725341797,95.26000213623047,95.30000305175781,96.8499984741211,98.80000305175781,100.33999633789062,101.2300033569336,100.25,98.37999725341797,96.80000305175781,96.56999969482422,97.12999725341797,99.66000366210938,96.80999755859375,94.20999908447266,96.06999969482422,97.45999908447266,98.7699966430664,99.11000061035156,99.58000183105469,98.69000244140625,98.72000122070312,97.4800033569336],\"open\":[69.27999877929688,68.16000366210938,71.41000366210938,74.80000305175781,74.47000122070312,74.23999786376953,76.55999755859375,75.80999755859375,75.8499984741211,75.06999969482422,76.5199966430664,76.51000213623047,75.0,72.55000305175781,73.5199966430664,72.73999786376953,69.7300033569336,69.44000244140625,69.01000213623047,67.87999725341797,69.12000274658203,70.87000274658203,70.93000030517578,73.0999984741211,73.63999938964844,73.9000015258789,74.5999984741211,74.33000183105469,73.87999725341797,76.25,75.0,75.1500015258789,75.44999694824219,75.69999694824219,77.26000213623047,77.68000030517578,80.5,78.04000091552734,78.05000305175781,79.80999755859375,81.16000366210938,82.13999938964844,82.41000366210938,81.93000030517578,80.19999694824219,81.73999786376953,82.55000305175781,84.55000305175781,84.9000015258789,83.51000213623047,83.5999984741211,84.7300033569336,82.61000061035156,82.47000122070312,81.13999938964844,80.0999984741211,79.29000091552734,81.62999725341797,77.0,78.66999816894531,78.66999816894531,77.87999725341797,79.19999694824219,77.80000305175781,79.04000091552734,78.5,80.4800033569336,80.94999694824219,79.9000015258789,79.61000061035156,81.3499984741211,81.0,78.30000305175781,79.30999755859375,76.7300033569336,78.91999816894531,78.29000091552734,81.80999755859375,81.41000366210938,82.4000015258789,83.19999694824219,82.88999938964844,83.11000061035156,82.08999633789062,82.91000366210938,84.93000030517578,85.4800033569336,88.06999969482422,85.05999755859375,85.4000015258789,83.69000244140625,85.61000061035156,86.79000091552734,88.2300033569336,85.30999755859375,86.18000030517578,86.94000244140625,88.70999908447266,90.27999877929688,88.66000366210938,90.0999984741211,90.55000305175781,92.38999938964844,92.51000213623047,92.33000183105469,93.86000061035156,94.2300033569336,92.3499984741211,92.37999725341797,93.5,91.72000122070312,91.79000091552734,91.08999633789062,90.5,91.73999786376953,86.38999938964844,84.56999969482422,85.86000061035156,86.04000091552734,86.45999908447266,87.52999877929688,88.05999755859375,91.08999633789062,90.16999816894531,91.91999816894531,91.9000015258789,91.75,89.63999938964844,88.0999984741211,89.36000061035156,90.23999786376953,92.47000122070312,93.12000274658203,91.36000061035156,93.1500015258789,89.51000213623047,89.13999938964844,93.23999786376953,95.41999816894531,96.27999877929688,94.37000274658203,95.87999725341797,96.51000213623047,96.16000366210938,95.94000244140625,96.72000122070312,96.75,95.7699966430664,96.83999633789062,98.62999725341797,99.56999969482422,100.73999786376953,102.27999877929688,103.52999877929688,104.5,103.20999908447266,102.80999755859375,102.37999725341797,99.55000305175781,99.79000091552734,101.98999786376953,102.69000244140625,103.2699966430664,104.63999938964844,103.88999938964844,105.62999725341797,104.2699966430664,104.54000091552734,105.01000213623047,104.73999786376953,104.08000183105469,103.8499984741211,103.3499984741211,104.43000030517578,103.83999633789062,104.3499984741211,102.16000366210938,103.51000213623047,102.12999725341797,98.75,99.43000030517578,99.43000030517578,101.76000213623047,103.38999938964844,103.8499984741211,104.2699966430664,101.08000183105469,100.2300033569336,97.93000030517578,99.05000305175781,98.22000122070312,98.22000122070312,100.55999755859375,99.0199966430664,100.08000183105469,97.29000091552734,98.12000274658203,101.22000122070312,102.45999908447266,101.76000213623047,101.55000305175781,101.08000183105469,100.36000061035156,100.73999786376953,102.30000305175781,102.12000274658203,102.97000122070312,101.88999938964844,102.11000061035156,103.88999938964844,103.93000030517578,104.38999938964844,102.2300033569336,101.33000183105469,100.45999908447266,99.45999908447266,98.73999786376953,98.04000091552734,99.20999908447266,100.02999877929688,100.0,100.51000213623047,97.93000030517578,96.22000122070312,98.29000091552734,100.30999755859375,101.83999633789062,98.05000305175781,99.04000091552734,96.43000030517578,96.9800033569336,96.0,100.04000091552734,100.0,100.37000274658203,102.66000366210938,100.7699966430664,100.94000244140625,98.1500015258789,96.75,99.12000274658203,101.29000091552734,99.47000122070312,95.61000061035156,96.18000030517578,97.69000244140625,99.01000213623047,99.72000122070312,100.5999984741211,100.05000305175781,98.86000061035156,98.7300033569336],\"showlegend\":false,\"x\":[\"2021-01-04\",\"2021-01-05\",\"2021-01-06\",\"2021-01-07\",\"2021-01-08\",\"2021-01-11\",\"2021-01-12\",\"2021-01-13\",\"2021-01-14\",\"2021-01-15\",\"2021-01-19\",\"2021-01-20\",\"2021-01-21\",\"2021-01-22\",\"2021-01-25\",\"2021-01-26\",\"2021-01-27\",\"2021-01-28\",\"2021-01-29\",\"2021-02-01\",\"2021-02-02\",\"2021-02-03\",\"2021-02-04\",\"2021-02-05\",\"2021-02-08\",\"2021-02-09\",\"2021-02-10\",\"2021-02-11\",\"2021-02-12\",\"2021-02-16\",\"2021-02-17\",\"2021-02-18\",\"2021-02-19\",\"2021-02-22\",\"2021-02-23\",\"2021-02-24\",\"2021-02-25\",\"2021-02-26\",\"2021-03-01\",\"2021-03-02\",\"2021-03-03\",\"2021-03-04\",\"2021-03-05\",\"2021-03-08\",\"2021-03-09\",\"2021-03-10\",\"2021-03-11\",\"2021-03-12\",\"2021-03-15\",\"2021-03-16\",\"2021-03-17\",\"2021-03-18\",\"2021-03-19\",\"2021-03-22\",\"2021-03-23\",\"2021-03-24\",\"2021-03-25\",\"2021-03-26\",\"2021-03-29\",\"2021-03-30\",\"2021-03-31\",\"2021-04-01\",\"2021-04-05\",\"2021-04-06\",\"2021-04-07\",\"2021-04-08\",\"2021-04-09\",\"2021-04-12\",\"2021-04-13\",\"2021-04-14\",\"2021-04-15\",\"2021-04-16\",\"2021-04-19\",\"2021-04-20\",\"2021-04-21\",\"2021-04-22\",\"2021-04-23\",\"2021-04-26\",\"2021-04-27\",\"2021-04-28\",\"2021-04-29\",\"2021-04-30\",\"2021-05-03\",\"2021-05-04\",\"2021-05-05\",\"2021-05-06\",\"2021-05-07\",\"2021-05-10\",\"2021-05-11\",\"2021-05-12\",\"2021-05-13\",\"2021-05-14\",\"2021-05-17\",\"2021-05-18\",\"2021-05-19\",\"2021-05-20\",\"2021-05-21\",\"2021-05-24\",\"2021-05-25\",\"2021-05-26\",\"2021-05-27\",\"2021-05-28\",\"2021-06-01\",\"2021-06-02\",\"2021-06-03\",\"2021-06-04\",\"2021-06-07\",\"2021-06-08\",\"2021-06-09\",\"2021-06-10\",\"2021-06-11\",\"2021-06-14\",\"2021-06-15\",\"2021-06-16\",\"2021-06-17\",\"2021-06-18\",\"2021-06-21\",\"2021-06-22\",\"2021-06-23\",\"2021-06-24\",\"2021-06-25\",\"2021-06-28\",\"2021-06-29\",\"2021-06-30\",\"2021-07-01\",\"2021-07-02\",\"2021-07-06\",\"2021-07-07\",\"2021-07-08\",\"2021-07-09\",\"2021-07-12\",\"2021-07-13\",\"2021-07-14\",\"2021-07-15\",\"2021-07-16\",\"2021-07-19\",\"2021-07-20\",\"2021-07-21\",\"2021-07-22\",\"2021-07-23\",\"2021-07-26\",\"2021-07-27\",\"2021-07-28\",\"2021-07-29\",\"2021-07-30\",\"2021-08-02\",\"2021-08-03\",\"2021-08-04\",\"2021-08-05\",\"2021-08-06\",\"2021-08-09\",\"2021-08-10\",\"2021-08-11\",\"2021-08-12\",\"2021-08-13\",\"2021-08-16\",\"2021-08-17\",\"2021-08-18\",\"2021-08-19\",\"2021-08-20\",\"2021-08-23\",\"2021-08-24\",\"2021-08-25\",\"2021-08-26\",\"2021-08-27\",\"2021-08-30\",\"2021-08-31\",\"2021-09-01\",\"2021-09-02\",\"2021-09-03\",\"2021-09-07\",\"2021-09-08\",\"2021-09-09\",\"2021-09-10\",\"2021-09-13\",\"2021-09-14\",\"2021-09-15\",\"2021-09-16\",\"2021-09-17\",\"2021-09-20\",\"2021-09-21\",\"2021-09-22\",\"2021-09-23\",\"2021-09-24\",\"2021-09-27\",\"2021-09-28\",\"2021-09-29\",\"2021-09-30\",\"2021-10-01\",\"2021-10-04\",\"2021-10-05\",\"2021-10-06\",\"2021-10-07\",\"2021-10-08\",\"2021-10-11\",\"2021-10-12\",\"2021-10-13\",\"2021-10-14\",\"2021-10-15\",\"2021-10-18\",\"2021-10-19\",\"2021-10-20\",\"2021-10-21\",\"2021-10-22\",\"2021-10-25\",\"2021-10-26\",\"2021-10-27\",\"2021-10-28\",\"2021-10-29\",\"2021-11-01\",\"2021-11-02\",\"2021-11-03\",\"2021-11-04\",\"2021-11-05\",\"2021-11-08\",\"2021-11-09\",\"2021-11-10\",\"2021-11-11\",\"2021-11-12\",\"2021-11-15\",\"2021-11-16\",\"2021-11-17\",\"2021-11-18\",\"2021-11-19\",\"2021-11-22\",\"2021-11-23\",\"2021-11-24\",\"2021-11-26\",\"2021-11-29\",\"2021-11-30\",\"2021-12-01\",\"2021-12-02\",\"2021-12-03\",\"2021-12-06\",\"2021-12-07\",\"2021-12-08\",\"2021-12-09\",\"2021-12-10\",\"2021-12-13\",\"2021-12-14\",\"2021-12-15\",\"2021-12-16\",\"2021-12-17\",\"2021-12-20\",\"2021-12-21\",\"2021-12-22\",\"2021-12-23\",\"2021-12-27\",\"2021-12-28\",\"2021-12-29\",\"2021-12-30\",\"2021-12-31\"],\"yaxis\":\"y2\",\"type\":\"candlestick\"}],                        {\"legend\":{\"bgcolor\":\"#F5F6F9\",\"font\":{\"color\":\"#4D5663\"}},\"paper_bgcolor\":\"#F5F6F9\",\"plot_bgcolor\":\"#F5F6F9\",\"template\":{\"data\":{\"barpolar\":[{\"marker\":{\"line\":{\"color\":\"#E5ECF6\",\"width\":0.5},\"pattern\":{\"fillmode\":\"overlay\",\"size\":10,\"solidity\":0.2}},\"type\":\"barpolar\"}],\"bar\":[{\"error_x\":{\"color\":\"#2a3f5f\"},\"error_y\":{\"color\":\"#2a3f5f\"},\"marker\":{\"line\":{\"color\":\"#E5ECF6\",\"width\":0.5},\"pattern\":{\"fillmode\":\"overlay\",\"size\":10,\"solidity\":0.2}},\"type\":\"bar\"}],\"carpet\":[{\"aaxis\":{\"endlinecolor\":\"#2a3f5f\",\"gridcolor\":\"white\",\"linecolor\":\"white\",\"minorgridcolor\":\"white\",\"startlinecolor\":\"#2a3f5f\"},\"baxis\":{\"endlinecolor\":\"#2a3f5f\",\"gridcolor\":\"white\",\"linecolor\":\"white\",\"minorgridcolor\":\"white\",\"startlinecolor\":\"#2a3f5f\"},\"type\":\"carpet\"}],\"choropleth\":[{\"colorbar\":{\"outlinewidth\":0,\"ticks\":\"\"},\"type\":\"choropleth\"}],\"contourcarpet\":[{\"colorbar\":{\"outlinewidth\":0,\"ticks\":\"\"},\"type\":\"contourcarpet\"}],\"contour\":[{\"colorbar\":{\"outlinewidth\":0,\"ticks\":\"\"},\"colorscale\":[[0.0,\"#0d0887\"],[0.1111111111111111,\"#46039f\"],[0.2222222222222222,\"#7201a8\"],[0.3333333333333333,\"#9c179e\"],[0.4444444444444444,\"#bd3786\"],[0.5555555555555556,\"#d8576b\"],[0.6666666666666666,\"#ed7953\"],[0.7777777777777778,\"#fb9f3a\"],[0.8888888888888888,\"#fdca26\"],[1.0,\"#f0f921\"]],\"type\":\"contour\"}],\"heatmapgl\":[{\"colorbar\":{\"outlinewidth\":0,\"ticks\":\"\"},\"colorscale\":[[0.0,\"#0d0887\"],[0.1111111111111111,\"#46039f\"],[0.2222222222222222,\"#7201a8\"],[0.3333333333333333,\"#9c179e\"],[0.4444444444444444,\"#bd3786\"],[0.5555555555555556,\"#d8576b\"],[0.6666666666666666,\"#ed7953\"],[0.7777777777777778,\"#fb9f3a\"],[0.8888888888888888,\"#fdca26\"],[1.0,\"#f0f921\"]],\"type\":\"heatmapgl\"}],\"heatmap\":[{\"colorbar\":{\"outlinewidth\":0,\"ticks\":\"\"},\"colorscale\":[[0.0,\"#0d0887\"],[0.1111111111111111,\"#46039f\"],[0.2222222222222222,\"#7201a8\"],[0.3333333333333333,\"#9c179e\"],[0.4444444444444444,\"#bd3786\"],[0.5555555555555556,\"#d8576b\"],[0.6666666666666666,\"#ed7953\"],[0.7777777777777778,\"#fb9f3a\"],[0.8888888888888888,\"#fdca26\"],[1.0,\"#f0f921\"]],\"type\":\"heatmap\"}],\"histogram2dcontour\":[{\"colorbar\":{\"outlinewidth\":0,\"ticks\":\"\"},\"colorscale\":[[0.0,\"#0d0887\"],[0.1111111111111111,\"#46039f\"],[0.2222222222222222,\"#7201a8\"],[0.3333333333333333,\"#9c179e\"],[0.4444444444444444,\"#bd3786\"],[0.5555555555555556,\"#d8576b\"],[0.6666666666666666,\"#ed7953\"],[0.7777777777777778,\"#fb9f3a\"],[0.8888888888888888,\"#fdca26\"],[1.0,\"#f0f921\"]],\"type\":\"histogram2dcontour\"}],\"histogram2d\":[{\"colorbar\":{\"outlinewidth\":0,\"ticks\":\"\"},\"colorscale\":[[0.0,\"#0d0887\"],[0.1111111111111111,\"#46039f\"],[0.2222222222222222,\"#7201a8\"],[0.3333333333333333,\"#9c179e\"],[0.4444444444444444,\"#bd3786\"],[0.5555555555555556,\"#d8576b\"],[0.6666666666666666,\"#ed7953\"],[0.7777777777777778,\"#fb9f3a\"],[0.8888888888888888,\"#fdca26\"],[1.0,\"#f0f921\"]],\"type\":\"histogram2d\"}],\"histogram\":[{\"marker\":{\"pattern\":{\"fillmode\":\"overlay\",\"size\":10,\"solidity\":0.2}},\"type\":\"histogram\"}],\"mesh3d\":[{\"colorbar\":{\"outlinewidth\":0,\"ticks\":\"\"},\"type\":\"mesh3d\"}],\"parcoords\":[{\"line\":{\"colorbar\":{\"outlinewidth\":0,\"ticks\":\"\"}},\"type\":\"parcoords\"}],\"pie\":[{\"automargin\":true,\"type\":\"pie\"}],\"scatter3d\":[{\"line\":{\"colorbar\":{\"outlinewidth\":0,\"ticks\":\"\"}},\"marker\":{\"colorbar\":{\"outlinewidth\":0,\"ticks\":\"\"}},\"type\":\"scatter3d\"}],\"scattercarpet\":[{\"marker\":{\"colorbar\":{\"outlinewidth\":0,\"ticks\":\"\"}},\"type\":\"scattercarpet\"}],\"scattergeo\":[{\"marker\":{\"colorbar\":{\"outlinewidth\":0,\"ticks\":\"\"}},\"type\":\"scattergeo\"}],\"scattergl\":[{\"marker\":{\"colorbar\":{\"outlinewidth\":0,\"ticks\":\"\"}},\"type\":\"scattergl\"}],\"scattermapbox\":[{\"marker\":{\"colorbar\":{\"outlinewidth\":0,\"ticks\":\"\"}},\"type\":\"scattermapbox\"}],\"scatterpolargl\":[{\"marker\":{\"colorbar\":{\"outlinewidth\":0,\"ticks\":\"\"}},\"type\":\"scatterpolargl\"}],\"scatterpolar\":[{\"marker\":{\"colorbar\":{\"outlinewidth\":0,\"ticks\":\"\"}},\"type\":\"scatterpolar\"}],\"scatter\":[{\"fillpattern\":{\"fillmode\":\"overlay\",\"size\":10,\"solidity\":0.2},\"type\":\"scatter\"}],\"scatterternary\":[{\"marker\":{\"colorbar\":{\"outlinewidth\":0,\"ticks\":\"\"}},\"type\":\"scatterternary\"}],\"surface\":[{\"colorbar\":{\"outlinewidth\":0,\"ticks\":\"\"},\"colorscale\":[[0.0,\"#0d0887\"],[0.1111111111111111,\"#46039f\"],[0.2222222222222222,\"#7201a8\"],[0.3333333333333333,\"#9c179e\"],[0.4444444444444444,\"#bd3786\"],[0.5555555555555556,\"#d8576b\"],[0.6666666666666666,\"#ed7953\"],[0.7777777777777778,\"#fb9f3a\"],[0.8888888888888888,\"#fdca26\"],[1.0,\"#f0f921\"]],\"type\":\"surface\"}],\"table\":[{\"cells\":{\"fill\":{\"color\":\"#EBF0F8\"},\"line\":{\"color\":\"white\"}},\"header\":{\"fill\":{\"color\":\"#C8D4E3\"},\"line\":{\"color\":\"white\"}},\"type\":\"table\"}]},\"layout\":{\"annotationdefaults\":{\"arrowcolor\":\"#2a3f5f\",\"arrowhead\":0,\"arrowwidth\":1},\"autotypenumbers\":\"strict\",\"coloraxis\":{\"colorbar\":{\"outlinewidth\":0,\"ticks\":\"\"}},\"colorscale\":{\"diverging\":[[0,\"#8e0152\"],[0.1,\"#c51b7d\"],[0.2,\"#de77ae\"],[0.3,\"#f1b6da\"],[0.4,\"#fde0ef\"],[0.5,\"#f7f7f7\"],[0.6,\"#e6f5d0\"],[0.7,\"#b8e186\"],[0.8,\"#7fbc41\"],[0.9,\"#4d9221\"],[1,\"#276419\"]],\"sequential\":[[0.0,\"#0d0887\"],[0.1111111111111111,\"#46039f\"],[0.2222222222222222,\"#7201a8\"],[0.3333333333333333,\"#9c179e\"],[0.4444444444444444,\"#bd3786\"],[0.5555555555555556,\"#d8576b\"],[0.6666666666666666,\"#ed7953\"],[0.7777777777777778,\"#fb9f3a\"],[0.8888888888888888,\"#fdca26\"],[1.0,\"#f0f921\"]],\"sequentialminus\":[[0.0,\"#0d0887\"],[0.1111111111111111,\"#46039f\"],[0.2222222222222222,\"#7201a8\"],[0.3333333333333333,\"#9c179e\"],[0.4444444444444444,\"#bd3786\"],[0.5555555555555556,\"#d8576b\"],[0.6666666666666666,\"#ed7953\"],[0.7777777777777778,\"#fb9f3a\"],[0.8888888888888888,\"#fdca26\"],[1.0,\"#f0f921\"]]},\"colorway\":[\"#636efa\",\"#EF553B\",\"#00cc96\",\"#ab63fa\",\"#FFA15A\",\"#19d3f3\",\"#FF6692\",\"#B6E880\",\"#FF97FF\",\"#FECB52\"],\"font\":{\"color\":\"#2a3f5f\"},\"geo\":{\"bgcolor\":\"white\",\"lakecolor\":\"white\",\"landcolor\":\"#E5ECF6\",\"showlakes\":true,\"showland\":true,\"subunitcolor\":\"white\"},\"hoverlabel\":{\"align\":\"left\"},\"hovermode\":\"closest\",\"mapbox\":{\"style\":\"light\"},\"paper_bgcolor\":\"white\",\"plot_bgcolor\":\"#E5ECF6\",\"polar\":{\"angularaxis\":{\"gridcolor\":\"white\",\"linecolor\":\"white\",\"ticks\":\"\"},\"bgcolor\":\"#E5ECF6\",\"radialaxis\":{\"gridcolor\":\"white\",\"linecolor\":\"white\",\"ticks\":\"\"}},\"scene\":{\"xaxis\":{\"backgroundcolor\":\"#E5ECF6\",\"gridcolor\":\"white\",\"gridwidth\":2,\"linecolor\":\"white\",\"showbackground\":true,\"ticks\":\"\",\"zerolinecolor\":\"white\"},\"yaxis\":{\"backgroundcolor\":\"#E5ECF6\",\"gridcolor\":\"white\",\"gridwidth\":2,\"linecolor\":\"white\",\"showbackground\":true,\"ticks\":\"\",\"zerolinecolor\":\"white\"},\"zaxis\":{\"backgroundcolor\":\"#E5ECF6\",\"gridcolor\":\"white\",\"gridwidth\":2,\"linecolor\":\"white\",\"showbackground\":true,\"ticks\":\"\",\"zerolinecolor\":\"white\"}},\"shapedefaults\":{\"line\":{\"color\":\"#2a3f5f\"}},\"ternary\":{\"aaxis\":{\"gridcolor\":\"white\",\"linecolor\":\"white\",\"ticks\":\"\"},\"baxis\":{\"gridcolor\":\"white\",\"linecolor\":\"white\",\"ticks\":\"\"},\"bgcolor\":\"#E5ECF6\",\"caxis\":{\"gridcolor\":\"white\",\"linecolor\":\"white\",\"ticks\":\"\"}},\"title\":{\"x\":0.05},\"xaxis\":{\"automargin\":true,\"gridcolor\":\"white\",\"linecolor\":\"white\",\"ticks\":\"\",\"title\":{\"standoff\":15},\"zerolinecolor\":\"white\",\"zerolinewidth\":2},\"yaxis\":{\"automargin\":true,\"gridcolor\":\"white\",\"linecolor\":\"white\",\"ticks\":\"\",\"title\":{\"standoff\":15},\"zerolinecolor\":\"white\",\"zerolinewidth\":2}}},\"title\":{\"font\":{\"color\":\"#4D5663\"}},\"xaxis\":{\"gridcolor\":\"#E1E5ED\",\"rangeslider\":{\"visible\":false},\"showgrid\":true,\"tickfont\":{\"color\":\"#4D5663\"},\"title\":{\"font\":{\"color\":\"#4D5663\"},\"text\":\"\"},\"zerolinecolor\":\"#E1E5ED\"},\"yaxis\":{\"gridcolor\":\"#E1E5ED\",\"showgrid\":true,\"showticklabels\":false,\"tickfont\":{\"color\":\"#4D5663\"},\"title\":{\"font\":{\"color\":\"#4D5663\"},\"text\":\"\"},\"zerolinecolor\":\"#E1E5ED\"},\"yaxis2\":{\"gridcolor\":\"#E1E5ED\",\"showgrid\":true,\"tickfont\":{\"color\":\"#4D5663\"},\"title\":{\"font\":{\"color\":\"#4D5663\"},\"text\":\"\"},\"zerolinecolor\":\"#E1E5ED\"}},                        {\"showLink\": true, \"linkText\": \"Export to plot.ly\", \"plotlyServerURL\": \"https://plot.ly\", \"responsive\": true}                    ).then(function(){\n",
       "                            \n",
       "var gd = document.getElementById('cf3e5e9a-80d3-4a3b-b1c2-0b540425e018');\n",
       "var x = new MutationObserver(function (mutations, observer) {{\n",
       "        var display = window.getComputedStyle(gd).display;\n",
       "        if (!display || display === 'none') {{\n",
       "            console.log([gd, 'removed!']);\n",
       "            Plotly.purge(gd);\n",
       "            observer.disconnect();\n",
       "        }}\n",
       "}});\n",
       "\n",
       "// Listen for the removal of the full notebook cells\n",
       "var notebookContainer = gd.closest('#notebook-container');\n",
       "if (notebookContainer) {{\n",
       "    x.observe(notebookContainer, {childList: true});\n",
       "}}\n",
       "\n",
       "// Listen for the clearing of the current output cell\n",
       "var outputEl = gd.closest('.output');\n",
       "if (outputEl) {{\n",
       "    x.observe(outputEl, {childList: true});\n",
       "}}\n",
       "\n",
       "                        })                };                });            </script>        </div>"
      ]
     },
     "metadata": {},
     "output_type": "display_data"
    }
   ],
   "source": [
    "MS[['Open', 'High', 'Low', 'Close']]['2021-01-01':'2022-01-01'].iplot(kind='candle')"
   ]
  },
  {
   "cell_type": "code",
   "execution_count": 35,
   "id": "aa8522a4",
   "metadata": {},
   "outputs": [
    {
     "data": {
      "application/vnd.plotly.v1+json": {
       "config": {
        "linkText": "Export to plot.ly",
        "plotlyServerURL": "https://plot.ly",
        "showLink": true
       },
       "data": [
        {
         "close": [
          29.700000762939453,
          30.530000686645508,
          32.689998626708984,
          33.43000030517578,
          33.189998626708984,
          33.2400016784668,
          33.939998626708984,
          33.79999923706055,
          34.75,
          32.040000915527344,
          32.630001068115234,
          32.459999084472656,
          32,
          31.899999618530273,
          32.2400016784668,
          31.3799991607666,
          30.170000076293945,
          30.809999465942383,
          29.8799991607666,
          29.989999771118164,
          30.75,
          31.700000762939453,
          32.65999984741211,
          32.560001373291016,
          33.400001525878906,
          33.2599983215332,
          33.20000076293945,
          32.720001220703125,
          33.529998779296875,
          34.790000915527344,
          36.59000015258789,
          36.959999084472656,
          37.83000183105469,
          37.2599983215332,
          37.13999938964844,
          38.290000915527344,
          37.560001373291016,
          36.16999816894531,
          37.09000015258789,
          37.13999938964844,
          37.689998626708984,
          37.15999984741211,
          37.43000030517578,
          38.66999816894531,
          38.130001068115234,
          39.58000183105469,
          38.880001068115234,
          39.970001220703125,
          39.70000076293945,
          39.349998474121094,
          39.84000015258789,
          40.810001373291016,
          39.630001068115234,
          38.970001220703125,
          38.2400016784668,
          38.119998931884766,
          39.29999923706055,
          39.7599983215332,
          38.439998626708984,
          39.38999938964844,
          39.06999969482422,
          39.630001068115234,
          39.47999954223633,
          39.849998474121094,
          39.9900016784668,
          40.029998779296875,
          40.5,
          40.77000045776367,
          39.790000915527344,
          41.9900016784668,
          42.2400016784668,
          43.84000015258789,
          43.880001068115234,
          42.540000915527344,
          43.2400016784668,
          42.70000076293945,
          43.86000061035156,
          44.13999938964844,
          45.09000015258789,
          45.08000183105469,
          46.2400016784668,
          45.04999923706055,
          45.47999954223633,
          45.7400016784668,
          45.939998626708984,
          46.630001068115234,
          46.540000915527344,
          46.599998474121094,
          45.720001220703125,
          45.63999938964844,
          46.400001525878906,
          46.959999084472656,
          47.900001525878906,
          46.86000061035156,
          46.16999816894531,
          45.72999954223633,
          45.880001068115234,
          46.2400016784668,
          46.09000015258789,
          46.400001525878906,
          46.7599983215332,
          46.720001220703125,
          47.2599983215332,
          46.810001373291016,
          46.459999084472656,
          46.959999084472656,
          47.11000061035156,
          46.61000061035156,
          45.91999816894531,
          45.09000015258789,
          45.68000030517578,
          45.150001525878906,
          45.459999084472656,
          45.56999969482422,
          42.790000915527344,
          41.75,
          43.279998779296875,
          43.540000915527344,
          43.959999084472656,
          45.18000030517578,
          46.380001068115234,
          45.790000915527344,
          44.790000915527344,
          45.290000915527344,
          45.40999984741211,
          45.06999969482422,
          43.4900016784668,
          43.400001525878906,
          42.31999969482422,
          43.90999984741211,
          44.15999984741211,
          43.22999954223633,
          44.95000076293945,
          45,
          44.279998779296875,
          43.04999923706055,
          44.84000015258789,
          45.79999923706055,
          45.029998779296875,
          44.59000015258789,
          45.0099983215332,
          45.13999938964844,
          45.5099983215332,
          46.5,
          45.939998626708984,
          45.790000915527344,
          46.83000183105469,
          46.150001525878906,
          46.9900016784668,
          48.77000045776367,
          48.650001525878906,
          49.630001068115234,
          50.65999984741211,
          51.150001525878906,
          50.369998931884766,
          49.40999984741211,
          48.709999084472656,
          47.970001220703125,
          47.25,
          47.41999816894531,
          47.61000061035156,
          48.36000061035156,
          49.290000915527344,
          49.04999923706055,
          49.810001373291016,
          48.40999984741211,
          45.70000076293945,
          43.45000076293945,
          44.56999969482422,
          44.16999816894531,
          44.310001373291016,
          43.81999969482422,
          44.36000061035156,
          44.33000183105469,
          45.7599983215332,
          46.04999923706055,
          46.63999938964844,
          46.279998779296875,
          46.470001220703125,
          45.810001373291016,
          45.849998474121094,
          47.08000183105469,
          47.79999923706055,
          47.91999816894531,
          47.560001373291016,
          45.91999816894531,
          47.029998779296875,
          46.40999984741211,
          47.02000045776367,
          47.02000045776367,
          47.959999084472656,
          47.869998931884766,
          47.7599983215332,
          48,
          47.279998779296875,
          46.650001525878906,
          46.04999923706055,
          45.310001373291016,
          48.380001068115234,
          49.43000030517578,
          50.34000015258789,
          50.15999984741211,
          50.33000183105469,
          50.65999984741211,
          50.619998931884766,
          50.630001068115234,
          50.04999923706055,
          51.36000061035156,
          51.15999984741211,
          51.709999084472656,
          51.29999923706055,
          52,
          50.619998931884766,
          50.439998626708984,
          50.869998931884766,
          49.88999938964844,
          50.36000061035156,
          50.59000015258789,
          50.959999084472656,
          51.08000183105469,
          50.369998931884766,
          49.84000015258789,
          49.900001525878906,
          48.81999969482422,
          50.34000015258789,
          51.400001525878906,
          51.310001373291016,
          48.43000030517578,
          49.15999984741211,
          47.779998779296875,
          47.209999084472656,
          48.90999984741211,
          47.75,
          48.810001373291016,
          50.25,
          49.40999984741211,
          49.689998626708984,
          50.20000076293945,
          48.560001373291016,
          48.88999938964844,
          48.939998626708984,
          50.29999923706055,
          47.95000076293945,
          46.849998474121094,
          47.810001373291016,
          48.029998779296875,
          48.36000061035156,
          48.77000045776367,
          48.41999816894531,
          48.45000076293945,
          48.099998474121094,
          47.97999954223633
         ],
         "high": [
          30.440000534057617,
          30.950000762939453,
          33,
          34.20000076293945,
          33.650001525878906,
          33.560001373291016,
          34.52000045776367,
          34.2599983215332,
          35.099998474121094,
          33.5,
          33.040000915527344,
          32.83000183105469,
          32.43000030517578,
          32.060001373291016,
          32.349998474121094,
          32.529998779296875,
          31.030000686645508,
          31.049999237060547,
          31.190000534057617,
          30.219999313354492,
          31.190000534057617,
          31.770000457763672,
          32.849998474121094,
          33.189998626708984,
          33.56999969482422,
          33.40999984741211,
          33.689998626708984,
          33.34000015258789,
          33.619998931884766,
          34.93000030517578,
          37.45000076293945,
          37.36000061035156,
          37.849998474121094,
          37.91999816894531,
          37.77000045776367,
          38.34000015258789,
          38.68000030517578,
          37.40999984741211,
          37.41999816894531,
          37.45000076293945,
          38.65999984741211,
          38,
          38.119998931884766,
          38.880001068115234,
          38.79999923706055,
          39.70000076293945,
          39.59000015258789,
          40.02000045776367,
          40.22999954223633,
          39.4900016784668,
          40.439998626708984,
          41.540000915527344,
          40.06999969482422,
          39.310001373291016,
          39.04999923706055,
          39.02000045776367,
          39.36000061035156,
          40.22999954223633,
          39.349998474121094,
          40.08000183105469,
          39.630001068115234,
          39.650001525878906,
          40.33000183105469,
          39.900001525878906,
          40.09000015258789,
          40.20000076293945,
          40.790000915527344,
          40.88999938964844,
          40.5099983215332,
          42.18000030517578,
          42.2599983215332,
          44.130001068115234,
          44.400001525878906,
          43.400001525878906,
          43.36000061035156,
          43.52000045776367,
          44.18000030517578,
          44.68000030517578,
          45.220001220703125,
          45.66999816894531,
          46.38999938964844,
          46.02000045776367,
          45.650001525878906,
          45.84000015258789,
          46.20000076293945,
          46.689998626708984,
          46.619998931884766,
          47.349998474121094,
          46.880001068115234,
          47.15999984741211,
          46.790000915527344,
          47.11000061035156,
          47.97999954223633,
          48.130001068115234,
          46.31999969482422,
          46.18000030517578,
          46.29999923706055,
          46.5099983215332,
          47.02000045776367,
          46.599998474121094,
          47.380001068115234,
          46.880001068115234,
          47.40999984741211,
          47.459999084472656,
          47,
          47.099998474121094,
          47.18000030517578,
          47.0099983215332,
          46.34000015258789,
          46.650001525878906,
          45.689998626708984,
          45.880001068115234,
          45.720001220703125,
          45.959999084472656,
          45.959999084472656,
          42.310001373291016,
          43.310001373291016,
          43.869998931884766,
          44.310001373291016,
          45.41999816894531,
          46.650001525878906,
          46.06999969482422,
          46.380001068115234,
          45.38999938964844,
          45.63999938964844,
          45.40999984741211,
          44.81999969482422,
          43.970001220703125,
          42.95000076293945,
          44.11000061035156,
          44.25,
          44.130001068115234,
          45.130001068115234,
          45.38999938964844,
          45.529998779296875,
          43.29999923706055,
          45.150001525878906,
          46.150001525878906,
          45.95000076293945,
          45.5099983215332,
          45.2400016784668,
          45.380001068115234,
          46.040000915527344,
          46.709999084472656,
          46.849998474121094,
          46.810001373291016,
          46.939998626708984,
          46.970001220703125,
          47,
          48.9900016784668,
          49.34000015258789,
          49.689998626708984,
          50.72999954223633,
          51.25,
          51.40999984741211,
          49.97999954223633,
          49.369998931884766,
          48.97999954223633,
          47.95000076293945,
          47.45000076293945,
          47.9900016784668,
          48.369998931884766,
          49.619998931884766,
          49.869998931884766,
          49.849998474121094,
          49.810001373291016,
          48.9900016784668,
          45.970001220703125,
          44.880001068115234,
          44.5,
          44.959999084472656,
          44.540000915527344,
          44.720001220703125,
          45.25,
          45.810001373291016,
          46.939998626708984,
          46.88999938964844,
          47.27000045776367,
          46.689998626708984,
          45.869998931884766,
          46.36000061035156,
          47.689998626708984,
          48.16999816894531,
          48.56999969482422,
          48.939998626708984,
          47.029998779296875,
          47.150001525878906,
          47.150001525878906,
          47.310001373291016,
          47.689998626708984,
          48.45000076293945,
          48.09000015258789,
          48.59000015258789,
          48.34000015258789,
          48.459999084472656,
          47.529998779296875,
          46.56999969482422,
          46.88999938964844,
          48.7400016784668,
          49.709999084472656,
          50.349998474121094,
          50.38999938964844,
          50.599998474121094,
          51.119998931884766,
          51.119998931884766,
          51.099998474121094,
          50.9900016784668,
          51.400001525878906,
          51.63999938964844,
          52,
          51.720001220703125,
          52.56999969482422,
          51.70000076293945,
          51.61000061035156,
          51.369998931884766,
          50.560001373291016,
          50.77000045776367,
          50.90999984741211,
          51,
          51.70000076293945,
          51.18000030517578,
          50.689998626708984,
          50.18000030517578,
          49.2400016784668,
          51.11000061035156,
          51.7400016784668,
          51.7400016784668,
          49.099998474121094,
          49.77000045776367,
          48.5099983215332,
          49.45000076293945,
          49.400001525878906,
          49.2599983215332,
          49.900001525878906,
          50.52000045776367,
          50.310001373291016,
          50.029998779296875,
          50.599998474121094,
          49.959999084472656,
          49.4900016784668,
          49.27000045776367,
          50.81999969482422,
          49.72999954223633,
          47.16999816894531,
          48.13999938964844,
          48.31999969482422,
          48.93000030517578,
          48.81999969482422,
          49.189998626708984,
          48.86000061035156,
          48.90999984741211,
          48.36000061035156
         ],
         "low": [
          29.399999618530273,
          29.81999969482422,
          31.790000915527344,
          33.31999969482422,
          32.66999816894531,
          32.31999969482422,
          33.65999984741211,
          33.630001068115234,
          34.0099983215332,
          31.81999969482422,
          32.279998779296875,
          32.29999923706055,
          31.920000076293945,
          31.149999618530273,
          31.6200008392334,
          31.360000610351562,
          29.920000076293945,
          30.309999465942383,
          29.81999969482422,
          29.68000030517578,
          30.3799991607666,
          30.610000610351562,
          31.799999237060547,
          32.5099983215332,
          30.770000457763672,
          32.90999984741211,
          33.09000015258789,
          32.369998931884766,
          32.650001525878906,
          34,
          34.029998779296875,
          36.18000030517578,
          37.029998779296875,
          37.099998474121094,
          36.599998474121094,
          37.13999938964844,
          37.29999923706055,
          35.93000030517578,
          36.7400016784668,
          36.9900016784668,
          37.349998474121094,
          36.36000061035156,
          36.34000015258789,
          37.77000045776367,
          37.47999954223633,
          38.279998779296875,
          38.61000061035156,
          39.41999816894531,
          39.16999816894531,
          38.720001220703125,
          39.209999084472656,
          40.150001525878906,
          39.220001220703125,
          38.619998931884766,
          38.04999923706055,
          38.11000061035156,
          37.779998779296875,
          39.16999816894531,
          37.900001525878906,
          38.470001220703125,
          38.91999816894531,
          38.91999816894531,
          39.31999969482422,
          39.2599983215332,
          39.630001068115234,
          39.33000183105469,
          40.25,
          40.400001525878906,
          39.70000076293945,
          39.060001373291016,
          41.029998779296875,
          42.58000183105469,
          43.380001068115234,
          42.349998474121094,
          41.77000045776367,
          42.68000030517578,
          42.630001068115234,
          43.9900016784668,
          44.20000076293945,
          44.93000030517578,
          45.52000045776367,
          44.86000061035156,
          45.06999969482422,
          44.66999816894531,
          45.470001220703125,
          45.70000076293945,
          45.54999923706055,
          46.59000015258789,
          45.5099983215332,
          45.47999954223633,
          45.310001373291016,
          46.470001220703125,
          46.79999923706055,
          46.83000183105469,
          45.369998931884766,
          45.27000045776367,
          45.779998779296875,
          45.7599983215332,
          46.040000915527344,
          45.599998474121094,
          46.310001373291016,
          46.279998779296875,
          46.790000915527344,
          46.58000183105469,
          46.349998474121094,
          46.5099983215332,
          46.779998779296875,
          46.29999923706055,
          45.630001068115234,
          45.0099983215332,
          45.18000030517578,
          44.84000015258789,
          45,
          44.31999969482422,
          42.65999984741211,
          41.470001220703125,
          42.22999954223633,
          42.86000061035156,
          43.5,
          44.209999084472656,
          45.220001220703125,
          45.09000015258789,
          44.599998474121094,
          44.45000076293945,
          44.970001220703125,
          44.84000015258789,
          43.29999923706055,
          43.119998931884766,
          41.970001220703125,
          42.849998474121094,
          42.959999084472656,
          43.0099983215332,
          42.5099983215332,
          44.369998931884766,
          44.11000061035156,
          42.290000915527344,
          42.869998931884766,
          45.209999084472656,
          44.79999923706055,
          44.41999816894531,
          44.470001220703125,
          44.27000045776367,
          44.97999954223633,
          45.68000030517578,
          45.72999954223633,
          45.56999969482422,
          45.11000061035156,
          46.040000915527344,
          46.0099983215332,
          47.45000076293945,
          48.290000915527344,
          48.689998626708984,
          49.16999816894531,
          50.560001373291016,
          50.18000030517578,
          48.939998626708984,
          48.029998779296875,
          47.900001525878906,
          46.83000183105469,
          46.84000015258789,
          47.45000076293945,
          47.709999084472656,
          48.470001220703125,
          48.88999938964844,
          49.119998931884766,
          48.349998474121094,
          45.209999084472656,
          43.27000045776367,
          43.540000915527344,
          43.81999969482422,
          44.25,
          43.630001068115234,
          43.7599983215332,
          44.189998626708984,
          44.560001373291016,
          45.7599983215332,
          45.849998474121094,
          46.0099983215332,
          45.7400016784668,
          44.84000015258789,
          45.72999954223633,
          46.470001220703125,
          47.15999984741211,
          47.72999954223633,
          46.15999984741211,
          45.06999969482422,
          45.93000030517578,
          46.119998931884766,
          46.4900016784668,
          46.66999816894531,
          47.349998474121094,
          47.060001373291016,
          47.540000915527344,
          47.65999984741211,
          47.220001220703125,
          46.52000045776367,
          45.220001220703125,
          44.83000183105469,
          45.709999084472656,
          48.13999938964844,
          49.279998779296875,
          49.709999084472656,
          49.7599983215332,
          50.4900016784668,
          50.52000045776367,
          50.36000061035156,
          49.95000076293945,
          50.349998474121094,
          51.02000045776367,
          51.27000045776367,
          51.220001220703125,
          51.02000045776367,
          49.90999984741211,
          50.400001525878906,
          50.54999923706055,
          49.209999084472656,
          49.68000030517578,
          50.220001220703125,
          50.369998931884766,
          50.97999954223633,
          50.16999816894531,
          49.529998779296875,
          49.27000045776367,
          47.77000045776367,
          49.72999954223633,
          50.70000076293945,
          51.18000030517578,
          47.689998626708984,
          48.310001373291016,
          47.31999969482422,
          47.18000030517578,
          47.5099983215332,
          47.369998931884766,
          48.709999084472656,
          49.34000015258789,
          49.31999969482422,
          48.7400016784668,
          49.58000183105469,
          48.43000030517578,
          48.599998474121094,
          48.130001068115234,
          49.310001373291016,
          47.869998931884766,
          46.25,
          47.34000015258789,
          47.619998931884766,
          48.220001220703125,
          48.08000183105469,
          48.36000061035156,
          48.369998931884766,
          48.040000915527344,
          47.84000015258789
         ],
         "open": [
          30.31999969482422,
          30.09000015258789,
          31.899999618530273,
          33.58000183105469,
          33.61000061035156,
          32.63999938964844,
          34,
          33.81999969482422,
          34.06999969482422,
          33.08000183105469,
          32.40999984741211,
          32.779998779296875,
          32.31999969482422,
          31.34000015258789,
          31.8799991607666,
          32.4900016784668,
          30.920000076293945,
          30.530000686645508,
          30.770000457763672,
          30.139999389648438,
          30.459999084472656,
          30.719999313354492,
          31.8700008392334,
          33,
          32.779998779296875,
          33.209999084472656,
          33.47999954223633,
          33.20000076293945,
          32.650001525878906,
          34.06999969482422,
          34.34000015258789,
          36.439998626708984,
          37.130001068115234,
          37.66999816894531,
          37.59000015258789,
          37.2400016784668,
          38.68000030517578,
          37.099998474121094,
          37.11000061035156,
          37.150001525878906,
          37.349998474121094,
          37.619998931884766,
          37.869998931884766,
          38.130001068115234,
          38.16999816894531,
          38.68000030517578,
          39.220001220703125,
          39.5,
          40.06999969482422,
          39.369998931884766,
          39.68000030517578,
          40.150001525878906,
          39.939998626708984,
          39.279998779296875,
          38.5,
          38.36000061035156,
          37.970001220703125,
          39.900001525878906,
          38.58000183105469,
          38.540000915527344,
          39.27000045776367,
          38.959999084472656,
          40.029998779296875,
          39.41999816894531,
          39.84000015258789,
          39.869998931884766,
          40.34000015258789,
          40.459999084472656,
          40.5,
          39.70000076293945,
          42.099998474121094,
          42.66999816894531,
          43.61000061035156,
          43.400001525878906,
          42.2400016784668,
          43.2599983215332,
          42.709999084472656,
          44.130001068115234,
          44.38999938964844,
          45.150001525878906,
          45.619998931884766,
          45.79999923706055,
          45.45000076293945,
          45.2599983215332,
          45.93000030517578,
          46.11000061035156,
          45.93000030517578,
          46.84000015258789,
          46.02000045776367,
          46.83000183105469,
          45.4900016784668,
          46.599998474121094,
          46.91999816894531,
          47.900001525878906,
          45.939998626708984,
          46.06999969482422,
          45.970001220703125,
          46,
          46.38999938964844,
          46.11000061035156,
          46.9900016784668,
          46.849998474121094,
          47.15999984741211,
          47.380001068115234,
          46.689998626708984,
          47.060001373291016,
          47.099998474121094,
          46.7400016784668,
          46.2400016784668,
          46.470001220703125,
          45.18000030517578,
          45.61000061035156,
          45.20000076293945,
          44.95000076293945,
          45.790000915527344,
          41.68000030517578,
          42.29999923706055,
          43.40999984741211,
          43.5,
          44.2599983215332,
          45.56999969482422,
          46,
          46.040000915527344,
          44.619998931884766,
          45.47999954223633,
          45.29999923706055,
          44.72999954223633,
          43.279998779296875,
          42.58000183105469,
          43.18000030517578,
          43.279998779296875,
          43.790000915527344,
          43.599998474121094,
          44.59000015258789,
          45.40999984741211,
          42.709999084472656,
          43,
          45.290000915527344,
          45.84000015258789,
          45.099998474121094,
          44.470001220703125,
          44.59000015258789,
          45.380001068115234,
          45.88999938964844,
          46.2599983215332,
          46.040000915527344,
          45.97999954223633,
          46.27000045776367,
          46.04999923706055,
          47.5,
          48.65999984741211,
          48.72999954223633,
          49.630001068115234,
          50.7599983215332,
          51.209999084472656,
          49.93000030517578,
          48.880001068115234,
          48.36000061035156,
          47.349998474121094,
          47.130001068115234,
          47.75,
          47.75,
          48.619998931884766,
          49.529998779296875,
          49.220001220703125,
          49.7599983215332,
          48.40999984741211,
          45.70000076293945,
          43.68000030517578,
          44.4900016784668,
          44.31999969482422,
          44.119998931884766,
          43.849998474121094,
          45,
          44.560001373291016,
          46.02000045776367,
          45.869998931884766,
          46.900001525878906,
          45.7400016784668,
          45.029998779296875,
          45.97999954223633,
          46.4900016784668,
          47.459999084472656,
          47.779998779296875,
          48.380001068115234,
          47.0099983215332,
          46.45000076293945,
          47.13999938964844,
          46.54999923706055,
          47.02000045776367,
          47.5,
          47.58000183105469,
          48.2599983215332,
          47.869998931884766,
          48.20000076293945,
          47.290000915527344,
          46.56999969482422,
          46.68000030517578,
          45.720001220703125,
          48.189998626708984,
          49.63999938964844,
          50.189998626708984,
          49.95000076293945,
          50.540000915527344,
          50.88999938964844,
          50.72999954223633,
          50.2599983215332,
          50.380001068115234,
          51.25,
          51.560001373291016,
          51.540000915527344,
          51.040000915527344,
          51.54999923706055,
          51,
          50.54999923706055,
          50.5,
          49.7400016784668,
          50.41999816894531,
          50.68000030517578,
          51.189998626708984,
          51.11000061035156,
          50.41999816894531,
          49.630001068115234,
          49,
          50.630001068115234,
          50.709999084472656,
          51.5099983215332,
          49.099998474121094,
          49.66999816894531,
          48.11000061035156,
          48.689998626708984,
          47.72999954223633,
          49.2599983215332,
          48.97999954223633,
          49.459999084472656,
          50.18000030517578,
          49.02000045776367,
          50.290000915527344,
          49.900001525878906,
          48.61000061035156,
          49.02000045776367,
          49.720001220703125,
          49.70000076293945,
          47.060001373291016,
          47.59000015258789,
          47.7400016784668,
          48.400001525878906,
          48.54999923706055,
          48.560001373291016,
          48.599998474121094,
          48.4900016784668,
          48.029998779296875
         ],
         "showlegend": false,
         "type": "candlestick",
         "x": [
          "2021-01-04",
          "2021-01-05",
          "2021-01-06",
          "2021-01-07",
          "2021-01-08",
          "2021-01-11",
          "2021-01-12",
          "2021-01-13",
          "2021-01-14",
          "2021-01-15",
          "2021-01-19",
          "2021-01-20",
          "2021-01-21",
          "2021-01-22",
          "2021-01-25",
          "2021-01-26",
          "2021-01-27",
          "2021-01-28",
          "2021-01-29",
          "2021-02-01",
          "2021-02-02",
          "2021-02-03",
          "2021-02-04",
          "2021-02-05",
          "2021-02-08",
          "2021-02-09",
          "2021-02-10",
          "2021-02-11",
          "2021-02-12",
          "2021-02-16",
          "2021-02-17",
          "2021-02-18",
          "2021-02-19",
          "2021-02-22",
          "2021-02-23",
          "2021-02-24",
          "2021-02-25",
          "2021-02-26",
          "2021-03-01",
          "2021-03-02",
          "2021-03-03",
          "2021-03-04",
          "2021-03-05",
          "2021-03-08",
          "2021-03-09",
          "2021-03-10",
          "2021-03-11",
          "2021-03-12",
          "2021-03-15",
          "2021-03-16",
          "2021-03-17",
          "2021-03-18",
          "2021-03-19",
          "2021-03-22",
          "2021-03-23",
          "2021-03-24",
          "2021-03-25",
          "2021-03-26",
          "2021-03-29",
          "2021-03-30",
          "2021-03-31",
          "2021-04-01",
          "2021-04-05",
          "2021-04-06",
          "2021-04-07",
          "2021-04-08",
          "2021-04-09",
          "2021-04-12",
          "2021-04-13",
          "2021-04-14",
          "2021-04-15",
          "2021-04-16",
          "2021-04-19",
          "2021-04-20",
          "2021-04-21",
          "2021-04-22",
          "2021-04-23",
          "2021-04-26",
          "2021-04-27",
          "2021-04-28",
          "2021-04-29",
          "2021-04-30",
          "2021-05-03",
          "2021-05-04",
          "2021-05-05",
          "2021-05-06",
          "2021-05-07",
          "2021-05-10",
          "2021-05-11",
          "2021-05-12",
          "2021-05-13",
          "2021-05-14",
          "2021-05-17",
          "2021-05-18",
          "2021-05-19",
          "2021-05-20",
          "2021-05-21",
          "2021-05-24",
          "2021-05-25",
          "2021-05-26",
          "2021-05-27",
          "2021-05-28",
          "2021-06-01",
          "2021-06-02",
          "2021-06-03",
          "2021-06-04",
          "2021-06-07",
          "2021-06-08",
          "2021-06-09",
          "2021-06-10",
          "2021-06-11",
          "2021-06-14",
          "2021-06-15",
          "2021-06-16",
          "2021-06-17",
          "2021-06-18",
          "2021-06-21",
          "2021-06-22",
          "2021-06-23",
          "2021-06-24",
          "2021-06-25",
          "2021-06-28",
          "2021-06-29",
          "2021-06-30",
          "2021-07-01",
          "2021-07-02",
          "2021-07-06",
          "2021-07-07",
          "2021-07-08",
          "2021-07-09",
          "2021-07-12",
          "2021-07-13",
          "2021-07-14",
          "2021-07-15",
          "2021-07-16",
          "2021-07-19",
          "2021-07-20",
          "2021-07-21",
          "2021-07-22",
          "2021-07-23",
          "2021-07-26",
          "2021-07-27",
          "2021-07-28",
          "2021-07-29",
          "2021-07-30",
          "2021-08-02",
          "2021-08-03",
          "2021-08-04",
          "2021-08-05",
          "2021-08-06",
          "2021-08-09",
          "2021-08-10",
          "2021-08-11",
          "2021-08-12",
          "2021-08-13",
          "2021-08-16",
          "2021-08-17",
          "2021-08-18",
          "2021-08-19",
          "2021-08-20",
          "2021-08-23",
          "2021-08-24",
          "2021-08-25",
          "2021-08-26",
          "2021-08-27",
          "2021-08-30",
          "2021-08-31",
          "2021-09-01",
          "2021-09-02",
          "2021-09-03",
          "2021-09-07",
          "2021-09-08",
          "2021-09-09",
          "2021-09-10",
          "2021-09-13",
          "2021-09-14",
          "2021-09-15",
          "2021-09-16",
          "2021-09-17",
          "2021-09-20",
          "2021-09-21",
          "2021-09-22",
          "2021-09-23",
          "2021-09-24",
          "2021-09-27",
          "2021-09-28",
          "2021-09-29",
          "2021-09-30",
          "2021-10-01",
          "2021-10-04",
          "2021-10-05",
          "2021-10-06",
          "2021-10-07",
          "2021-10-08",
          "2021-10-11",
          "2021-10-12",
          "2021-10-13",
          "2021-10-14",
          "2021-10-15",
          "2021-10-18",
          "2021-10-19",
          "2021-10-20",
          "2021-10-21",
          "2021-10-22",
          "2021-10-25",
          "2021-10-26",
          "2021-10-27",
          "2021-10-28",
          "2021-10-29",
          "2021-11-01",
          "2021-11-02",
          "2021-11-03",
          "2021-11-04",
          "2021-11-05",
          "2021-11-08",
          "2021-11-09",
          "2021-11-10",
          "2021-11-11",
          "2021-11-12",
          "2021-11-15",
          "2021-11-16",
          "2021-11-17",
          "2021-11-18",
          "2021-11-19",
          "2021-11-22",
          "2021-11-23",
          "2021-11-24",
          "2021-11-26",
          "2021-11-29",
          "2021-11-30",
          "2021-12-01",
          "2021-12-02",
          "2021-12-03",
          "2021-12-06",
          "2021-12-07",
          "2021-12-08",
          "2021-12-09",
          "2021-12-10",
          "2021-12-13",
          "2021-12-14",
          "2021-12-15",
          "2021-12-16",
          "2021-12-17",
          "2021-12-20",
          "2021-12-21",
          "2021-12-22",
          "2021-12-23",
          "2021-12-27",
          "2021-12-28",
          "2021-12-29",
          "2021-12-30",
          "2021-12-31"
         ],
         "yaxis": "y2"
        }
       ],
       "layout": {
        "legend": {
         "bgcolor": "#F5F6F9",
         "font": {
          "color": "#4D5663"
         }
        },
        "paper_bgcolor": "#F5F6F9",
        "plot_bgcolor": "#F5F6F9",
        "template": {
         "data": {
          "bar": [
           {
            "error_x": {
             "color": "#2a3f5f"
            },
            "error_y": {
             "color": "#2a3f5f"
            },
            "marker": {
             "line": {
              "color": "#E5ECF6",
              "width": 0.5
             },
             "pattern": {
              "fillmode": "overlay",
              "size": 10,
              "solidity": 0.2
             }
            },
            "type": "bar"
           }
          ],
          "barpolar": [
           {
            "marker": {
             "line": {
              "color": "#E5ECF6",
              "width": 0.5
             },
             "pattern": {
              "fillmode": "overlay",
              "size": 10,
              "solidity": 0.2
             }
            },
            "type": "barpolar"
           }
          ],
          "carpet": [
           {
            "aaxis": {
             "endlinecolor": "#2a3f5f",
             "gridcolor": "white",
             "linecolor": "white",
             "minorgridcolor": "white",
             "startlinecolor": "#2a3f5f"
            },
            "baxis": {
             "endlinecolor": "#2a3f5f",
             "gridcolor": "white",
             "linecolor": "white",
             "minorgridcolor": "white",
             "startlinecolor": "#2a3f5f"
            },
            "type": "carpet"
           }
          ],
          "choropleth": [
           {
            "colorbar": {
             "outlinewidth": 0,
             "ticks": ""
            },
            "type": "choropleth"
           }
          ],
          "contour": [
           {
            "colorbar": {
             "outlinewidth": 0,
             "ticks": ""
            },
            "colorscale": [
             [
              0,
              "#0d0887"
             ],
             [
              0.1111111111111111,
              "#46039f"
             ],
             [
              0.2222222222222222,
              "#7201a8"
             ],
             [
              0.3333333333333333,
              "#9c179e"
             ],
             [
              0.4444444444444444,
              "#bd3786"
             ],
             [
              0.5555555555555556,
              "#d8576b"
             ],
             [
              0.6666666666666666,
              "#ed7953"
             ],
             [
              0.7777777777777778,
              "#fb9f3a"
             ],
             [
              0.8888888888888888,
              "#fdca26"
             ],
             [
              1,
              "#f0f921"
             ]
            ],
            "type": "contour"
           }
          ],
          "contourcarpet": [
           {
            "colorbar": {
             "outlinewidth": 0,
             "ticks": ""
            },
            "type": "contourcarpet"
           }
          ],
          "heatmap": [
           {
            "colorbar": {
             "outlinewidth": 0,
             "ticks": ""
            },
            "colorscale": [
             [
              0,
              "#0d0887"
             ],
             [
              0.1111111111111111,
              "#46039f"
             ],
             [
              0.2222222222222222,
              "#7201a8"
             ],
             [
              0.3333333333333333,
              "#9c179e"
             ],
             [
              0.4444444444444444,
              "#bd3786"
             ],
             [
              0.5555555555555556,
              "#d8576b"
             ],
             [
              0.6666666666666666,
              "#ed7953"
             ],
             [
              0.7777777777777778,
              "#fb9f3a"
             ],
             [
              0.8888888888888888,
              "#fdca26"
             ],
             [
              1,
              "#f0f921"
             ]
            ],
            "type": "heatmap"
           }
          ],
          "heatmapgl": [
           {
            "colorbar": {
             "outlinewidth": 0,
             "ticks": ""
            },
            "colorscale": [
             [
              0,
              "#0d0887"
             ],
             [
              0.1111111111111111,
              "#46039f"
             ],
             [
              0.2222222222222222,
              "#7201a8"
             ],
             [
              0.3333333333333333,
              "#9c179e"
             ],
             [
              0.4444444444444444,
              "#bd3786"
             ],
             [
              0.5555555555555556,
              "#d8576b"
             ],
             [
              0.6666666666666666,
              "#ed7953"
             ],
             [
              0.7777777777777778,
              "#fb9f3a"
             ],
             [
              0.8888888888888888,
              "#fdca26"
             ],
             [
              1,
              "#f0f921"
             ]
            ],
            "type": "heatmapgl"
           }
          ],
          "histogram": [
           {
            "marker": {
             "pattern": {
              "fillmode": "overlay",
              "size": 10,
              "solidity": 0.2
             }
            },
            "type": "histogram"
           }
          ],
          "histogram2d": [
           {
            "colorbar": {
             "outlinewidth": 0,
             "ticks": ""
            },
            "colorscale": [
             [
              0,
              "#0d0887"
             ],
             [
              0.1111111111111111,
              "#46039f"
             ],
             [
              0.2222222222222222,
              "#7201a8"
             ],
             [
              0.3333333333333333,
              "#9c179e"
             ],
             [
              0.4444444444444444,
              "#bd3786"
             ],
             [
              0.5555555555555556,
              "#d8576b"
             ],
             [
              0.6666666666666666,
              "#ed7953"
             ],
             [
              0.7777777777777778,
              "#fb9f3a"
             ],
             [
              0.8888888888888888,
              "#fdca26"
             ],
             [
              1,
              "#f0f921"
             ]
            ],
            "type": "histogram2d"
           }
          ],
          "histogram2dcontour": [
           {
            "colorbar": {
             "outlinewidth": 0,
             "ticks": ""
            },
            "colorscale": [
             [
              0,
              "#0d0887"
             ],
             [
              0.1111111111111111,
              "#46039f"
             ],
             [
              0.2222222222222222,
              "#7201a8"
             ],
             [
              0.3333333333333333,
              "#9c179e"
             ],
             [
              0.4444444444444444,
              "#bd3786"
             ],
             [
              0.5555555555555556,
              "#d8576b"
             ],
             [
              0.6666666666666666,
              "#ed7953"
             ],
             [
              0.7777777777777778,
              "#fb9f3a"
             ],
             [
              0.8888888888888888,
              "#fdca26"
             ],
             [
              1,
              "#f0f921"
             ]
            ],
            "type": "histogram2dcontour"
           }
          ],
          "mesh3d": [
           {
            "colorbar": {
             "outlinewidth": 0,
             "ticks": ""
            },
            "type": "mesh3d"
           }
          ],
          "parcoords": [
           {
            "line": {
             "colorbar": {
              "outlinewidth": 0,
              "ticks": ""
             }
            },
            "type": "parcoords"
           }
          ],
          "pie": [
           {
            "automargin": true,
            "type": "pie"
           }
          ],
          "scatter": [
           {
            "fillpattern": {
             "fillmode": "overlay",
             "size": 10,
             "solidity": 0.2
            },
            "type": "scatter"
           }
          ],
          "scatter3d": [
           {
            "line": {
             "colorbar": {
              "outlinewidth": 0,
              "ticks": ""
             }
            },
            "marker": {
             "colorbar": {
              "outlinewidth": 0,
              "ticks": ""
             }
            },
            "type": "scatter3d"
           }
          ],
          "scattercarpet": [
           {
            "marker": {
             "colorbar": {
              "outlinewidth": 0,
              "ticks": ""
             }
            },
            "type": "scattercarpet"
           }
          ],
          "scattergeo": [
           {
            "marker": {
             "colorbar": {
              "outlinewidth": 0,
              "ticks": ""
             }
            },
            "type": "scattergeo"
           }
          ],
          "scattergl": [
           {
            "marker": {
             "colorbar": {
              "outlinewidth": 0,
              "ticks": ""
             }
            },
            "type": "scattergl"
           }
          ],
          "scattermapbox": [
           {
            "marker": {
             "colorbar": {
              "outlinewidth": 0,
              "ticks": ""
             }
            },
            "type": "scattermapbox"
           }
          ],
          "scatterpolar": [
           {
            "marker": {
             "colorbar": {
              "outlinewidth": 0,
              "ticks": ""
             }
            },
            "type": "scatterpolar"
           }
          ],
          "scatterpolargl": [
           {
            "marker": {
             "colorbar": {
              "outlinewidth": 0,
              "ticks": ""
             }
            },
            "type": "scatterpolargl"
           }
          ],
          "scatterternary": [
           {
            "marker": {
             "colorbar": {
              "outlinewidth": 0,
              "ticks": ""
             }
            },
            "type": "scatterternary"
           }
          ],
          "surface": [
           {
            "colorbar": {
             "outlinewidth": 0,
             "ticks": ""
            },
            "colorscale": [
             [
              0,
              "#0d0887"
             ],
             [
              0.1111111111111111,
              "#46039f"
             ],
             [
              0.2222222222222222,
              "#7201a8"
             ],
             [
              0.3333333333333333,
              "#9c179e"
             ],
             [
              0.4444444444444444,
              "#bd3786"
             ],
             [
              0.5555555555555556,
              "#d8576b"
             ],
             [
              0.6666666666666666,
              "#ed7953"
             ],
             [
              0.7777777777777778,
              "#fb9f3a"
             ],
             [
              0.8888888888888888,
              "#fdca26"
             ],
             [
              1,
              "#f0f921"
             ]
            ],
            "type": "surface"
           }
          ],
          "table": [
           {
            "cells": {
             "fill": {
              "color": "#EBF0F8"
             },
             "line": {
              "color": "white"
             }
            },
            "header": {
             "fill": {
              "color": "#C8D4E3"
             },
             "line": {
              "color": "white"
             }
            },
            "type": "table"
           }
          ]
         },
         "layout": {
          "annotationdefaults": {
           "arrowcolor": "#2a3f5f",
           "arrowhead": 0,
           "arrowwidth": 1
          },
          "autotypenumbers": "strict",
          "coloraxis": {
           "colorbar": {
            "outlinewidth": 0,
            "ticks": ""
           }
          },
          "colorscale": {
           "diverging": [
            [
             0,
             "#8e0152"
            ],
            [
             0.1,
             "#c51b7d"
            ],
            [
             0.2,
             "#de77ae"
            ],
            [
             0.3,
             "#f1b6da"
            ],
            [
             0.4,
             "#fde0ef"
            ],
            [
             0.5,
             "#f7f7f7"
            ],
            [
             0.6,
             "#e6f5d0"
            ],
            [
             0.7,
             "#b8e186"
            ],
            [
             0.8,
             "#7fbc41"
            ],
            [
             0.9,
             "#4d9221"
            ],
            [
             1,
             "#276419"
            ]
           ],
           "sequential": [
            [
             0,
             "#0d0887"
            ],
            [
             0.1111111111111111,
             "#46039f"
            ],
            [
             0.2222222222222222,
             "#7201a8"
            ],
            [
             0.3333333333333333,
             "#9c179e"
            ],
            [
             0.4444444444444444,
             "#bd3786"
            ],
            [
             0.5555555555555556,
             "#d8576b"
            ],
            [
             0.6666666666666666,
             "#ed7953"
            ],
            [
             0.7777777777777778,
             "#fb9f3a"
            ],
            [
             0.8888888888888888,
             "#fdca26"
            ],
            [
             1,
             "#f0f921"
            ]
           ],
           "sequentialminus": [
            [
             0,
             "#0d0887"
            ],
            [
             0.1111111111111111,
             "#46039f"
            ],
            [
             0.2222222222222222,
             "#7201a8"
            ],
            [
             0.3333333333333333,
             "#9c179e"
            ],
            [
             0.4444444444444444,
             "#bd3786"
            ],
            [
             0.5555555555555556,
             "#d8576b"
            ],
            [
             0.6666666666666666,
             "#ed7953"
            ],
            [
             0.7777777777777778,
             "#fb9f3a"
            ],
            [
             0.8888888888888888,
             "#fdca26"
            ],
            [
             1,
             "#f0f921"
            ]
           ]
          },
          "colorway": [
           "#636efa",
           "#EF553B",
           "#00cc96",
           "#ab63fa",
           "#FFA15A",
           "#19d3f3",
           "#FF6692",
           "#B6E880",
           "#FF97FF",
           "#FECB52"
          ],
          "font": {
           "color": "#2a3f5f"
          },
          "geo": {
           "bgcolor": "white",
           "lakecolor": "white",
           "landcolor": "#E5ECF6",
           "showlakes": true,
           "showland": true,
           "subunitcolor": "white"
          },
          "hoverlabel": {
           "align": "left"
          },
          "hovermode": "closest",
          "mapbox": {
           "style": "light"
          },
          "paper_bgcolor": "white",
          "plot_bgcolor": "#E5ECF6",
          "polar": {
           "angularaxis": {
            "gridcolor": "white",
            "linecolor": "white",
            "ticks": ""
           },
           "bgcolor": "#E5ECF6",
           "radialaxis": {
            "gridcolor": "white",
            "linecolor": "white",
            "ticks": ""
           }
          },
          "scene": {
           "xaxis": {
            "backgroundcolor": "#E5ECF6",
            "gridcolor": "white",
            "gridwidth": 2,
            "linecolor": "white",
            "showbackground": true,
            "ticks": "",
            "zerolinecolor": "white"
           },
           "yaxis": {
            "backgroundcolor": "#E5ECF6",
            "gridcolor": "white",
            "gridwidth": 2,
            "linecolor": "white",
            "showbackground": true,
            "ticks": "",
            "zerolinecolor": "white"
           },
           "zaxis": {
            "backgroundcolor": "#E5ECF6",
            "gridcolor": "white",
            "gridwidth": 2,
            "linecolor": "white",
            "showbackground": true,
            "ticks": "",
            "zerolinecolor": "white"
           }
          },
          "shapedefaults": {
           "line": {
            "color": "#2a3f5f"
           }
          },
          "ternary": {
           "aaxis": {
            "gridcolor": "white",
            "linecolor": "white",
            "ticks": ""
           },
           "baxis": {
            "gridcolor": "white",
            "linecolor": "white",
            "ticks": ""
           },
           "bgcolor": "#E5ECF6",
           "caxis": {
            "gridcolor": "white",
            "linecolor": "white",
            "ticks": ""
           }
          },
          "title": {
           "x": 0.05
          },
          "xaxis": {
           "automargin": true,
           "gridcolor": "white",
           "linecolor": "white",
           "ticks": "",
           "title": {
            "standoff": 15
           },
           "zerolinecolor": "white",
           "zerolinewidth": 2
          },
          "yaxis": {
           "automargin": true,
           "gridcolor": "white",
           "linecolor": "white",
           "ticks": "",
           "title": {
            "standoff": 15
           },
           "zerolinecolor": "white",
           "zerolinewidth": 2
          }
         }
        },
        "title": {
         "font": {
          "color": "#4D5663"
         }
        },
        "xaxis": {
         "gridcolor": "#E1E5ED",
         "rangeslider": {
          "visible": false
         },
         "showgrid": true,
         "tickfont": {
          "color": "#4D5663"
         },
         "title": {
          "font": {
           "color": "#4D5663"
          },
          "text": ""
         },
         "zerolinecolor": "#E1E5ED"
        },
        "yaxis": {
         "gridcolor": "#E1E5ED",
         "showgrid": true,
         "showticklabels": false,
         "tickfont": {
          "color": "#4D5663"
         },
         "title": {
          "font": {
           "color": "#4D5663"
          },
          "text": ""
         },
         "zerolinecolor": "#E1E5ED"
        },
        "yaxis2": {
         "gridcolor": "#E1E5ED",
         "showgrid": true,
         "tickfont": {
          "color": "#4D5663"
         },
         "title": {
          "font": {
           "color": "#4D5663"
          },
          "text": ""
         },
         "zerolinecolor": "#E1E5ED"
        }
       }
      },
      "text/html": [
       "<div>                            <div id=\"637cddac-cea0-4826-81c0-69fda2e98166\" class=\"plotly-graph-div\" style=\"height:525px; width:100%;\"></div>            <script type=\"text/javascript\">                require([\"plotly\"], function(Plotly) {                    window.PLOTLYENV=window.PLOTLYENV || {};\n",
       "                    window.PLOTLYENV.BASE_URL='https://plot.ly';                                    if (document.getElementById(\"637cddac-cea0-4826-81c0-69fda2e98166\")) {                    Plotly.newPlot(                        \"637cddac-cea0-4826-81c0-69fda2e98166\",                        [{\"close\":[29.700000762939453,30.530000686645508,32.689998626708984,33.43000030517578,33.189998626708984,33.2400016784668,33.939998626708984,33.79999923706055,34.75,32.040000915527344,32.630001068115234,32.459999084472656,32.0,31.899999618530273,32.2400016784668,31.3799991607666,30.170000076293945,30.809999465942383,29.8799991607666,29.989999771118164,30.75,31.700000762939453,32.65999984741211,32.560001373291016,33.400001525878906,33.2599983215332,33.20000076293945,32.720001220703125,33.529998779296875,34.790000915527344,36.59000015258789,36.959999084472656,37.83000183105469,37.2599983215332,37.13999938964844,38.290000915527344,37.560001373291016,36.16999816894531,37.09000015258789,37.13999938964844,37.689998626708984,37.15999984741211,37.43000030517578,38.66999816894531,38.130001068115234,39.58000183105469,38.880001068115234,39.970001220703125,39.70000076293945,39.349998474121094,39.84000015258789,40.810001373291016,39.630001068115234,38.970001220703125,38.2400016784668,38.119998931884766,39.29999923706055,39.7599983215332,38.439998626708984,39.38999938964844,39.06999969482422,39.630001068115234,39.47999954223633,39.849998474121094,39.9900016784668,40.029998779296875,40.5,40.77000045776367,39.790000915527344,41.9900016784668,42.2400016784668,43.84000015258789,43.880001068115234,42.540000915527344,43.2400016784668,42.70000076293945,43.86000061035156,44.13999938964844,45.09000015258789,45.08000183105469,46.2400016784668,45.04999923706055,45.47999954223633,45.7400016784668,45.939998626708984,46.630001068115234,46.540000915527344,46.599998474121094,45.720001220703125,45.63999938964844,46.400001525878906,46.959999084472656,47.900001525878906,46.86000061035156,46.16999816894531,45.72999954223633,45.880001068115234,46.2400016784668,46.09000015258789,46.400001525878906,46.7599983215332,46.720001220703125,47.2599983215332,46.810001373291016,46.459999084472656,46.959999084472656,47.11000061035156,46.61000061035156,45.91999816894531,45.09000015258789,45.68000030517578,45.150001525878906,45.459999084472656,45.56999969482422,42.790000915527344,41.75,43.279998779296875,43.540000915527344,43.959999084472656,45.18000030517578,46.380001068115234,45.790000915527344,44.790000915527344,45.290000915527344,45.40999984741211,45.06999969482422,43.4900016784668,43.400001525878906,42.31999969482422,43.90999984741211,44.15999984741211,43.22999954223633,44.95000076293945,45.0,44.279998779296875,43.04999923706055,44.84000015258789,45.79999923706055,45.029998779296875,44.59000015258789,45.0099983215332,45.13999938964844,45.5099983215332,46.5,45.939998626708984,45.790000915527344,46.83000183105469,46.150001525878906,46.9900016784668,48.77000045776367,48.650001525878906,49.630001068115234,50.65999984741211,51.150001525878906,50.369998931884766,49.40999984741211,48.709999084472656,47.970001220703125,47.25,47.41999816894531,47.61000061035156,48.36000061035156,49.290000915527344,49.04999923706055,49.810001373291016,48.40999984741211,45.70000076293945,43.45000076293945,44.56999969482422,44.16999816894531,44.310001373291016,43.81999969482422,44.36000061035156,44.33000183105469,45.7599983215332,46.04999923706055,46.63999938964844,46.279998779296875,46.470001220703125,45.810001373291016,45.849998474121094,47.08000183105469,47.79999923706055,47.91999816894531,47.560001373291016,45.91999816894531,47.029998779296875,46.40999984741211,47.02000045776367,47.02000045776367,47.959999084472656,47.869998931884766,47.7599983215332,48.0,47.279998779296875,46.650001525878906,46.04999923706055,45.310001373291016,48.380001068115234,49.43000030517578,50.34000015258789,50.15999984741211,50.33000183105469,50.65999984741211,50.619998931884766,50.630001068115234,50.04999923706055,51.36000061035156,51.15999984741211,51.709999084472656,51.29999923706055,52.0,50.619998931884766,50.439998626708984,50.869998931884766,49.88999938964844,50.36000061035156,50.59000015258789,50.959999084472656,51.08000183105469,50.369998931884766,49.84000015258789,49.900001525878906,48.81999969482422,50.34000015258789,51.400001525878906,51.310001373291016,48.43000030517578,49.15999984741211,47.779998779296875,47.209999084472656,48.90999984741211,47.75,48.810001373291016,50.25,49.40999984741211,49.689998626708984,50.20000076293945,48.560001373291016,48.88999938964844,48.939998626708984,50.29999923706055,47.95000076293945,46.849998474121094,47.810001373291016,48.029998779296875,48.36000061035156,48.77000045776367,48.41999816894531,48.45000076293945,48.099998474121094,47.97999954223633],\"high\":[30.440000534057617,30.950000762939453,33.0,34.20000076293945,33.650001525878906,33.560001373291016,34.52000045776367,34.2599983215332,35.099998474121094,33.5,33.040000915527344,32.83000183105469,32.43000030517578,32.060001373291016,32.349998474121094,32.529998779296875,31.030000686645508,31.049999237060547,31.190000534057617,30.219999313354492,31.190000534057617,31.770000457763672,32.849998474121094,33.189998626708984,33.56999969482422,33.40999984741211,33.689998626708984,33.34000015258789,33.619998931884766,34.93000030517578,37.45000076293945,37.36000061035156,37.849998474121094,37.91999816894531,37.77000045776367,38.34000015258789,38.68000030517578,37.40999984741211,37.41999816894531,37.45000076293945,38.65999984741211,38.0,38.119998931884766,38.880001068115234,38.79999923706055,39.70000076293945,39.59000015258789,40.02000045776367,40.22999954223633,39.4900016784668,40.439998626708984,41.540000915527344,40.06999969482422,39.310001373291016,39.04999923706055,39.02000045776367,39.36000061035156,40.22999954223633,39.349998474121094,40.08000183105469,39.630001068115234,39.650001525878906,40.33000183105469,39.900001525878906,40.09000015258789,40.20000076293945,40.790000915527344,40.88999938964844,40.5099983215332,42.18000030517578,42.2599983215332,44.130001068115234,44.400001525878906,43.400001525878906,43.36000061035156,43.52000045776367,44.18000030517578,44.68000030517578,45.220001220703125,45.66999816894531,46.38999938964844,46.02000045776367,45.650001525878906,45.84000015258789,46.20000076293945,46.689998626708984,46.619998931884766,47.349998474121094,46.880001068115234,47.15999984741211,46.790000915527344,47.11000061035156,47.97999954223633,48.130001068115234,46.31999969482422,46.18000030517578,46.29999923706055,46.5099983215332,47.02000045776367,46.599998474121094,47.380001068115234,46.880001068115234,47.40999984741211,47.459999084472656,47.0,47.099998474121094,47.18000030517578,47.0099983215332,46.34000015258789,46.650001525878906,45.689998626708984,45.880001068115234,45.720001220703125,45.959999084472656,45.959999084472656,42.310001373291016,43.310001373291016,43.869998931884766,44.310001373291016,45.41999816894531,46.650001525878906,46.06999969482422,46.380001068115234,45.38999938964844,45.63999938964844,45.40999984741211,44.81999969482422,43.970001220703125,42.95000076293945,44.11000061035156,44.25,44.130001068115234,45.130001068115234,45.38999938964844,45.529998779296875,43.29999923706055,45.150001525878906,46.150001525878906,45.95000076293945,45.5099983215332,45.2400016784668,45.380001068115234,46.040000915527344,46.709999084472656,46.849998474121094,46.810001373291016,46.939998626708984,46.970001220703125,47.0,48.9900016784668,49.34000015258789,49.689998626708984,50.72999954223633,51.25,51.40999984741211,49.97999954223633,49.369998931884766,48.97999954223633,47.95000076293945,47.45000076293945,47.9900016784668,48.369998931884766,49.619998931884766,49.869998931884766,49.849998474121094,49.810001373291016,48.9900016784668,45.970001220703125,44.880001068115234,44.5,44.959999084472656,44.540000915527344,44.720001220703125,45.25,45.810001373291016,46.939998626708984,46.88999938964844,47.27000045776367,46.689998626708984,45.869998931884766,46.36000061035156,47.689998626708984,48.16999816894531,48.56999969482422,48.939998626708984,47.029998779296875,47.150001525878906,47.150001525878906,47.310001373291016,47.689998626708984,48.45000076293945,48.09000015258789,48.59000015258789,48.34000015258789,48.459999084472656,47.529998779296875,46.56999969482422,46.88999938964844,48.7400016784668,49.709999084472656,50.349998474121094,50.38999938964844,50.599998474121094,51.119998931884766,51.119998931884766,51.099998474121094,50.9900016784668,51.400001525878906,51.63999938964844,52.0,51.720001220703125,52.56999969482422,51.70000076293945,51.61000061035156,51.369998931884766,50.560001373291016,50.77000045776367,50.90999984741211,51.0,51.70000076293945,51.18000030517578,50.689998626708984,50.18000030517578,49.2400016784668,51.11000061035156,51.7400016784668,51.7400016784668,49.099998474121094,49.77000045776367,48.5099983215332,49.45000076293945,49.400001525878906,49.2599983215332,49.900001525878906,50.52000045776367,50.310001373291016,50.029998779296875,50.599998474121094,49.959999084472656,49.4900016784668,49.27000045776367,50.81999969482422,49.72999954223633,47.16999816894531,48.13999938964844,48.31999969482422,48.93000030517578,48.81999969482422,49.189998626708984,48.86000061035156,48.90999984741211,48.36000061035156],\"low\":[29.399999618530273,29.81999969482422,31.790000915527344,33.31999969482422,32.66999816894531,32.31999969482422,33.65999984741211,33.630001068115234,34.0099983215332,31.81999969482422,32.279998779296875,32.29999923706055,31.920000076293945,31.149999618530273,31.6200008392334,31.360000610351562,29.920000076293945,30.309999465942383,29.81999969482422,29.68000030517578,30.3799991607666,30.610000610351562,31.799999237060547,32.5099983215332,30.770000457763672,32.90999984741211,33.09000015258789,32.369998931884766,32.650001525878906,34.0,34.029998779296875,36.18000030517578,37.029998779296875,37.099998474121094,36.599998474121094,37.13999938964844,37.29999923706055,35.93000030517578,36.7400016784668,36.9900016784668,37.349998474121094,36.36000061035156,36.34000015258789,37.77000045776367,37.47999954223633,38.279998779296875,38.61000061035156,39.41999816894531,39.16999816894531,38.720001220703125,39.209999084472656,40.150001525878906,39.220001220703125,38.619998931884766,38.04999923706055,38.11000061035156,37.779998779296875,39.16999816894531,37.900001525878906,38.470001220703125,38.91999816894531,38.91999816894531,39.31999969482422,39.2599983215332,39.630001068115234,39.33000183105469,40.25,40.400001525878906,39.70000076293945,39.060001373291016,41.029998779296875,42.58000183105469,43.380001068115234,42.349998474121094,41.77000045776367,42.68000030517578,42.630001068115234,43.9900016784668,44.20000076293945,44.93000030517578,45.52000045776367,44.86000061035156,45.06999969482422,44.66999816894531,45.470001220703125,45.70000076293945,45.54999923706055,46.59000015258789,45.5099983215332,45.47999954223633,45.310001373291016,46.470001220703125,46.79999923706055,46.83000183105469,45.369998931884766,45.27000045776367,45.779998779296875,45.7599983215332,46.040000915527344,45.599998474121094,46.310001373291016,46.279998779296875,46.790000915527344,46.58000183105469,46.349998474121094,46.5099983215332,46.779998779296875,46.29999923706055,45.630001068115234,45.0099983215332,45.18000030517578,44.84000015258789,45.0,44.31999969482422,42.65999984741211,41.470001220703125,42.22999954223633,42.86000061035156,43.5,44.209999084472656,45.220001220703125,45.09000015258789,44.599998474121094,44.45000076293945,44.970001220703125,44.84000015258789,43.29999923706055,43.119998931884766,41.970001220703125,42.849998474121094,42.959999084472656,43.0099983215332,42.5099983215332,44.369998931884766,44.11000061035156,42.290000915527344,42.869998931884766,45.209999084472656,44.79999923706055,44.41999816894531,44.470001220703125,44.27000045776367,44.97999954223633,45.68000030517578,45.72999954223633,45.56999969482422,45.11000061035156,46.040000915527344,46.0099983215332,47.45000076293945,48.290000915527344,48.689998626708984,49.16999816894531,50.560001373291016,50.18000030517578,48.939998626708984,48.029998779296875,47.900001525878906,46.83000183105469,46.84000015258789,47.45000076293945,47.709999084472656,48.470001220703125,48.88999938964844,49.119998931884766,48.349998474121094,45.209999084472656,43.27000045776367,43.540000915527344,43.81999969482422,44.25,43.630001068115234,43.7599983215332,44.189998626708984,44.560001373291016,45.7599983215332,45.849998474121094,46.0099983215332,45.7400016784668,44.84000015258789,45.72999954223633,46.470001220703125,47.15999984741211,47.72999954223633,46.15999984741211,45.06999969482422,45.93000030517578,46.119998931884766,46.4900016784668,46.66999816894531,47.349998474121094,47.060001373291016,47.540000915527344,47.65999984741211,47.220001220703125,46.52000045776367,45.220001220703125,44.83000183105469,45.709999084472656,48.13999938964844,49.279998779296875,49.709999084472656,49.7599983215332,50.4900016784668,50.52000045776367,50.36000061035156,49.95000076293945,50.349998474121094,51.02000045776367,51.27000045776367,51.220001220703125,51.02000045776367,49.90999984741211,50.400001525878906,50.54999923706055,49.209999084472656,49.68000030517578,50.220001220703125,50.369998931884766,50.97999954223633,50.16999816894531,49.529998779296875,49.27000045776367,47.77000045776367,49.72999954223633,50.70000076293945,51.18000030517578,47.689998626708984,48.310001373291016,47.31999969482422,47.18000030517578,47.5099983215332,47.369998931884766,48.709999084472656,49.34000015258789,49.31999969482422,48.7400016784668,49.58000183105469,48.43000030517578,48.599998474121094,48.130001068115234,49.310001373291016,47.869998931884766,46.25,47.34000015258789,47.619998931884766,48.220001220703125,48.08000183105469,48.36000061035156,48.369998931884766,48.040000915527344,47.84000015258789],\"open\":[30.31999969482422,30.09000015258789,31.899999618530273,33.58000183105469,33.61000061035156,32.63999938964844,34.0,33.81999969482422,34.06999969482422,33.08000183105469,32.40999984741211,32.779998779296875,32.31999969482422,31.34000015258789,31.8799991607666,32.4900016784668,30.920000076293945,30.530000686645508,30.770000457763672,30.139999389648438,30.459999084472656,30.719999313354492,31.8700008392334,33.0,32.779998779296875,33.209999084472656,33.47999954223633,33.20000076293945,32.650001525878906,34.06999969482422,34.34000015258789,36.439998626708984,37.130001068115234,37.66999816894531,37.59000015258789,37.2400016784668,38.68000030517578,37.099998474121094,37.11000061035156,37.150001525878906,37.349998474121094,37.619998931884766,37.869998931884766,38.130001068115234,38.16999816894531,38.68000030517578,39.220001220703125,39.5,40.06999969482422,39.369998931884766,39.68000030517578,40.150001525878906,39.939998626708984,39.279998779296875,38.5,38.36000061035156,37.970001220703125,39.900001525878906,38.58000183105469,38.540000915527344,39.27000045776367,38.959999084472656,40.029998779296875,39.41999816894531,39.84000015258789,39.869998931884766,40.34000015258789,40.459999084472656,40.5,39.70000076293945,42.099998474121094,42.66999816894531,43.61000061035156,43.400001525878906,42.2400016784668,43.2599983215332,42.709999084472656,44.130001068115234,44.38999938964844,45.150001525878906,45.619998931884766,45.79999923706055,45.45000076293945,45.2599983215332,45.93000030517578,46.11000061035156,45.93000030517578,46.84000015258789,46.02000045776367,46.83000183105469,45.4900016784668,46.599998474121094,46.91999816894531,47.900001525878906,45.939998626708984,46.06999969482422,45.970001220703125,46.0,46.38999938964844,46.11000061035156,46.9900016784668,46.849998474121094,47.15999984741211,47.380001068115234,46.689998626708984,47.060001373291016,47.099998474121094,46.7400016784668,46.2400016784668,46.470001220703125,45.18000030517578,45.61000061035156,45.20000076293945,44.95000076293945,45.790000915527344,41.68000030517578,42.29999923706055,43.40999984741211,43.5,44.2599983215332,45.56999969482422,46.0,46.040000915527344,44.619998931884766,45.47999954223633,45.29999923706055,44.72999954223633,43.279998779296875,42.58000183105469,43.18000030517578,43.279998779296875,43.790000915527344,43.599998474121094,44.59000015258789,45.40999984741211,42.709999084472656,43.0,45.290000915527344,45.84000015258789,45.099998474121094,44.470001220703125,44.59000015258789,45.380001068115234,45.88999938964844,46.2599983215332,46.040000915527344,45.97999954223633,46.27000045776367,46.04999923706055,47.5,48.65999984741211,48.72999954223633,49.630001068115234,50.7599983215332,51.209999084472656,49.93000030517578,48.880001068115234,48.36000061035156,47.349998474121094,47.130001068115234,47.75,47.75,48.619998931884766,49.529998779296875,49.220001220703125,49.7599983215332,48.40999984741211,45.70000076293945,43.68000030517578,44.4900016784668,44.31999969482422,44.119998931884766,43.849998474121094,45.0,44.560001373291016,46.02000045776367,45.869998931884766,46.900001525878906,45.7400016784668,45.029998779296875,45.97999954223633,46.4900016784668,47.459999084472656,47.779998779296875,48.380001068115234,47.0099983215332,46.45000076293945,47.13999938964844,46.54999923706055,47.02000045776367,47.5,47.58000183105469,48.2599983215332,47.869998931884766,48.20000076293945,47.290000915527344,46.56999969482422,46.68000030517578,45.720001220703125,48.189998626708984,49.63999938964844,50.189998626708984,49.95000076293945,50.540000915527344,50.88999938964844,50.72999954223633,50.2599983215332,50.380001068115234,51.25,51.560001373291016,51.540000915527344,51.040000915527344,51.54999923706055,51.0,50.54999923706055,50.5,49.7400016784668,50.41999816894531,50.68000030517578,51.189998626708984,51.11000061035156,50.41999816894531,49.630001068115234,49.0,50.630001068115234,50.709999084472656,51.5099983215332,49.099998474121094,49.66999816894531,48.11000061035156,48.689998626708984,47.72999954223633,49.2599983215332,48.97999954223633,49.459999084472656,50.18000030517578,49.02000045776367,50.290000915527344,49.900001525878906,48.61000061035156,49.02000045776367,49.720001220703125,49.70000076293945,47.060001373291016,47.59000015258789,47.7400016784668,48.400001525878906,48.54999923706055,48.560001373291016,48.599998474121094,48.4900016784668,48.029998779296875],\"showlegend\":false,\"x\":[\"2021-01-04\",\"2021-01-05\",\"2021-01-06\",\"2021-01-07\",\"2021-01-08\",\"2021-01-11\",\"2021-01-12\",\"2021-01-13\",\"2021-01-14\",\"2021-01-15\",\"2021-01-19\",\"2021-01-20\",\"2021-01-21\",\"2021-01-22\",\"2021-01-25\",\"2021-01-26\",\"2021-01-27\",\"2021-01-28\",\"2021-01-29\",\"2021-02-01\",\"2021-02-02\",\"2021-02-03\",\"2021-02-04\",\"2021-02-05\",\"2021-02-08\",\"2021-02-09\",\"2021-02-10\",\"2021-02-11\",\"2021-02-12\",\"2021-02-16\",\"2021-02-17\",\"2021-02-18\",\"2021-02-19\",\"2021-02-22\",\"2021-02-23\",\"2021-02-24\",\"2021-02-25\",\"2021-02-26\",\"2021-03-01\",\"2021-03-02\",\"2021-03-03\",\"2021-03-04\",\"2021-03-05\",\"2021-03-08\",\"2021-03-09\",\"2021-03-10\",\"2021-03-11\",\"2021-03-12\",\"2021-03-15\",\"2021-03-16\",\"2021-03-17\",\"2021-03-18\",\"2021-03-19\",\"2021-03-22\",\"2021-03-23\",\"2021-03-24\",\"2021-03-25\",\"2021-03-26\",\"2021-03-29\",\"2021-03-30\",\"2021-03-31\",\"2021-04-01\",\"2021-04-05\",\"2021-04-06\",\"2021-04-07\",\"2021-04-08\",\"2021-04-09\",\"2021-04-12\",\"2021-04-13\",\"2021-04-14\",\"2021-04-15\",\"2021-04-16\",\"2021-04-19\",\"2021-04-20\",\"2021-04-21\",\"2021-04-22\",\"2021-04-23\",\"2021-04-26\",\"2021-04-27\",\"2021-04-28\",\"2021-04-29\",\"2021-04-30\",\"2021-05-03\",\"2021-05-04\",\"2021-05-05\",\"2021-05-06\",\"2021-05-07\",\"2021-05-10\",\"2021-05-11\",\"2021-05-12\",\"2021-05-13\",\"2021-05-14\",\"2021-05-17\",\"2021-05-18\",\"2021-05-19\",\"2021-05-20\",\"2021-05-21\",\"2021-05-24\",\"2021-05-25\",\"2021-05-26\",\"2021-05-27\",\"2021-05-28\",\"2021-06-01\",\"2021-06-02\",\"2021-06-03\",\"2021-06-04\",\"2021-06-07\",\"2021-06-08\",\"2021-06-09\",\"2021-06-10\",\"2021-06-11\",\"2021-06-14\",\"2021-06-15\",\"2021-06-16\",\"2021-06-17\",\"2021-06-18\",\"2021-06-21\",\"2021-06-22\",\"2021-06-23\",\"2021-06-24\",\"2021-06-25\",\"2021-06-28\",\"2021-06-29\",\"2021-06-30\",\"2021-07-01\",\"2021-07-02\",\"2021-07-06\",\"2021-07-07\",\"2021-07-08\",\"2021-07-09\",\"2021-07-12\",\"2021-07-13\",\"2021-07-14\",\"2021-07-15\",\"2021-07-16\",\"2021-07-19\",\"2021-07-20\",\"2021-07-21\",\"2021-07-22\",\"2021-07-23\",\"2021-07-26\",\"2021-07-27\",\"2021-07-28\",\"2021-07-29\",\"2021-07-30\",\"2021-08-02\",\"2021-08-03\",\"2021-08-04\",\"2021-08-05\",\"2021-08-06\",\"2021-08-09\",\"2021-08-10\",\"2021-08-11\",\"2021-08-12\",\"2021-08-13\",\"2021-08-16\",\"2021-08-17\",\"2021-08-18\",\"2021-08-19\",\"2021-08-20\",\"2021-08-23\",\"2021-08-24\",\"2021-08-25\",\"2021-08-26\",\"2021-08-27\",\"2021-08-30\",\"2021-08-31\",\"2021-09-01\",\"2021-09-02\",\"2021-09-03\",\"2021-09-07\",\"2021-09-08\",\"2021-09-09\",\"2021-09-10\",\"2021-09-13\",\"2021-09-14\",\"2021-09-15\",\"2021-09-16\",\"2021-09-17\",\"2021-09-20\",\"2021-09-21\",\"2021-09-22\",\"2021-09-23\",\"2021-09-24\",\"2021-09-27\",\"2021-09-28\",\"2021-09-29\",\"2021-09-30\",\"2021-10-01\",\"2021-10-04\",\"2021-10-05\",\"2021-10-06\",\"2021-10-07\",\"2021-10-08\",\"2021-10-11\",\"2021-10-12\",\"2021-10-13\",\"2021-10-14\",\"2021-10-15\",\"2021-10-18\",\"2021-10-19\",\"2021-10-20\",\"2021-10-21\",\"2021-10-22\",\"2021-10-25\",\"2021-10-26\",\"2021-10-27\",\"2021-10-28\",\"2021-10-29\",\"2021-11-01\",\"2021-11-02\",\"2021-11-03\",\"2021-11-04\",\"2021-11-05\",\"2021-11-08\",\"2021-11-09\",\"2021-11-10\",\"2021-11-11\",\"2021-11-12\",\"2021-11-15\",\"2021-11-16\",\"2021-11-17\",\"2021-11-18\",\"2021-11-19\",\"2021-11-22\",\"2021-11-23\",\"2021-11-24\",\"2021-11-26\",\"2021-11-29\",\"2021-11-30\",\"2021-12-01\",\"2021-12-02\",\"2021-12-03\",\"2021-12-06\",\"2021-12-07\",\"2021-12-08\",\"2021-12-09\",\"2021-12-10\",\"2021-12-13\",\"2021-12-14\",\"2021-12-15\",\"2021-12-16\",\"2021-12-17\",\"2021-12-20\",\"2021-12-21\",\"2021-12-22\",\"2021-12-23\",\"2021-12-27\",\"2021-12-28\",\"2021-12-29\",\"2021-12-30\",\"2021-12-31\"],\"yaxis\":\"y2\",\"type\":\"candlestick\"}],                        {\"legend\":{\"bgcolor\":\"#F5F6F9\",\"font\":{\"color\":\"#4D5663\"}},\"paper_bgcolor\":\"#F5F6F9\",\"plot_bgcolor\":\"#F5F6F9\",\"template\":{\"data\":{\"barpolar\":[{\"marker\":{\"line\":{\"color\":\"#E5ECF6\",\"width\":0.5},\"pattern\":{\"fillmode\":\"overlay\",\"size\":10,\"solidity\":0.2}},\"type\":\"barpolar\"}],\"bar\":[{\"error_x\":{\"color\":\"#2a3f5f\"},\"error_y\":{\"color\":\"#2a3f5f\"},\"marker\":{\"line\":{\"color\":\"#E5ECF6\",\"width\":0.5},\"pattern\":{\"fillmode\":\"overlay\",\"size\":10,\"solidity\":0.2}},\"type\":\"bar\"}],\"carpet\":[{\"aaxis\":{\"endlinecolor\":\"#2a3f5f\",\"gridcolor\":\"white\",\"linecolor\":\"white\",\"minorgridcolor\":\"white\",\"startlinecolor\":\"#2a3f5f\"},\"baxis\":{\"endlinecolor\":\"#2a3f5f\",\"gridcolor\":\"white\",\"linecolor\":\"white\",\"minorgridcolor\":\"white\",\"startlinecolor\":\"#2a3f5f\"},\"type\":\"carpet\"}],\"choropleth\":[{\"colorbar\":{\"outlinewidth\":0,\"ticks\":\"\"},\"type\":\"choropleth\"}],\"contourcarpet\":[{\"colorbar\":{\"outlinewidth\":0,\"ticks\":\"\"},\"type\":\"contourcarpet\"}],\"contour\":[{\"colorbar\":{\"outlinewidth\":0,\"ticks\":\"\"},\"colorscale\":[[0.0,\"#0d0887\"],[0.1111111111111111,\"#46039f\"],[0.2222222222222222,\"#7201a8\"],[0.3333333333333333,\"#9c179e\"],[0.4444444444444444,\"#bd3786\"],[0.5555555555555556,\"#d8576b\"],[0.6666666666666666,\"#ed7953\"],[0.7777777777777778,\"#fb9f3a\"],[0.8888888888888888,\"#fdca26\"],[1.0,\"#f0f921\"]],\"type\":\"contour\"}],\"heatmapgl\":[{\"colorbar\":{\"outlinewidth\":0,\"ticks\":\"\"},\"colorscale\":[[0.0,\"#0d0887\"],[0.1111111111111111,\"#46039f\"],[0.2222222222222222,\"#7201a8\"],[0.3333333333333333,\"#9c179e\"],[0.4444444444444444,\"#bd3786\"],[0.5555555555555556,\"#d8576b\"],[0.6666666666666666,\"#ed7953\"],[0.7777777777777778,\"#fb9f3a\"],[0.8888888888888888,\"#fdca26\"],[1.0,\"#f0f921\"]],\"type\":\"heatmapgl\"}],\"heatmap\":[{\"colorbar\":{\"outlinewidth\":0,\"ticks\":\"\"},\"colorscale\":[[0.0,\"#0d0887\"],[0.1111111111111111,\"#46039f\"],[0.2222222222222222,\"#7201a8\"],[0.3333333333333333,\"#9c179e\"],[0.4444444444444444,\"#bd3786\"],[0.5555555555555556,\"#d8576b\"],[0.6666666666666666,\"#ed7953\"],[0.7777777777777778,\"#fb9f3a\"],[0.8888888888888888,\"#fdca26\"],[1.0,\"#f0f921\"]],\"type\":\"heatmap\"}],\"histogram2dcontour\":[{\"colorbar\":{\"outlinewidth\":0,\"ticks\":\"\"},\"colorscale\":[[0.0,\"#0d0887\"],[0.1111111111111111,\"#46039f\"],[0.2222222222222222,\"#7201a8\"],[0.3333333333333333,\"#9c179e\"],[0.4444444444444444,\"#bd3786\"],[0.5555555555555556,\"#d8576b\"],[0.6666666666666666,\"#ed7953\"],[0.7777777777777778,\"#fb9f3a\"],[0.8888888888888888,\"#fdca26\"],[1.0,\"#f0f921\"]],\"type\":\"histogram2dcontour\"}],\"histogram2d\":[{\"colorbar\":{\"outlinewidth\":0,\"ticks\":\"\"},\"colorscale\":[[0.0,\"#0d0887\"],[0.1111111111111111,\"#46039f\"],[0.2222222222222222,\"#7201a8\"],[0.3333333333333333,\"#9c179e\"],[0.4444444444444444,\"#bd3786\"],[0.5555555555555556,\"#d8576b\"],[0.6666666666666666,\"#ed7953\"],[0.7777777777777778,\"#fb9f3a\"],[0.8888888888888888,\"#fdca26\"],[1.0,\"#f0f921\"]],\"type\":\"histogram2d\"}],\"histogram\":[{\"marker\":{\"pattern\":{\"fillmode\":\"overlay\",\"size\":10,\"solidity\":0.2}},\"type\":\"histogram\"}],\"mesh3d\":[{\"colorbar\":{\"outlinewidth\":0,\"ticks\":\"\"},\"type\":\"mesh3d\"}],\"parcoords\":[{\"line\":{\"colorbar\":{\"outlinewidth\":0,\"ticks\":\"\"}},\"type\":\"parcoords\"}],\"pie\":[{\"automargin\":true,\"type\":\"pie\"}],\"scatter3d\":[{\"line\":{\"colorbar\":{\"outlinewidth\":0,\"ticks\":\"\"}},\"marker\":{\"colorbar\":{\"outlinewidth\":0,\"ticks\":\"\"}},\"type\":\"scatter3d\"}],\"scattercarpet\":[{\"marker\":{\"colorbar\":{\"outlinewidth\":0,\"ticks\":\"\"}},\"type\":\"scattercarpet\"}],\"scattergeo\":[{\"marker\":{\"colorbar\":{\"outlinewidth\":0,\"ticks\":\"\"}},\"type\":\"scattergeo\"}],\"scattergl\":[{\"marker\":{\"colorbar\":{\"outlinewidth\":0,\"ticks\":\"\"}},\"type\":\"scattergl\"}],\"scattermapbox\":[{\"marker\":{\"colorbar\":{\"outlinewidth\":0,\"ticks\":\"\"}},\"type\":\"scattermapbox\"}],\"scatterpolargl\":[{\"marker\":{\"colorbar\":{\"outlinewidth\":0,\"ticks\":\"\"}},\"type\":\"scatterpolargl\"}],\"scatterpolar\":[{\"marker\":{\"colorbar\":{\"outlinewidth\":0,\"ticks\":\"\"}},\"type\":\"scatterpolar\"}],\"scatter\":[{\"fillpattern\":{\"fillmode\":\"overlay\",\"size\":10,\"solidity\":0.2},\"type\":\"scatter\"}],\"scatterternary\":[{\"marker\":{\"colorbar\":{\"outlinewidth\":0,\"ticks\":\"\"}},\"type\":\"scatterternary\"}],\"surface\":[{\"colorbar\":{\"outlinewidth\":0,\"ticks\":\"\"},\"colorscale\":[[0.0,\"#0d0887\"],[0.1111111111111111,\"#46039f\"],[0.2222222222222222,\"#7201a8\"],[0.3333333333333333,\"#9c179e\"],[0.4444444444444444,\"#bd3786\"],[0.5555555555555556,\"#d8576b\"],[0.6666666666666666,\"#ed7953\"],[0.7777777777777778,\"#fb9f3a\"],[0.8888888888888888,\"#fdca26\"],[1.0,\"#f0f921\"]],\"type\":\"surface\"}],\"table\":[{\"cells\":{\"fill\":{\"color\":\"#EBF0F8\"},\"line\":{\"color\":\"white\"}},\"header\":{\"fill\":{\"color\":\"#C8D4E3\"},\"line\":{\"color\":\"white\"}},\"type\":\"table\"}]},\"layout\":{\"annotationdefaults\":{\"arrowcolor\":\"#2a3f5f\",\"arrowhead\":0,\"arrowwidth\":1},\"autotypenumbers\":\"strict\",\"coloraxis\":{\"colorbar\":{\"outlinewidth\":0,\"ticks\":\"\"}},\"colorscale\":{\"diverging\":[[0,\"#8e0152\"],[0.1,\"#c51b7d\"],[0.2,\"#de77ae\"],[0.3,\"#f1b6da\"],[0.4,\"#fde0ef\"],[0.5,\"#f7f7f7\"],[0.6,\"#e6f5d0\"],[0.7,\"#b8e186\"],[0.8,\"#7fbc41\"],[0.9,\"#4d9221\"],[1,\"#276419\"]],\"sequential\":[[0.0,\"#0d0887\"],[0.1111111111111111,\"#46039f\"],[0.2222222222222222,\"#7201a8\"],[0.3333333333333333,\"#9c179e\"],[0.4444444444444444,\"#bd3786\"],[0.5555555555555556,\"#d8576b\"],[0.6666666666666666,\"#ed7953\"],[0.7777777777777778,\"#fb9f3a\"],[0.8888888888888888,\"#fdca26\"],[1.0,\"#f0f921\"]],\"sequentialminus\":[[0.0,\"#0d0887\"],[0.1111111111111111,\"#46039f\"],[0.2222222222222222,\"#7201a8\"],[0.3333333333333333,\"#9c179e\"],[0.4444444444444444,\"#bd3786\"],[0.5555555555555556,\"#d8576b\"],[0.6666666666666666,\"#ed7953\"],[0.7777777777777778,\"#fb9f3a\"],[0.8888888888888888,\"#fdca26\"],[1.0,\"#f0f921\"]]},\"colorway\":[\"#636efa\",\"#EF553B\",\"#00cc96\",\"#ab63fa\",\"#FFA15A\",\"#19d3f3\",\"#FF6692\",\"#B6E880\",\"#FF97FF\",\"#FECB52\"],\"font\":{\"color\":\"#2a3f5f\"},\"geo\":{\"bgcolor\":\"white\",\"lakecolor\":\"white\",\"landcolor\":\"#E5ECF6\",\"showlakes\":true,\"showland\":true,\"subunitcolor\":\"white\"},\"hoverlabel\":{\"align\":\"left\"},\"hovermode\":\"closest\",\"mapbox\":{\"style\":\"light\"},\"paper_bgcolor\":\"white\",\"plot_bgcolor\":\"#E5ECF6\",\"polar\":{\"angularaxis\":{\"gridcolor\":\"white\",\"linecolor\":\"white\",\"ticks\":\"\"},\"bgcolor\":\"#E5ECF6\",\"radialaxis\":{\"gridcolor\":\"white\",\"linecolor\":\"white\",\"ticks\":\"\"}},\"scene\":{\"xaxis\":{\"backgroundcolor\":\"#E5ECF6\",\"gridcolor\":\"white\",\"gridwidth\":2,\"linecolor\":\"white\",\"showbackground\":true,\"ticks\":\"\",\"zerolinecolor\":\"white\"},\"yaxis\":{\"backgroundcolor\":\"#E5ECF6\",\"gridcolor\":\"white\",\"gridwidth\":2,\"linecolor\":\"white\",\"showbackground\":true,\"ticks\":\"\",\"zerolinecolor\":\"white\"},\"zaxis\":{\"backgroundcolor\":\"#E5ECF6\",\"gridcolor\":\"white\",\"gridwidth\":2,\"linecolor\":\"white\",\"showbackground\":true,\"ticks\":\"\",\"zerolinecolor\":\"white\"}},\"shapedefaults\":{\"line\":{\"color\":\"#2a3f5f\"}},\"ternary\":{\"aaxis\":{\"gridcolor\":\"white\",\"linecolor\":\"white\",\"ticks\":\"\"},\"baxis\":{\"gridcolor\":\"white\",\"linecolor\":\"white\",\"ticks\":\"\"},\"bgcolor\":\"#E5ECF6\",\"caxis\":{\"gridcolor\":\"white\",\"linecolor\":\"white\",\"ticks\":\"\"}},\"title\":{\"x\":0.05},\"xaxis\":{\"automargin\":true,\"gridcolor\":\"white\",\"linecolor\":\"white\",\"ticks\":\"\",\"title\":{\"standoff\":15},\"zerolinecolor\":\"white\",\"zerolinewidth\":2},\"yaxis\":{\"automargin\":true,\"gridcolor\":\"white\",\"linecolor\":\"white\",\"ticks\":\"\",\"title\":{\"standoff\":15},\"zerolinecolor\":\"white\",\"zerolinewidth\":2}}},\"title\":{\"font\":{\"color\":\"#4D5663\"}},\"xaxis\":{\"gridcolor\":\"#E1E5ED\",\"rangeslider\":{\"visible\":false},\"showgrid\":true,\"tickfont\":{\"color\":\"#4D5663\"},\"title\":{\"font\":{\"color\":\"#4D5663\"},\"text\":\"\"},\"zerolinecolor\":\"#E1E5ED\"},\"yaxis\":{\"gridcolor\":\"#E1E5ED\",\"showgrid\":true,\"showticklabels\":false,\"tickfont\":{\"color\":\"#4D5663\"},\"title\":{\"font\":{\"color\":\"#4D5663\"},\"text\":\"\"},\"zerolinecolor\":\"#E1E5ED\"},\"yaxis2\":{\"gridcolor\":\"#E1E5ED\",\"showgrid\":true,\"tickfont\":{\"color\":\"#4D5663\"},\"title\":{\"font\":{\"color\":\"#4D5663\"},\"text\":\"\"},\"zerolinecolor\":\"#E1E5ED\"}},                        {\"showLink\": true, \"linkText\": \"Export to plot.ly\", \"plotlyServerURL\": \"https://plot.ly\", \"responsive\": true}                    ).then(function(){\n",
       "                            \n",
       "var gd = document.getElementById('637cddac-cea0-4826-81c0-69fda2e98166');\n",
       "var x = new MutationObserver(function (mutations, observer) {{\n",
       "        var display = window.getComputedStyle(gd).display;\n",
       "        if (!display || display === 'none') {{\n",
       "            console.log([gd, 'removed!']);\n",
       "            Plotly.purge(gd);\n",
       "            observer.disconnect();\n",
       "        }}\n",
       "}});\n",
       "\n",
       "// Listen for the removal of the full notebook cells\n",
       "var notebookContainer = gd.closest('#notebook-container');\n",
       "if (notebookContainer) {{\n",
       "    x.observe(notebookContainer, {childList: true});\n",
       "}}\n",
       "\n",
       "// Listen for the clearing of the current output cell\n",
       "var outputEl = gd.closest('.output');\n",
       "if (outputEl) {{\n",
       "    x.observe(outputEl, {childList: true});\n",
       "}}\n",
       "\n",
       "                        })                };                });            </script>        </div>"
      ]
     },
     "metadata": {},
     "output_type": "display_data"
    }
   ],
   "source": [
    "WFC[['Open', 'High', 'Low', 'Close']]['2021-01-01':'2022-01-01'].iplot(kind='candle')"
   ]
  },
  {
   "cell_type": "markdown",
   "id": "88d911e2",
   "metadata": {},
   "source": [
    "# The End!"
   ]
  },
  {
   "cell_type": "code",
   "execution_count": null,
   "id": "3ada3c55",
   "metadata": {},
   "outputs": [],
   "source": []
  }
 ],
 "metadata": {
  "kernelspec": {
   "display_name": "Python 3 (ipykernel)",
   "language": "python",
   "name": "python3"
  },
  "language_info": {
   "codemirror_mode": {
    "name": "ipython",
    "version": 3
   },
   "file_extension": ".py",
   "mimetype": "text/x-python",
   "name": "python",
   "nbconvert_exporter": "python",
   "pygments_lexer": "ipython3",
   "version": "3.9.13"
  }
 },
 "nbformat": 4,
 "nbformat_minor": 5
}
