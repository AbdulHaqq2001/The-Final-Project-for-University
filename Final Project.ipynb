{
 "cells": [
  {
   "cell_type": "code",
   "execution_count": null,
   "id": "133c54a5",
   "metadata": {},
   "outputs": [],
   "source": [
    "class MENU:\n",
    "  def __init__(self, name, items, start_time, end_time):\n",
    "   self.name = name\n",
    "   self.items = items\n",
    "   self.start_time = start_time\n",
    "   self.end_time = end_time\n",
    "  \n",
    "\n",
    "  def __repr__(self):\n",
    "    return self.name + ' menu available from ' + str(self.start_time) + ' to ' + str(self.end_time)\n",
    "\n",
    "\n",
    "  def calculate_bills(self, purchased_items):\n",
    "   bill = 0\n",
    "   for purchase in purchased_items:\n",
    "     if purchase in self.items:\n",
    "       bill += self.items[purchase]\n",
    "   return bill\n",
    "\n",
    "\n",
    "\n",
    "restraunt = {\n",
    "  'pancakes': 7.50, 'waffles': 9.00,\n",
    "  'burger': 11.00, 'fries': 4.50,\n",
    "  'coffee': 1.50, 'espresso': 3.00,\n",
    "  'tea': 1.00, 'iskender kebab': 10.50, \n",
    "  'orange juice': 3.50\n",
    "}\n",
    "restraunt_menu = MENU(\"Restraunt\", restraunt, '12:00', '16:00')\n",
    "early_bird = {\n",
    "  'kazan kebab': 8.00, 'salad and breadsticks (serves 2, no refills)': 14.00, 'cheese pizza': 9.00, 'duck soup': 17.50, 'mushroom pizza': 13.50, 'coffee': 1.50, 'espresso': 3.00,\n",
    "}\n",
    "early_menu = MENU(\"Early\", early_bird, '15:00', '18:00')\n",
    "dinner = {\n",
    "  'norin': 13.00, 'ceaser salad': 16.00, 'hanum': 11.00, 'duck soup': 19.50, 'mushroom pizza': 13.50, 'coffee': 2.00, 'espresso': 3.00,\n",
    "}\n",
    "dinner_menu = MENU(\"Dinner\", dinner, 1700, 2300)\n",
    "kids = {\n",
    "  'chicken legs': 6.50, 'lamb soup with mushroom': 12.00, 'apple juice': 3.00\n",
    "}\n",
    "kids_menu = MENU(\"Kids\", kids, 1100, 2100)\n",
    "print(restraunt_menu)\n",
    "print(restraunt_menu.calculate_bills(['kazan kebab', 'cheese pizza', 'coffee']))\n",
    "print(early_menu.calculate_bills(['norin', 'mushroom pizza']))\n",
    "\n"
   ]
  }
 ],
 "metadata": {
  "kernelspec": {
   "display_name": "Python 3 (ipykernel)",
   "language": "python",
   "name": "python3"
  },
  "language_info": {
   "codemirror_mode": {
    "name": "ipython",
    "version": 3
   },
   "file_extension": ".py",
   "mimetype": "text/x-python",
   "name": "python",
   "nbconvert_exporter": "python",
   "pygments_lexer": "ipython3",
   "version": "3.9.13"
  }
 },
 "nbformat": 4,
 "nbformat_minor": 5
}
